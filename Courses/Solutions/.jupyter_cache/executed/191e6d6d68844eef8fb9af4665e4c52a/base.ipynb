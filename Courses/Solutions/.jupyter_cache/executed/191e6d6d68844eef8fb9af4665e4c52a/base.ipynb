{
 "cells": [
  {
   "cell_type": "code",
   "execution_count": 1,
   "id": "0e1e4b69",
   "metadata": {},
   "outputs": [
    {
     "name": "stdout",
     "output_type": "stream",
     "text": [
      "{\"/home/fradav/.micromamba/envs/miashs-hpc/lib/python3.12/importlib/_bootstrap.py\": 1727016368.9512608, \"/home/fradav/.micromamba/envs/miashs-hpc/lib/python3.12/importlib/_bootstrap_external.py\": 1727016368.949261, \"/home/fradav/.micromamba/envs/miashs-hpc/lib/python3.12/zipimport.py\": 1727016368.1742408, \"/home/fradav/.micromamba/envs/miashs-hpc/lib/python3.12/codecs.py\": 1727016367.838232, \"/home/fradav/.micromamba/envs/miashs-hpc/lib/python3.12/encodings/aliases.py\": 1727016368.4162471, \"/home/fradav/.micromamba/envs/miashs-hpc/lib/python3.12/encodings/__init__.py\": 1727016368.53625, \"/home/fradav/.micromamba/envs/miashs-hpc/lib/python3.12/encodings/utf_8.py\": 1727016368.6622534, \"/home/fradav/.micromamba/envs/miashs-hpc/lib/python3.12/abc.py\": 1727016367.8032312, \"/home/fradav/.micromamba/envs/miashs-hpc/lib/python3.12/io.py\": 1727016367.9342346, \"/home/fradav/.micromamba/envs/miashs-hpc/lib/python3.12/stat.py\": 1727016368.0962389, \"/home/fradav/.micromamba/envs/miashs-hpc/lib/python3.12/_collections_abc.py\": 1727016367.8452322, \"/home/fradav/.micromamba/envs/miashs-hpc/lib/python3.12/genericpath.py\": 1727016367.9032338, \"/home/fradav/.micromamba/envs/miashs-hpc/lib/python3.12/posixpath.py\": 1727016368.0182366, \"/home/fradav/.micromamba/envs/miashs-hpc/lib/python3.12/os.py\": 1727016367.993236, \"/home/fradav/.micromamba/envs/miashs-hpc/lib/python3.12/_sitebuiltins.py\": 1727016368.074238, \"/home/fradav/.micromamba/envs/miashs-hpc/lib/python3.12/encodings/utf_8_sig.py\": 1727016368.6642535, \"/home/fradav/.micromamba/envs/miashs-hpc/lib/python3.12/site-packages/_distutils_hack/__init__.py\": 1725509568.0, \"/home/fradav/.micromamba/envs/miashs-hpc/lib/python3.12/site.py\": 1727016368.0752382, \"/home/fradav/.micromamba/envs/miashs-hpc/lib/python3.12/warnings.py\": 1727016368.1592405, \"/home/fradav/.micromamba/envs/miashs-hpc/lib/python3.12/importlib/__init__.py\": 1727016368.953261, \"/home/fradav/.micromamba/envs/miashs-hpc/lib/python3.12/importlib/machinery.py\": 1727016368.955261, \"/home/fradav/.micromamba/envs/miashs-hpc/lib/python3.12/importlib/_abc.py\": 1727016368.9442608, \"/home/fradav/.micromamba/envs/miashs-hpc/lib/python3.12/types.py\": 1727016368.15124, \"/home/fradav/.micromamba/envs/miashs-hpc/lib/python3.12/importlib/util.py\": 1727016368.9612613, \"/home/fradav/.micromamba/envs/miashs-hpc/lib/python3.12/runpy.py\": 1727016368.0572376, \"/home/fradav/.micromamba/envs/miashs-hpc/lib/python3.12/operator.py\": 1727016367.988236, \"/home/fradav/.micromamba/envs/miashs-hpc/lib/python3.12/keyword.py\": 1727016367.9382346, \"/home/fradav/.micromamba/envs/miashs-hpc/lib/python3.12/reprlib.py\": 1727016368.0532377, \"/home/fradav/.micromamba/envs/miashs-hpc/lib/python3.12/collections/__init__.py\": 1727016368.259243, \"/home/fradav/.micromamba/envs/miashs-hpc/lib/python3.12/functools.py\": 1727016367.8982337, \"/home/fradav/.micromamba/envs/miashs-hpc/lib/python3.12/enum.py\": 1727016367.8852332, \"/home/fradav/.micromamba/envs/miashs-hpc/lib/python3.12/re/_constants.py\": 1727016369.2942698, \"/home/fradav/.micromamba/envs/miashs-hpc/lib/python3.12/re/_parser.py\": 1727016369.29827, \"/home/fradav/.micromamba/envs/miashs-hpc/lib/python3.12/re/_casefix.py\": 1727016369.2902696, \"/home/fradav/.micromamba/envs/miashs-hpc/lib/python3.12/re/_compiler.py\": 1727016369.2922697, \"/home/fradav/.micromamba/envs/miashs-hpc/lib/python3.12/copyreg.py\": 1727016367.8632326, \"/home/fradav/.micromamba/envs/miashs-hpc/lib/python3.12/re/__init__.py\": 1727016369.29627, \"/home/fradav/.micromamba/envs/miashs-hpc/lib/python3.12/fnmatch.py\": 1727016367.8922334, \"/home/fradav/.micromamba/envs/miashs-hpc/lib/python3.12/ntpath.py\": 1727016367.9732356, \"/home/fradav/.micromamba/envs/miashs-hpc/lib/python3.12/urllib/__init__.py\": 1727016369.454274, \"/home/fradav/.micromamba/envs/miashs-hpc/lib/python3.12/lib-dynload/math.cpython-312-x86_64-linux-gnu.so\": 1727016397.387909, \"/home/fradav/.micromamba/envs/miashs-hpc/lib/python3.12/ipaddress.py\": 1727016367.9362347, \"/home/fradav/.micromamba/envs/miashs-hpc/lib/python3.12/urllib/parse.py\": 1727016369.456274, \"/home/fradav/.micromamba/envs/miashs-hpc/lib/python3.12/pathlib.py\": 1727016367.9972363, \"/home/fradav/.micromamba/envs/miashs-hpc/lib/python3.12/collections/abc.py\": 1727016368.256243, \"/home/fradav/.micromamba/envs/miashs-hpc/lib/python3.12/contextlib.py\": 1727016367.8572326, \"/home/fradav/.micromamba/envs/miashs-hpc/lib/python3.12/typing.py\": 1727016368.1532402, \"/home/fradav/.micromamba/envs/miashs-hpc/lib/python3.12/site-packages/ipykernel/_version.py\": 1719845601.1891532, \"/home/fradav/.micromamba/envs/miashs-hpc/lib/python3.12/__future__.py\": 1727016367.9002337, \"/home/fradav/.micromamba/envs/miashs-hpc/lib/python3.12/lib-dynload/_json.cpython-312-x86_64-linux-gnu.so\": 1727016396.4848888, \"/home/fradav/.micromamba/envs/miashs-hpc/lib/python3.12/json/scanner.py\": 1727016369.0172627, \"/home/fradav/.micromamba/envs/miashs-hpc/lib/python3.12/json/decoder.py\": 1727016369.0112624, \"/home/fradav/.micromamba/envs/miashs-hpc/lib/python3.12/json/encoder.py\": 1727016369.0132625, \"/home/fradav/.micromamba/envs/miashs-hpc/lib/python3.12/json/__init__.py\": 1727016369.0152626, \"/home/fradav/.micromamba/envs/miashs-hpc/lib/python3.12/locale.py\": 1727016367.9422348, \"/home/fradav/.micromamba/envs/miashs-hpc/lib/python3.12/signal.py\": 1727016368.071238, \"/home/fradav/.micromamba/envs/miashs-hpc/lib/python3.12/_weakrefset.py\": 1727016368.1652405, \"/home/fradav/.micromamba/envs/miashs-hpc/lib/python3.12/threading.py\": 1727016368.1302397, \"/home/fradav/.micromamba/envs/miashs-hpc/lib/python3.12/lib-dynload/fcntl.cpython-312-x86_64-linux-gnu.so\": 1727016396.589891, \"/home/fradav/.micromamba/envs/miashs-hpc/lib/python3.12/lib-dynload/_posixsubprocess.cpython-312-x86_64-linux-gnu.so\": 1727016396.580891, \"/home/fradav/.micromamba/envs/miashs-hpc/lib/python3.12/lib-dynload/select.cpython-312-x86_64-linux-gnu.so\": 1727016397.0939023, \"/home/fradav/.micromamba/envs/miashs-hpc/lib/python3.12/selectors.py\": 1727016368.063238, \"/home/fradav/.micromamba/envs/miashs-hpc/lib/python3.12/subprocess.py\": 1727016368.106239, \"/home/fradav/.micromamba/envs/miashs-hpc/lib/python3.12/site-packages/jupyter_client/_version.py\": 1726610803.9130754, \"/home/fradav/.micromamba/envs/miashs-hpc/lib/python3.12/platform.py\": 1727016368.0112364, \"/home/fradav/.micromamba/envs/miashs-hpc/lib/python3.12/site-packages/zmq/backend/select.py\": 1725449076.2921634, \"/home/fradav/.micromamba/envs/miashs-hpc/lib/python3.12/weakref.py\": 1727016368.1632404, \"/home/fradav/.micromamba/envs/miashs-hpc/lib/python3.12/site-packages/zmq/constants.py\": 1725449076.2921634, \"/home/fradav/.micromamba/envs/miashs-hpc/lib/python3.12/site-packages/zmq/error.py\": 1725449076.2921634, \"/home/fradav/.micromamba/envs/miashs-hpc/lib/python3.12/site-packages/zmq/backend/cython/_zmq.cpython-312-x86_64-linux-gnu.so\": 1725449077.8481836, \"/home/fradav/.micromamba/envs/miashs-hpc/lib/python3.12/site-packages/zmq/backend/cython/__init__.py\": 1725449076.2881632, \"/home/fradav/.micromamba/envs/miashs-hpc/lib/python3.12/site-packages/zmq/backend/__init__.py\": 1725449076.2841632, \"/home/fradav/.micromamba/envs/miashs-hpc/lib/python3.12/site-packages/zmq/_typing.py\": 1725449076.2841632, \"/home/fradav/.micromamba/envs/miashs-hpc/lib/python3.12/site-packages/zmq/utils/__init__.py\": 1725449076.2961633, \"/home/fradav/.micromamba/envs/miashs-hpc/lib/python3.12/site-packages/zmq/utils/interop.py\": 1725449076.2961633, \"/home/fradav/.micromamba/envs/miashs-hpc/lib/python3.12/site-packages/zmq/sugar/attrsettr.py\": 1725449076.2961633, \"/home/fradav/.micromamba/envs/miashs-hpc/lib/python3.12/lib-dynload/_struct.cpython-312-x86_64-linux-gnu.so\": 1727016397.0519013, \"/home/fradav/.micromamba/envs/miashs-hpc/lib/python3.12/struct.py\": 1727016368.104239, \"/home/fradav/.micromamba/envs/miashs-hpc/lib/python3.12/_compat_pickle.py\": 1727016367.8492324, \"/home/fradav/.micromamba/envs/miashs-hpc/lib/python3.12/lib-dynload/_pickle.cpython-312-x86_64-linux-gnu.so\": 1727016396.7048936, \"/home/fradav/.micromamba/envs/miashs-hpc/lib/python3.12/pickle.py\": 1727016368.0012362, \"/home/fradav/.micromamba/envs/miashs-hpc/lib/python3.12/lib-dynload/_bisect.cpython-312-x86_64-linux-gnu.so\": 1727016397.3249075, \"/home/fradav/.micromamba/envs/miashs-hpc/lib/python3.12/bisect.py\": 1727016367.8222315, \"/home/fradav/.micromamba/envs/miashs-hpc/lib/python3.12/lib-dynload/_random.cpython-312-x86_64-linux-gnu.so\": 1727016396.4768884, \"/home/fradav/.micromamba/envs/miashs-hpc/lib/python3.12/lib-dynload/_sha2.cpython-312-x86_64-linux-gnu.so\": 1727016396.09888, \"/home/fradav/.micromamba/envs/miashs-hpc/lib/python3.12/random.py\": 1727016368.0512376, \"/home/fradav/.micromamba/envs/miashs-hpc/lib/python3.12/site-packages/zmq/utils/jsonapi.py\": 1725449076.2961633, \"/home/fradav/.micromamba/envs/miashs-hpc/lib/python3.12/site-packages/zmq/sugar/poll.py\": 1725449076.2961633, \"/home/fradav/.micromamba/envs/miashs-hpc/lib/python3.12/site-packages/zmq/sugar/socket.py\": 1725449076.2961633, \"/home/fradav/.micromamba/envs/miashs-hpc/lib/python3.12/site-packages/zmq/sugar/context.py\": 1725449076.2961633, \"/home/fradav/.micromamba/envs/miashs-hpc/lib/python3.12/site-packages/zmq/sugar/frame.py\": 1725449076.2961633, \"/home/fradav/.micromamba/envs/miashs-hpc/lib/python3.12/site-packages/zmq/sugar/tracker.py\": 1725449076.2961633, \"/home/fradav/.micromamba/envs/miashs-hpc/lib/python3.12/site-packages/zmq/sugar/version.py\": 1725449076.2961633, \"/home/fradav/.micromamba/envs/miashs-hpc/lib/python3.12/site-packages/zmq/sugar/stopwatch.py\": 1725449076.2961633, \"/home/fradav/.micromamba/envs/miashs-hpc/lib/python3.12/site-packages/zmq/sugar/__init__.py\": 1725449076.2961633, \"/home/fradav/.micromamba/envs/miashs-hpc/lib/python3.12/site-packages/zmq/__init__.py\": 1725449076.2841632, \"/home/fradav/.micromamba/envs/miashs-hpc/lib/python3.12/concurrent/__init__.py\": 1727016368.263243, \"/home/fradav/.micromamba/envs/miashs-hpc/lib/python3.12/token.py\": 1727016368.1352398, \"/home/fradav/.micromamba/envs/miashs-hpc/lib/python3.12/tokenize.py\": 1727016368.1342397, \"/home/fradav/.micromamba/envs/miashs-hpc/lib/python3.12/linecache.py\": 1727016367.9402347, \"/home/fradav/.micromamba/envs/miashs-hpc/lib/python3.12/textwrap.py\": 1727016368.1242394, \"/home/fradav/.micromamba/envs/miashs-hpc/lib/python3.12/traceback.py\": 1727016368.1372397, \"/home/fradav/.micromamba/envs/miashs-hpc/lib/python3.12/string.py\": 1727016368.1002388, \"/home/fradav/.micromamba/envs/miashs-hpc/lib/python3.12/logging/__init__.py\": 1727016369.2152677, \"/home/fradav/.micromamba/envs/miashs-hpc/lib/python3.12/concurrent/futures/_base.py\": 1727016368.2692432, \"/home/fradav/.micromamba/envs/miashs-hpc/lib/python3.12/concurrent/futures/__init__.py\": 1727016368.2712433, \"/home/fradav/.micromamba/envs/miashs-hpc/lib/python3.12/lib-dynload/_heapq.cpython-312-x86_64-linux-gnu.so\": 1727016396.6568925, \"/home/fradav/.micromamba/envs/miashs-hpc/lib/python3.12/heapq.py\": 1727016367.9202342, \"/home/fradav/.micromamba/envs/miashs-hpc/lib/python3.12/lib-dynload/_socket.cpython-312-x86_64-linux-gnu.so\": 1727016397.2249053, \"/home/fradav/.micromamba/envs/miashs-hpc/lib/python3.12/lib-dynload/array.cpython-312-x86_64-linux-gnu.so\": 1727016397.1919045, \"/home/fradav/.micromamba/envs/miashs-hpc/lib/python3.12/socket.py\": 1727016368.0822384, \"/home/fradav/.micromamba/envs/miashs-hpc/lib/python3.12/lib-dynload/_ssl.cpython-312-x86_64-linux-gnu.so\": 1727016396.6938934, \"/home/fradav/.micromamba/envs/miashs-hpc/lib/python3.12/lib-dynload/binascii.cpython-312-x86_64-linux-gnu.so\": 1727016396.6218917, \"/home/fradav/.micromamba/envs/miashs-hpc/lib/python3.12/base64.py\": 1727016367.8172314, \"/home/fradav/.micromamba/envs/miashs-hpc/lib/python3.12/ssl.py\": 1727016368.0922387, \"/home/fradav/.micromamba/envs/miashs-hpc/lib/python3.12/asyncio/constants.py\": 1727016368.1932414, \"/home/fradav/.micromamba/envs/miashs-hpc/lib/python3.12/ast.py\": 1727016367.8152316, \"/home/fradav/.micromamba/envs/miashs-hpc/lib/python3.12/lib-dynload/_opcode.cpython-312-x86_64-linux-gnu.so\": 1727016397.480911, \"/home/fradav/.micromamba/envs/miashs-hpc/lib/python3.12/opcode.py\": 1727016367.9862359, \"/home/fradav/.micromamba/envs/miashs-hpc/lib/python3.12/dis.py\": 1727016367.8812332, \"/home/fradav/.micromamba/envs/miashs-hpc/lib/python3.12/inspect.py\": 1727016367.9322345, \"/home/fradav/.micromamba/envs/miashs-hpc/lib/python3.12/asyncio/coroutines.py\": 1727016368.1942413, \"/home/fradav/.micromamba/envs/miashs-hpc/lib/python3.12/lib-dynload/_contextvars.cpython-312-x86_64-linux-gnu.so\": 1727016397.4689107, \"/home/fradav/.micromamba/envs/miashs-hpc/lib/python3.12/contextvars.py\": 1727016367.8602326, \"/home/fradav/.micromamba/envs/miashs-hpc/lib/python3.12/asyncio/format_helpers.py\": 1727016368.2012415, \"/home/fradav/.micromamba/envs/miashs-hpc/lib/python3.12/asyncio/base_futures.py\": 1727016368.187241, \"/home/fradav/.micromamba/envs/miashs-hpc/lib/python3.12/asyncio/exceptions.py\": 1727016368.1982415, \"/home/fradav/.micromamba/envs/miashs-hpc/lib/python3.12/asyncio/base_tasks.py\": 1727016368.1912413, \"/home/fradav/.micromamba/envs/miashs-hpc/lib/python3.12/lib-dynload/_asyncio.cpython-312-x86_64-linux-gnu.so\": 1727016397.4389102, \"/home/fradav/.micromamba/envs/miashs-hpc/lib/python3.12/asyncio/events.py\": 1727016368.1972413, \"/home/fradav/.micromamba/envs/miashs-hpc/lib/python3.12/asyncio/futures.py\": 1727016368.2032416, \"/home/fradav/.micromamba/envs/miashs-hpc/lib/python3.12/asyncio/protocols.py\": 1727016368.2172418, \"/home/fradav/.micromamba/envs/miashs-hpc/lib/python3.12/asyncio/transports.py\": 1727016368.2422426, \"/home/fradav/.micromamba/envs/miashs-hpc/lib/python3.12/asyncio/log.py\": 1727016368.2082417, \"/home/fradav/.micromamba/envs/miashs-hpc/lib/python3.12/asyncio/sslproto.py\": 1727016368.226242, \"/home/fradav/.micromamba/envs/miashs-hpc/lib/python3.12/asyncio/mixins.py\": 1727016368.2132418, \"/home/fradav/.micromamba/envs/miashs-hpc/lib/python3.12/asyncio/locks.py\": 1727016368.2062416, \"/home/fradav/.micromamba/envs/miashs-hpc/lib/python3.12/asyncio/timeouts.py\": 1727016368.2402425, \"/home/fradav/.micromamba/envs/miashs-hpc/lib/python3.12/asyncio/tasks.py\": 1727016368.2362423, \"/home/fradav/.micromamba/envs/miashs-hpc/lib/python3.12/asyncio/staggered.py\": 1727016368.2282422, \"/home/fradav/.micromamba/envs/miashs-hpc/lib/python3.12/asyncio/trsock.py\": 1727016368.2442427, \"/home/fradav/.micromamba/envs/miashs-hpc/lib/python3.12/asyncio/base_events.py\": 1727016368.185241, \"/home/fradav/.micromamba/envs/miashs-hpc/lib/python3.12/asyncio/runners.py\": 1727016368.221242, \"/home/fradav/.micromamba/envs/miashs-hpc/lib/python3.12/asyncio/queues.py\": 1727016368.2192419, \"/home/fradav/.micromamba/envs/miashs-hpc/lib/python3.12/asyncio/streams.py\": 1727016368.2302423, \"/home/fradav/.micromamba/envs/miashs-hpc/lib/python3.12/asyncio/subprocess.py\": 1727016368.2322423, \"/home/fradav/.micromamba/envs/miashs-hpc/lib/python3.12/asyncio/taskgroups.py\": 1727016368.2342422, \"/home/fradav/.micromamba/envs/miashs-hpc/lib/python3.12/asyncio/threads.py\": 1727016368.2382424, \"/home/fradav/.micromamba/envs/miashs-hpc/lib/python3.12/asyncio/base_subprocess.py\": 1727016368.1892412, \"/home/fradav/.micromamba/envs/miashs-hpc/lib/python3.12/asyncio/selector_events.py\": 1727016368.224242, \"/home/fradav/.micromamba/envs/miashs-hpc/lib/python3.12/asyncio/unix_events.py\": 1727016368.2462425, \"/home/fradav/.micromamba/envs/miashs-hpc/lib/python3.12/asyncio/__init__.py\": 1727016368.2042415, \"/home/fradav/.micromamba/envs/miashs-hpc/lib/python3.12/site-packages/zmq/_future.py\": 1725449076.2841632, \"/home/fradav/.micromamba/envs/miashs-hpc/lib/python3.12/site-packages/zmq/asyncio.py\": 1725449076.2841632, \"/home/fradav/.micromamba/envs/miashs-hpc/lib/python3.12/site-packages/traitlets/utils/__init__.py\": 1713535242.9220452, \"/home/fradav/.micromamba/envs/miashs-hpc/lib/python3.12/site-packages/traitlets/utils/bunch.py\": 1713535242.9220452, \"/home/fradav/.micromamba/envs/miashs-hpc/lib/python3.12/site-packages/traitlets/utils/descriptions.py\": 1713535242.9220452, \"/home/fradav/.micromamba/envs/miashs-hpc/lib/python3.12/site-packages/traitlets/utils/getargspec.py\": 1713535242.9220452, \"/home/fradav/.micromamba/envs/miashs-hpc/lib/python3.12/site-packages/traitlets/utils/importstring.py\": 1713535242.9260457, \"/home/fradav/.micromamba/envs/miashs-hpc/lib/python3.12/site-packages/traitlets/utils/sentinel.py\": 1713535242.9260457, \"/home/fradav/.micromamba/envs/miashs-hpc/lib/python3.12/site-packages/traitlets/utils/warnings.py\": 1713535242.9260457, \"/home/fradav/.micromamba/envs/miashs-hpc/lib/python3.12/site-packages/traitlets/traitlets.py\": 1713535242.918045, \"/home/fradav/.micromamba/envs/miashs-hpc/lib/python3.12/site-packages/traitlets/_version.py\": 1713535242.918045, \"/home/fradav/.micromamba/envs/miashs-hpc/lib/python3.12/copy.py\": 1727016367.8622327, \"/home/fradav/.micromamba/envs/miashs-hpc/lib/python3.12/site-packages/traitlets/utils/decorators.py\": 1713535242.9220452, \"/home/fradav/.micromamba/envs/miashs-hpc/lib/python3.12/site-packages/traitlets/__init__.py\": 1713535242.918045, \"/home/fradav/.micromamba/envs/miashs-hpc/lib/python3.12/lib-dynload/_queue.cpython-312-x86_64-linux-gnu.so\": 1727016397.162904, \"/home/fradav/.micromamba/envs/miashs-hpc/lib/python3.12/queue.py\": 1727016368.0472374, \"/home/fradav/.micromamba/envs/miashs-hpc/lib/python3.12/site-packages/jupyter_core/version.py\": 1710257532.4501984, \"/home/fradav/.micromamba/envs/miashs-hpc/lib/python3.12/site-packages/jupyter_core/__init__.py\": 1710257532.4461985, \"/home/fradav/.micromamba/envs/miashs-hpc/lib/python3.12/site-packages/jupyter_core/utils/__init__.py\": 1710257532.4501984, \"/home/fradav/.micromamba/envs/miashs-hpc/lib/python3.12/site-packages/jupyter_client/channelsabc.py\": 1726610803.9130754, \"/home/fradav/.micromamba/envs/miashs-hpc/lib/python3.12/lib-dynload/_hashlib.cpython-312-x86_64-linux-gnu.so\": 1727016396.0128782, \"/home/fradav/.micromamba/envs/miashs-hpc/lib/python3.12/lib-dynload/_blake2.cpython-312-x86_64-linux-gnu.so\": 1727016396.1328807, \"/home/fradav/.micromamba/envs/miashs-hpc/lib/python3.12/hashlib.py\": 1727016367.918234, \"/home/fradav/.micromamba/envs/miashs-hpc/lib/python3.12/hmac.py\": 1727016367.9242344, \"/home/fradav/.micromamba/envs/miashs-hpc/lib/python3.12/dataclasses.py\": 1727016367.872233, \"/home/fradav/.micromamba/envs/miashs-hpc/lib/python3.12/pprint.py\": 1727016368.0202367, \"/home/fradav/.micromamba/envs/miashs-hpc/lib/python3.12/lib-dynload/_datetime.cpython-312-x86_64-linux-gnu.so\": 1727016397.041901, \"/home/fradav/.micromamba/envs/miashs-hpc/lib/python3.12/datetime.py\": 1727016367.875233, \"/home/fradav/.micromamba/envs/miashs-hpc/lib/python3.12/site-packages/tornado/__init__.py\": 1724956246.4767005, \"/home/fradav/.micromamba/envs/miashs-hpc/lib/python3.12/numbers.py\": 1727016367.9822357, \"/home/fradav/.micromamba/envs/miashs-hpc/lib/python3.12/logging/handlers.py\": 1727016369.2132678, \"/home/fradav/.micromamba/envs/miashs-hpc/lib/python3.12/html/entities.py\": 1727016368.6922543, \"/home/fradav/.micromamba/envs/miashs-hpc/lib/python3.12/html/__init__.py\": 1727016368.6942542, \"/home/fradav/.micromamba/envs/miashs-hpc/lib/python3.12/lib-dynload/zlib.cpython-312-x86_64-linux-gnu.so\": 1727016396.5998912, \"/home/fradav/.micromamba/envs/miashs-hpc/lib/python3.12/site-packages/tornado/speedups.abi3.so\": 1724956249.836766, \"/home/fradav/.micromamba/envs/miashs-hpc/lib/python3.12/site-packages/tornado/util.py\": 1724956246.4847007, \"/home/fradav/.micromamba/envs/miashs-hpc/lib/python3.12/site-packages/tornado/escape.py\": 1724956246.4767005, \"/home/fradav/.micromamba/envs/miashs-hpc/lib/python3.12/site-packages/colorama/ansi.py\": 1666700775.0, \"/home/fradav/.micromamba/envs/miashs-hpc/lib/python3.12/lib-dynload/_ctypes.cpython-312-x86_64-linux-gnu.so\": 1727016396.1538813, \"/home/fradav/.micromamba/envs/miashs-hpc/lib/python3.12/ctypes/_endian.py\": 1727016368.2832437, \"/home/fradav/.micromamba/envs/miashs-hpc/lib/python3.12/ctypes/__init__.py\": 1727016368.2852437, \"/home/fradav/.micromamba/envs/miashs-hpc/lib/python3.12/site-packages/colorama/win32.py\": 1666700775.0, \"/home/fradav/.micromamba/envs/miashs-hpc/lib/python3.12/site-packages/colorama/winterm.py\": 1666700775.0, \"/home/fradav/.micromamba/envs/miashs-hpc/lib/python3.12/site-packages/colorama/ansitowin32.py\": 1666700775.0, \"/home/fradav/.micromamba/envs/miashs-hpc/lib/python3.12/site-packages/colorama/initialise.py\": 1666700775.0, \"/home/fradav/.micromamba/envs/miashs-hpc/lib/python3.12/site-packages/colorama/__init__.py\": 1666700775.0, \"/home/fradav/.micromamba/envs/miashs-hpc/lib/python3.12/lib-dynload/_curses.cpython-312-x86_64-linux-gnu.so\": 1727016396.0428789, \"/home/fradav/.micromamba/envs/miashs-hpc/lib/python3.12/curses/__init__.py\": 1727016368.3192446, \"/home/fradav/.micromamba/envs/miashs-hpc/lib/python3.12/site-packages/tornado/log.py\": 1724956246.4807007, \"/home/fradav/.micromamba/envs/miashs-hpc/lib/python3.12/site-packages/tornado/concurrent.py\": 1724956246.4767005, \"/home/fradav/.micromamba/envs/miashs-hpc/lib/python3.12/site-packages/tornado/ioloop.py\": 1724956246.4807007, \"/home/fradav/.micromamba/envs/miashs-hpc/lib/python3.12/socketserver.py\": 1727016368.0842385, \"/home/fradav/.micromamba/envs/miashs-hpc/lib/python3.12/logging/config.py\": 1727016369.2102675, \"/home/fradav/.micromamba/envs/miashs-hpc/lib/python3.12/site-packages/traitlets/utils/text.py\": 1713535242.9260457, \"/home/fradav/.micromamba/envs/miashs-hpc/lib/python3.12/gettext.py\": 1727016367.910234, \"/home/fradav/.micromamba/envs/miashs-hpc/lib/python3.12/argparse.py\": 1727016367.8132315, \"/home/fradav/.micromamba/envs/miashs-hpc/lib/python3.12/site-packages/traitlets/config/loader.py\": 1713535242.9220452, \"/home/fradav/.micromamba/envs/miashs-hpc/lib/python3.12/site-packages/traitlets/config/configurable.py\": 1713535242.9220452, \"/home/fradav/.micromamba/envs/miashs-hpc/lib/python3.12/site-packages/traitlets/utils/nested_update.py\": 1713535242.9260457, \"/home/fradav/.micromamba/envs/miashs-hpc/lib/python3.12/site-packages/traitlets/config/application.py\": 1713535242.9220452, \"/home/fradav/.micromamba/envs/miashs-hpc/lib/python3.12/site-packages/traitlets/config/__init__.py\": 1713535242.918045, \"/home/fradav/.micromamba/envs/miashs-hpc/lib/python3.12/site-packages/traitlets/log.py\": 1713535242.918045, \"/home/fradav/.micromamba/envs/miashs-hpc/lib/python3.12/site-packages/zmq/eventloop/__init__.py\": 1725449076.2921634, \"/home/fradav/.micromamba/envs/miashs-hpc/lib/python3.12/site-packages/zmq/eventloop/zmqstream.py\": 1725449076.2921634, \"/home/fradav/.micromamba/envs/miashs-hpc/lib/python3.12/site-packages/jupyter_client/adapter.py\": 1726610803.9130754, \"/home/fradav/.micromamba/envs/miashs-hpc/lib/python3.12/site-packages/dateutil/_version.py\": 1709299919.2872345, \"/home/fradav/.micromamba/envs/miashs-hpc/lib/python3.12/site-packages/dateutil/__init__.py\": 1709299919.2872345, \"/home/fradav/.micromamba/envs/miashs-hpc/lib/python3.12/calendar.py\": 1727016367.8262317, \"/home/fradav/.micromamba/envs/miashs-hpc/lib/python3.12/site-packages/six.py\": 1620240337.0, \"/home/fradav/.micromamba/envs/miashs-hpc/lib/python3.12/lib-dynload/_decimal.cpython-312-x86_64-linux-gnu.so\": 1727016396.0778797, \"/home/fradav/.micromamba/envs/miashs-hpc/lib/python3.12/decimal.py\": 1727016367.877233, \"/home/fradav/.micromamba/envs/miashs-hpc/lib/python3.12/site-packages/dateutil/_common.py\": 1709299919.2872345, \"/home/fradav/.micromamba/envs/miashs-hpc/lib/python3.12/site-packages/dateutil/relativedelta.py\": 1709299919.2872345, \"/home/fradav/.micromamba/envs/miashs-hpc/lib/python3.12/site-packages/dateutil/tz/_common.py\": 1709299919.2912347, \"/home/fradav/.micromamba/envs/miashs-hpc/lib/python3.12/site-packages/dateutil/tz/_factories.py\": 1709299919.2912347, \"/home/fradav/.micromamba/envs/miashs-hpc/lib/python3.12/site-packages/dateutil/tz/tz.py\": 1709299919.2912347, \"/home/fradav/.micromamba/envs/miashs-hpc/lib/python3.12/site-packages/dateutil/tz/__init__.py\": 1709299919.2912347, \"/home/fradav/.micromamba/envs/miashs-hpc/lib/python3.12/site-packages/dateutil/parser/_parser.py\": 1709299919.2912347, \"/home/fradav/.micromamba/envs/miashs-hpc/lib/python3.12/site-packages/dateutil/parser/isoparser.py\": 1709299919.2912347, \"/home/fradav/.micromamba/envs/miashs-hpc/lib/python3.12/site-packages/dateutil/parser/__init__.py\": 1709299919.2872345, \"/home/fradav/.micromamba/envs/miashs-hpc/lib/python3.12/_strptime.py\": 1727016368.102239, \"/home/fradav/.micromamba/envs/miashs-hpc/lib/python3.12/site-packages/jupyter_client/jsonutil.py\": 1726610803.9130754, \"/home/fradav/.micromamba/envs/miashs-hpc/lib/python3.12/site-packages/jupyter_client/session.py\": 1726610803.9170756, \"/home/fradav/.micromamba/envs/miashs-hpc/lib/python3.12/site-packages/jupyter_client/channels.py\": 1726610803.9130754, \"/home/fradav/.micromamba/envs/miashs-hpc/lib/python3.12/lib-dynload/termios.cpython-312-x86_64-linux-gnu.so\": 1727016397.2379055, \"/home/fradav/.micromamba/envs/miashs-hpc/lib/python3.12/getpass.py\": 1727016367.907234, \"/home/fradav/.micromamba/envs/miashs-hpc/lib/python3.12/site-packages/jupyter_client/clientabc.py\": 1726610803.9130754, \"/home/fradav/.micromamba/envs/miashs-hpc/lib/python3.12/glob.py\": 1727016367.912234, \"/home/fradav/.micromamba/envs/miashs-hpc/lib/python3.12/_compression.py\": 1727016367.8542325, \"/home/fradav/.micromamba/envs/miashs-hpc/lib/python3.12/lib-dynload/_bz2.cpython-312-x86_64-linux-gnu.so\": 1727016396.5188894, \"/home/fradav/.micromamba/envs/miashs-hpc/lib/python3.12/bz2.py\": 1727016367.8242316, \"/home/fradav/.micromamba/envs/miashs-hpc/lib/python3.12/lib-dynload/_lzma.cpython-312-x86_64-linux-gnu.so\": 1727016396.4938889, \"/home/fradav/.micromamba/envs/miashs-hpc/lib/python3.12/lzma.py\": 1727016367.9442348, \"/home/fradav/.micromamba/envs/miashs-hpc/lib/python3.12/shutil.py\": 1727016368.069238, \"/home/fradav/.micromamba/envs/miashs-hpc/lib/python3.12/tempfile.py\": 1727016368.1222394, \"/home/fradav/.micromamba/envs/miashs-hpc/lib/python3.12/site-packages/platformdirs/api.py\": 1726613610.5264425, \"/home/fradav/.micromamba/envs/miashs-hpc/lib/python3.12/site-packages/platformdirs/version.py\": 1726613610.5274425, \"/home/fradav/.micromamba/envs/miashs-hpc/lib/python3.12/configparser.py\": 1727016367.8552325, \"/home/fradav/.micromamba/envs/miashs-hpc/lib/python3.12/site-packages/platformdirs/unix.py\": 1726613610.5274425, \"/home/fradav/.micromamba/envs/miashs-hpc/lib/python3.12/site-packages/platformdirs/__init__.py\": 1726613610.5254424, \"/home/fradav/.micromamba/envs/miashs-hpc/lib/python3.12/site-packages/jupyter_core/paths.py\": 1710257532.4501984, \"/home/fradav/.micromamba/envs/miashs-hpc/lib/python3.12/site-packages/jupyter_client/localinterfaces.py\": 1726610803.9170756, \"/home/fradav/.micromamba/envs/miashs-hpc/lib/python3.12/site-packages/jupyter_client/utils.py\": 1726610803.9170756, \"/home/fradav/.micromamba/envs/miashs-hpc/lib/python3.12/site-packages/jupyter_client/connect.py\": 1726610803.9130754, \"/home/fradav/.micromamba/envs/miashs-hpc/lib/python3.12/site-packages/jupyter_client/client.py\": 1726610803.9130754, \"/home/fradav/.micromamba/envs/miashs-hpc/lib/python3.12/site-packages/jupyter_client/asynchronous/client.py\": 1726610803.921076, \"/home/fradav/.micromamba/envs/miashs-hpc/lib/python3.12/site-packages/jupyter_client/asynchronous/__init__.py\": 1726610803.9170756, \"/home/fradav/.micromamba/envs/miashs-hpc/lib/python3.12/site-packages/jupyter_client/blocking/client.py\": 1726610803.921076, \"/home/fradav/.micromamba/envs/miashs-hpc/lib/python3.12/site-packages/jupyter_client/blocking/__init__.py\": 1726610803.921076, \"/home/fradav/.micromamba/envs/miashs-hpc/lib/python3.12/site-packages/jupyter_client/launcher.py\": 1726610803.9170756, \"/home/fradav/.micromamba/envs/miashs-hpc/lib/python3.12/lib-dynload/_uuid.cpython-312-x86_64-linux-gnu.so\": 1727016397.2819066, \"/home/fradav/.micromamba/envs/miashs-hpc/lib/python3.12/uuid.py\": 1727016368.1552403, \"/home/fradav/.micromamba/envs/miashs-hpc/lib/python3.12/lib-dynload/_csv.cpython-312-x86_64-linux-gnu.so\": 1727016397.174904, \"/home/fradav/.micromamba/envs/miashs-hpc/lib/python3.12/csv.py\": 1727016367.8702328, \"/home/fradav/.micromamba/envs/miashs-hpc/lib/python3.12/email/__init__.py\": 1727016368.3692458, \"/home/fradav/.micromamba/envs/miashs-hpc/lib/python3.12/zipfile/_path/glob.py\": 1727016369.5942776, \"/home/fradav/.micromamba/envs/miashs-hpc/lib/python3.12/zipfile/_path/__init__.py\": 1727016369.5972776, \"/home/fradav/.micromamba/envs/miashs-hpc/lib/python3.12/zipfile/__init__.py\": 1727016369.5872774, \"/home/fradav/.micromamba/envs/miashs-hpc/lib/python3.12/quopri.py\": 1727016368.0492375, \"/home/fradav/.micromamba/envs/miashs-hpc/lib/python3.12/email/_parseaddr.py\": 1727016368.375246, \"/home/fradav/.micromamba/envs/miashs-hpc/lib/python3.12/email/base64mime.py\": 1727016368.342245, \"/home/fradav/.micromamba/envs/miashs-hpc/lib/python3.12/email/quoprimime.py\": 1727016368.3832462, \"/home/fradav/.micromamba/envs/miashs-hpc/lib/python3.12/email/errors.py\": 1727016368.3552454, \"/home/fradav/.micromamba/envs/miashs-hpc/lib/python3.12/email/encoders.py\": 1727016368.3532455, \"/home/fradav/.micromamba/envs/miashs-hpc/lib/python3.12/email/charset.py\": 1727016368.3442452, \"/home/fradav/.micromamba/envs/miashs-hpc/lib/python3.12/email/utils.py\": 1727016368.3852463, \"/home/fradav/.micromamba/envs/miashs-hpc/lib/python3.12/email/header.py\": 1727016368.3612456, \"/home/fradav/.micromamba/envs/miashs-hpc/lib/python3.12/email/_policybase.py\": 1727016368.379246, \"/home/fradav/.micromamba/envs/miashs-hpc/lib/python3.12/email/_encoded_words.py\": 1727016368.3512454, \"/home/fradav/.micromamba/envs/miashs-hpc/lib/python3.12/email/iterators.py\": 1727016368.3712459, \"/home/fradav/.micromamba/envs/miashs-hpc/lib/python3.12/email/message.py\": 1727016368.373246, \"/home/fradav/.micromamba/envs/miashs-hpc/lib/python3.12/importlib/metadata/_functools.py\": 1727016368.994262, \"/home/fradav/.micromamba/envs/miashs-hpc/lib/python3.12/importlib/metadata/_text.py\": 1727016369.0042622, \"/home/fradav/.micromamba/envs/miashs-hpc/lib/python3.12/importlib/metadata/_adapters.py\": 1727016368.9892619, \"/home/fradav/.micromamba/envs/miashs-hpc/lib/python3.12/importlib/metadata/_meta.py\": 1727016369.002262, \"/home/fradav/.micromamba/envs/miashs-hpc/lib/python3.12/importlib/metadata/_collections.py\": 1727016368.991262, \"/home/fradav/.micromamba/envs/miashs-hpc/lib/python3.12/importlib/metadata/_itertools.py\": 1727016368.999262, \"/home/fradav/.micromamba/envs/miashs-hpc/lib/python3.12/importlib/resources/abc.py\": 1727016368.9662614, \"/home/fradav/.micromamba/envs/miashs-hpc/lib/python3.12/importlib/resources/_adapters.py\": 1727016368.9692614, \"/home/fradav/.micromamba/envs/miashs-hpc/lib/python3.12/importlib/resources/_common.py\": 1727016368.9712615, \"/home/fradav/.micromamba/envs/miashs-hpc/lib/python3.12/importlib/resources/_legacy.py\": 1727016368.9782617, \"/home/fradav/.micromamba/envs/miashs-hpc/lib/python3.12/importlib/resources/__init__.py\": 1727016368.9732616, \"/home/fradav/.micromamba/envs/miashs-hpc/lib/python3.12/importlib/abc.py\": 1727016368.9472609, \"/home/fradav/.micromamba/envs/miashs-hpc/lib/python3.12/importlib/metadata/__init__.py\": 1727016368.996262, \"/home/fradav/.micromamba/envs/miashs-hpc/lib/python3.12/site-packages/jupyter_client/provisioning/provisioner_base.py\": 1726610803.921076, \"/home/fradav/.micromamba/envs/miashs-hpc/lib/python3.12/site-packages/jupyter_client/provisioning/factory.py\": 1726610803.921076, \"/home/fradav/.micromamba/envs/miashs-hpc/lib/python3.12/site-packages/jupyter_client/provisioning/local_provisioner.py\": 1726610803.921076, \"/home/fradav/.micromamba/envs/miashs-hpc/lib/python3.12/site-packages/jupyter_client/provisioning/__init__.py\": 1726610803.921076, \"/home/fradav/.micromamba/envs/miashs-hpc/lib/python3.12/site-packages/jupyter_client/kernelspec.py\": 1726610803.9170756, \"/home/fradav/.micromamba/envs/miashs-hpc/lib/python3.12/site-packages/jupyter_client/managerabc.py\": 1726610803.9170756, \"/home/fradav/.micromamba/envs/miashs-hpc/lib/python3.12/site-packages/jupyter_client/manager.py\": 1726610803.9170756, \"/home/fradav/.micromamba/envs/miashs-hpc/lib/python3.12/site-packages/jupyter_client/multikernelmanager.py\": 1726610803.9170756, \"/home/fradav/.micromamba/envs/miashs-hpc/lib/python3.12/site-packages/jupyter_client/__init__.py\": 1726610803.9130754, \"/home/fradav/.micromamba/envs/miashs-hpc/lib/python3.12/site-packages/ipykernel/connect.py\": 1719845601.1891532, \"/home/fradav/.micromamba/envs/miashs-hpc/lib/python3.12/site-packages/ipykernel/__init__.py\": 1719845601.1891532, \"/home/fradav/.micromamba/envs/miashs-hpc/lib/python3.12/site-packages/IPython/core/__init__.py\": 1725050232.6748924, \"/home/fradav/.micromamba/envs/miashs-hpc/lib/python3.12/site-packages/IPython/core/getipython.py\": 1725050232.6788924, \"/home/fradav/.micromamba/envs/miashs-hpc/lib/python3.12/site-packages/IPython/core/release.py\": 1725050232.6868925, \"/home/fradav/.micromamba/envs/miashs-hpc/lib/python3.12/pkgutil.py\": 1727016368.0082364, \"/home/fradav/.micromamba/envs/miashs-hpc/lib/python3.12/sysconfig.py\": 1727016368.1132393, \"/home/fradav/.micromamba/envs/miashs-hpc/lib/python3.12/_sysconfigdata__linux_x86_64-linux-gnu.py\": 1727096100.4562154, \"/home/fradav/.micromamba/envs/miashs-hpc/lib/python3.12/pydoc.py\": 1727016368.0402372, \"/home/fradav/.micromamba/envs/miashs-hpc/lib/python3.12/site-packages/executing/_exceptions.py\": 1725214500.7628427, \"/home/fradav/.micromamba/envs/miashs-hpc/lib/python3.12/site-packages/executing/_position_node_finder.py\": 1725214500.7628427, \"/home/fradav/.micromamba/envs/miashs-hpc/lib/python3.12/site-packages/executing/executing.py\": 1725214500.7628427, \"/home/fradav/.micromamba/envs/miashs-hpc/lib/python3.12/site-packages/executing/version.py\": 1725214500.7628427, \"/home/fradav/.micromamba/envs/miashs-hpc/lib/python3.12/site-packages/executing/__init__.py\": 1725214500.7628427, \"/home/fradav/.micromamba/envs/miashs-hpc/lib/python3.12/site-packages/asttokens/line_numbers.py\": 1698341256.9011524, \"/home/fradav/.micromamba/envs/miashs-hpc/lib/python3.12/site-packages/asttokens/util.py\": 1698341256.9011524, \"/home/fradav/.micromamba/envs/miashs-hpc/lib/python3.12/site-packages/asttokens/asttokens.py\": 1698341256.9011524, \"/home/fradav/.micromamba/envs/miashs-hpc/lib/python3.12/site-packages/asttokens/__init__.py\": 1698341256.9011524, \"/home/fradav/.micromamba/envs/miashs-hpc/lib/python3.12/fractions.py\": 1727016367.8942335, \"/home/fradav/.micromamba/envs/miashs-hpc/lib/python3.12/site-packages/pure_eval/utils.py\": 1721585804.1540272, \"/home/fradav/.micromamba/envs/miashs-hpc/lib/python3.12/site-packages/pure_eval/my_getattr_static.py\": 1721585804.1540272, \"/home/fradav/.micromamba/envs/miashs-hpc/lib/python3.12/site-packages/pure_eval/core.py\": 1721585804.1540272, \"/home/fradav/.micromamba/envs/miashs-hpc/lib/python3.12/site-packages/pure_eval/version.py\": 1721585804.1540272, \"/home/fradav/.micromamba/envs/miashs-hpc/lib/python3.12/site-packages/pure_eval/__init__.py\": 1721585804.1540272, \"/home/fradav/.micromamba/envs/miashs-hpc/lib/python3.12/site-packages/stack_data/utils.py\": 1669632201.0, \"/home/fradav/.micromamba/envs/miashs-hpc/lib/python3.12/site-packages/stack_data/core.py\": 1669632201.0, \"/home/fradav/.micromamba/envs/miashs-hpc/lib/python3.12/site-packages/stack_data/formatting.py\": 1669632201.0, \"/home/fradav/.micromamba/envs/miashs-hpc/lib/python3.12/site-packages/stack_data/serializing.py\": 1669632201.0, \"/home/fradav/.micromamba/envs/miashs-hpc/lib/python3.12/site-packages/stack_data/version.py\": 1669632201.0, \"/home/fradav/.micromamba/envs/miashs-hpc/lib/python3.12/site-packages/stack_data/__init__.py\": 1669632201.0, \"/home/fradav/.micromamba/envs/miashs-hpc/lib/python3.12/site-packages/pygments/__init__.py\": 1714846879.4864717, \"/home/fradav/.micromamba/envs/miashs-hpc/lib/python3.12/site-packages/pygments/formatters/_mapping.py\": 1714846879.4904716, \"/home/fradav/.micromamba/envs/miashs-hpc/lib/python3.12/site-packages/pygments/plugin.py\": 1714846879.4904716, \"/home/fradav/.micromamba/envs/miashs-hpc/lib/python3.12/site-packages/pygments/util.py\": 1714846879.4904716, \"/home/fradav/.micromamba/envs/miashs-hpc/lib/python3.12/site-packages/pygments/formatters/__init__.py\": 1714846879.4904716, \"/home/fradav/.micromamba/envs/miashs-hpc/lib/python3.12/site-packages/pygments/styles/_mapping.py\": 1714846879.5624723, \"/home/fradav/.micromamba/envs/miashs-hpc/lib/python3.12/site-packages/pygments/styles/__init__.py\": 1714846879.5624723, \"/home/fradav/.micromamba/envs/miashs-hpc/lib/python3.12/site-packages/pygments/formatter.py\": 1714846879.4904716, \"/home/fradav/.micromamba/envs/miashs-hpc/lib/python3.12/site-packages/pygments/console.py\": 1714846879.4904716, \"/home/fradav/.micromamba/envs/miashs-hpc/lib/python3.12/site-packages/pygments/token.py\": 1714846879.4904716, \"/home/fradav/.micromamba/envs/miashs-hpc/lib/python3.12/site-packages/pygments/style.py\": 1714846879.4904716, \"/home/fradav/.micromamba/envs/miashs-hpc/lib/python3.12/site-packages/pygments/formatters/terminal256.py\": 1714846879.4944715, \"/home/fradav/.micromamba/envs/miashs-hpc/lib/python3.12/site-packages/IPython/utils/__init__.py\": 1725050232.7148929, \"/home/fradav/.micromamba/envs/miashs-hpc/lib/python3.12/site-packages/IPython/utils/colorable.py\": 1725050232.7188928, \"/home/fradav/.micromamba/envs/miashs-hpc/lib/python3.12/site-packages/IPython/utils/ipstruct.py\": 1725050232.7188928, \"/home/fradav/.micromamba/envs/miashs-hpc/lib/python3.12/site-packages/IPython/utils/coloransi.py\": 1725050232.7188928, \"/home/fradav/.micromamba/envs/miashs-hpc/lib/python3.12/site-packages/IPython/core/excolors.py\": 1725050232.6788924, \"/home/fradav/.micromamba/envs/miashs-hpc/lib/python3.12/site-packages/IPython/utils/PyColorize.py\": 1725050232.7148929, \"/home/fradav/.micromamba/envs/miashs-hpc/lib/python3.12/site-packages/IPython/utils/encoding.py\": 1725050232.7188928, \"/home/fradav/.micromamba/envs/miashs-hpc/lib/python3.12/site-packages/IPython/utils/py3compat.py\": 1725050232.7188928, \"/home/fradav/.micromamba/envs/miashs-hpc/lib/python3.12/cmd.py\": 1727016367.836232, \"/home/fradav/.micromamba/envs/miashs-hpc/lib/python3.12/bdb.py\": 1727016367.8192315, \"/home/fradav/.micromamba/envs/miashs-hpc/lib/python3.12/codeop.py\": 1727016367.8402321, \"/home/fradav/.micromamba/envs/miashs-hpc/lib/python3.12/code.py\": 1727016367.8422322, \"/home/fradav/.micromamba/envs/miashs-hpc/lib/python3.12/pdb.py\": 1727016367.9992363, \"/home/fradav/.micromamba/envs/miashs-hpc/lib/python3.12/site-packages/IPython/core/debugger.py\": 1725050232.6788924, \"/home/fradav/.micromamba/envs/miashs-hpc/lib/python3.12/site-packages/IPython/core/display_trap.py\": 1725050232.6788924, \"/home/fradav/.micromamba/envs/miashs-hpc/lib/python3.12/shlex.py\": 1727016368.068238, \"/home/fradav/.micromamba/envs/miashs-hpc/lib/python3.12/site-packages/IPython/utils/_process_common.py\": 1725050232.7148929, \"/home/fradav/.micromamba/envs/miashs-hpc/lib/python3.12/site-packages/IPython/utils/_process_posix.py\": 1725050232.7148929, \"/home/fradav/.micromamba/envs/miashs-hpc/lib/python3.12/site-packages/IPython/utils/process.py\": 1725050232.7188928, \"/home/fradav/.micromamba/envs/miashs-hpc/lib/python3.12/site-packages/IPython/utils/path.py\": 1725050232.7188928, \"/home/fradav/.micromamba/envs/miashs-hpc/lib/python3.12/site-packages/IPython/utils/terminal.py\": 1725050232.722893, \"/home/fradav/.micromamba/envs/miashs-hpc/lib/python3.12/site-packages/IPython/core/ultratb.py\": 1725050232.6868925, \"/home/fradav/.micromamba/envs/miashs-hpc/lib/python3.12/site-packages/IPython/utils/_sysinfo.py\": 1725050232.7188928, \"/home/fradav/.micromamba/envs/miashs-hpc/lib/python3.12/site-packages/IPython/utils/sysinfo.py\": 1725050232.722893, \"/home/fradav/.micromamba/envs/miashs-hpc/lib/python3.12/site-packages/IPython/core/crashhandler.py\": 1725050232.6788924, \"/home/fradav/.micromamba/envs/miashs-hpc/lib/python3.12/site-packages/IPython/utils/importstring.py\": 1725050232.7188928, \"/home/fradav/.micromamba/envs/miashs-hpc/lib/python3.12/site-packages/IPython/paths.py\": 1725050232.6748924, \"/home/fradav/.micromamba/envs/miashs-hpc/lib/python3.12/site-packages/IPython/core/profiledir.py\": 1725050232.6868925, \"/home/fradav/.micromamba/envs/miashs-hpc/lib/python3.12/site-packages/IPython/core/application.py\": 1725050232.6748924, \"/home/fradav/.micromamba/envs/miashs-hpc/lib/python3.12/site-packages/IPython/terminal/__init__.py\": 1725050232.7068927, \"/home/fradav/.micromamba/envs/miashs-hpc/lib/python3.12/site-packages/IPython/core/compilerop.py\": 1725050232.6748924, \"/home/fradav/.micromamba/envs/miashs-hpc/lib/python3.12/site-packages/IPython/core/error.py\": 1725050232.6788924, \"/home/fradav/.micromamba/envs/miashs-hpc/lib/python3.12/site-packages/IPython/utils/docs.py\": 1725050232.7188928, \"/home/fradav/.micromamba/envs/miashs-hpc/lib/python3.12/site-packages/IPython/utils/decorators.py\": 1725050232.7188928, \"/home/fradav/.micromamba/envs/miashs-hpc/lib/python3.12/site-packages/IPython/utils/text.py\": 1725050232.722893, \"/home/fradav/.micromamba/envs/miashs-hpc/lib/python3.12/site-packages/IPython/core/magic_arguments.py\": 1725050232.6828926, \"/home/fradav/.micromamba/envs/miashs-hpc/lib/python3.12/getopt.py\": 1727016367.9052339, \"/home/fradav/.micromamba/envs/miashs-hpc/lib/python3.12/site-packages/IPython/core/display_functions.py\": 1725050232.6788924, \"/home/fradav/.micromamba/envs/miashs-hpc/lib/python3.12/mimetypes.py\": 1727016367.955235, \"/home/fradav/.micromamba/envs/miashs-hpc/lib/python3.12/site-packages/IPython/testing/__init__.py\": 1725050232.7108927, \"/home/fradav/.micromamba/envs/miashs-hpc/lib/python3.12/site-packages/IPython/testing/skipdoctest.py\": 1725050232.7108927, \"/home/fradav/.micromamba/envs/miashs-hpc/lib/python3.12/site-packages/IPython/core/display.py\": 1725050232.6788924, \"/home/fradav/.micromamba/envs/miashs-hpc/lib/python3.12/site-packages/IPython/lib/__init__.py\": 1725050232.7028928, \"/home/fradav/.micromamba/envs/miashs-hpc/lib/python3.12/site-packages/IPython/lib/display.py\": 1725050232.7028928, \"/home/fradav/.micromamba/envs/miashs-hpc/lib/python3.12/site-packages/IPython/display.py\": 1725050232.6748924, \"/home/fradav/.micromamba/envs/miashs-hpc/lib/python3.12/site-packages/IPython/utils/data.py\": 1725050232.7188928, \"/home/fradav/.micromamba/envs/miashs-hpc/lib/python3.12/site-packages/IPython/core/page.py\": 1725050232.6828926, \"/home/fradav/.micromamba/envs/miashs-hpc/lib/python3.12/site-packages/IPython/lib/pretty.py\": 1725050232.7028928, \"/home/fradav/.micromamba/envs/miashs-hpc/lib/python3.12/site-packages/IPython/utils/openpy.py\": 1725050232.7188928, \"/home/fradav/.micromamba/envs/miashs-hpc/lib/python3.12/site-packages/IPython/utils/dir2.py\": 1725050232.7188928, \"/home/fradav/.micromamba/envs/miashs-hpc/lib/python3.12/site-packages/IPython/utils/wildcard.py\": 1725050232.722893, \"/home/fradav/.micromamba/envs/miashs-hpc/lib/python3.12/site-packages/pygments/lexers/_mapping.py\": 1714846879.5024717, \"/home/fradav/.micromamba/envs/miashs-hpc/lib/python3.12/site-packages/pygments/modeline.py\": 1714846879.4904716, \"/home/fradav/.micromamba/envs/miashs-hpc/lib/python3.12/site-packages/pygments/lexers/__init__.py\": 1714846879.4944715, \"/home/fradav/.micromamba/envs/miashs-hpc/lib/python3.12/site-packages/pygments/filter.py\": 1714846879.4904716, \"/home/fradav/.micromamba/envs/miashs-hpc/lib/python3.12/site-packages/pygments/filters/__init__.py\": 1714846879.4904716, \"/home/fradav/.micromamba/envs/miashs-hpc/lib/python3.12/site-packages/pygments/regexopt.py\": 1714846879.4904716, \"/home/fradav/.micromamba/envs/miashs-hpc/lib/python3.12/site-packages/pygments/lexer.py\": 1714846879.4904716, \"/home/fradav/.micromamba/envs/miashs-hpc/lib/python3.12/site-packages/pygments/unistring.py\": 1714846879.4904716, \"/home/fradav/.micromamba/envs/miashs-hpc/lib/python3.12/site-packages/pygments/lexers/python.py\": 1714846879.5464723, \"/home/fradav/.micromamba/envs/miashs-hpc/lib/python3.12/site-packages/pygments/formatters/html.py\": 1714846879.4944715, \"/home/fradav/.micromamba/envs/miashs-hpc/lib/python3.12/site-packages/IPython/core/oinspect.py\": 1725050232.6828926, \"/home/fradav/.micromamba/envs/miashs-hpc/lib/python3.12/site-packages/IPython/utils/tokenutil.py\": 1725050232.722893, \"/home/fradav/.micromamba/envs/miashs-hpc/lib/python3.12/site-packages/IPython/core/inputtransformer2.py\": 1725050232.6828926, \"/home/fradav/.micromamba/envs/miashs-hpc/lib/python3.12/site-packages/IPython/core/magic.py\": 1725050232.6828926, \"/home/fradav/.micromamba/envs/miashs-hpc/lib/python3.12/site-packages/pickleshare.py\": 1602536311.0, \"/home/fradav/.micromamba/envs/miashs-hpc/lib/python3.12/site-packages/IPython/core/hooks.py\": 1725050232.6788924, \"/home/fradav/.micromamba/envs/miashs-hpc/lib/python3.12/site-packages/IPython/core/autocall.py\": 1725050232.6748924, \"/home/fradav/.micromamba/envs/miashs-hpc/lib/python3.12/site-packages/IPython/core/macro.py\": 1725050232.6828926, \"/home/fradav/.micromamba/envs/miashs-hpc/lib/python3.12/site-packages/IPython/core/splitinput.py\": 1725050232.6868925, \"/home/fradav/.micromamba/envs/miashs-hpc/lib/python3.12/site-packages/IPython/core/prefilter.py\": 1725050232.6828926, \"/home/fradav/.micromamba/envs/miashs-hpc/lib/python3.12/site-packages/IPython/core/alias.py\": 1725050232.6748924, \"/home/fradav/.micromamba/envs/miashs-hpc/lib/python3.12/site-packages/IPython/core/builtin_trap.py\": 1725050232.6748924, \"/home/fradav/.micromamba/envs/miashs-hpc/lib/python3.12/site-packages/IPython/core/displayhook.py\": 1725050232.6788924, \"/home/fradav/.micromamba/envs/miashs-hpc/lib/python3.12/site-packages/IPython/core/displaypub.py\": 1725050232.6788924, \"/home/fradav/.micromamba/envs/miashs-hpc/lib/python3.12/site-packages/IPython/core/events.py\": 1725050232.6788924, \"/home/fradav/.micromamba/envs/miashs-hpc/lib/python3.12/site-packages/IPython/core/extensions.py\": 1725050232.6788924, \"/home/fradav/.micromamba/envs/miashs-hpc/lib/python3.12/site-packages/decorator.py\": 1641555713.0, \"/home/fradav/.micromamba/envs/miashs-hpc/lib/python3.12/site-packages/IPython/utils/sentinel.py\": 1725050232.7188928, \"/home/fradav/.micromamba/envs/miashs-hpc/lib/python3.12/site-packages/IPython/core/formatters.py\": 1725050232.6788924, \"/home/fradav/.micromamba/envs/miashs-hpc/lib/python3.12/lib-dynload/_sqlite3.cpython-312-x86_64-linux-gnu.so\": 1727016397.1509037, \"/home/fradav/.micromamba/envs/miashs-hpc/lib/python3.12/sqlite3/dbapi2.py\": 1727016369.3092701, \"/home/fradav/.micromamba/envs/miashs-hpc/lib/python3.12/sqlite3/__init__.py\": 1727016369.3132703, \"/home/fradav/.micromamba/envs/miashs-hpc/lib/python3.12/site-packages/IPython/core/history.py\": 1725050232.6788924, \"/home/fradav/.micromamba/envs/miashs-hpc/lib/python3.12/site-packages/IPython/core/logger.py\": 1725050232.6828926, \"/home/fradav/.micromamba/envs/miashs-hpc/lib/python3.12/site-packages/IPython/core/payload.py\": 1725050232.6828926, \"/home/fradav/.micromamba/envs/miashs-hpc/lib/python3.12/site-packages/IPython/core/usage.py\": 1725050232.6868925, \"/home/fradav/.micromamba/envs/miashs-hpc/lib/python3.12/site-packages/IPython/utils/capture.py\": 1725050232.7188928, \"/home/fradav/.micromamba/envs/miashs-hpc/lib/python3.12/site-packages/IPython/utils/io.py\": 1725050232.7188928, \"/home/fradav/.micromamba/envs/miashs-hpc/lib/python3.12/site-packages/IPython/utils/strdispatch.py\": 1725050232.722893, \"/home/fradav/.micromamba/envs/miashs-hpc/lib/python3.12/site-packages/IPython/utils/syspathcontext.py\": 1725050232.722893, \"/home/fradav/.micromamba/envs/miashs-hpc/lib/python3.12/site-packages/IPython/core/async_helpers.py\": 1725050232.6748924, \"/home/fradav/.micromamba/envs/miashs-hpc/lib/python3.12/site-packages/IPython/core/interactiveshell.py\": 1725050232.6828926, \"/home/fradav/.micromamba/envs/miashs-hpc/lib/python3.12/site-packages/prompt_toolkit/application/current.py\": 1718048094.3164852, \"/home/fradav/.micromamba/envs/miashs-hpc/lib/python3.12/site-packages/prompt_toolkit/eventloop/utils.py\": 1718048094.3284853, \"/home/fradav/.micromamba/envs/miashs-hpc/lib/python3.12/site-packages/prompt_toolkit/eventloop/async_generator.py\": 1718048094.3284853, \"/home/fradav/.micromamba/envs/miashs-hpc/lib/python3.12/site-packages/prompt_toolkit/eventloop/inputhook.py\": 1718048094.3284853, \"/home/fradav/.micromamba/envs/miashs-hpc/lib/python3.12/site-packages/prompt_toolkit/eventloop/__init__.py\": 1718048094.3284853, \"/home/fradav/.micromamba/envs/miashs-hpc/lib/python3.12/site-packages/prompt_toolkit/application/run_in_terminal.py\": 1718048094.320485, \"/home/fradav/.micromamba/envs/miashs-hpc/lib/python3.12/site-packages/prompt_toolkit/selection.py\": 1718048094.3164852, \"/home/fradav/.micromamba/envs/miashs-hpc/lib/python3.12/site-packages/prompt_toolkit/clipboard/base.py\": 1718048094.320485, \"/home/fradav/.micromamba/envs/miashs-hpc/lib/python3.12/site-packages/prompt_toolkit/clipboard/in_memory.py\": 1718048094.320485, \"/home/fradav/.micromamba/envs/miashs-hpc/lib/python3.12/site-packages/prompt_toolkit/clipboard/__init__.py\": 1718048094.320485, \"/home/fradav/.micromamba/envs/miashs-hpc/lib/python3.12/site-packages/prompt_toolkit/cache.py\": 1718048094.312485, \"/home/fradav/.micromamba/envs/miashs-hpc/lib/python3.12/site-packages/prompt_toolkit/enums.py\": 1718048094.312485, \"/home/fradav/.micromamba/envs/miashs-hpc/lib/python3.12/site-packages/prompt_toolkit/filters/base.py\": 1718048094.3284853, \"/home/fradav/.micromamba/envs/miashs-hpc/lib/python3.12/site-packages/prompt_toolkit/filters/app.py\": 1718048094.3284853, \"/home/fradav/.micromamba/envs/miashs-hpc/lib/python3.12/site-packages/prompt_toolkit/filters/cli.py\": 1718048094.3284853, \"/home/fradav/.micromamba/envs/miashs-hpc/lib/python3.12/site-packages/prompt_toolkit/filters/utils.py\": 1718048094.3284853, \"/home/fradav/.micromamba/envs/miashs-hpc/lib/python3.12/site-packages/prompt_toolkit/filters/__init__.py\": 1718048094.3284853, \"/home/fradav/.micromamba/envs/miashs-hpc/lib/python3.12/site-packages/prompt_toolkit/document.py\": 1718048094.312485, \"/home/fradav/.micromamba/envs/miashs-hpc/lib/python3.12/site-packages/prompt_toolkit/auto_suggest.py\": 1718048094.312485, \"/home/fradav/.micromamba/envs/miashs-hpc/lib/python3.12/site-packages/prompt_toolkit/keys.py\": 1718048094.312485, \"/home/fradav/.micromamba/envs/miashs-hpc/lib/python3.12/site-packages/prompt_toolkit/key_binding/key_bindings.py\": 1718048094.3364854, \"/home/fradav/.micromamba/envs/miashs-hpc/lib/python3.12/site-packages/wcwidth/table_vs16.py\": 1704731372.903879, \"/home/fradav/.micromamba/envs/miashs-hpc/lib/python3.12/site-packages/wcwidth/table_wide.py\": 1704731372.903879, \"/home/fradav/.micromamba/envs/miashs-hpc/lib/python3.12/site-packages/wcwidth/table_zero.py\": 1704731372.903879, \"/home/fradav/.micromamba/envs/miashs-hpc/lib/python3.12/site-packages/wcwidth/unicode_versions.py\": 1704731372.903879, \"/home/fradav/.micromamba/envs/miashs-hpc/lib/python3.12/site-packages/wcwidth/wcwidth.py\": 1704731372.903879, \"/home/fradav/.micromamba/envs/miashs-hpc/lib/python3.12/site-packages/wcwidth/__init__.py\": 1704731372.903879, \"/home/fradav/.micromamba/envs/miashs-hpc/lib/python3.12/site-packages/prompt_toolkit/utils.py\": 1718048094.3164852, \"/home/fradav/.micromamba/envs/miashs-hpc/lib/python3.12/site-packages/prompt_toolkit/key_binding/key_processor.py\": 1718048094.3364854, \"/home/fradav/.micromamba/envs/miashs-hpc/lib/python3.12/site-packages/prompt_toolkit/key_binding/__init__.py\": 1718048094.3324852, \"/home/fradav/.micromamba/envs/miashs-hpc/lib/python3.12/site-packages/prompt_toolkit/key_binding/vi_state.py\": 1718048094.3364854, \"/home/fradav/.micromamba/envs/miashs-hpc/lib/python3.12/site-packages/prompt_toolkit/cursor_shapes.py\": 1718048094.312485, \"/home/fradav/.micromamba/envs/miashs-hpc/lib/python3.12/site-packages/prompt_toolkit/data_structures.py\": 1718048094.312485, \"/home/fradav/.micromamba/envs/miashs-hpc/lib/python3.12/site-packages/prompt_toolkit/styles/base.py\": 1718048094.3524854, \"/home/fradav/.micromamba/envs/miashs-hpc/lib/python3.12/site-packages/prompt_toolkit/styles/named_colors.py\": 1718048094.3524854, \"/home/fradav/.micromamba/envs/miashs-hpc/lib/python3.12/site-packages/prompt_toolkit/styles/style.py\": 1718048094.3524854, \"/home/fradav/.micromamba/envs/miashs-hpc/lib/python3.12/site-packages/prompt_toolkit/styles/defaults.py\": 1718048094.3524854, \"/home/fradav/.micromamba/envs/miashs-hpc/lib/python3.12/site-packages/prompt_toolkit/styles/pygments.py\": 1718048094.3524854, \"/home/fradav/.micromamba/envs/miashs-hpc/lib/python3.12/colorsys.py\": 1727016367.8472323, \"/home/fradav/.micromamba/envs/miashs-hpc/lib/python3.12/site-packages/prompt_toolkit/styles/style_transformation.py\": 1718048094.3524854, \"/home/fradav/.micromamba/envs/miashs-hpc/lib/python3.12/site-packages/prompt_toolkit/styles/__init__.py\": 1718048094.3524854, \"/home/fradav/.micromamba/envs/miashs-hpc/lib/python3.12/site-packages/prompt_toolkit/output/color_depth.py\": 1718048094.3484855, \"/home/fradav/.micromamba/envs/miashs-hpc/lib/python3.12/site-packages/prompt_toolkit/output/base.py\": 1718048094.3484855, \"/home/fradav/.micromamba/envs/miashs-hpc/lib/python3.12/site-packages/prompt_toolkit/output/flush_stdout.py\": 1718048094.3484855, \"/home/fradav/.micromamba/envs/miashs-hpc/lib/python3.12/site-packages/prompt_toolkit/output/plain_text.py\": 1718048094.3484855, \"/home/fradav/.micromamba/envs/miashs-hpc/lib/python3.12/site-packages/prompt_toolkit/output/defaults.py\": 1718048094.3484855, \"/home/fradav/.micromamba/envs/miashs-hpc/lib/python3.12/site-packages/prompt_toolkit/output/__init__.py\": 1718048094.3444855, \"/home/fradav/.micromamba/envs/miashs-hpc/lib/python3.12/site-packages/prompt_toolkit/output/vt100.py\": 1718048094.3484855, \"/home/fradav/.micromamba/envs/miashs-hpc/lib/python3.12/site-packages/prompt_toolkit/mouse_events.py\": 1718048094.312485, \"/home/fradav/.micromamba/envs/miashs-hpc/lib/python3.12/site-packages/prompt_toolkit/formatted_text/base.py\": 1718048094.3284853, \"/home/fradav/.micromamba/envs/miashs-hpc/lib/python3.12/site-packages/prompt_toolkit/formatted_text/ansi.py\": 1718048094.3284853, \"/home/fradav/.micromamba/envs/miashs-hpc/lib/python3.12/xml/__init__.py\": 1727016369.5112755, \"/home/fradav/.micromamba/envs/miashs-hpc/lib/python3.12/xml/dom/domreg.py\": 1727016369.5172756, \"/home/fradav/.micromamba/envs/miashs-hpc/lib/python3.12/xml/dom/__init__.py\": 1727016369.5222757, \"/home/fradav/.micromamba/envs/miashs-hpc/lib/python3.12/xml/dom/minicompat.py\": 1727016369.5242758, \"/home/fradav/.micromamba/envs/miashs-hpc/lib/python3.12/xml/dom/NodeFilter.py\": 1727016369.529276, \"/home/fradav/.micromamba/envs/miashs-hpc/lib/python3.12/xml/dom/xmlbuilder.py\": 1727016369.535276, \"/home/fradav/.micromamba/envs/miashs-hpc/lib/python3.12/xml/dom/minidom.py\": 1727016369.5272758, \"/home/fradav/.micromamba/envs/miashs-hpc/lib/python3.12/site-packages/prompt_toolkit/formatted_text/html.py\": 1718048094.3284853, \"/home/fradav/.micromamba/envs/miashs-hpc/lib/python3.12/site-packages/prompt_toolkit/formatted_text/pygments.py\": 1718048094.3284853, \"/home/fradav/.micromamba/envs/miashs-hpc/lib/python3.12/site-packages/prompt_toolkit/formatted_text/utils.py\": 1718048094.3324852, \"/home/fradav/.micromamba/envs/miashs-hpc/lib/python3.12/site-packages/prompt_toolkit/formatted_text/__init__.py\": 1718048094.3284853, \"/home/fradav/.micromamba/envs/miashs-hpc/lib/python3.12/site-packages/prompt_toolkit/completion/base.py\": 1718048094.320485, \"/home/fradav/.micromamba/envs/miashs-hpc/lib/python3.12/site-packages/prompt_toolkit/completion/deduplicate.py\": 1718048094.320485, \"/home/fradav/.micromamba/envs/miashs-hpc/lib/python3.12/site-packages/prompt_toolkit/completion/filesystem.py\": 1718048094.320485, \"/home/fradav/.micromamba/envs/miashs-hpc/lib/python3.12/site-packages/prompt_toolkit/completion/word_completer.py\": 1718048094.320485, \"/home/fradav/.micromamba/envs/miashs-hpc/lib/python3.12/site-packages/prompt_toolkit/completion/fuzzy_completer.py\": 1718048094.320485, \"/home/fradav/.micromamba/envs/miashs-hpc/lib/python3.12/site-packages/prompt_toolkit/completion/nested.py\": 1718048094.320485, \"/home/fradav/.micromamba/envs/miashs-hpc/lib/python3.12/site-packages/prompt_toolkit/completion/__init__.py\": 1718048094.320485, \"/home/fradav/.micromamba/envs/miashs-hpc/lib/python3.12/site-packages/prompt_toolkit/history.py\": 1718048094.312485, \"/home/fradav/.micromamba/envs/miashs-hpc/lib/python3.12/site-packages/prompt_toolkit/search.py\": 1718048094.3164852, \"/home/fradav/.micromamba/envs/miashs-hpc/lib/python3.12/site-packages/prompt_toolkit/validation.py\": 1718048094.3164852, \"/home/fradav/.micromamba/envs/miashs-hpc/lib/python3.12/site-packages/prompt_toolkit/buffer.py\": 1718048094.312485, \"/home/fradav/.micromamba/envs/miashs-hpc/lib/python3.12/site-packages/prompt_toolkit/input/base.py\": 1718048094.3324852, \"/home/fradav/.micromamba/envs/miashs-hpc/lib/python3.12/site-packages/prompt_toolkit/input/defaults.py\": 1718048094.3324852, \"/home/fradav/.micromamba/envs/miashs-hpc/lib/python3.12/site-packages/prompt_toolkit/input/__init__.py\": 1718048094.3324852, \"/home/fradav/.micromamba/envs/miashs-hpc/lib/python3.12/site-packages/prompt_toolkit/input/typeahead.py\": 1718048094.3324852, \"/home/fradav/.micromamba/envs/miashs-hpc/lib/python3.12/site-packages/prompt_toolkit/key_binding/bindings/__init__.py\": 1718048094.3364854, \"/home/fradav/.micromamba/envs/miashs-hpc/lib/python3.12/site-packages/prompt_toolkit/key_binding/bindings/scroll.py\": 1718048094.3404853, \"/home/fradav/.micromamba/envs/miashs-hpc/lib/python3.12/site-packages/prompt_toolkit/key_binding/bindings/page_navigation.py\": 1718048094.3404853, \"/home/fradav/.micromamba/envs/miashs-hpc/lib/python3.12/site-packages/prompt_toolkit/lexers/base.py\": 1718048094.3444855, \"/home/fradav/.micromamba/envs/miashs-hpc/lib/python3.12/site-packages/prompt_toolkit/lexers/pygments.py\": 1718048094.3444855, \"/home/fradav/.micromamba/envs/miashs-hpc/lib/python3.12/site-packages/prompt_toolkit/lexers/__init__.py\": 1718048094.3444855, \"/home/fradav/.micromamba/envs/miashs-hpc/lib/python3.12/site-packages/prompt_toolkit/layout/utils.py\": 1718048094.3444855, \"/home/fradav/.micromamba/envs/miashs-hpc/lib/python3.12/site-packages/prompt_toolkit/layout/processors.py\": 1718048094.3444855, \"/home/fradav/.micromamba/envs/miashs-hpc/lib/python3.12/site-packages/prompt_toolkit/layout/controls.py\": 1718048094.3404853, \"/home/fradav/.micromamba/envs/miashs-hpc/lib/python3.12/site-packages/prompt_toolkit/layout/dimension.py\": 1718048094.3404853, \"/home/fradav/.micromamba/envs/miashs-hpc/lib/python3.12/site-packages/prompt_toolkit/layout/margins.py\": 1718048094.3444855, \"/home/fradav/.micromamba/envs/miashs-hpc/lib/python3.12/site-packages/prompt_toolkit/layout/mouse_handlers.py\": 1718048094.3444855, \"/home/fradav/.micromamba/envs/miashs-hpc/lib/python3.12/site-packages/prompt_toolkit/layout/screen.py\": 1718048094.3444855, \"/home/fradav/.micromamba/envs/miashs-hpc/lib/python3.12/site-packages/prompt_toolkit/layout/containers.py\": 1718048094.3404853, \"/home/fradav/.micromamba/envs/miashs-hpc/lib/python3.12/site-packages/prompt_toolkit/layout/layout.py\": 1718048094.3444855, \"/home/fradav/.micromamba/envs/miashs-hpc/lib/python3.12/site-packages/prompt_toolkit/layout/menus.py\": 1718048094.3444855, \"/home/fradav/.micromamba/envs/miashs-hpc/lib/python3.12/site-packages/prompt_toolkit/layout/scrollable_pane.py\": 1718048094.3444855, \"/home/fradav/.micromamba/envs/miashs-hpc/lib/python3.12/site-packages/prompt_toolkit/layout/__init__.py\": 1718048094.3404853, \"/home/fradav/.micromamba/envs/miashs-hpc/lib/python3.12/site-packages/prompt_toolkit/key_binding/bindings/completion.py\": 1718048094.3364854, \"/home/fradav/.micromamba/envs/miashs-hpc/lib/python3.12/site-packages/prompt_toolkit/key_binding/bindings/named_commands.py\": 1718048094.3404853, \"/home/fradav/.micromamba/envs/miashs-hpc/lib/python3.12/site-packages/prompt_toolkit/key_binding/bindings/basic.py\": 1718048094.3364854, \"/home/fradav/.micromamba/envs/miashs-hpc/lib/python3.12/site-packages/prompt_toolkit/key_binding/bindings/cpr.py\": 1718048094.3364854, \"/home/fradav/.micromamba/envs/miashs-hpc/lib/python3.12/site-packages/prompt_toolkit/key_binding/bindings/emacs.py\": 1718048094.3364854, \"/home/fradav/.micromamba/envs/miashs-hpc/lib/python3.12/site-packages/prompt_toolkit/key_binding/bindings/mouse.py\": 1718048094.3364854, \"/home/fradav/.micromamba/envs/miashs-hpc/lib/python3.12/site-packages/prompt_toolkit/input/ansi_escape_sequences.py\": 1718048094.3324852, \"/home/fradav/.micromamba/envs/miashs-hpc/lib/python3.12/site-packages/prompt_toolkit/input/vt100_parser.py\": 1718048094.3324852, \"/home/fradav/.micromamba/envs/miashs-hpc/lib/python3.12/site-packages/prompt_toolkit/key_binding/digraphs.py\": 1718048094.3364854, \"/home/fradav/.micromamba/envs/miashs-hpc/lib/python3.12/site-packages/prompt_toolkit/key_binding/bindings/vi.py\": 1718048094.3404853, \"/home/fradav/.micromamba/envs/miashs-hpc/lib/python3.12/site-packages/prompt_toolkit/key_binding/defaults.py\": 1718048094.3324852, \"/home/fradav/.micromamba/envs/miashs-hpc/lib/python3.12/site-packages/prompt_toolkit/key_binding/emacs_state.py\": 1718048094.3364854, \"/home/fradav/.micromamba/envs/miashs-hpc/lib/python3.12/site-packages/prompt_toolkit/layout/dummy.py\": 1718048094.3404853, \"/home/fradav/.micromamba/envs/miashs-hpc/lib/python3.12/site-packages/prompt_toolkit/renderer.py\": 1718048094.3164852, \"/home/fradav/.micromamba/envs/miashs-hpc/lib/python3.12/site-packages/prompt_toolkit/application/application.py\": 1718048094.3164852, \"/home/fradav/.micromamba/envs/miashs-hpc/lib/python3.12/site-packages/prompt_toolkit/application/dummy.py\": 1718048094.320485, \"/home/fradav/.micromamba/envs/miashs-hpc/lib/python3.12/site-packages/prompt_toolkit/application/__init__.py\": 1718048094.3164852, \"/home/fradav/.micromamba/envs/miashs-hpc/lib/python3.12/site-packages/prompt_toolkit/key_binding/bindings/focus.py\": 1718048094.3364854, \"/home/fradav/.micromamba/envs/miashs-hpc/lib/python3.12/site-packages/prompt_toolkit/widgets/toolbars.py\": 1718048094.3564856, \"/home/fradav/.micromamba/envs/miashs-hpc/lib/python3.12/site-packages/prompt_toolkit/widgets/base.py\": 1718048094.3524854, \"/home/fradav/.micromamba/envs/miashs-hpc/lib/python3.12/site-packages/prompt_toolkit/widgets/dialogs.py\": 1718048094.3524854, \"/home/fradav/.micromamba/envs/miashs-hpc/lib/python3.12/site-packages/prompt_toolkit/widgets/menus.py\": 1718048094.3564856, \"/home/fradav/.micromamba/envs/miashs-hpc/lib/python3.12/site-packages/prompt_toolkit/widgets/__init__.py\": 1718048094.3524854, \"/home/fradav/.micromamba/envs/miashs-hpc/lib/python3.12/site-packages/prompt_toolkit/shortcuts/dialogs.py\": 1718048094.3484855, \"/home/fradav/.micromamba/envs/miashs-hpc/lib/python3.12/xml/parsers/__init__.py\": 1727016369.5552766, \"/home/fradav/.micromamba/envs/miashs-hpc/lib/python3.12/lib-dynload/pyexpat.cpython-312-x86_64-linux-gnu.so\": 1727016396.715894, \"/home/fradav/.micromamba/envs/miashs-hpc/lib/python3.12/xml/parsers/expat.py\": 1727016369.5522764, \"/home/fradav/.micromamba/envs/miashs-hpc/lib/python3.12/xml/dom/expatbuilder.py\": 1727016369.5192757, \"/home/fradav/.micromamba/envs/miashs-hpc/lib/python3.12/site-packages/prompt_toolkit/shortcuts/progress_bar/formatters.py\": 1718048094.3524854, \"/home/fradav/.micromamba/envs/miashs-hpc/lib/python3.12/site-packages/prompt_toolkit/shortcuts/progress_bar/base.py\": 1718048094.3524854, \"/home/fradav/.micromamba/envs/miashs-hpc/lib/python3.12/site-packages/prompt_toolkit/shortcuts/progress_bar/__init__.py\": 1718048094.3524854, \"/home/fradav/.micromamba/envs/miashs-hpc/lib/python3.12/site-packages/prompt_toolkit/key_binding/bindings/auto_suggest.py\": 1718048094.3364854, \"/home/fradav/.micromamba/envs/miashs-hpc/lib/python3.12/site-packages/prompt_toolkit/key_binding/bindings/open_in_editor.py\": 1718048094.3404853, \"/home/fradav/.micromamba/envs/miashs-hpc/lib/python3.12/site-packages/prompt_toolkit/shortcuts/prompt.py\": 1718048094.3484855, \"/home/fradav/.micromamba/envs/miashs-hpc/lib/python3.12/site-packages/prompt_toolkit/shortcuts/utils.py\": 1718048094.3484855, \"/home/fradav/.micromamba/envs/miashs-hpc/lib/python3.12/site-packages/prompt_toolkit/shortcuts/__init__.py\": 1718048094.3484855, \"/home/fradav/.micromamba/envs/miashs-hpc/lib/python3.12/site-packages/prompt_toolkit/__init__.py\": 1718048094.312485, \"/home/fradav/.micromamba/envs/miashs-hpc/lib/python3.12/site-packages/prompt_toolkit/patch_stdout.py\": 1718048094.3164852, \"/home/fradav/.micromamba/envs/miashs-hpc/lib/python3.12/lib-dynload/unicodedata.cpython-312-x86_64-linux-gnu.so\": 1727016397.4899113, \"/home/fradav/.micromamba/envs/miashs-hpc/lib/python3.12/site-packages/IPython/core/guarded_eval.py\": 1725050232.6788924, \"/home/fradav/.micromamba/envs/miashs-hpc/lib/python3.12/site-packages/IPython/core/latex_symbols.py\": 1725050232.6828926, \"/home/fradav/.micromamba/envs/miashs-hpc/lib/python3.12/site-packages/IPython/utils/generics.py\": 1725050232.7188928, \"/home/fradav/.micromamba/envs/miashs-hpc/lib/python3.12/site-packages/parso/utils.py\": 1712320446.0071447, \"/home/fradav/.micromamba/envs/miashs-hpc/lib/python3.12/site-packages/parso/tree.py\": 1712320446.0071447, \"/home/fradav/.micromamba/envs/miashs-hpc/lib/python3.12/site-packages/parso/python/__init__.py\": 1712320446.0071447, \"/home/fradav/.micromamba/envs/miashs-hpc/lib/python3.12/site-packages/parso/python/token.py\": 1712320446.0111446, \"/home/fradav/.micromamba/envs/miashs-hpc/lib/python3.12/site-packages/parso/python/tokenize.py\": 1712320446.0111446, \"/home/fradav/.micromamba/envs/miashs-hpc/lib/python3.12/site-packages/parso/pgen2/grammar_parser.py\": 1712320446.0071447, \"/home/fradav/.micromamba/envs/miashs-hpc/lib/python3.12/site-packages/parso/pgen2/generator.py\": 1712320446.0071447, \"/home/fradav/.micromamba/envs/miashs-hpc/lib/python3.12/site-packages/parso/pgen2/__init__.py\": 1712320446.0071447, \"/home/fradav/.micromamba/envs/miashs-hpc/lib/python3.12/site-packages/parso/parser.py\": 1712320446.0071447, \"/home/fradav/.micromamba/envs/miashs-hpc/lib/python3.12/site-packages/parso/_compatibility.py\": 1712320446.0031447, \"/home/fradav/.micromamba/envs/miashs-hpc/lib/python3.12/difflib.py\": 1727016367.8792331, \"/home/fradav/.micromamba/envs/miashs-hpc/lib/python3.12/site-packages/parso/python/prefix.py\": 1712320446.0111446, \"/home/fradav/.micromamba/envs/miashs-hpc/lib/python3.12/site-packages/parso/python/tree.py\": 1712320446.0111446, \"/home/fradav/.micromamba/envs/miashs-hpc/lib/python3.12/site-packages/parso/python/parser.py\": 1712320446.0111446, \"/home/fradav/.micromamba/envs/miashs-hpc/lib/python3.12/site-packages/parso/python/diff.py\": 1712320446.0071447, \"/home/fradav/.micromamba/envs/miashs-hpc/lib/python3.12/site-packages/parso/cache.py\": 1712320446.0071447, \"/home/fradav/.micromamba/envs/miashs-hpc/lib/python3.12/site-packages/parso/normalizer.py\": 1712320446.0071447, \"/home/fradav/.micromamba/envs/miashs-hpc/lib/python3.12/site-packages/parso/python/errors.py\": 1712320446.0071447, \"/home/fradav/.micromamba/envs/miashs-hpc/lib/python3.12/site-packages/parso/python/pep8.py\": 1712320446.0111446, \"/home/fradav/.micromamba/envs/miashs-hpc/lib/python3.12/site-packages/parso/file_io.py\": 1712320446.0071447, \"/home/fradav/.micromamba/envs/miashs-hpc/lib/python3.12/site-packages/parso/grammar.py\": 1712320446.0071447, \"/home/fradav/.micromamba/envs/miashs-hpc/lib/python3.12/site-packages/parso/__init__.py\": 1712320446.0031447, \"/home/fradav/.micromamba/envs/miashs-hpc/lib/python3.12/site-packages/jedi/parser_utils.py\": 1696326209.647327, \"/home/fradav/.micromamba/envs/miashs-hpc/lib/python3.12/site-packages/jedi/debug.py\": 1696326209.647327, \"/home/fradav/.micromamba/envs/miashs-hpc/lib/python3.12/site-packages/jedi/settings.py\": 1696326209.647327, \"/home/fradav/.micromamba/envs/miashs-hpc/lib/python3.12/site-packages/jedi/cache.py\": 1696326209.647327, \"/home/fradav/.micromamba/envs/miashs-hpc/lib/python3.12/site-packages/jedi/file_io.py\": 1696326209.647327, \"/home/fradav/.micromamba/envs/miashs-hpc/lib/python3.12/site-packages/jedi/inference/cache.py\": 1696326209.651327, \"/home/fradav/.micromamba/envs/miashs-hpc/lib/python3.12/site-packages/jedi/inference/helpers.py\": 1696326209.651327, \"/home/fradav/.micromamba/envs/miashs-hpc/lib/python3.12/site-packages/jedi/inference/utils.py\": 1696326209.655327, \"/home/fradav/.micromamba/envs/miashs-hpc/lib/python3.12/site-packages/jedi/inference/base_value.py\": 1696326209.651327, \"/home/fradav/.micromamba/envs/miashs-hpc/lib/python3.12/site-packages/jedi/inference/sys_path.py\": 1696326209.655327, \"/home/fradav/.micromamba/envs/miashs-hpc/lib/python3.12/site-packages/jedi/inference/recursion.py\": 1696326209.655327, \"/home/fradav/.micromamba/envs/miashs-hpc/lib/python3.12/site-packages/jedi/inference/flow_analysis.py\": 1696326209.651327, \"/home/fradav/.micromamba/envs/miashs-hpc/lib/python3.12/site-packages/jedi/common.py\": 1696326209.647327, \"/home/fradav/.micromamba/envs/miashs-hpc/lib/python3.12/site-packages/jedi/inference/lazy_value.py\": 1696326209.655327, \"/home/fradav/.micromamba/envs/miashs-hpc/lib/python3.12/site-packages/jedi/inference/docstrings.py\": 1696326209.651327, \"/home/fradav/.micromamba/envs/miashs-hpc/lib/python3.12/site-packages/jedi/plugins/__init__.py\": 1696326209.6633272, \"/home/fradav/.micromamba/envs/miashs-hpc/lib/python3.12/site-packages/jedi/inference/names.py\": 1696326209.655327, \"/home/fradav/.micromamba/envs/miashs-hpc/lib/python3.12/site-packages/jedi/inference/filters.py\": 1696326209.651327, \"/home/fradav/.micromamba/envs/miashs-hpc/lib/python3.12/site-packages/jedi/inference/compiled/getattr_static.py\": 1696326209.655327, \"/home/fradav/.micromamba/envs/miashs-hpc/lib/python3.12/site-packages/jedi/inference/compiled/access.py\": 1696326209.655327, \"/home/fradav/.micromamba/envs/miashs-hpc/lib/python3.12/site-packages/jedi/inference/signature.py\": 1696326209.655327, \"/home/fradav/.micromamba/envs/miashs-hpc/lib/python3.12/site-packages/jedi/inference/context.py\": 1696326209.651327, \"/home/fradav/.micromamba/envs/miashs-hpc/lib/python3.12/site-packages/jedi/inference/compiled/value.py\": 1696326209.655327, \"/home/fradav/.micromamba/envs/miashs-hpc/lib/python3.12/site-packages/jedi/inference/compiled/__init__.py\": 1696326209.655327, \"/home/fradav/.micromamba/envs/miashs-hpc/lib/python3.12/site-packages/jedi/inference/analysis.py\": 1696326209.651327, \"/home/fradav/.micromamba/envs/miashs-hpc/lib/python3.12/site-packages/jedi/inference/gradual/__init__.py\": 1696326209.659327, \"/home/fradav/.micromamba/envs/miashs-hpc/lib/python3.12/site-packages/jedi/inference/value/module.py\": 1696326209.659327, \"/home/fradav/.micromamba/envs/miashs-hpc/lib/python3.12/site-packages/jedi/inference/value/dynamic_arrays.py\": 1696326209.659327, \"/home/fradav/.micromamba/envs/miashs-hpc/lib/python3.12/site-packages/jedi/inference/value/iterable.py\": 1696326209.659327, \"/home/fradav/.micromamba/envs/miashs-hpc/lib/python3.12/site-packages/jedi/inference/arguments.py\": 1696326209.651327, \"/home/fradav/.micromamba/envs/miashs-hpc/lib/python3.12/site-packages/jedi/inference/parser_cache.py\": 1696326209.655327, \"/home/fradav/.micromamba/envs/miashs-hpc/lib/python3.12/site-packages/jedi/inference/gradual/generics.py\": 1696326209.659327, \"/home/fradav/.micromamba/envs/miashs-hpc/lib/python3.12/site-packages/jedi/inference/value/function.py\": 1696326209.659327, \"/home/fradav/.micromamba/envs/miashs-hpc/lib/python3.12/site-packages/jedi/inference/value/klass.py\": 1696326209.659327, \"/home/fradav/.micromamba/envs/miashs-hpc/lib/python3.12/site-packages/jedi/inference/value/instance.py\": 1696326209.659327, \"/home/fradav/.micromamba/envs/miashs-hpc/lib/python3.12/site-packages/jedi/inference/value/__init__.py\": 1696326209.659327, \"/home/fradav/.micromamba/envs/miashs-hpc/lib/python3.12/site-packages/jedi/inference/gradual/base.py\": 1696326209.659327, \"/home/fradav/.micromamba/envs/miashs-hpc/lib/python3.12/site-packages/jedi/inference/gradual/type_var.py\": 1696326209.659327, \"/home/fradav/.micromamba/envs/miashs-hpc/lib/python3.12/site-packages/jedi/inference/gradual/typing.py\": 1696326209.659327, \"/home/fradav/.micromamba/envs/miashs-hpc/lib/python3.12/site-packages/jedi/inference/gradual/stub_value.py\": 1696326209.659327, \"/home/fradav/.micromamba/envs/miashs-hpc/lib/python3.12/site-packages/jedi/inference/gradual/typeshed.py\": 1696326209.659327, \"/home/fradav/.micromamba/envs/miashs-hpc/lib/python3.12/site-packages/jedi/_compatibility.py\": 1696326209.647327, \"/home/fradav/.micromamba/envs/miashs-hpc/lib/python3.12/site-packages/jedi/inference/compiled/subprocess/functions.py\": 1696326209.659327, \"/home/fradav/.micromamba/envs/miashs-hpc/lib/python3.12/site-packages/jedi/api/exceptions.py\": 1696326209.647327, \"/home/fradav/.micromamba/envs/miashs-hpc/lib/python3.12/site-packages/jedi/inference/compiled/subprocess/__init__.py\": 1696326209.655327, \"/home/fradav/.micromamba/envs/miashs-hpc/lib/python3.12/site-packages/jedi/inference/imports.py\": 1696326209.655327, \"/home/fradav/.micromamba/envs/miashs-hpc/lib/python3.12/site-packages/jedi/inference/param.py\": 1696326209.655327, \"/home/fradav/.micromamba/envs/miashs-hpc/lib/python3.12/site-packages/jedi/inference/gradual/annotation.py\": 1696326209.659327, \"/home/fradav/.micromamba/envs/miashs-hpc/lib/python3.12/site-packages/jedi/inference/value/decorator.py\": 1696326209.659327, \"/home/fradav/.micromamba/envs/miashs-hpc/lib/python3.12/site-packages/jedi/inference/syntax_tree.py\": 1696326209.655327, \"/home/fradav/.micromamba/envs/miashs-hpc/lib/python3.12/site-packages/jedi/inference/__init__.py\": 1696326209.651327, \"/home/fradav/.micromamba/envs/miashs-hpc/lib/python3.12/site-packages/jedi/inference/gradual/conversion.py\": 1696326209.659327, \"/home/fradav/.micromamba/envs/miashs-hpc/lib/python3.12/site-packages/jedi/inference/compiled/mixed.py\": 1696326209.655327, \"/home/fradav/.micromamba/envs/miashs-hpc/lib/python3.12/pydoc_data/__init__.py\": 1727016369.2782693, \"/home/fradav/.micromamba/envs/miashs-hpc/lib/python3.12/pydoc_data/topics.py\": 1727016369.2852695, \"/home/fradav/.micromamba/envs/miashs-hpc/lib/python3.12/site-packages/jedi/api/keywords.py\": 1696326209.651327, \"/home/fradav/.micromamba/envs/miashs-hpc/lib/python3.12/site-packages/jedi/api/completion_cache.py\": 1696326209.647327, \"/home/fradav/.micromamba/envs/miashs-hpc/lib/python3.12/site-packages/jedi/api/helpers.py\": 1696326209.647327, \"/home/fradav/.micromamba/envs/miashs-hpc/lib/python3.12/site-packages/jedi/api/classes.py\": 1696326209.647327, \"/home/fradav/.micromamba/envs/miashs-hpc/lib/python3.12/site-packages/jedi/api/interpreter.py\": 1696326209.651327, \"/home/fradav/.micromamba/envs/miashs-hpc/lib/python3.12/site-packages/jedi/api/strings.py\": 1696326209.651327, \"/home/fradav/.micromamba/envs/miashs-hpc/lib/python3.12/site-packages/jedi/api/file_name.py\": 1696326209.647327, \"/home/fradav/.micromamba/envs/miashs-hpc/lib/python3.12/site-packages/jedi/inference/docstring_utils.py\": 1696326209.651327, \"/home/fradav/.micromamba/envs/miashs-hpc/lib/python3.12/site-packages/jedi/api/completion.py\": 1696326209.647327, \"/home/fradav/.micromamba/envs/miashs-hpc/lib/python3.12/filecmp.py\": 1727016367.8872333, \"/home/fradav/.micromamba/envs/miashs-hpc/lib/python3.12/site-packages/jedi/api/environment.py\": 1696326209.647327, \"/home/fradav/.micromamba/envs/miashs-hpc/lib/python3.12/site-packages/jedi/inference/references.py\": 1696326209.655327, \"/home/fradav/.micromamba/envs/miashs-hpc/lib/python3.12/site-packages/jedi/api/project.py\": 1696326209.651327, \"/home/fradav/.micromamba/envs/miashs-hpc/lib/python3.12/site-packages/jedi/api/errors.py\": 1696326209.647327, \"/home/fradav/.micromamba/envs/miashs-hpc/lib/python3.12/site-packages/jedi/inference/value/namespace.py\": 1696326209.659327, \"/home/fradav/.micromamba/envs/miashs-hpc/lib/python3.12/site-packages/jedi/api/refactoring/__init__.py\": 1696326209.651327, \"/home/fradav/.micromamba/envs/miashs-hpc/lib/python3.12/site-packages/jedi/api/refactoring/extract.py\": 1696326209.651327, \"/home/fradav/.micromamba/envs/miashs-hpc/lib/python3.12/site-packages/jedi/inference/gradual/utils.py\": 1696326209.659327, \"/home/fradav/.micromamba/envs/miashs-hpc/lib/python3.12/site-packages/jedi/api/__init__.py\": 1696326209.647327, \"/home/fradav/.micromamba/envs/miashs-hpc/lib/python3.12/site-packages/jedi/plugins/stdlib.py\": 1696326209.6633272, \"/home/fradav/.micromamba/envs/miashs-hpc/lib/python3.12/site-packages/jedi/plugins/flask.py\": 1696326209.6633272, \"/home/fradav/.micromamba/envs/miashs-hpc/lib/python3.12/site-packages/jedi/plugins/pytest.py\": 1696326209.6633272, \"/home/fradav/.micromamba/envs/miashs-hpc/lib/python3.12/site-packages/jedi/plugins/django.py\": 1696326209.6633272, \"/home/fradav/.micromamba/envs/miashs-hpc/lib/python3.12/site-packages/jedi/plugins/registry.py\": 1696326209.6633272, \"/home/fradav/.micromamba/envs/miashs-hpc/lib/python3.12/site-packages/jedi/__init__.py\": 1696326209.647327, \"/home/fradav/.micromamba/envs/miashs-hpc/lib/python3.12/site-packages/IPython/core/completer.py\": 1725050232.6748924, \"/home/fradav/.micromamba/envs/miashs-hpc/lib/python3.12/site-packages/IPython/terminal/ptutils.py\": 1725050232.7068927, \"/home/fradav/.micromamba/envs/miashs-hpc/lib/python3.12/site-packages/IPython/terminal/shortcuts/auto_match.py\": 1725050232.7108927, \"/home/fradav/.micromamba/envs/miashs-hpc/lib/python3.12/site-packages/IPython/terminal/shortcuts/filters.py\": 1725050232.7108927, \"/home/fradav/.micromamba/envs/miashs-hpc/lib/python3.12/site-packages/IPython/terminal/shortcuts/auto_suggest.py\": 1725050232.7108927, \"/home/fradav/.micromamba/envs/miashs-hpc/lib/python3.12/site-packages/IPython/terminal/shortcuts/__init__.py\": 1725050232.7108927, \"/home/fradav/.micromamba/envs/miashs-hpc/lib/python3.12/concurrent/futures/thread.py\": 1727016368.2762434, \"/home/fradav/.micromamba/envs/miashs-hpc/lib/python3.12/site-packages/IPython/terminal/debugger.py\": 1725050232.7068927, \"/home/fradav/.micromamba/envs/miashs-hpc/lib/python3.12/site-packages/IPython/lib/clipboard.py\": 1725050232.7028928, \"/home/fradav/.micromamba/envs/miashs-hpc/lib/python3.12/site-packages/IPython/terminal/magics.py\": 1725050232.7068927, \"/home/fradav/.micromamba/envs/miashs-hpc/lib/python3.12/site-packages/IPython/terminal/pt_inputhooks/__init__.py\": 1725050232.7068927, \"/home/fradav/.micromamba/envs/miashs-hpc/lib/python3.12/site-packages/IPython/terminal/prompts.py\": 1725050232.7068927, \"/home/fradav/.micromamba/envs/miashs-hpc/lib/python3.12/site-packages/IPython/terminal/interactiveshell.py\": 1725050232.7068927, \"/home/fradav/.micromamba/envs/miashs-hpc/lib/python3.12/site-packages/IPython/core/magics/auto.py\": 1725050232.6868925, \"/home/fradav/.micromamba/envs/miashs-hpc/lib/python3.12/site-packages/IPython/core/magics/basic.py\": 1725050232.6868925, \"/home/fradav/.micromamba/envs/miashs-hpc/lib/python3.12/http/__init__.py\": 1727016368.7072546, \"/home/fradav/.micromamba/envs/miashs-hpc/lib/python3.12/email/feedparser.py\": 1727016368.3572454, \"/home/fradav/.micromamba/envs/miashs-hpc/lib/python3.12/email/parser.py\": 1727016368.3772461, \"/home/fradav/.micromamba/envs/miashs-hpc/lib/python3.12/http/client.py\": 1727016368.7012544, \"/home/fradav/.micromamba/envs/miashs-hpc/lib/python3.12/urllib/response.py\": 1727016369.4612741, \"/home/fradav/.micromamba/envs/miashs-hpc/lib/python3.12/urllib/error.py\": 1727016369.4522738, \"/home/fradav/.micromamba/envs/miashs-hpc/lib/python3.12/urllib/request.py\": 1727016369.4582741, \"/home/fradav/.micromamba/envs/miashs-hpc/lib/python3.12/site-packages/IPython/utils/contexts.py\": 1725050232.7188928, \"/home/fradav/.micromamba/envs/miashs-hpc/lib/python3.12/site-packages/IPython/core/magics/code.py\": 1725050232.6868925, \"/home/fradav/.micromamba/envs/miashs-hpc/lib/python3.12/site-packages/IPython/core/magics/config.py\": 1725050232.6868925, \"/home/fradav/.micromamba/envs/miashs-hpc/lib/python3.12/site-packages/IPython/core/magics/display.py\": 1725050232.6868925, \"/home/fradav/.micromamba/envs/miashs-hpc/lib/python3.12/lib-dynload/_lsprof.cpython-312-x86_64-linux-gnu.so\": 1727016397.4619107, \"/home/fradav/.micromamba/envs/miashs-hpc/lib/python3.12/profile.py\": 1727016368.0222368, \"/home/fradav/.micromamba/envs/miashs-hpc/lib/python3.12/cProfile.py\": 1727016367.8662329, \"/home/fradav/.micromamba/envs/miashs-hpc/lib/python3.12/pstats.py\": 1727016368.024237, \"/home/fradav/.micromamba/envs/miashs-hpc/lib/python3.12/timeit.py\": 1727016368.1322396, \"/home/fradav/.micromamba/envs/miashs-hpc/lib/python3.12/site-packages/IPython/utils/module_paths.py\": 1725050232.7188928, \"/home/fradav/.micromamba/envs/miashs-hpc/lib/python3.12/lib-dynload/resource.cpython-312-x86_64-linux-gnu.so\": 1727016397.3059072, \"/home/fradav/.micromamba/envs/miashs-hpc/lib/python3.12/site-packages/IPython/utils/timing.py\": 1725050232.722893, \"/home/fradav/.micromamba/envs/miashs-hpc/lib/python3.12/site-packages/IPython/core/magics/ast_mod.py\": 1725050232.6868925, \"/home/fradav/.micromamba/envs/miashs-hpc/lib/python3.12/site-packages/IPython/core/magics/execution.py\": 1725050232.6868925, \"/home/fradav/.micromamba/envs/miashs-hpc/lib/python3.12/site-packages/IPython/core/magics/extension.py\": 1725050232.6868925, \"/home/fradav/.micromamba/envs/miashs-hpc/lib/python3.12/site-packages/IPython/core/magics/history.py\": 1725050232.6908925, \"/home/fradav/.micromamba/envs/miashs-hpc/lib/python3.12/site-packages/IPython/core/magics/logging.py\": 1725050232.6908925, \"/home/fradav/.micromamba/envs/miashs-hpc/lib/python3.12/site-packages/IPython/core/magics/namespace.py\": 1725050232.6908925, \"/home/fradav/.micromamba/envs/miashs-hpc/lib/python3.12/site-packages/IPython/core/magics/osm.py\": 1725050232.6908925, \"/home/fradav/.micromamba/envs/miashs-hpc/lib/python3.12/site-packages/IPython/core/magics/packaging.py\": 1725050232.6908925, \"/home/fradav/.micromamba/envs/miashs-hpc/lib/python3.12/site-packages/IPython/core/magics/pylab.py\": 1725050232.6908925, \"/home/fradav/.micromamba/envs/miashs-hpc/lib/python3.12/site-packages/IPython/core/magics/script.py\": 1725050232.6908925, \"/home/fradav/.micromamba/envs/miashs-hpc/lib/python3.12/site-packages/IPython/core/magics/__init__.py\": 1725050232.6868925, \"/home/fradav/.micromamba/envs/miashs-hpc/lib/python3.12/site-packages/IPython/core/shellapp.py\": 1725050232.6868925, \"/home/fradav/.micromamba/envs/miashs-hpc/lib/python3.12/site-packages/IPython/extensions/__init__.py\": 1725050232.6988926, \"/home/fradav/.micromamba/envs/miashs-hpc/lib/python3.12/site-packages/IPython/extensions/storemagic.py\": 1725050232.6988926, \"/home/fradav/.micromamba/envs/miashs-hpc/lib/python3.12/site-packages/IPython/terminal/ipapp.py\": 1725050232.7068927, \"/home/fradav/.micromamba/envs/miashs-hpc/lib/python3.12/site-packages/IPython/terminal/embed.py\": 1725050232.7068927, \"/home/fradav/.micromamba/envs/miashs-hpc/lib/python3.12/site-packages/IPython/utils/frame.py\": 1725050232.7188928, \"/home/fradav/.micromamba/envs/miashs-hpc/lib/python3.12/site-packages/IPython/__init__.py\": 1725050232.6748924, \"/home/fradav/.micromamba/envs/miashs-hpc/lib/python3.12/site-packages/ipykernel/control.py\": 1719845601.1891532, \"/home/fradav/.micromamba/envs/miashs-hpc/lib/python3.12/site-packages/ipykernel/heartbeat.py\": 1719845601.1931534, \"/home/fradav/.micromamba/envs/miashs-hpc/lib/python3.12/site-packages/ipykernel/iostream.py\": 1719845601.1931534, \"/home/fradav/.micromamba/envs/miashs-hpc/lib/python3.12/site-packages/comm/base_comm.py\": 1710320433.9174705, \"/home/fradav/.micromamba/envs/miashs-hpc/lib/python3.12/site-packages/comm/__init__.py\": 1710320433.9174705, \"/home/fradav/.micromamba/envs/miashs-hpc/lib/python3.12/site-packages/ipykernel/jsonutil.py\": 1719845601.1931534, \"/home/fradav/.micromamba/envs/miashs-hpc/lib/python3.12/site-packages/psutil/_common.py\": 1725738005.6675084, \"/home/fradav/.micromamba/envs/miashs-hpc/lib/python3.12/site-packages/psutil/_compat.py\": 1725738005.6675084, \"/home/fradav/.micromamba/envs/miashs-hpc/lib/python3.12/site-packages/psutil/_psposix.py\": 1725738005.6715083, \"/home/fradav/.micromamba/envs/miashs-hpc/lib/python3.12/site-packages/psutil/_psutil_linux.abi3.so\": 1725738007.2995353, \"/home/fradav/.micromamba/envs/miashs-hpc/lib/python3.12/site-packages/psutil/_psutil_posix.abi3.so\": 1725738007.2875352, \"/home/fradav/.micromamba/envs/miashs-hpc/lib/python3.12/site-packages/psutil/_pslinux.py\": 1725738005.6715083, \"/home/fradav/.micromamba/envs/miashs-hpc/lib/python3.12/site-packages/psutil/__init__.py\": 1725738005.6675084, \"/home/fradav/.micromamba/envs/miashs-hpc/lib/python3.12/site-packages/tornado/gen.py\": 1724956246.4807007, \"/home/fradav/.micromamba/envs/miashs-hpc/lib/python3.12/site-packages/tornado/locks.py\": 1724956246.4807007, \"/home/fradav/.micromamba/envs/miashs-hpc/lib/python3.12/site-packages/tornado/queues.py\": 1724956246.4847007, \"/home/fradav/.micromamba/envs/miashs-hpc/lib/python3.12/site-packages/ipykernel/kernelbase.py\": 1719845601.1931534, \"/home/fradav/.micromamba/envs/miashs-hpc/lib/python3.12/site-packages/ipykernel/comm/comm.py\": 1719845601.1971533, \"/home/fradav/.micromamba/envs/miashs-hpc/lib/python3.12/site-packages/ipykernel/comm/manager.py\": 1719845601.1971533, \"/home/fradav/.micromamba/envs/miashs-hpc/lib/python3.12/site-packages/ipykernel/comm/__init__.py\": 1719845601.1971533, \"/home/fradav/.micromamba/envs/miashs-hpc/lib/python3.12/site-packages/ipykernel/compiler.py\": 1719845601.1891532, \"/home/fradav/.micromamba/envs/miashs-hpc/lib/python3.12/site-packages/packaging/__init__.py\": 1718189538.7036242, \"/home/fradav/.micromamba/envs/miashs-hpc/lib/python3.12/site-packages/packaging/_structures.py\": 1718189538.7036242, \"/home/fradav/.micromamba/envs/miashs-hpc/lib/python3.12/site-packages/packaging/version.py\": 1718189538.7076242, \"/home/fradav/.micromamba/envs/miashs-hpc/lib/python3.12/site-packages/ipykernel/eventloops.py\": 1719845601.1891532, \"/home/fradav/.micromamba/envs/miashs-hpc/lib/python3.12/site-packages/IPython/core/payloadpage.py\": 1725050232.6828926, \"/home/fradav/.micromamba/envs/miashs-hpc/lib/python3.12/site-packages/ipykernel/displayhook.py\": 1719845601.1891532, \"/home/fradav/.micromamba/envs/miashs-hpc/lib/python3.12/site-packages/ipykernel/zmqshell.py\": 1719845601.1971533, \"/home/fradav/.micromamba/envs/miashs-hpc/lib/python3.12/site-packages/ipykernel/ipkernel.py\": 1719845601.1931534, \"/home/fradav/.micromamba/envs/miashs-hpc/lib/python3.12/site-packages/ipykernel/parentpoller.py\": 1719845601.1971533, \"/home/fradav/.micromamba/envs/miashs-hpc/lib/python3.12/site-packages/ipykernel/kernelapp.py\": 1719845601.1931534, \"/home/fradav/.micromamba/envs/miashs-hpc/lib/python3.12/site-packages/tornado/platform/__init__.py\": 1724956246.4887009, \"/home/fradav/.micromamba/envs/miashs-hpc/lib/python3.12/site-packages/tornado/platform/asyncio.py\": 1724956246.4887009, \"/home/fradav/.micromamba/envs/miashs-hpc/lib/python3.12/site-packages/debugpy/_version.py\": 1725269275.7769375, \"/home/fradav/.micromamba/envs/miashs-hpc/lib/python3.12/site-packages/debugpy/public_api.py\": 1725269275.7769375, \"/home/fradav/.micromamba/envs/miashs-hpc/lib/python3.12/site-packages/debugpy/__init__.py\": 1725269275.7769375, \"/home/fradav/.micromamba/envs/miashs-hpc/lib/python3.12/site-packages/debugpy/_vendored/_util.py\": 1725269275.7769375, \"/home/fradav/.micromamba/envs/miashs-hpc/lib/python3.12/site-packages/debugpy/_vendored/__init__.py\": 1725269275.7769375, \"/home/fradav/.micromamba/envs/miashs-hpc/lib/python3.12/site-packages/debugpy/_vendored/pydevd/_pydevd_bundle/__init__.py\": 1725269275.7849376, \"/home/fradav/.micromamba/envs/miashs-hpc/lib/python3.12/encodings/ascii.py\": 1727016368.418247, \"/home/fradav/.micromamba/envs/miashs-hpc/lib/python3.12/encodings/latin_1.py\": 1727016368.5942516, \"/home/fradav/.micromamba/envs/miashs-hpc/lib/python3.12/stringprep.py\": 1727016368.0982387, \"/home/fradav/.micromamba/envs/miashs-hpc/lib/python3.12/encodings/idna.py\": 1727016368.53425, \"/home/fradav/.micromamba/envs/miashs-hpc/lib/python3.12/site-packages/debugpy/_vendored/pydevd/_pydevd_bundle/pydevd_vm_type.py\": 1725269275.804938, \"/home/fradav/.micromamba/envs/miashs-hpc/lib/python3.12/site-packages/debugpy/_vendored/pydevd/_pydev_bundle/__init__.py\": 1725269275.7809377, \"/home/fradav/.micromamba/envs/miashs-hpc/lib/python3.12/xmlrpc/__init__.py\": 1727016369.5792773, \"/home/fradav/.micromamba/envs/miashs-hpc/lib/python3.12/gzip.py\": 1727016367.916234, \"/home/fradav/.micromamba/envs/miashs-hpc/lib/python3.12/xmlrpc/client.py\": 1727016369.5772772, \"/home/fradav/.micromamba/envs/miashs-hpc/lib/python3.12/http/server.py\": 1727016368.7092547, \"/home/fradav/.micromamba/envs/miashs-hpc/lib/python3.12/xmlrpc/server.py\": 1727016369.5812771, \"/home/fradav/.micromamba/envs/miashs-hpc/lib/python3.12/site-packages/debugpy/_vendored/pydevd/_pydev_bundle/_pydev_saved_modules.py\": 1725269275.7809377, \"/home/fradav/.micromamba/envs/miashs-hpc/lib/python3.12/site-packages/debugpy/_vendored/pydevd/_pydevd_bundle/pydevd_constants.py\": 1725269275.7889378, \"/home/fradav/.micromamba/envs/miashs-hpc/lib/python3.12/site-packages/debugpy/_vendored/pydevd/_pydev_runfiles/__init__.py\": 1725269275.7849376, \"/home/fradav/.micromamba/envs/miashs-hpc/lib/python3.12/site-packages/debugpy/_vendored/pydevd/_pydevd_frame_eval/__init__.py\": 1725269275.812938, \"/home/fradav/.micromamba/envs/miashs-hpc/lib/python3.12/site-packages/debugpy/_vendored/pydevd/pydev_ipython/__init__.py\": 1725269275.820938, \"/home/fradav/.micromamba/envs/miashs-hpc/lib/python3.12/site-packages/debugpy/_vendored/pydevd/pydevd_plugins/__init__.py\": 1725269275.8449385, \"/home/fradav/.micromamba/envs/miashs-hpc/lib/python3.12/site-packages/debugpy/_vendored/pydevd/_pydev_bundle/pydev_log.py\": 1725269275.7809377, \"/home/fradav/.micromamba/envs/miashs-hpc/lib/python3.12/site-packages/debugpy/_vendored/pydevd/_pydev_bundle/_pydev_filesystem_encoding.py\": 1725269275.7809377, \"/home/fradav/.micromamba/envs/miashs-hpc/lib/python3.12/site-packages/debugpy/_vendored/pydevd/_pydevd_bundle/pydevd_comm_constants.py\": 1725269275.7889378, \"/home/fradav/.micromamba/envs/miashs-hpc/lib/python3.12/site-packages/debugpy/_vendored/pydevd/pydevd_file_utils.py\": 1725269275.7769375, \"/home/fradav/.micromamba/envs/miashs-hpc/lib/python3.12/site-packages/debugpy/_vendored/pydevd/_pydev_bundle/_pydev_execfile.py\": 1725269275.7809377, \"/home/fradav/.micromamba/envs/miashs-hpc/lib/python3.12/site-packages/debugpy/_vendored/pydevd/_pydevd_bundle/pydevd_exec2.py\": 1725269275.800938, \"/home/fradav/.micromamba/envs/miashs-hpc/lib/python3.12/site-packages/debugpy/_vendored/pydevd/_pydev_bundle/pydev_imports.py\": 1725269275.7809377, \"/home/fradav/.micromamba/envs/miashs-hpc/lib/python3.12/site-packages/debugpy/_vendored/pydevd/_pydev_bundle/pydev_is_thread_alive.py\": 1725269275.7809377, \"/home/fradav/.micromamba/envs/miashs-hpc/lib/python3.12/site-packages/debugpy/_vendored/pydevd/_pydev_bundle/pydev_override.py\": 1725269275.7849376, \"/home/fradav/.micromamba/envs/miashs-hpc/lib/python3.12/site-packages/debugpy/_vendored/pydevd/pydevd_plugins/extensions/__init__.py\": 1725269275.8449385, \"/home/fradav/.micromamba/envs/miashs-hpc/lib/python3.12/site-packages/debugpy/_vendored/pydevd/_pydevd_bundle/pydevd_extension_utils.py\": 1725269275.800938, \"/home/fradav/.micromamba/envs/miashs-hpc/lib/python3.12/site-packages/debugpy/_vendored/pydevd/_pydevd_bundle/pydevd_frame_utils.py\": 1725269275.800938, \"/home/fradav/.micromamba/envs/miashs-hpc/lib/python3.12/site-packages/debugpy/_vendored/pydevd/_pydevd_bundle/pydevd_filtering.py\": 1725269275.800938, \"/home/fradav/.micromamba/envs/miashs-hpc/lib/python3.12/site-packages/debugpy/_vendored/pydevd/_pydevd_bundle/pydevd_io.py\": 1725269275.800938, \"/home/fradav/.micromamba/envs/miashs-hpc/lib/python3.12/site-packages/debugpy/_vendored/pydevd/_pydevd_bundle/pydevd_defaults.py\": 1725269275.796938, \"/home/fradav/.micromamba/envs/miashs-hpc/lib/python3.12/site-packages/debugpy/_vendored/pydevd/_pydevd_bundle/pydevd_utils.py\": 1725269275.804938, \"/home/fradav/.micromamba/envs/miashs-hpc/lib/python3.12/site-packages/debugpy/_vendored/pydevd/_pydevd_bundle/pydevd_runpy.py\": 1725269275.804938, \"/home/fradav/.micromamba/envs/miashs-hpc/lib/python3.12/site-packages/debugpy/_vendored/pydevd/_pydev_bundle/_pydev_tipper_common.py\": 1725269275.7809377, \"/home/fradav/.micromamba/envs/miashs-hpc/lib/python3.12/site-packages/debugpy/_vendored/pydevd/_pydev_bundle/_pydev_imports_tipper.py\": 1725269275.7809377, \"/home/fradav/.micromamba/envs/miashs-hpc/lib/python3.12/site-packages/debugpy/_vendored/pydevd/_pydev_bundle/_pydev_calltip_util.py\": 1725269275.7809377, \"/home/fradav/.micromamba/envs/miashs-hpc/lib/python3.12/site-packages/debugpy/_vendored/pydevd/_pydevd_bundle/pydevd_safe_repr.py\": 1725269275.804938, \"/home/fradav/.micromamba/envs/miashs-hpc/lib/python3.12/site-packages/debugpy/_vendored/pydevd/_pydevd_bundle/pydevd_resolver.py\": 1725269275.804938, \"/home/fradav/.micromamba/envs/miashs-hpc/lib/python3.12/site-packages/debugpy/_vendored/pydevd/_pydevd_bundle/pydevd_extension_api.py\": 1725269275.800938, \"/home/fradav/.micromamba/envs/miashs-hpc/lib/python3.12/site-packages/debugpy/_vendored/pydevd/_pydevd_bundle/pydevd_xml.py\": 1725269275.804938, \"/home/fradav/.micromamba/envs/miashs-hpc/lib/python3.12/site-packages/debugpy/_vendored/pydevd/_pydevd_bundle/pydevd_dont_trace.py\": 1725269275.800938, \"/home/fradav/.micromamba/envs/miashs-hpc/lib/python3.12/site-packages/debugpy/_vendored/pydevd/_pydevd_frame_eval/vendored/__init__.py\": 1725269275.8169382, \"/home/fradav/.micromamba/envs/miashs-hpc/lib/python3.12/site-packages/debugpy/_vendored/pydevd/_pydevd_frame_eval/vendored/bytecode/flags.py\": 1725269275.8169382, \"/home/fradav/.micromamba/envs/miashs-hpc/lib/python3.12/site-packages/debugpy/_vendored/pydevd/_pydevd_frame_eval/vendored/bytecode/instr.py\": 1725269275.820938, \"/home/fradav/.micromamba/envs/miashs-hpc/lib/python3.12/site-packages/debugpy/_vendored/pydevd/_pydevd_frame_eval/vendored/bytecode/bytecode.py\": 1725269275.8169382, \"/home/fradav/.micromamba/envs/miashs-hpc/lib/python3.12/site-packages/debugpy/_vendored/pydevd/_pydevd_frame_eval/vendored/bytecode/concrete.py\": 1725269275.8169382, \"/home/fradav/.micromamba/envs/miashs-hpc/lib/python3.12/site-packages/debugpy/_vendored/pydevd/_pydevd_frame_eval/vendored/bytecode/cfg.py\": 1725269275.8169382, \"/home/fradav/.micromamba/envs/miashs-hpc/lib/python3.12/site-packages/debugpy/_vendored/pydevd/_pydevd_frame_eval/vendored/bytecode/__init__.py\": 1725269275.8169382, \"/home/fradav/.micromamba/envs/miashs-hpc/lib/python3.12/site-packages/debugpy/_vendored/pydevd/_pydevd_bundle/pydevd_bytecode_utils.py\": 1725269275.7889378, \"/home/fradav/.micromamba/envs/miashs-hpc/lib/python3.12/site-packages/debugpy/_vendored/pydevd/_pydevd_bundle/pydevd_frame.py\": 1725269275.800938, \"/home/fradav/.micromamba/envs/miashs-hpc/lib/python3.12/site-packages/debugpy/_vendored/pydevd/_pydevd_bundle/pydevd_additional_thread_info_regular.py\": 1725269275.7849376, \"/home/fradav/.micromamba/envs/miashs-hpc/lib/python3.12/site-packages/debugpy/_vendored/pydevd/_pydevd_bundle/pydevd_additional_thread_info.py\": 1725269275.7849376, \"/home/fradav/.micromamba/envs/miashs-hpc/lib/python3.12/site-packages/debugpy/_vendored/pydevd/_pydevd_bundle/pydevd_thread_lifecycle.py\": 1725269275.804938, \"/home/fradav/.micromamba/envs/miashs-hpc/lib/python3.12/site-packages/debugpy/_vendored/pydevd/_pydevd_bundle/pydevd_save_locals.py\": 1725269275.804938, \"/home/fradav/.micromamba/envs/miashs-hpc/lib/python3.12/site-packages/debugpy/_vendored/pydevd/_pydev_bundle/pydev_monkey.py\": 1725269275.7849376, \"/home/fradav/.micromamba/envs/miashs-hpc/lib/python3.12/site-packages/debugpy/_vendored/pydevd/pydevd_tracing.py\": 1725269275.7809377, \"/home/fradav/.micromamba/envs/miashs-hpc/lib/python3.12/site-packages/debugpy/_vendored/pydevd/_pydevd_bundle/pydevd_collect_bytecode_info.py\": 1725269275.7889378, \"/home/fradav/.micromamba/envs/miashs-hpc/lib/python3.12/site-packages/debugpy/_vendored/pydevd/_pydevd_bundle/pydevd_daemon_thread.py\": 1725269275.796938, \"/home/fradav/.micromamba/envs/miashs-hpc/lib/python3.12/site-packages/debugpy/_vendored/pydevd/_pydevd_bundle/pydevd_timeout.py\": 1725269275.804938, \"/home/fradav/.micromamba/envs/miashs-hpc/lib/python3.12/site-packages/debugpy/_vendored/pydevd/_pydevd_bundle/pydevd_vars.py\": 1725269275.804938, \"/home/fradav/.micromamba/envs/miashs-hpc/lib/python3.12/site-packages/debugpy/_vendored/pydevd/_pydev_bundle/pydev_console_utils.py\": 1725269275.7809377, \"/home/fradav/.micromamba/envs/miashs-hpc/lib/python3.12/site-packages/debugpy/_vendored/pydevd/_pydevd_bundle/pydevd_import_class.py\": 1725269275.800938, \"/home/fradav/.micromamba/envs/miashs-hpc/lib/python3.12/site-packages/debugpy/_vendored/pydevd/_pydevd_bundle/pydevd_breakpoints.py\": 1725269275.7849376, \"/home/fradav/.micromamba/envs/miashs-hpc/lib/python3.12/site-packages/debugpy/_vendored/pydevd/_pydevd_bundle/pydevd_custom_frames.py\": 1725269275.7889378, \"/home/fradav/.micromamba/envs/miashs-hpc/lib/python3.12/site-packages/debugpy/_vendored/pydevd/_pydevd_bundle/pydevd_dont_trace_files.py\": 1725269275.800938, \"/home/fradav/.micromamba/envs/miashs-hpc/lib/python3.12/site-packages/debugpy/_vendored/pydevd/_pydevd_bundle/pydevd_net_command.py\": 1725269275.800938, \"/home/fradav/.micromamba/envs/miashs-hpc/lib/python3.12/site-packages/debugpy/_vendored/pydevd/_pydevd_bundle/pydevconsole_code.py\": 1725269275.7849376, \"/home/fradav/.micromamba/envs/miashs-hpc/lib/python3.12/site-packages/debugpy/_vendored/pydevd/_pydev_bundle/pydev_umd.py\": 1725269275.7849376, \"/home/fradav/.micromamba/envs/miashs-hpc/lib/python3.12/site-packages/debugpy/_vendored/pydevd/pydevconsole.py\": 1725269275.7769375, \"/home/fradav/.micromamba/envs/miashs-hpc/lib/python3.12/site-packages/debugpy/_vendored/pydevd/_pydev_bundle/_pydev_completer.py\": 1725269275.7809377, \"/home/fradav/.micromamba/envs/miashs-hpc/lib/python3.12/site-packages/debugpy/_vendored/pydevd/_pydevd_bundle/pydevd_net_command_factory_xml.py\": 1725269275.800938, \"/home/fradav/.micromamba/envs/miashs-hpc/lib/python3.12/site-packages/debugpy/_vendored/pydevd/_pydevd_bundle/pydevd_trace_dispatch_regular.py\": 1725269275.804938, \"/home/fradav/.micromamba/envs/miashs-hpc/lib/python3.12/site-packages/debugpy/_vendored/pydevd/_pydevd_bundle/pydevd_trace_dispatch.py\": 1725269275.804938, \"/home/fradav/.micromamba/envs/miashs-hpc/lib/python3.12/site-packages/debugpy/_vendored/pydevd/_pydevd_frame_eval/pydevd_frame_eval_main.py\": 1725269275.812938, \"/home/fradav/.micromamba/envs/miashs-hpc/lib/python3.12/site-packages/debugpy/_vendored/pydevd/_pydevd_bundle/pydevd_source_mapping.py\": 1725269275.804938, \"/home/fradav/.micromamba/envs/miashs-hpc/lib/python3.12/site-packages/debugpy/_vendored/pydevd/_pydevd_bundle/pydevd_concurrency_analyser/__init__.py\": 1725269275.812938, \"/home/fradav/.micromamba/envs/miashs-hpc/lib/python3.12/site-packages/debugpy/_vendored/pydevd/_pydevd_bundle/pydevd_concurrency_analyser/pydevd_thread_wrappers.py\": 1725269275.812938, \"/home/fradav/.micromamba/envs/miashs-hpc/lib/python3.12/site-packages/debugpy/_vendored/pydevd/_pydevd_bundle/pydevd_concurrency_analyser/pydevd_concurrency_logger.py\": 1725269275.812938, \"/home/fradav/.micromamba/envs/miashs-hpc/lib/python3.12/site-packages/debugpy/_vendored/pydevd/_pydevd_bundle/_debug_adapter/__init__.py\": 1725269275.808938, \"/home/fradav/.micromamba/envs/miashs-hpc/lib/python3.12/site-packages/debugpy/_vendored/pydevd/_pydevd_bundle/_debug_adapter/pydevd_schema_log.py\": 1725269275.812938, \"/home/fradav/.micromamba/envs/miashs-hpc/lib/python3.12/site-packages/debugpy/_vendored/pydevd/_pydevd_bundle/_debug_adapter/pydevd_base_schema.py\": 1725269275.808938, \"/home/fradav/.micromamba/envs/miashs-hpc/lib/python3.12/site-packages/debugpy/_vendored/pydevd/_pydevd_bundle/_debug_adapter/pydevd_schema.py\": 1725269275.808938, \"/home/fradav/.micromamba/envs/miashs-hpc/lib/python3.12/site-packages/debugpy/_vendored/pydevd/_pydevd_bundle/pydevd_reload.py\": 1725269275.804938, \"/home/fradav/.micromamba/envs/miashs-hpc/lib/python3.12/site-packages/debugpy/_vendored/pydevd/_pydev_bundle/fsnotify/__init__.py\": 1725269275.7849376, \"/home/fradav/.micromamba/envs/miashs-hpc/lib/python3.12/site-packages/debugpy/_vendored/pydevd/_pydevd_bundle/pydevd_console.py\": 1725269275.7889378, \"/home/fradav/.micromamba/envs/miashs-hpc/lib/python3.12/site-packages/debugpy/_vendored/pydevd/_pydevd_bundle/pydevd_comm.py\": 1725269275.7889378, \"/home/fradav/.micromamba/envs/miashs-hpc/lib/python3.12/site-packages/debugpy/_vendored/pydevd/_pydevd_bundle/pydevd_net_command_factory_json.py\": 1725269275.800938, \"/home/fradav/.micromamba/envs/miashs-hpc/lib/python3.12/site-packages/debugpy/_vendored/pydevd/_pydevd_bundle/pydevd_api.py\": 1725269275.7849376, \"/home/fradav/.micromamba/envs/miashs-hpc/lib/python3.12/site-packages/debugpy/_vendored/pydevd/_pydevd_bundle/pydevd_json_debug_options.py\": 1725269275.800938, \"/home/fradav/.micromamba/envs/miashs-hpc/lib/python3.12/site-packages/debugpy/_vendored/pydevd/_pydevd_bundle/pydevd_process_net_command_json.py\": 1725269275.800938, \"/home/fradav/.micromamba/envs/miashs-hpc/lib/python3.12/site-packages/debugpy/_vendored/pydevd/_pydevd_bundle/pydevd_traceproperty.py\": 1725269275.804938, \"/home/fradav/.micromamba/envs/miashs-hpc/lib/python3.12/site-packages/debugpy/_vendored/pydevd/_pydevd_bundle/pydevd_process_net_command.py\": 1725269275.800938, \"/home/fradav/.micromamba/envs/miashs-hpc/lib/python3.12/site-packages/debugpy/_vendored/pydevd/_pydevd_bundle/pydevd_suspended_frames.py\": 1725269275.804938, \"/home/fradav/.micromamba/envs/miashs-hpc/lib/python3.12/site-packages/debugpy/_vendored/pydevd/_pydevd_bundle/pydevd_trace_api.py\": 1725269275.804938, \"/home/fradav/.micromamba/envs/miashs-hpc/lib/python3.12/site-packages/debugpy/_vendored/pydevd/pydevd_plugins/pydevd_line_validation.py\": 1725269275.8449385, \"/home/fradav/.micromamba/envs/miashs-hpc/lib/python3.12/site-packages/debugpy/_vendored/pydevd/pydevd_plugins/django_debug.py\": 1725269275.8449385, \"/home/fradav/.micromamba/envs/miashs-hpc/lib/python3.12/site-packages/debugpy/_vendored/pydevd/pydevd_plugins/jinja2_debug.py\": 1725269275.8449385, \"/home/fradav/.micromamba/envs/miashs-hpc/lib/python3.12/site-packages/debugpy/_vendored/pydevd/_pydevd_bundle/pydevd_plugin_utils.py\": 1725269275.800938, \"/home/fradav/.micromamba/envs/miashs-hpc/lib/python3.12/site-packages/debugpy/_vendored/pydevd/pydevd_plugins/extensions/types/__init__.py\": 1725269275.8449385, \"/home/fradav/.micromamba/envs/miashs-hpc/lib/python3.12/site-packages/debugpy/_vendored/pydevd/pydevd_plugins/extensions/types/pydevd_helpers.py\": 1725269275.8449385, \"/home/fradav/.micromamba/envs/miashs-hpc/lib/python3.12/site-packages/debugpy/_vendored/pydevd/pydevd_plugins/extensions/types/pydevd_plugin_numpy_types.py\": 1725269275.8449385, \"/home/fradav/.micromamba/envs/miashs-hpc/lib/python3.12/site-packages/debugpy/_vendored/pydevd/pydevd_plugins/extensions/types/pydevd_plugin_pandas_types.py\": 1725269275.8449385, \"/home/fradav/.micromamba/envs/miashs-hpc/lib/python3.12/site-packages/debugpy/_vendored/pydevd/pydevd_plugins/extensions/types/pydevd_plugins_django_form_str.py\": 1725269275.8449385, \"/home/fradav/.micromamba/envs/miashs-hpc/lib/python3.12/site-packages/debugpy/_vendored/pydevd/pydevd.py\": 1725269275.7769375, \"/home/fradav/.micromamba/envs/miashs-hpc/lib/python3.12/site-packages/debugpy/_vendored/force_pydevd.py\": 1725269275.7769375, \"/home/fradav/.micromamba/envs/miashs-hpc/lib/python3.12/site-packages/debugpy/server/__init__.py\": 1725269275.8489387, \"/home/fradav/.micromamba/envs/miashs-hpc/lib/python3.12/site-packages/debugpy/adapter/__init__.py\": 1725269275.8449385, \"/home/fradav/.micromamba/envs/miashs-hpc/lib/python3.12/site-packages/debugpy/common/__init__.py\": 1725269275.8489387, \"/home/fradav/.micromamba/envs/miashs-hpc/lib/python3.12/site-packages/debugpy/common/json.py\": 1725269275.8489387, \"/home/fradav/.micromamba/envs/miashs-hpc/lib/python3.12/site-packages/debugpy/common/timestamp.py\": 1725269275.8489387, \"/home/fradav/.micromamba/envs/miashs-hpc/lib/python3.12/site-packages/debugpy/common/util.py\": 1725269275.8489387, \"/home/fradav/.micromamba/envs/miashs-hpc/lib/python3.12/site-packages/debugpy/common/log.py\": 1725269275.8489387, \"/home/fradav/.micromamba/envs/miashs-hpc/lib/python3.12/site-packages/debugpy/common/sockets.py\": 1725269275.8489387, \"/home/fradav/.micromamba/envs/miashs-hpc/lib/python3.12/site-packages/debugpy/server/api.py\": 1725269275.8489387, \"/home/fradav/.micromamba/envs/miashs-hpc/lib/python3.12/site-packages/ipykernel/debugger.py\": 1719845601.1891532, \"/home/fradav/.micromamba/envs/miashs-hpc/lib/python3.12/site-packages/IPython/core/completerlib.py\": 1725050232.6748924, \"/home/fradav/.micromamba/envs/miashs-hpc/lib/python3.12/site-packages/_plotly_utils/__init__.py\": 1726179645.3429148, \"/home/fradav/.micromamba/envs/miashs-hpc/lib/python3.12/site-packages/_plotly_utils/importers.py\": 1726179645.3429148, \"/home/fradav/.micromamba/envs/miashs-hpc/lib/python3.12/site-packages/plotly/__init__.py\": 1726179645.3989162, \"/home/fradav/.micromamba/envs/miashs-hpc/lib/python3.12/site-packages/plotly/io/_templates.py\": 1726179645.7589247, \"/home/fradav/.micromamba/envs/miashs-hpc/lib/python3.12/site-packages/plotly/io/__init__.py\": 1726179645.7589247, \"/home/fradav/.micromamba/envs/miashs-hpc/lib/python3.12/site-packages/_plotly_utils/optional_imports.py\": 1726179645.3429148, \"/home/fradav/.micromamba/envs/miashs-hpc/lib/python3.12/site-packages/plotly/optional_imports.py\": 1726179645.4029162, \"/home/fradav/.micromamba/envs/miashs-hpc/lib/python3.12/webbrowser.py\": 1727016368.1682405, \"/home/fradav/.micromamba/envs/miashs-hpc/lib/python3.12/site-packages/PIL/_version.py\": 1726075280.0486968, \"/home/fradav/.micromamba/envs/miashs-hpc/lib/python3.12/site-packages/PIL/__init__.py\": 1726075280.0406966, \"/home/fradav/.micromamba/envs/miashs-hpc/lib/python3.12/site-packages/_plotly_utils/basevalidators.py\": 1726179645.3429148, \"/home/fradav/.micromamba/envs/miashs-hpc/lib/python3.12/site-packages/_plotly_utils/utils.py\": 1726179645.3429148, \"/home/fradav/.micromamba/envs/miashs-hpc/lib/python3.12/site-packages/_plotly_utils/png.py\": 1726179645.3429148, \"/home/fradav/.micromamba/envs/miashs-hpc/lib/python3.12/site-packages/PIL/ExifTags.py\": 1726075280.0166965, \"/home/fradav/.micromamba/envs/miashs-hpc/lib/python3.12/site-packages/PIL/_deprecate.py\": 1726075280.0406966, \"/home/fradav/.micromamba/envs/miashs-hpc/lib/python3.12/site-packages/PIL/ImageMode.py\": 1726075280.0246966, \"/home/fradav/.micromamba/envs/miashs-hpc/lib/python3.12/site-packages/PIL/TiffTags.py\": 1726075280.0366967, \"/home/fradav/.micromamba/envs/miashs-hpc/lib/python3.12/site-packages/PIL/_binary.py\": 1726075280.0406966, \"/home/fradav/.micromamba/envs/miashs-hpc/lib/python3.12/site-packages/numpy/_utils/_convertions.py\": 1724749052.0493512, \"/home/fradav/.micromamba/envs/miashs-hpc/lib/python3.12/site-packages/numpy/_utils/__init__.py\": 1724749052.0493512, \"/home/fradav/.micromamba/envs/miashs-hpc/lib/python3.12/site-packages/numpy/_globals.py\": 1724749052.0133507, \"/home/fradav/.micromamba/envs/miashs-hpc/lib/python3.12/site-packages/numpy/_expired_attrs_2_0.py\": 1724749052.0133507, \"/home/fradav/.micromamba/envs/miashs-hpc/lib/python3.12/site-packages/numpy/version.py\": 1724749051.9133496, \"/home/fradav/.micromamba/envs/miashs-hpc/lib/python3.12/site-packages/numpy/_distributor_init.py\": 1724749052.0133507, \"/home/fradav/.micromamba/envs/miashs-hpc/lib/python3.12/site-packages/numpy/_utils/_inspect.py\": 1724749052.0493512, \"/home/fradav/.micromamba/envs/miashs-hpc/lib/python3.12/site-packages/numpy/exceptions.py\": 1724749052.0133507, \"/home/fradav/.micromamba/envs/miashs-hpc/lib/python3.12/site-packages/numpy/_core/_exceptions.py\": 1724749052.017351, \"/home/fradav/.micromamba/envs/miashs-hpc/lib/python3.12/site-packages/numpy/dtypes.py\": 1724749052.0133507, \"/home/fradav/.micromamba/envs/miashs-hpc/lib/python3.12/site-packages/numpy/_core/_multiarray_umath.cpython-312-x86_64-linux-gnu.so\": 1724749061.9934473, \"/home/fradav/.micromamba/envs/miashs-hpc/lib/python3.12/site-packages/numpy/_core/overrides.py\": 1724749052.025351, \"/home/fradav/.micromamba/envs/miashs-hpc/lib/python3.12/site-packages/numpy/_core/multiarray.py\": 1724749052.025351, \"/home/fradav/.micromamba/envs/miashs-hpc/lib/python3.12/site-packages/numpy/_core/umath.py\": 1724749052.029351, \"/home/fradav/.micromamba/envs/miashs-hpc/lib/python3.12/site-packages/numpy/_core/_string_helpers.py\": 1724749052.017351, \"/home/fradav/.micromamba/envs/miashs-hpc/lib/python3.12/site-packages/numpy/_core/_type_aliases.py\": 1724749052.017351, \"/home/fradav/.micromamba/envs/miashs-hpc/lib/python3.12/site-packages/numpy/_core/_dtype.py\": 1724749052.017351, \"/home/fradav/.micromamba/envs/miashs-hpc/lib/python3.12/site-packages/numpy/_core/numerictypes.py\": 1724749052.025351, \"/home/fradav/.micromamba/envs/miashs-hpc/lib/python3.12/site-packages/numpy/_core/_ufunc_config.py\": 1724749052.0213509, \"/home/fradav/.micromamba/envs/miashs-hpc/lib/python3.12/site-packages/numpy/_core/_methods.py\": 1724749052.017351, \"/home/fradav/.micromamba/envs/miashs-hpc/lib/python3.12/site-packages/numpy/_core/fromnumeric.py\": 1724749052.0213509, \"/home/fradav/.micromamba/envs/miashs-hpc/lib/python3.12/site-packages/numpy/_core/shape_base.py\": 1724749052.025351, \"/home/fradav/.micromamba/envs/miashs-hpc/lib/python3.12/site-packages/numpy/_core/arrayprint.py\": 1724749052.0213509, \"/home/fradav/.micromamba/envs/miashs-hpc/lib/python3.12/site-packages/numpy/_core/_asarray.py\": 1724749052.017351, \"/home/fradav/.micromamba/envs/miashs-hpc/lib/python3.12/site-packages/numpy/_core/numeric.py\": 1724749052.025351, \"/home/fradav/.micromamba/envs/miashs-hpc/lib/python3.12/site-packages/numpy/_core/records.py\": 1724749052.025351, \"/home/fradav/.micromamba/envs/miashs-hpc/lib/python3.12/site-packages/numpy/_core/memmap.py\": 1724749052.025351, \"/home/fradav/.micromamba/envs/miashs-hpc/lib/python3.12/site-packages/numpy/_core/function_base.py\": 1724749052.0213509, \"/home/fradav/.micromamba/envs/miashs-hpc/lib/python3.12/site-packages/numpy/_core/_machar.py\": 1724749052.017351, \"/home/fradav/.micromamba/envs/miashs-hpc/lib/python3.12/site-packages/numpy/_core/getlimits.py\": 1724749052.0213509, \"/home/fradav/.micromamba/envs/miashs-hpc/lib/python3.12/site-packages/numpy/_core/einsumfunc.py\": 1724749052.0213509, \"/home/fradav/.micromamba/envs/miashs-hpc/lib/python3.12/site-packages/numpy/_core/_multiarray_tests.cpython-312-x86_64-linux-gnu.so\": 1724749061.681446, \"/home/fradav/.micromamba/envs/miashs-hpc/lib/python3.12/site-packages/numpy/_core/_add_newdocs.py\": 1724749052.017351, \"/home/fradav/.micromamba/envs/miashs-hpc/lib/python3.12/site-packages/numpy/_core/_add_newdocs_scalars.py\": 1724749052.017351, \"/home/fradav/.micromamba/envs/miashs-hpc/lib/python3.12/site-packages/numpy/_core/_dtype_ctypes.py\": 1724749052.017351, \"/home/fradav/.micromamba/envs/miashs-hpc/lib/python3.12/site-packages/numpy/_core/_internal.py\": 1724749052.017351, \"/home/fradav/.micromamba/envs/miashs-hpc/lib/python3.12/site-packages/numpy/_pytesttester.py\": 1724749052.0133507, \"/home/fradav/.micromamba/envs/miashs-hpc/lib/python3.12/site-packages/numpy/_core/__init__.py\": 1724749052.017351, \"/home/fradav/.micromamba/envs/miashs-hpc/lib/python3.12/site-packages/numpy/__config__.py\": 1727096102.6196053, \"/home/fradav/.micromamba/envs/miashs-hpc/lib/python3.12/site-packages/numpy/lib/_array_utils_impl.py\": 1724749052.0773516, \"/home/fradav/.micromamba/envs/miashs-hpc/lib/python3.12/site-packages/numpy/lib/array_utils.py\": 1724749052.0853517, \"/home/fradav/.micromamba/envs/miashs-hpc/lib/python3.12/site-packages/numpy/lib/introspect.py\": 1724749052.0853517, \"/home/fradav/.micromamba/envs/miashs-hpc/lib/python3.12/site-packages/numpy/lib/mixins.py\": 1724749052.0853517, \"/home/fradav/.micromamba/envs/miashs-hpc/lib/python3.12/site-packages/numpy/lib/_utils_impl.py\": 1724749052.0853517, \"/home/fradav/.micromamba/envs/miashs-hpc/lib/python3.12/site-packages/numpy/lib/format.py\": 1724749052.0853517, \"/home/fradav/.micromamba/envs/miashs-hpc/lib/python3.12/site-packages/numpy/lib/_datasource.py\": 1724749052.0773516, \"/home/fradav/.micromamba/envs/miashs-hpc/lib/python3.12/site-packages/numpy/lib/_iotools.py\": 1724749052.0813518, \"/home/fradav/.micromamba/envs/miashs-hpc/lib/python3.12/site-packages/numpy/lib/_npyio_impl.py\": 1724749052.0813518, \"/home/fradav/.micromamba/envs/miashs-hpc/lib/python3.12/site-packages/numpy/lib/npyio.py\": 1724749052.0893517, \"/home/fradav/.micromamba/envs/miashs-hpc/lib/python3.12/site-packages/numpy/lib/_ufunclike_impl.py\": 1724749052.0853517, \"/home/fradav/.micromamba/envs/miashs-hpc/lib/python3.12/site-packages/numpy/lib/_type_check_impl.py\": 1724749052.0853517, \"/home/fradav/.micromamba/envs/miashs-hpc/lib/python3.12/site-packages/numpy/lib/_scimath_impl.py\": 1724749052.0813518, \"/home/fradav/.micromamba/envs/miashs-hpc/lib/python3.12/site-packages/numpy/lib/scimath.py\": 1724749052.0893517, \"/home/fradav/.micromamba/envs/miashs-hpc/lib/python3.12/site-packages/numpy/lib/_stride_tricks_impl.py\": 1724749052.0853517, \"/home/fradav/.micromamba/envs/miashs-hpc/lib/python3.12/site-packages/numpy/lib/stride_tricks.py\": 1724749052.0893517, \"/home/fradav/.micromamba/envs/miashs-hpc/lib/python3.12/site-packages/numpy/linalg/linalg.py\": 1724749052.0373511, \"/home/fradav/.micromamba/envs/miashs-hpc/lib/python3.12/site-packages/numpy/lib/_twodim_base_impl.py\": 1724749052.0853517, \"/home/fradav/.micromamba/envs/miashs-hpc/lib/python3.12/site-packages/numpy/linalg/_umath_linalg.cpython-312-x86_64-linux-gnu.so\": 1724749061.7374463, \"/home/fradav/.micromamba/envs/miashs-hpc/lib/python3.12/site-packages/numpy/_typing/_nested_sequence.py\": 1724749052.0493512, \"/home/fradav/.micromamba/envs/miashs-hpc/lib/python3.12/site-packages/numpy/_typing/_nbit.py\": 1724749052.0493512, \"/home/fradav/.micromamba/envs/miashs-hpc/lib/python3.12/site-packages/numpy/_typing/_char_codes.py\": 1724749052.0493512, \"/home/fradav/.micromamba/envs/miashs-hpc/lib/python3.12/site-packages/numpy/_typing/_scalars.py\": 1724749052.0493512, \"/home/fradav/.micromamba/envs/miashs-hpc/lib/python3.12/site-packages/numpy/_typing/_shape.py\": 1724749052.0493512, \"/home/fradav/.micromamba/envs/miashs-hpc/lib/python3.12/site-packages/numpy/_typing/_dtype_like.py\": 1724749052.0493512, \"/home/fradav/.micromamba/envs/miashs-hpc/lib/python3.12/site-packages/numpy/_typing/_array_like.py\": 1724749052.0493512, \"/home/fradav/.micromamba/envs/miashs-hpc/lib/python3.12/site-packages/numpy/_typing/__init__.py\": 1724749052.0493512, \"/home/fradav/.micromamba/envs/miashs-hpc/lib/python3.12/site-packages/numpy/linalg/_linalg.py\": 1724749052.0333512, \"/home/fradav/.micromamba/envs/miashs-hpc/lib/python3.12/site-packages/numpy/linalg/__init__.py\": 1724749052.0333512, \"/home/fradav/.micromamba/envs/miashs-hpc/lib/python3.12/site-packages/numpy/matrixlib/defmatrix.py\": 1724749052.105352, \"/home/fradav/.micromamba/envs/miashs-hpc/lib/python3.12/site-packages/numpy/matrixlib/__init__.py\": 1724749052.105352, \"/home/fradav/.micromamba/envs/miashs-hpc/lib/python3.12/site-packages/numpy/lib/_histograms_impl.py\": 1724749052.0813518, \"/home/fradav/.micromamba/envs/miashs-hpc/lib/python3.12/site-packages/numpy/lib/_function_base_impl.py\": 1724749052.0773516, \"/home/fradav/.micromamba/envs/miashs-hpc/lib/python3.12/site-packages/numpy/lib/_index_tricks_impl.py\": 1724749052.0813518, \"/home/fradav/.micromamba/envs/miashs-hpc/lib/python3.12/site-packages/numpy/lib/_nanfunctions_impl.py\": 1724749052.0813518, \"/home/fradav/.micromamba/envs/miashs-hpc/lib/python3.12/site-packages/numpy/lib/_shape_base_impl.py\": 1724749052.0813518, \"/home/fradav/.micromamba/envs/miashs-hpc/lib/python3.12/site-packages/numpy/lib/_arraysetops_impl.py\": 1724749052.0773516, \"/home/fradav/.micromamba/envs/miashs-hpc/lib/python3.12/site-packages/numpy/lib/_polynomial_impl.py\": 1724749052.0813518, \"/home/fradav/.micromamba/envs/miashs-hpc/lib/python3.12/site-packages/numpy/lib/_arrayterator_impl.py\": 1724749052.0773516, \"/home/fradav/.micromamba/envs/miashs-hpc/lib/python3.12/site-packages/numpy/lib/_arraypad_impl.py\": 1724749052.0773516, \"/home/fradav/.micromamba/envs/miashs-hpc/lib/python3.12/site-packages/numpy/lib/_version.py\": 1724749052.0853517, \"/home/fradav/.micromamba/envs/miashs-hpc/lib/python3.12/site-packages/numpy/lib/__init__.py\": 1724749052.0773516, \"/home/fradav/.micromamba/envs/miashs-hpc/lib/python3.12/site-packages/numpy/__init__.py\": 1724749052.0133507, \"/home/fradav/.micromamba/envs/miashs-hpc/lib/python3.12/site-packages/numpy/_typing/_add_docstring.py\": 1724749052.0493512, \"/home/fradav/.micromamba/envs/miashs-hpc/lib/python3.12/site-packages/numpy/typing/__init__.py\": 1724749052.117352, \"/home/fradav/.micromamba/envs/miashs-hpc/lib/python3.12/site-packages/PIL/_typing.py\": 1726075280.0486968, \"/home/fradav/.micromamba/envs/miashs-hpc/lib/python3.12/site-packages/PIL/_util.py\": 1726075280.0486968, \"/home/fradav/.micromamba/envs/miashs-hpc/lib/python3.12/site-packages/defusedxml/common.py\": 1615232387.0, \"/home/fradav/.micromamba/envs/miashs-hpc/lib/python3.12/site-packages/defusedxml/__init__.py\": 1615232387.0, \"/home/fradav/.micromamba/envs/miashs-hpc/lib/python3.12/xml/etree/__init__.py\": 1727016369.5472763, \"/home/fradav/.micromamba/envs/miashs-hpc/lib/python3.12/xml/etree/ElementPath.py\": 1727016369.5432763, \"/home/fradav/.micromamba/envs/miashs-hpc/lib/python3.12/lib-dynload/_elementtree.cpython-312-x86_64-linux-gnu.so\": 1727016397.213905, \"/home/fradav/.micromamba/envs/miashs-hpc/lib/python3.12/xml/etree/ElementTree.py\": 1727016369.5452764, \"/home/fradav/.micromamba/envs/miashs-hpc/lib/python3.12/site-packages/defusedxml/ElementTree.py\": 1615232387.0, \"/home/fradav/.micromamba/envs/miashs-hpc/lib/python3.12/site-packages/PIL/_imaging.cpython-312-x86_64-linux-gnu.so\": 1726075283.8887205, \"/home/fradav/.micromamba/envs/miashs-hpc/lib/python3.12/site-packages/cffi/lock.py\": 1725560709.4554904, \"/home/fradav/.micromamba/envs/miashs-hpc/lib/python3.12/site-packages/cffi/error.py\": 1725560709.4554904, \"/home/fradav/.micromamba/envs/miashs-hpc/lib/python3.12/site-packages/cffi/model.py\": 1725560709.4554904, \"/home/fradav/.micromamba/envs/miashs-hpc/lib/python3.12/site-packages/cffi/api.py\": 1725560709.4554904, \"/home/fradav/.micromamba/envs/miashs-hpc/lib/python3.12/site-packages/cffi/__init__.py\": 1725560709.4514902, \"/home/fradav/.micromamba/envs/miashs-hpc/lib/python3.12/site-packages/PIL/Image.py\": 1726075280.0206966, \"/home/fradav/.micromamba/envs/miashs-hpc/lib/python3.12/site-packages/_plotly_utils/data_utils.py\": 1726179645.3429148, \"/home/fradav/.micromamba/envs/miashs-hpc/lib/python3.12/site-packages/plotly/utils.py\": 1726179645.4069164, \"/home/fradav/.micromamba/envs/miashs-hpc/lib/python3.12/site-packages/plotly/graph_objs/__init__.py\": 1726179645.4149165, \"/home/fradav/.micromamba/envs/miashs-hpc/lib/python3.12/site-packages/_plotly_utils/exceptions.py\": 1726179645.3429148, \"/home/fradav/.micromamba/envs/miashs-hpc/lib/python3.12/site-packages/plotly/exceptions.py\": 1726179645.4029162, \"/home/fradav/.micromamba/envs/miashs-hpc/lib/python3.12/site-packages/_plotly_utils/files.py\": 1726179645.3429148, \"/home/fradav/.micromamba/envs/miashs-hpc/lib/python3.12/site-packages/plotly/files.py\": 1726179645.4029162, \"/home/fradav/.micromamba/envs/miashs-hpc/lib/python3.12/site-packages/plotly/tools.py\": 1726179645.4069164, \"/home/fradav/.micromamba/envs/miashs-hpc/lib/python3.12/site-packages/plotly/offline/_plotlyjs_version.py\": 1726179645.7629247, \"/home/fradav/.micromamba/envs/miashs-hpc/lib/python3.12/site-packages/plotly/offline/offline.py\": 1726179645.7629247, \"/home/fradav/.micromamba/envs/miashs-hpc/lib/python3.12/site-packages/plotly/offline/__init__.py\": 1726179645.7629247, \"/home/fradav/.micromamba/envs/miashs-hpc/lib/python3.12/site-packages/plotly/io/_utils.py\": 1726179645.7589247, \"/home/fradav/.micromamba/envs/miashs-hpc/lib/python3.12/site-packages/plotly/io/_json.py\": 1726179645.7589247, \"/home/fradav/.micromamba/envs/miashs-hpc/lib/python3.12/site-packages/kaleido/_version.py\": 1615204746.0, \"/home/fradav/.micromamba/envs/miashs-hpc/lib/python3.12/site-packages/kaleido/__init__.py\": 1615204746.0, \"/home/fradav/.micromamba/envs/miashs-hpc/lib/python3.12/site-packages/kaleido/scopes/__init__.py\": 1615204746.0, \"/home/fradav/.micromamba/envs/miashs-hpc/lib/python3.12/site-packages/kaleido/scopes/base.py\": 1615204746.0, \"/home/fradav/.micromamba/envs/miashs-hpc/lib/python3.12/site-packages/kaleido/scopes/plotly.py\": 1615204746.0, \"/home/fradav/.micromamba/envs/miashs-hpc/lib/python3.12/site-packages/plotly/io/_kaleido.py\": 1726179645.7589247, \"/home/fradav/.micromamba/envs/miashs-hpc/lib/python3.12/site-packages/plotly/io/_html.py\": 1726179645.7589247, \"/home/fradav/.micromamba/envs/miashs-hpc/lib/python3.12/site-packages/tenacity/_utils.py\": 1722278973.866633, \"/home/fradav/.micromamba/envs/miashs-hpc/lib/python3.12/site-packages/tenacity/retry.py\": 1722278973.8706331, \"/home/fradav/.micromamba/envs/miashs-hpc/lib/python3.12/site-packages/tenacity/nap.py\": 1722278973.8706331, \"/home/fradav/.micromamba/envs/miashs-hpc/lib/python3.12/site-packages/tenacity/stop.py\": 1722278973.8706331, \"/home/fradav/.micromamba/envs/miashs-hpc/lib/python3.12/site-packages/tenacity/wait.py\": 1722278973.8706331, \"/home/fradav/.micromamba/envs/miashs-hpc/lib/python3.12/site-packages/tenacity/before.py\": 1722278973.866633, \"/home/fradav/.micromamba/envs/miashs-hpc/lib/python3.12/site-packages/tenacity/after.py\": 1722278973.866633, \"/home/fradav/.micromamba/envs/miashs-hpc/lib/python3.12/site-packages/tenacity/before_sleep.py\": 1722278973.8706331, \"/home/fradav/.micromamba/envs/miashs-hpc/lib/python3.12/site-packages/tenacity/asyncio/retry.py\": 1722278973.8706331, \"/home/fradav/.micromamba/envs/miashs-hpc/lib/python3.12/site-packages/tenacity/asyncio/__init__.py\": 1722278973.8706331, \"/home/fradav/.micromamba/envs/miashs-hpc/lib/python3.12/site-packages/tenacity/tornadoweb.py\": 1722278973.8706331, \"/home/fradav/.micromamba/envs/miashs-hpc/lib/python3.12/site-packages/tenacity/__init__.py\": 1722278973.866633, \"/home/fradav/.micromamba/envs/miashs-hpc/lib/python3.12/site-packages/plotly/io/_orca.py\": 1726179645.7589247, \"/home/fradav/.micromamba/envs/miashs-hpc/lib/python3.12/site-packages/plotly/io/_base_renderers.py\": 1726179645.7589247, \"/home/fradav/.micromamba/envs/miashs-hpc/lib/python3.12/site-packages/nbformat/v1/convert.py\": 1712239121.2586656, \"/home/fradav/.micromamba/envs/miashs-hpc/lib/python3.12/site-packages/nbformat/_struct.py\": 1712239121.2546656, \"/home/fradav/.micromamba/envs/miashs-hpc/lib/python3.12/site-packages/nbformat/v1/nbbase.py\": 1712239121.2586656, \"/home/fradav/.micromamba/envs/miashs-hpc/lib/python3.12/site-packages/nbformat/v1/rwbase.py\": 1712239121.2586656, \"/home/fradav/.micromamba/envs/miashs-hpc/lib/python3.12/site-packages/nbformat/v1/nbjson.py\": 1712239121.2586656, \"/home/fradav/.micromamba/envs/miashs-hpc/lib/python3.12/site-packages/nbformat/v1/__init__.py\": 1712239121.2586656, \"/home/fradav/.micromamba/envs/miashs-hpc/lib/python3.12/site-packages/nbformat/v2/nbbase.py\": 1712239121.2586656, \"/home/fradav/.micromamba/envs/miashs-hpc/lib/python3.12/site-packages/nbformat/v2/convert.py\": 1712239121.2586656, \"/home/fradav/.micromamba/envs/miashs-hpc/lib/python3.12/site-packages/nbformat/v2/rwbase.py\": 1712239121.2586656, \"/home/fradav/.micromamba/envs/miashs-hpc/lib/python3.12/site-packages/nbformat/v2/nbjson.py\": 1712239121.2586656, \"/home/fradav/.micromamba/envs/miashs-hpc/lib/python3.12/site-packages/nbformat/v2/nbpy.py\": 1712239121.2586656, \"/home/fradav/.micromamba/envs/miashs-hpc/lib/python3.12/site-packages/nbformat/v2/nbxml.py\": 1712239121.2586656, \"/home/fradav/.micromamba/envs/miashs-hpc/lib/python3.12/site-packages/nbformat/v2/__init__.py\": 1712239121.2586656, \"/home/fradav/.micromamba/envs/miashs-hpc/lib/python3.12/site-packages/nbformat/v3/nbbase.py\": 1712239121.2586656, \"/home/fradav/.micromamba/envs/miashs-hpc/lib/python3.12/site-packages/nbformat/v3/convert.py\": 1712239121.2586656, \"/home/fradav/.micromamba/envs/miashs-hpc/lib/python3.12/site-packages/nbformat/v3/rwbase.py\": 1712239121.2626657, \"/home/fradav/.micromamba/envs/miashs-hpc/lib/python3.12/site-packages/nbformat/v3/nbjson.py\": 1712239121.2586656, \"/home/fradav/.micromamba/envs/miashs-hpc/lib/python3.12/site-packages/nbformat/v3/nbpy.py\": 1712239121.2586656, \"/home/fradav/.micromamba/envs/miashs-hpc/lib/python3.12/site-packages/nbformat/v3/__init__.py\": 1712239121.2586656, \"/home/fradav/.micromamba/envs/miashs-hpc/lib/python3.12/site-packages/nbformat/_imports.py\": 1712239121.2546656, \"/home/fradav/.micromamba/envs/miashs-hpc/lib/python3.12/site-packages/nbformat/corpus/__init__.py\": 1712239121.2546656, \"/home/fradav/.micromamba/envs/miashs-hpc/lib/python3.12/site-packages/nbformat/corpus/words.py\": 1712239121.2546656, \"/home/fradav/.micromamba/envs/miashs-hpc/lib/python3.12/site-packages/fastjsonschema/exceptions.py\": 1718477109.3772607, \"/home/fradav/.micromamba/envs/miashs-hpc/lib/python3.12/site-packages/fastjsonschema/indent.py\": 1718477109.3772607, \"/home/fradav/.micromamba/envs/miashs-hpc/lib/python3.12/site-packages/fastjsonschema/ref_resolver.py\": 1718477109.3772607, \"/home/fradav/.micromamba/envs/miashs-hpc/lib/python3.12/site-packages/fastjsonschema/generator.py\": 1718477109.3772607, \"/home/fradav/.micromamba/envs/miashs-hpc/lib/python3.12/site-packages/fastjsonschema/draft04.py\": 1718477109.3772607, \"/home/fradav/.micromamba/envs/miashs-hpc/lib/python3.12/site-packages/fastjsonschema/draft06.py\": 1718477109.3772607, \"/home/fradav/.micromamba/envs/miashs-hpc/lib/python3.12/site-packages/fastjsonschema/draft07.py\": 1718477109.3772607, \"/home/fradav/.micromamba/envs/miashs-hpc/lib/python3.12/site-packages/fastjsonschema/version.py\": 1718477109.3772607, \"/home/fradav/.micromamba/envs/miashs-hpc/lib/python3.12/site-packages/fastjsonschema/__init__.py\": 1718477109.3732607, \"/home/fradav/.micromamba/envs/miashs-hpc/lib/python3.12/site-packages/attr/_compat.py\": 1722977239.895933, \"/home/fradav/.micromamba/envs/miashs-hpc/lib/python3.12/site-packages/attr/_config.py\": 1722977239.895933, \"/home/fradav/.micromamba/envs/miashs-hpc/lib/python3.12/site-packages/attr/exceptions.py\": 1722977239.895933, \"/home/fradav/.micromamba/envs/miashs-hpc/lib/python3.12/site-packages/attr/setters.py\": 1722977239.8999329, \"/home/fradav/.micromamba/envs/miashs-hpc/lib/python3.12/site-packages/attr/_make.py\": 1722977239.895933, \"/home/fradav/.micromamba/envs/miashs-hpc/lib/python3.12/site-packages/attr/converters.py\": 1722977239.895933, \"/home/fradav/.micromamba/envs/miashs-hpc/lib/python3.12/site-packages/attr/filters.py\": 1722977239.895933, \"/home/fradav/.micromamba/envs/miashs-hpc/lib/python3.12/site-packages/attr/validators.py\": 1722977239.8999329, \"/home/fradav/.micromamba/envs/miashs-hpc/lib/python3.12/site-packages/attr/_cmp.py\": 1722977239.895933, \"/home/fradav/.micromamba/envs/miashs-hpc/lib/python3.12/site-packages/attr/_funcs.py\": 1722977239.895933, \"/home/fradav/.micromamba/envs/miashs-hpc/lib/python3.12/site-packages/attr/_next_gen.py\": 1722977239.895933, \"/home/fradav/.micromamba/envs/miashs-hpc/lib/python3.12/site-packages/attr/_version_info.py\": 1722977239.895933, \"/home/fradav/.micromamba/envs/miashs-hpc/lib/python3.12/site-packages/attr/__init__.py\": 1722977239.8919327, \"/home/fradav/.micromamba/envs/miashs-hpc/lib/python3.12/site-packages/attrs/converters.py\": 1722977239.8999329, \"/home/fradav/.micromamba/envs/miashs-hpc/lib/python3.12/site-packages/attrs/exceptions.py\": 1722977239.8999329, \"/home/fradav/.micromamba/envs/miashs-hpc/lib/python3.12/site-packages/attrs/filters.py\": 1722977239.8999329, \"/home/fradav/.micromamba/envs/miashs-hpc/lib/python3.12/site-packages/attrs/setters.py\": 1722977239.8999329, \"/home/fradav/.micromamba/envs/miashs-hpc/lib/python3.12/site-packages/attrs/validators.py\": 1722977239.8999329, \"/home/fradav/.micromamba/envs/miashs-hpc/lib/python3.12/site-packages/attrs/__init__.py\": 1722977239.8999329, \"/home/fradav/.micromamba/envs/miashs-hpc/lib/python3.12/site-packages/rpds/rpds.cpython-312-x86_64-linux-gnu.so\": 1725327237.8706222, \"/home/fradav/.micromamba/envs/miashs-hpc/lib/python3.12/site-packages/rpds/__init__.py\": 1725327236.2746081, \"/home/fradav/.micromamba/envs/miashs-hpc/lib/python3.12/site-packages/referencing/_attrs.py\": 1714619624.1482844, \"/home/fradav/.micromamba/envs/miashs-hpc/lib/python3.12/site-packages/referencing/exceptions.py\": 1714619624.1482844, \"/home/fradav/.micromamba/envs/miashs-hpc/lib/python3.12/site-packages/referencing/typing.py\": 1714619624.1482844, \"/home/fradav/.micromamba/envs/miashs-hpc/lib/python3.12/site-packages/referencing/_core.py\": 1714619624.1482844, \"/home/fradav/.micromamba/envs/miashs-hpc/lib/python3.12/site-packages/referencing/__init__.py\": 1714619624.1482844, \"/home/fradav/.micromamba/envs/miashs-hpc/lib/python3.12/site-packages/jsonschema/_utils.py\": 1720529609.7431276, \"/home/fradav/.micromamba/envs/miashs-hpc/lib/python3.12/site-packages/jsonschema/exceptions.py\": 1720529609.7431276, \"/home/fradav/.micromamba/envs/miashs-hpc/lib/python3.12/site-packages/fqdn/_compat.py\": 1638810387.0, \"/home/fradav/.micromamba/envs/miashs-hpc/lib/python3.12/site-packages/fqdn/__init__.py\": 1638810387.0, \"/home/fradav/.micromamba/envs/miashs-hpc/lib/python3.12/site-packages/idna/idnadata.py\": 1726459582.1561556, \"/home/fradav/.micromamba/envs/miashs-hpc/lib/python3.12/site-packages/idna/intranges.py\": 1726459582.1601558, \"/home/fradav/.micromamba/envs/miashs-hpc/lib/python3.12/site-packages/idna/core.py\": 1726459582.1561556, \"/home/fradav/.micromamba/envs/miashs-hpc/lib/python3.12/site-packages/idna/package_data.py\": 1726459582.1601558, \"/home/fradav/.micromamba/envs/miashs-hpc/lib/python3.12/site-packages/idna/__init__.py\": 1726459582.1561556, \"/home/fradav/.micromamba/envs/miashs-hpc/lib/python3.12/site-packages/rfc3986_validator.py\": 1598024296.0, \"/home/fradav/.micromamba/envs/miashs-hpc/lib/python3.12/site-packages/rfc3339_validator.py\": 1638811836.0, \"/home/fradav/.micromamba/envs/miashs-hpc/lib/python3.12/site-packages/webcolors/_definitions.py\": 1723294799.1040154, \"/home/fradav/.micromamba/envs/miashs-hpc/lib/python3.12/site-packages/webcolors/_types.py\": 1723294799.1040154, \"/home/fradav/.micromamba/envs/miashs-hpc/lib/python3.12/site-packages/webcolors/_normalization.py\": 1723294799.1040154, \"/home/fradav/.micromamba/envs/miashs-hpc/lib/python3.12/site-packages/webcolors/_conversion.py\": 1723294799.1040154, \"/home/fradav/.micromamba/envs/miashs-hpc/lib/python3.12/site-packages/webcolors/_html5.py\": 1723294799.1040154, \"/home/fradav/.micromamba/envs/miashs-hpc/lib/python3.12/site-packages/webcolors/__init__.py\": 1723294799.1040154, \"/home/fradav/.micromamba/envs/miashs-hpc/lib/python3.12/site-packages/jsonpointer.py\": 1725303030.8056657, \"/home/fradav/.micromamba/envs/miashs-hpc/lib/python3.12/site-packages/uri_template/charset.py\": 1688655974.0260653, \"/home/fradav/.micromamba/envs/miashs-hpc/lib/python3.12/site-packages/uri_template/variable.py\": 1688655974.0260653, \"/home/fradav/.micromamba/envs/miashs-hpc/lib/python3.12/site-packages/uri_template/expansions.py\": 1688655974.0260653, \"/home/fradav/.micromamba/envs/miashs-hpc/lib/python3.12/site-packages/uri_template/uritemplate.py\": 1688655974.0260653, \"/home/fradav/.micromamba/envs/miashs-hpc/lib/python3.12/site-packages/uri_template/__init__.py\": 1688655974.0260653, \"/home/fradav/.micromamba/envs/miashs-hpc/lib/python3.12/site-packages/isoduration/constants.py\": 1638811662.0, \"/home/fradav/.micromamba/envs/miashs-hpc/lib/python3.12/site-packages/isoduration/formatter/exceptions.py\": 1638811662.0, \"/home/fradav/.micromamba/envs/miashs-hpc/lib/python3.12/site-packages/isoduration/formatter/checking.py\": 1638811662.0, \"/home/fradav/.micromamba/envs/miashs-hpc/lib/python3.12/site-packages/isoduration/formatter/formatting.py\": 1638811662.0, \"/home/fradav/.micromamba/envs/miashs-hpc/lib/python3.12/site-packages/isoduration/formatter/__init__.py\": 1638811662.0, \"/home/fradav/.micromamba/envs/miashs-hpc/lib/python3.12/site-packages/isoduration/parser/exceptions.py\": 1638811662.0, \"/home/fradav/.micromamba/envs/miashs-hpc/lib/python3.12/site-packages/arrow/_version.py\": 1696129130.9062343, \"/home/fradav/.micromamba/envs/miashs-hpc/lib/python3.12/site-packages/arrow/locales.py\": 1696129130.9102342, \"/home/fradav/.micromamba/envs/miashs-hpc/lib/python3.12/site-packages/arrow/constants.py\": 1696129130.9062343, \"/home/fradav/.micromamba/envs/miashs-hpc/lib/python3.12/site-packages/arrow/formatter.py\": 1696129130.9062343, \"/home/fradav/.micromamba/envs/miashs-hpc/lib/python3.12/site-packages/dateutil/rrule.py\": 1709299919.2872345, \"/home/fradav/.micromamba/envs/miashs-hpc/lib/python3.12/site-packages/arrow/util.py\": 1696129130.9102342, \"/home/fradav/.micromamba/envs/miashs-hpc/lib/python3.12/site-packages/arrow/parser.py\": 1696129130.9102342, \"/home/fradav/.micromamba/envs/miashs-hpc/lib/python3.12/site-packages/arrow/arrow.py\": 1696129130.9062343, \"/home/fradav/.micromamba/envs/miashs-hpc/lib/python3.12/site-packages/arrow/factory.py\": 1696129130.9062343, \"/home/fradav/.micromamba/envs/miashs-hpc/lib/python3.12/site-packages/arrow/api.py\": 1696129130.9062343, \"/home/fradav/.micromamba/envs/miashs-hpc/lib/python3.12/site-packages/arrow/__init__.py\": 1696129130.9062343, \"/home/fradav/.micromamba/envs/miashs-hpc/lib/python3.12/site-packages/isoduration/parser/util.py\": 1638811662.0, \"/home/fradav/.micromamba/envs/miashs-hpc/lib/python3.12/site-packages/isoduration/operations/util.py\": 1638811662.0, \"/home/fradav/.micromamba/envs/miashs-hpc/lib/python3.12/site-packages/isoduration/operations/__init__.py\": 1638811662.0, \"/home/fradav/.micromamba/envs/miashs-hpc/lib/python3.12/site-packages/isoduration/types.py\": 1638811662.0, \"/home/fradav/.micromamba/envs/miashs-hpc/lib/python3.12/site-packages/isoduration/parser/parsing.py\": 1638811662.0, \"/home/fradav/.micromamba/envs/miashs-hpc/lib/python3.12/site-packages/isoduration/parser/__init__.py\": 1638811662.0, \"/home/fradav/.micromamba/envs/miashs-hpc/lib/python3.12/site-packages/isoduration/__init__.py\": 1638811662.0, \"/home/fradav/.micromamba/envs/miashs-hpc/lib/python3.12/site-packages/jsonschema/_format.py\": 1720529609.7431276, \"/home/fradav/.micromamba/envs/miashs-hpc/lib/python3.12/site-packages/jsonschema/_types.py\": 1720529609.7431276, \"/home/fradav/.micromamba/envs/miashs-hpc/lib/python3.12/site-packages/referencing/jsonschema.py\": 1714619624.1482844, \"/home/fradav/.micromamba/envs/miashs-hpc/lib/python3.12/site-packages/jsonschema_specifications/_core.py\": 1703778501.7660832, \"/home/fradav/.micromamba/envs/miashs-hpc/lib/python3.12/importlib/resources/_itertools.py\": 1727016368.9762616, \"/home/fradav/.micromamba/envs/miashs-hpc/lib/python3.12/importlib/resources/readers.py\": 1727016368.9812617, \"/home/fradav/.micromamba/envs/miashs-hpc/lib/python3.12/importlib/readers.py\": 1727016368.957261, \"/home/fradav/.micromamba/envs/miashs-hpc/lib/python3.12/site-packages/jsonschema_specifications/__init__.py\": 1703778501.7660832, \"/home/fradav/.micromamba/envs/miashs-hpc/lib/python3.12/site-packages/jsonschema/_keywords.py\": 1720529609.7431276, \"/home/fradav/.micromamba/envs/miashs-hpc/lib/python3.12/site-packages/jsonschema/_legacy_keywords.py\": 1720529609.7431276, \"/home/fradav/.micromamba/envs/miashs-hpc/lib/python3.12/site-packages/jsonschema/protocols.py\": 1720529609.7431276, \"/home/fradav/.micromamba/envs/miashs-hpc/lib/python3.12/site-packages/jsonschema/_typing.py\": 1720529609.7431276, \"/home/fradav/.micromamba/envs/miashs-hpc/lib/python3.12/site-packages/jsonschema/validators.py\": 1720529609.7431276, \"/home/fradav/.micromamba/envs/miashs-hpc/lib/python3.12/site-packages/jsonschema/__init__.py\": 1720529609.7391274, \"/home/fradav/.micromamba/envs/miashs-hpc/lib/python3.12/site-packages/nbformat/json_compat.py\": 1712239121.2546656, \"/home/fradav/.micromamba/envs/miashs-hpc/lib/python3.12/site-packages/nbformat/reader.py\": 1712239121.2546656, \"/home/fradav/.micromamba/envs/miashs-hpc/lib/python3.12/site-packages/nbformat/warnings.py\": 1712239121.2546656, \"/home/fradav/.micromamba/envs/miashs-hpc/lib/python3.12/site-packages/nbformat/validator.py\": 1712239121.2546656, \"/home/fradav/.micromamba/envs/miashs-hpc/lib/python3.12/site-packages/nbformat/notebooknode.py\": 1712239121.2546656, \"/home/fradav/.micromamba/envs/miashs-hpc/lib/python3.12/site-packages/nbformat/v4/nbbase.py\": 1712239121.2626657, \"/home/fradav/.micromamba/envs/miashs-hpc/lib/python3.12/site-packages/nbformat/v4/convert.py\": 1712239121.2626657, \"/home/fradav/.micromamba/envs/miashs-hpc/lib/python3.12/site-packages/nbformat/v4/rwbase.py\": 1712239121.2626657, \"/home/fradav/.micromamba/envs/miashs-hpc/lib/python3.12/site-packages/nbformat/v4/nbjson.py\": 1712239121.2626657, \"/home/fradav/.micromamba/envs/miashs-hpc/lib/python3.12/site-packages/nbformat/v4/__init__.py\": 1712239121.2626657, \"/home/fradav/.micromamba/envs/miashs-hpc/lib/python3.12/site-packages/nbformat/_version.py\": 1712239121.2546656, \"/home/fradav/.micromamba/envs/miashs-hpc/lib/python3.12/site-packages/nbformat/sentinel.py\": 1712239121.2546656, \"/home/fradav/.micromamba/envs/miashs-hpc/lib/python3.12/site-packages/nbformat/converter.py\": 1712239121.2546656, \"/home/fradav/.micromamba/envs/miashs-hpc/lib/python3.12/site-packages/nbformat/__init__.py\": 1712239121.2546656, \"/home/fradav/.micromamba/envs/miashs-hpc/lib/python3.12/site-packages/plotly/io/_renderers.py\": 1726179645.7589247, \"/home/fradav/.micromamba/envs/miashs-hpc/lib/python3.12/site-packages/plotly/graph_objs/layout/__init__.py\": 1726179645.5549197, \"/home/fradav/.micromamba/envs/miashs-hpc/lib/python3.12/site-packages/plotly/shapeannotation.py\": 1726179645.4029162, \"/home/fradav/.micromamba/envs/miashs-hpc/lib/python3.12/site-packages/plotly/_subplots.py\": 1726179645.3989162, \"/home/fradav/.micromamba/envs/miashs-hpc/lib/python3.12/site-packages/plotly/basedatatypes.py\": 1726179645.4029162, \"/home/fradav/.micromamba/envs/miashs-hpc/lib/python3.12/site-packages/plotly/graph_objs/layout/_template.py\": 1726179645.56292, \"/home/fradav/.micromamba/envs/miashs-hpc/lib/python3.12/site-packages/plotly/validator_cache.py\": 1726179645.4069164, \"/home/fradav/.micromamba/envs/miashs-hpc/lib/python3.12/site-packages/plotly/validators/__init__.py\": 1726179645.7949255, \"/home/fradav/.micromamba/envs/miashs-hpc/lib/python3.12/site-packages/plotly/validators/layout/__init__.py\": 1726179646.490942, \"/home/fradav/.micromamba/envs/miashs-hpc/lib/python3.12/site-packages/plotly/validators/layout/template/__init__.py\": 1726179646.6909468, \"/home/fradav/.micromamba/envs/miashs-hpc/lib/python3.12/site-packages/plotly/validators/layout/template/_layout.py\": 1726179646.6909468, \"/home/fradav/.micromamba/envs/miashs-hpc/lib/python3.12/site-packages/plotly/graph_objs/_layout.py\": 1726179645.434917, \"/home/fradav/.micromamba/envs/miashs-hpc/lib/python3.12/site-packages/plotly/graph_objects/__init__.py\": 1726179645.4149165, \"/home/fradav/.micromamba/envs/miashs-hpc/lib/python3.12/site-packages/plotly/validators/layout/_margin.py\": 1726179646.4949422, \"/home/fradav/.micromamba/envs/miashs-hpc/lib/python3.12/site-packages/plotly/graph_objs/layout/_margin.py\": 1726179645.55892, \"/home/fradav/.micromamba/envs/miashs-hpc/lib/python3.12/site-packages/plotly/validators/layout/margin/__init__.py\": 1726179646.5709438, \"/home/fradav/.micromamba/envs/miashs-hpc/lib/python3.12/site-packages/plotly/validators/layout/margin/_b.py\": 1726179646.5709438, \"/home/fradav/.micromamba/envs/miashs-hpc/lib/python3.12/site-packages/plotly/validators/layout/margin/_l.py\": 1726179646.5709438, \"/home/fradav/.micromamba/envs/miashs-hpc/lib/python3.12/site-packages/plotly/validators/layout/margin/_r.py\": 1726179646.5709438, \"/home/fradav/.micromamba/envs/miashs-hpc/lib/python3.12/site-packages/plotly/validators/layout/margin/_t.py\": 1726179646.5709438, \"/home/fradav/.micromamba/envs/miashs-hpc/lib/python3.12/site-packages/plotly/validators/layout/template/_data.py\": 1726179646.6909468, \"/home/fradav/.micromamba/envs/miashs-hpc/lib/python3.12/site-packages/plotly/graph_objs/layout/template/__init__.py\": 1726179645.5949209, \"/home/fradav/.micromamba/envs/miashs-hpc/lib/python3.12/site-packages/plotly/graph_objs/layout/template/_data.py\": 1726179645.5949209, \"/home/fradav/.micromamba/envs/miashs-hpc/lib/python3.12/site-packages/plotly/validators/layout/template/data/__init__.py\": 1726179646.6949468, \"/home/fradav/.micromamba/envs/miashs-hpc/lib/python3.12/site-packages/plotly/validators/layout/template/data/_scatter.py\": 1726179646.698947, \"/home/fradav/.micromamba/envs/miashs-hpc/lib/python3.12/site-packages/plotly/graph_objs/layout/template/data/__init__.py\": 1726179645.5989208, \"/home/fradav/.micromamba/envs/miashs-hpc/lib/python3.12/site-packages/plotly/graph_objs/_scatter.py\": 1726179645.4389172, \"/home/fradav/.micromamba/envs/miashs-hpc/lib/python3.12/site-packages/plotly/graph_objs/layout/template/data/_scatter.py\": 1726179645.5989208, \"/home/fradav/.micromamba/envs/miashs-hpc/lib/python3.12/site-packages/pytz/exceptions.py\": 1706886940.7094421, \"/home/fradav/.micromamba/envs/miashs-hpc/lib/python3.12/site-packages/pytz/lazy.py\": 1706886940.7094421, \"/home/fradav/.micromamba/envs/miashs-hpc/lib/python3.12/site-packages/pytz/tzinfo.py\": 1706886940.7094421, \"/home/fradav/.micromamba/envs/miashs-hpc/lib/python3.12/site-packages/pytz/tzfile.py\": 1706886940.7094421, \"/home/fradav/.micromamba/envs/miashs-hpc/lib/python3.12/site-packages/pytz/__init__.py\": 1706886940.7094421, \"/home/fradav/.micromamba/envs/miashs-hpc/lib/python3.12/site-packages/pandas/compat/_constants.py\": 1726879021.554072, \"/home/fradav/.micromamba/envs/miashs-hpc/lib/python3.12/site-packages/pandas/compat/compressors.py\": 1726879021.554072, \"/home/fradav/.micromamba/envs/miashs-hpc/lib/python3.12/site-packages/pandas/util/__init__.py\": 1726879021.8610756, \"/home/fradav/.micromamba/envs/miashs-hpc/lib/python3.12/site-packages/pandas/util/version/__init__.py\": 1726879021.8620758, \"/home/fradav/.micromamba/envs/miashs-hpc/lib/python3.12/site-packages/pandas/compat/numpy/__init__.py\": 1726879021.555072, \"/home/fradav/.micromamba/envs/miashs-hpc/lib/python3.12/site-packages/pyarrow/_generated_version.py\": 1722487053.0, \"/home/fradav/.micromamba/envs/miashs-hpc/lib/python3.12/site-packages/cloudpickle/cloudpickle.py\": 1697464874.1655874, \"/home/fradav/.micromamba/envs/miashs-hpc/lib/python3.12/site-packages/cloudpickle/__init__.py\": 1697464874.1655874, \"/home/fradav/.micromamba/envs/miashs-hpc/lib/python3.12/site-packages/pyarrow/util.py\": 1720688297.0, \"/home/fradav/.micromamba/envs/miashs-hpc/lib/python3.12/site-packages/pyarrow/lib.cpython-312-x86_64-linux-gnu.so\": 1727096102.776276, \"/home/fradav/.micromamba/envs/miashs-hpc/lib/python3.12/site-packages/pyarrow/ipc.py\": 1720688297.0, \"/home/fradav/.micromamba/envs/miashs-hpc/lib/python3.12/site-packages/pyarrow/types.py\": 1720688297.0, \"/home/fradav/.micromamba/envs/miashs-hpc/lib/python3.12/site-packages/pyarrow/__init__.py\": 1720688297.0, \"/home/fradav/.micromamba/envs/miashs-hpc/lib/python3.12/site-packages/pandas/compat/pyarrow.py\": 1726879021.554072, \"/home/fradav/.micromamba/envs/miashs-hpc/lib/python3.12/site-packages/pandas/compat/__init__.py\": 1726879021.554072, \"/home/fradav/.micromamba/envs/miashs-hpc/lib/python3.12/site-packages/numpy/random/_common.cpython-312-x86_64-linux-gnu.so\": 1724749061.6134458, \"/home/fradav/.micromamba/envs/miashs-hpc/lib/python3.12/secrets.py\": 1727016368.0612378, \"/home/fradav/.micromamba/envs/miashs-hpc/lib/python3.12/site-packages/numpy/random/bit_generator.cpython-312-x86_64-linux-gnu.so\": 1724749061.925447, \"/home/fradav/.micromamba/envs/miashs-hpc/lib/python3.12/site-packages/numpy/random/_bounded_integers.cpython-312-x86_64-linux-gnu.so\": 1724749061.8094466, \"/home/fradav/.micromamba/envs/miashs-hpc/lib/python3.12/site-packages/numpy/random/_mt19937.cpython-312-x86_64-linux-gnu.so\": 1724749061.8294466, \"/home/fradav/.micromamba/envs/miashs-hpc/lib/python3.12/site-packages/numpy/random/mtrand.cpython-312-x86_64-linux-gnu.so\": 1724749061.8654468, \"/home/fradav/.micromamba/envs/miashs-hpc/lib/python3.12/site-packages/numpy/random/_philox.cpython-312-x86_64-linux-gnu.so\": 1724749061.9014468, \"/home/fradav/.micromamba/envs/miashs-hpc/lib/python3.12/site-packages/numpy/random/_pcg64.cpython-312-x86_64-linux-gnu.so\": 1724749061.697446, \"/home/fradav/.micromamba/envs/miashs-hpc/lib/python3.12/site-packages/numpy/random/_sfc64.cpython-312-x86_64-linux-gnu.so\": 1724749062.0334475, \"/home/fradav/.micromamba/envs/miashs-hpc/lib/python3.12/site-packages/numpy/random/_generator.cpython-312-x86_64-linux-gnu.so\": 1724749061.893447, \"/home/fradav/.micromamba/envs/miashs-hpc/lib/python3.12/site-packages/numpy/random/_pickle.py\": 1724749052.0373511, \"/home/fradav/.micromamba/envs/miashs-hpc/lib/python3.12/site-packages/numpy/random/__init__.py\": 1724749052.0373511, \"/home/fradav/.micromamba/envs/miashs-hpc/lib/python3.12/site-packages/pandas/_typing.py\": 1726879021.5490718, \"/home/fradav/.micromamba/envs/miashs-hpc/lib/python3.12/site-packages/pandas/util/_exceptions.py\": 1726879021.8610756, \"/home/fradav/.micromamba/envs/miashs-hpc/lib/python3.12/site-packages/pandas/_config/config.py\": 1726879021.550072, \"/home/fradav/.micromamba/envs/miashs-hpc/lib/python3.12/site-packages/pandas/_config/dates.py\": 1726879021.550072, \"/home/fradav/.micromamba/envs/miashs-hpc/lib/python3.12/site-packages/pandas/_config/display.py\": 1726879021.550072, \"/home/fradav/.micromamba/envs/miashs-hpc/lib/python3.12/site-packages/pandas/_config/__init__.py\": 1726879021.5490718, \"/home/fradav/.micromamba/envs/miashs-hpc/lib/python3.12/site-packages/pandas/core/__init__.py\": 1726879021.555072, \"/home/fradav/.micromamba/envs/miashs-hpc/lib/python3.12/site-packages/pandas/core/config_init.py\": 1726879021.557072, \"/home/fradav/.micromamba/envs/miashs-hpc/lib/python3.12/site-packages/pandas/_libs/pandas_parser.cpython-312-x86_64-linux-gnu.so\": 1726879049.0293562, \"/home/fradav/.micromamba/envs/miashs-hpc/lib/python3.12/site-packages/pandas/_libs/pandas_datetime.cpython-312-x86_64-linux-gnu.so\": 1726879048.664352, \"/home/fradav/.micromamba/envs/miashs-hpc/lib/python3.12/site-packages/pandas/_libs/tslibs/ccalendar.cpython-312-x86_64-linux-gnu.so\": 1726879049.460361, \"/home/fradav/.micromamba/envs/miashs-hpc/lib/python3.12/site-packages/pandas/_libs/tslibs/np_datetime.cpython-312-x86_64-linux-gnu.so\": 1726879048.8893545, \"/home/fradav/.micromamba/envs/miashs-hpc/lib/python3.12/site-packages/pandas/_libs/tslibs/dtypes.cpython-312-x86_64-linux-gnu.so\": 1726879049.2693589, \"/home/fradav/.micromamba/envs/miashs-hpc/lib/python3.12/site-packages/pandas/_libs/tslibs/base.cpython-312-x86_64-linux-gnu.so\": 1726879048.760353, \"/home/fradav/.micromamba/envs/miashs-hpc/lib/python3.12/site-packages/pandas/_libs/tslibs/nattype.cpython-312-x86_64-linux-gnu.so\": 1726879049.020356, \"/home/fradav/.micromamba/envs/miashs-hpc/lib/python3.12/site-packages/pandas/compat/_optional.py\": 1726879021.554072, \"/home/fradav/.micromamba/envs/miashs-hpc/lib/python3.12/zoneinfo/_tzpath.py\": 1727016369.6072779, \"/home/fradav/.micromamba/envs/miashs-hpc/lib/python3.12/zoneinfo/_common.py\": 1727016369.6022778, \"/home/fradav/.micromamba/envs/miashs-hpc/lib/python3.12/lib-dynload/_zoneinfo.cpython-312-x86_64-linux-gnu.so\": 1727016396.5288897, \"/home/fradav/.micromamba/envs/miashs-hpc/lib/python3.12/zoneinfo/__init__.py\": 1727016369.6052778, \"/home/fradav/.micromamba/envs/miashs-hpc/lib/python3.12/site-packages/pandas/_libs/tslibs/timezones.cpython-312-x86_64-linux-gnu.so\": 1726879049.3733602, \"/home/fradav/.micromamba/envs/miashs-hpc/lib/python3.12/site-packages/pandas/_config/localization.py\": 1726879021.550072, \"/home/fradav/.micromamba/envs/miashs-hpc/lib/python3.12/site-packages/pandas/_libs/tslibs/fields.cpython-312-x86_64-linux-gnu.so\": 1726879048.8473542, \"/home/fradav/.micromamba/envs/miashs-hpc/lib/python3.12/site-packages/pandas/_libs/tslibs/timedeltas.cpython-312-x86_64-linux-gnu.so\": 1726879049.4383607, \"/home/fradav/.micromamba/envs/miashs-hpc/lib/python3.12/site-packages/pandas/_libs/tslibs/tzconversion.cpython-312-x86_64-linux-gnu.so\": 1726879049.1783578, \"/home/fradav/.micromamba/envs/miashs-hpc/lib/python3.12/site-packages/pandas/_libs/tslibs/timestamps.cpython-312-x86_64-linux-gnu.so\": 1726879049.4223607, \"/home/fradav/.micromamba/envs/miashs-hpc/lib/python3.12/site-packages/pandas/_libs/properties.cpython-312-x86_64-linux-gnu.so\": 1726879048.926355, \"/home/fradav/.micromamba/envs/miashs-hpc/lib/python3.12/site-packages/pandas/_libs/tslibs/offsets.cpython-312-x86_64-linux-gnu.so\": 1726879049.1183572, \"/home/fradav/.micromamba/envs/miashs-hpc/lib/python3.12/site-packages/pandas/_libs/tslibs/strptime.cpython-312-x86_64-linux-gnu.so\": 1726879048.9083548, \"/home/fradav/.micromamba/envs/miashs-hpc/lib/python3.12/site-packages/pandas/_libs/tslibs/parsing.cpython-312-x86_64-linux-gnu.so\": 1726879048.5303504, \"/home/fradav/.micromamba/envs/miashs-hpc/lib/python3.12/site-packages/pandas/_libs/tslibs/conversion.cpython-312-x86_64-linux-gnu.so\": 1726879049.5623622, \"/home/fradav/.micromamba/envs/miashs-hpc/lib/python3.12/site-packages/pandas/_libs/tslibs/period.cpython-312-x86_64-linux-gnu.so\": 1726879048.6963525, \"/home/fradav/.micromamba/envs/miashs-hpc/lib/python3.12/site-packages/pandas/_libs/tslibs/vectorized.cpython-312-x86_64-linux-gnu.so\": 1726879048.6773522, \"/home/fradav/.micromamba/envs/miashs-hpc/lib/python3.12/site-packages/pandas/_libs/tslibs/__init__.py\": 1726879021.541072, \"/home/fradav/.micromamba/envs/miashs-hpc/lib/python3.12/site-packages/pandas/_libs/ops_dispatch.cpython-312-x86_64-linux-gnu.so\": 1726879048.9723556, \"/home/fradav/.micromamba/envs/miashs-hpc/lib/python3.12/site-packages/pandas/_libs/missing.cpython-312-x86_64-linux-gnu.so\": 1726879049.1543577, \"/home/fradav/.micromamba/envs/miashs-hpc/lib/python3.12/site-packages/pandas/_libs/hashtable.cpython-312-x86_64-linux-gnu.so\": 1726879049.4063604, \"/home/fradav/.micromamba/envs/miashs-hpc/lib/python3.12/site-packages/pandas/_libs/algos.cpython-312-x86_64-linux-gnu.so\": 1726879049.635363, \"/home/fradav/.micromamba/envs/miashs-hpc/lib/python3.12/site-packages/pandas/_libs/interval.cpython-312-x86_64-linux-gnu.so\": 1726879049.0713565, \"/home/fradav/.micromamba/envs/miashs-hpc/lib/python3.12/site-packages/pandas/_libs/__init__.py\": 1726879021.544072, \"/home/fradav/.micromamba/envs/miashs-hpc/lib/python3.12/site-packages/pandas/core/dtypes/__init__.py\": 1726879021.5750723, \"/home/fradav/.micromamba/envs/miashs-hpc/lib/python3.12/site-packages/pandas/_libs/lib.cpython-312-x86_64-linux-gnu.so\": 1726879049.3353596, \"/home/fradav/.micromamba/envs/miashs-hpc/lib/python3.12/site-packages/pandas/errors/__init__.py\": 1726879021.5970724, \"/home/fradav/.micromamba/envs/miashs-hpc/lib/python3.12/site-packages/pandas/core/dtypes/generic.py\": 1726879021.5760722, \"/home/fradav/.micromamba/envs/miashs-hpc/lib/python3.12/site-packages/pandas/core/dtypes/base.py\": 1726879021.5750723, \"/home/fradav/.micromamba/envs/miashs-hpc/lib/python3.12/site-packages/pandas/core/dtypes/inference.py\": 1726879021.5760722, \"/home/fradav/.micromamba/envs/miashs-hpc/lib/python3.12/site-packages/pandas/core/dtypes/dtypes.py\": 1726879021.5760722, \"/home/fradav/.micromamba/envs/miashs-hpc/lib/python3.12/site-packages/pandas/core/dtypes/common.py\": 1726879021.5750723, \"/home/fradav/.micromamba/envs/miashs-hpc/lib/python3.12/site-packages/pandas/core/dtypes/missing.py\": 1726879021.5770721, \"/home/fradav/.micromamba/envs/miashs-hpc/lib/python3.12/site-packages/pandas/util/_decorators.py\": 1726879021.8610756, \"/home/fradav/.micromamba/envs/miashs-hpc/lib/python3.12/site-packages/pandas/io/__init__.py\": 1726879021.5980725, \"/home/fradav/.micromamba/envs/miashs-hpc/lib/python3.12/site-packages/pandas/io/_util.py\": 1726879021.5980725, \"/home/fradav/.micromamba/envs/miashs-hpc/lib/python3.12/site-packages/pandas/core/dtypes/cast.py\": 1726879021.5750723, \"/home/fradav/.micromamba/envs/miashs-hpc/lib/python3.12/site-packages/pandas/core/dtypes/astype.py\": 1726879021.5750723, \"/home/fradav/.micromamba/envs/miashs-hpc/lib/python3.12/site-packages/pandas/core/dtypes/concat.py\": 1726879021.5760722, \"/home/fradav/.micromamba/envs/miashs-hpc/lib/python3.12/site-packages/pandas/core/array_algos/__init__.py\": 1726879021.5640721, \"/home/fradav/.micromamba/envs/miashs-hpc/lib/python3.12/site-packages/numpy/ma/core.py\": 1724749052.0973518, \"/home/fradav/.micromamba/envs/miashs-hpc/lib/python3.12/site-packages/numpy/ma/extras.py\": 1724749052.101352, \"/home/fradav/.micromamba/envs/miashs-hpc/lib/python3.12/site-packages/numpy/ma/__init__.py\": 1724749052.0973518, \"/home/fradav/.micromamba/envs/miashs-hpc/lib/python3.12/site-packages/pandas/core/common.py\": 1726879021.557072, \"/home/fradav/.micromamba/envs/miashs-hpc/lib/python3.12/site-packages/pandas/core/construction.py\": 1726879021.557072, \"/home/fradav/.micromamba/envs/miashs-hpc/lib/python3.12/site-packages/pandas/core/array_algos/take.py\": 1726879021.565072, \"/home/fradav/.micromamba/envs/miashs-hpc/lib/python3.12/site-packages/pandas/core/indexers/utils.py\": 1726879021.5800722, \"/home/fradav/.micromamba/envs/miashs-hpc/lib/python3.12/site-packages/pandas/core/indexers/__init__.py\": 1726879021.5790722, \"/home/fradav/.micromamba/envs/miashs-hpc/lib/python3.12/site-packages/pandas/core/algorithms.py\": 1726879021.555072, \"/home/fradav/.micromamba/envs/miashs-hpc/lib/python3.12/site-packages/pyarrow/_compute.cpython-312-x86_64-linux-gnu.so\": 1727096102.7262747, \"/home/fradav/.micromamba/envs/miashs-hpc/lib/python3.12/site-packages/pyarrow/_compute_docstrings.py\": 1720688297.0, \"/home/fradav/.micromamba/envs/miashs-hpc/lib/python3.12/site-packages/pyarrow/vendored/__init__.py\": 1720688297.0, \"/home/fradav/.micromamba/envs/miashs-hpc/lib/python3.12/site-packages/pyarrow/vendored/docscrape.py\": 1720688297.0, \"/home/fradav/.micromamba/envs/miashs-hpc/lib/python3.12/site-packages/pyarrow/compute.py\": 1720688297.0, \"/home/fradav/.micromamba/envs/miashs-hpc/lib/python3.12/site-packages/pandas/core/arrays/arrow/accessors.py\": 1726879021.571072, \"/home/fradav/.micromamba/envs/miashs-hpc/lib/python3.12/site-packages/pandas/util/_validators.py\": 1726879021.8620758, \"/home/fradav/.micromamba/envs/miashs-hpc/lib/python3.12/site-packages/pandas/core/missing.py\": 1726879021.560072, \"/home/fradav/.micromamba/envs/miashs-hpc/lib/python3.12/site-packages/pandas/_libs/ops.cpython-312-x86_64-linux-gnu.so\": 1726879049.2093582, \"/home/fradav/.micromamba/envs/miashs-hpc/lib/python3.12/site-packages/pandas/core/roperator.py\": 1726879021.561072, \"/home/fradav/.micromamba/envs/miashs-hpc/lib/python3.12/site-packages/pandas/core/computation/__init__.py\": 1726879021.5720723, \"/home/fradav/.micromamba/envs/miashs-hpc/lib/python3.12/site-packages/pandas/core/computation/check.py\": 1726879021.5730722, \"/home/fradav/.micromamba/envs/miashs-hpc/lib/python3.12/site-packages/pandas/core/computation/expressions.py\": 1726879021.5740721, \"/home/fradav/.micromamba/envs/miashs-hpc/lib/python3.12/site-packages/pandas/core/ops/missing.py\": 1726879021.5900724, \"/home/fradav/.micromamba/envs/miashs-hpc/lib/python3.12/site-packages/pandas/core/ops/dispatch.py\": 1726879021.5900724, \"/home/fradav/.micromamba/envs/miashs-hpc/lib/python3.12/site-packages/pandas/core/ops/invalid.py\": 1726879021.5900724, \"/home/fradav/.micromamba/envs/miashs-hpc/lib/python3.12/site-packages/pandas/core/ops/array_ops.py\": 1726879021.5890725, \"/home/fradav/.micromamba/envs/miashs-hpc/lib/python3.12/site-packages/pandas/core/ops/common.py\": 1726879021.5890725, \"/home/fradav/.micromamba/envs/miashs-hpc/lib/python3.12/site-packages/pandas/core/ops/docstrings.py\": 1726879021.5900724, \"/home/fradav/.micromamba/envs/miashs-hpc/lib/python3.12/site-packages/pandas/core/ops/mask_ops.py\": 1726879021.5900724, \"/home/fradav/.micromamba/envs/miashs-hpc/lib/python3.12/site-packages/pandas/core/ops/__init__.py\": 1726879021.5890725, \"/home/fradav/.micromamba/envs/miashs-hpc/lib/python3.12/site-packages/pandas/core/arraylike.py\": 1726879021.556072, \"/home/fradav/.micromamba/envs/miashs-hpc/lib/python3.12/site-packages/pandas/core/arrays/_arrow_string_mixins.py\": 1726879021.5660722, \"/home/fradav/.micromamba/envs/miashs-hpc/lib/python3.12/site-packages/pandas/core/arrays/_utils.py\": 1726879021.5660722, \"/home/fradav/.micromamba/envs/miashs-hpc/lib/python3.12/site-packages/pandas/compat/numpy/function.py\": 1726879021.555072, \"/home/fradav/.micromamba/envs/miashs-hpc/lib/python3.12/site-packages/pandas/core/array_algos/quantile.py\": 1726879021.565072, \"/home/fradav/.micromamba/envs/miashs-hpc/lib/python3.12/site-packages/pandas/core/sorting.py\": 1726879021.562072, \"/home/fradav/.micromamba/envs/miashs-hpc/lib/python3.12/site-packages/pandas/core/arrays/base.py\": 1726879021.5660722, \"/home/fradav/.micromamba/envs/miashs-hpc/lib/python3.12/site-packages/pandas/core/nanops.py\": 1726879021.560072, \"/home/fradav/.micromamba/envs/miashs-hpc/lib/python3.12/site-packages/pandas/core/array_algos/masked_accumulations.py\": 1726879021.5640721, \"/home/fradav/.micromamba/envs/miashs-hpc/lib/python3.12/site-packages/pandas/core/array_algos/masked_reductions.py\": 1726879021.565072, \"/home/fradav/.micromamba/envs/miashs-hpc/lib/python3.12/site-packages/pandas/core/util/__init__.py\": 1726879021.5950725, \"/home/fradav/.micromamba/envs/miashs-hpc/lib/python3.12/site-packages/pandas/_libs/hashing.cpython-312-x86_64-linux-gnu.so\": 1726879048.9623554, \"/home/fradav/.micromamba/envs/miashs-hpc/lib/python3.12/site-packages/pandas/core/util/hashing.py\": 1726879021.5950725, \"/home/fradav/.micromamba/envs/miashs-hpc/lib/python3.12/site-packages/pandas/core/arrays/masked.py\": 1726879021.5690722, \"/home/fradav/.micromamba/envs/miashs-hpc/lib/python3.12/site-packages/pandas/_libs/arrays.cpython-312-x86_64-linux-gnu.so\": 1726879049.4923613, \"/home/fradav/.micromamba/envs/miashs-hpc/lib/python3.12/site-packages/pandas/core/arrays/numeric.py\": 1726879021.5690722, \"/home/fradav/.micromamba/envs/miashs-hpc/lib/python3.12/site-packages/pandas/core/arrays/floating.py\": 1726879021.568072, \"/home/fradav/.micromamba/envs/miashs-hpc/lib/python3.12/site-packages/pandas/core/arrays/integer.py\": 1726879021.568072, \"/home/fradav/.micromamba/envs/miashs-hpc/lib/python3.12/site-packages/pandas/core/array_algos/transforms.py\": 1726879021.565072, \"/home/fradav/.micromamba/envs/miashs-hpc/lib/python3.12/site-packages/pandas/core/arrays/_mixins.py\": 1726879021.5660722, \"/home/fradav/.micromamba/envs/miashs-hpc/lib/python3.12/site-packages/pandas/core/strings/__init__.py\": 1726879021.5930724, \"/home/fradav/.micromamba/envs/miashs-hpc/lib/python3.12/site-packages/pandas/core/strings/base.py\": 1726879021.5940723, \"/home/fradav/.micromamba/envs/miashs-hpc/lib/python3.12/site-packages/pandas/core/strings/object_array.py\": 1726879021.5940723, \"/home/fradav/.micromamba/envs/miashs-hpc/lib/python3.12/site-packages/pandas/core/arrays/numpy_.py\": 1726879021.5690722, \"/home/fradav/.micromamba/envs/miashs-hpc/lib/python3.12/site-packages/pandas/core/arrays/string_.py\": 1726879021.5700722, \"/home/fradav/.micromamba/envs/miashs-hpc/lib/python3.12/site-packages/pandas/tseries/__init__.py\": 1726879021.8590755, \"/home/fradav/.micromamba/envs/miashs-hpc/lib/python3.12/site-packages/pandas/tseries/frequencies.py\": 1726879021.8600757, \"/home/fradav/.micromamba/envs/miashs-hpc/lib/python3.12/site-packages/pandas/core/arrays/arrow/array.py\": 1726879021.571072, \"/home/fradav/.micromamba/envs/miashs-hpc/lib/python3.12/site-packages/pandas/core/arrays/arrow/__init__.py\": 1726879021.5700722, \"/home/fradav/.micromamba/envs/miashs-hpc/lib/python3.12/site-packages/pandas/core/arrays/boolean.py\": 1726879021.5670722, \"/home/fradav/.micromamba/envs/miashs-hpc/lib/python3.12/site-packages/pandas/core/accessor.py\": 1726879021.555072, \"/home/fradav/.micromamba/envs/miashs-hpc/lib/python3.12/site-packages/pandas/core/base.py\": 1726879021.556072, \"/home/fradav/.micromamba/envs/miashs-hpc/lib/python3.12/site-packages/pandas/io/formats/__init__.py\": 1726879021.6050725, \"/home/fradav/.micromamba/envs/miashs-hpc/lib/python3.12/site-packages/pandas/io/formats/console.py\": 1726879021.6050725, \"/home/fradav/.micromamba/envs/miashs-hpc/lib/python3.12/site-packages/pandas/core/arrays/categorical.py\": 1726879021.5670722, \"/home/fradav/.micromamba/envs/miashs-hpc/lib/python3.12/site-packages/pandas/_libs/tslib.cpython-312-x86_64-linux-gnu.so\": 1726879048.7763534, \"/home/fradav/.micromamba/envs/miashs-hpc/lib/python3.12/site-packages/pandas/core/array_algos/datetimelike_accumulations.py\": 1726879021.5640721, \"/home/fradav/.micromamba/envs/miashs-hpc/lib/python3.12/site-packages/pandas/core/arrays/datetimelike.py\": 1726879021.5670722, \"/home/fradav/.micromamba/envs/miashs-hpc/lib/python3.12/site-packages/pandas/core/arrays/_ranges.py\": 1726879021.5660722, \"/home/fradav/.micromamba/envs/miashs-hpc/lib/python3.12/site-packages/pandas/tseries/offsets.py\": 1726879021.8600757, \"/home/fradav/.micromamba/envs/miashs-hpc/lib/python3.12/site-packages/pandas/core/arrays/datetimes.py\": 1726879021.568072, \"/home/fradav/.micromamba/envs/miashs-hpc/lib/python3.12/site-packages/pandas/core/arrays/timedeltas.py\": 1726879021.5700722, \"/home/fradav/.micromamba/envs/miashs-hpc/lib/python3.12/site-packages/pandas/core/arrays/interval.py\": 1726879021.568072, \"/home/fradav/.micromamba/envs/miashs-hpc/lib/python3.12/site-packages/pandas/core/arrays/period.py\": 1726879021.5690722, \"/home/fradav/.micromamba/envs/miashs-hpc/lib/python3.12/site-packages/pandas/_libs/sparse.cpython-312-x86_64-linux-gnu.so\": 1726879049.199358, \"/home/fradav/.micromamba/envs/miashs-hpc/lib/python3.12/site-packages/pandas/io/formats/printing.py\": 1726879021.6070726, \"/home/fradav/.micromamba/envs/miashs-hpc/lib/python3.12/site-packages/pandas/core/arrays/sparse/array.py\": 1726879021.5720723, \"/home/fradav/.micromamba/envs/miashs-hpc/lib/python3.12/site-packages/pandas/core/arrays/sparse/accessor.py\": 1726879021.5720723, \"/home/fradav/.micromamba/envs/miashs-hpc/lib/python3.12/site-packages/pandas/core/arrays/sparse/__init__.py\": 1726879021.571072, \"/home/fradav/.micromamba/envs/miashs-hpc/lib/python3.12/site-packages/pandas/core/arrays/arrow/_arrow_utils.py\": 1726879021.5700722, \"/home/fradav/.micromamba/envs/miashs-hpc/lib/python3.12/site-packages/pandas/core/arrays/string_arrow.py\": 1726879021.5700722, \"/home/fradav/.micromamba/envs/miashs-hpc/lib/python3.12/site-packages/pandas/core/arrays/__init__.py\": 1726879021.5660722, \"/home/fradav/.micromamba/envs/miashs-hpc/lib/python3.12/site-packages/pandas/core/flags.py\": 1726879021.557072, \"/home/fradav/.micromamba/envs/miashs-hpc/lib/python3.12/site-packages/pandas/_libs/internals.cpython-312-x86_64-linux-gnu.so\": 1726879049.2413585, \"/home/fradav/.micromamba/envs/miashs-hpc/lib/python3.12/site-packages/pandas/core/_numba/__init__.py\": 1726879021.562072, \"/home/fradav/.micromamba/envs/miashs-hpc/lib/python3.12/site-packages/pandas/core/_numba/executor.py\": 1726879021.562072, \"/home/fradav/.micromamba/envs/miashs-hpc/lib/python3.12/site-packages/pandas/core/apply.py\": 1726879021.556072, \"/home/fradav/.micromamba/envs/miashs-hpc/lib/python3.12/site-packages/pandas/_libs/indexing.cpython-312-x86_64-linux-gnu.so\": 1726879049.1323574, \"/home/fradav/.micromamba/envs/miashs-hpc/lib/python3.12/site-packages/pandas/core/indexes/__init__.py\": 1726879021.5800722, \"/home/fradav/.micromamba/envs/miashs-hpc/lib/python3.12/site-packages/pandas/_libs/index.cpython-312-x86_64-linux-gnu.so\": 1726879049.703364, \"/home/fradav/.micromamba/envs/miashs-hpc/lib/python3.12/site-packages/pandas/_libs/writers.cpython-312-x86_64-linux-gnu.so\": 1726879049.5743623, \"/home/fradav/.micromamba/envs/miashs-hpc/lib/python3.12/site-packages/pandas/_libs/join.cpython-312-x86_64-linux-gnu.so\": 1726879049.3113594, \"/home/fradav/.micromamba/envs/miashs-hpc/lib/python3.12/site-packages/pandas/core/array_algos/putmask.py\": 1726879021.565072, \"/home/fradav/.micromamba/envs/miashs-hpc/lib/python3.12/site-packages/pandas/core/indexes/frozen.py\": 1726879021.5830724, \"/home/fradav/.micromamba/envs/miashs-hpc/lib/python3.12/site-packages/pandas/core/strings/accessor.py\": 1726879021.5940723, \"/home/fradav/.micromamba/envs/miashs-hpc/lib/python3.12/site-packages/pandas/core/indexes/base.py\": 1726879021.5810723, \"/home/fradav/.micromamba/envs/miashs-hpc/lib/python3.12/site-packages/pandas/core/indexes/extension.py\": 1726879021.5820723, \"/home/fradav/.micromamba/envs/miashs-hpc/lib/python3.12/site-packages/pandas/core/indexes/category.py\": 1726879021.5810723, \"/home/fradav/.micromamba/envs/miashs-hpc/lib/python3.12/site-packages/pandas/core/indexes/range.py\": 1726879021.5840724, \"/home/fradav/.micromamba/envs/miashs-hpc/lib/python3.12/site-packages/pandas/core/tools/__init__.py\": 1726879021.5940723, \"/home/fradav/.micromamba/envs/miashs-hpc/lib/python3.12/site-packages/pandas/core/tools/timedeltas.py\": 1726879021.5950725, \"/home/fradav/.micromamba/envs/miashs-hpc/lib/python3.12/site-packages/pandas/core/indexes/datetimelike.py\": 1726879021.5820723, \"/home/fradav/.micromamba/envs/miashs-hpc/lib/python3.12/site-packages/pandas/core/tools/times.py\": 1726879021.5950725, \"/home/fradav/.micromamba/envs/miashs-hpc/lib/python3.12/site-packages/pandas/core/indexes/datetimes.py\": 1726879021.5820723, \"/home/fradav/.micromamba/envs/miashs-hpc/lib/python3.12/site-packages/pandas/core/indexes/multi.py\": 1726879021.5830724, \"/home/fradav/.micromamba/envs/miashs-hpc/lib/python3.12/site-packages/pandas/core/indexes/timedeltas.py\": 1726879021.5840724, \"/home/fradav/.micromamba/envs/miashs-hpc/lib/python3.12/site-packages/pandas/core/indexes/interval.py\": 1726879021.5830724, \"/home/fradav/.micromamba/envs/miashs-hpc/lib/python3.12/site-packages/pandas/core/indexes/period.py\": 1726879021.5830724, \"/home/fradav/.micromamba/envs/miashs-hpc/lib/python3.12/site-packages/pandas/core/indexes/api.py\": 1726879021.5800722, \"/home/fradav/.micromamba/envs/miashs-hpc/lib/python3.12/site-packages/pandas/core/indexing.py\": 1726879021.559072, \"/home/fradav/.micromamba/envs/miashs-hpc/lib/python3.12/site-packages/pandas/core/sample.py\": 1726879021.561072, \"/home/fradav/.micromamba/envs/miashs-hpc/lib/python3.12/site-packages/pandas/core/array_algos/replace.py\": 1726879021.565072, \"/home/fradav/.micromamba/envs/miashs-hpc/lib/python3.12/site-packages/pandas/core/internals/blocks.py\": 1726879021.5870724, \"/home/fradav/.micromamba/envs/miashs-hpc/lib/python3.12/site-packages/pandas/core/internals/api.py\": 1726879021.5860724, \"/home/fradav/.micromamba/envs/miashs-hpc/lib/python3.12/site-packages/pandas/core/internals/base.py\": 1726879021.5860724, \"/home/fradav/.micromamba/envs/miashs-hpc/lib/python3.12/site-packages/pandas/core/internals/ops.py\": 1726879021.5880723, \"/home/fradav/.micromamba/envs/miashs-hpc/lib/python3.12/site-packages/pandas/core/internals/managers.py\": 1726879021.5880723, \"/home/fradav/.micromamba/envs/miashs-hpc/lib/python3.12/site-packages/pandas/core/internals/array_manager.py\": 1726879021.5860724, \"/home/fradav/.micromamba/envs/miashs-hpc/lib/python3.12/site-packages/pandas/core/internals/concat.py\": 1726879021.5870724, \"/home/fradav/.micromamba/envs/miashs-hpc/lib/python3.12/site-packages/pandas/core/internals/__init__.py\": 1726879021.5860724, \"/home/fradav/.micromamba/envs/miashs-hpc/lib/python3.12/site-packages/pandas/core/internals/construction.py\": 1726879021.5870724, \"/home/fradav/.micromamba/envs/miashs-hpc/lib/python3.12/site-packages/pandas/core/methods/__init__.py\": 1726879021.5880723, \"/home/fradav/.micromamba/envs/miashs-hpc/lib/python3.12/site-packages/pandas/core/reshape/__init__.py\": 1726879021.5900724, \"/home/fradav/.micromamba/envs/miashs-hpc/lib/python3.12/site-packages/pandas/core/reshape/concat.py\": 1726879021.5910723, \"/home/fradav/.micromamba/envs/miashs-hpc/lib/python3.12/lib-dynload/mmap.cpython-312-x86_64-linux-gnu.so\": 1727016395.965877, \"/home/fradav/.micromamba/envs/miashs-hpc/lib/python3.12/lib-dynload/grp.cpython-312-x86_64-linux-gnu.so\": 1727016396.5078893, \"/home/fradav/.micromamba/envs/miashs-hpc/lib/python3.12/tarfile.py\": 1727016368.1172392, \"/home/fradav/.micromamba/envs/miashs-hpc/lib/python3.12/site-packages/pandas/core/shared_docs.py\": 1726879021.562072, \"/home/fradav/.micromamba/envs/miashs-hpc/lib/python3.12/site-packages/pandas/io/common.py\": 1726879021.5980725, \"/home/fradav/.micromamba/envs/miashs-hpc/lib/python3.12/site-packages/pandas/io/formats/format.py\": 1726879021.6060727, \"/home/fradav/.micromamba/envs/miashs-hpc/lib/python3.12/site-packages/pandas/core/methods/describe.py\": 1726879021.5880723, \"/home/fradav/.micromamba/envs/miashs-hpc/lib/python3.12/site-packages/pandas/_libs/window/__init__.py\": 1726879021.5480719, \"/home/fradav/.micromamba/envs/miashs-hpc/lib/python3.12/site-packages/pandas/_libs/window/aggregations.cpython-312-x86_64-linux-gnu.so\": 1726879048.9863555, \"/home/fradav/.micromamba/envs/miashs-hpc/lib/python3.12/site-packages/pandas/_libs/window/indexers.cpython-312-x86_64-linux-gnu.so\": 1726879049.448361, \"/home/fradav/.micromamba/envs/miashs-hpc/lib/python3.12/site-packages/pandas/core/indexers/objects.py\": 1726879021.5800722, \"/home/fradav/.micromamba/envs/miashs-hpc/lib/python3.12/site-packages/pandas/core/util/numba_.py\": 1726879021.5950725, \"/home/fradav/.micromamba/envs/miashs-hpc/lib/python3.12/site-packages/pandas/core/window/common.py\": 1726879021.5960724, \"/home/fradav/.micromamba/envs/miashs-hpc/lib/python3.12/site-packages/pandas/core/window/doc.py\": 1726879021.5960724, \"/home/fradav/.micromamba/envs/miashs-hpc/lib/python3.12/site-packages/pandas/core/window/numba_.py\": 1726879021.5970724, \"/home/fradav/.micromamba/envs/miashs-hpc/lib/python3.12/site-packages/pandas/core/window/online.py\": 1726879021.5970724, \"/home/fradav/.micromamba/envs/miashs-hpc/lib/python3.12/site-packages/pandas/core/window/rolling.py\": 1726879021.5970724, \"/home/fradav/.micromamba/envs/miashs-hpc/lib/python3.12/site-packages/pandas/core/window/ewm.py\": 1726879021.5960724, \"/home/fradav/.micromamba/envs/miashs-hpc/lib/python3.12/site-packages/pandas/core/window/expanding.py\": 1726879021.5960724, \"/home/fradav/.micromamba/envs/miashs-hpc/lib/python3.12/site-packages/pandas/core/window/__init__.py\": 1726879021.5960724, \"/home/fradav/.micromamba/envs/miashs-hpc/lib/python3.12/site-packages/pandas/core/generic.py\": 1726879021.559072, \"/home/fradav/.micromamba/envs/miashs-hpc/lib/python3.12/site-packages/pandas/core/methods/selectn.py\": 1726879021.5890725, \"/home/fradav/.micromamba/envs/miashs-hpc/lib/python3.12/site-packages/pandas/core/reshape/util.py\": 1726879021.5930724, \"/home/fradav/.micromamba/envs/miashs-hpc/lib/python3.12/site-packages/pandas/core/tools/numeric.py\": 1726879021.5950725, \"/home/fradav/.micromamba/envs/miashs-hpc/lib/python3.12/site-packages/pandas/core/reshape/melt.py\": 1726879021.5910723, \"/home/fradav/.micromamba/envs/miashs-hpc/lib/python3.12/site-packages/pandas/_libs/reshape.cpython-312-x86_64-linux-gnu.so\": 1726879048.836354, \"/home/fradav/.micromamba/envs/miashs-hpc/lib/python3.12/site-packages/pandas/core/indexes/accessors.py\": 1726879021.5800722, \"/home/fradav/.micromamba/envs/miashs-hpc/lib/python3.12/site-packages/pandas/arrays/__init__.py\": 1726879021.553072, \"/home/fradav/.micromamba/envs/miashs-hpc/lib/python3.12/site-packages/pandas/core/tools/datetimes.py\": 1726879021.5940723, \"/home/fradav/.micromamba/envs/miashs-hpc/lib/python3.12/site-packages/pandas/io/formats/info.py\": 1726879021.6070726, \"/home/fradav/.micromamba/envs/miashs-hpc/lib/python3.12/site-packages/pandas/plotting/_core.py\": 1726879021.6140728, \"/home/fradav/.micromamba/envs/miashs-hpc/lib/python3.12/site-packages/pandas/plotting/_misc.py\": 1726879021.6140728, \"/home/fradav/.micromamba/envs/miashs-hpc/lib/python3.12/site-packages/pandas/plotting/__init__.py\": 1726879021.6140728, \"/home/fradav/.micromamba/envs/miashs-hpc/lib/python3.12/site-packages/pandas/core/series.py\": 1726879021.561072, \"/home/fradav/.micromamba/envs/miashs-hpc/lib/python3.12/site-packages/pandas/core/frame.py\": 1726879021.558072, \"/home/fradav/.micromamba/envs/miashs-hpc/lib/python3.12/site-packages/pandas/core/groupby/base.py\": 1726879021.5770721, \"/home/fradav/.micromamba/envs/miashs-hpc/lib/python3.12/site-packages/pandas/_libs/groupby.cpython-312-x86_64-linux-gnu.so\": 1726879048.6473517, \"/home/fradav/.micromamba/envs/miashs-hpc/lib/python3.12/site-packages/pandas/core/groupby/categorical.py\": 1726879021.5780723, \"/home/fradav/.micromamba/envs/miashs-hpc/lib/python3.12/site-packages/pandas/core/groupby/grouper.py\": 1726879021.5790722, \"/home/fradav/.micromamba/envs/miashs-hpc/lib/python3.12/site-packages/pandas/core/groupby/ops.py\": 1726879021.5790722, \"/home/fradav/.micromamba/envs/miashs-hpc/lib/python3.12/site-packages/pandas/core/groupby/numba_.py\": 1726879021.5790722, \"/home/fradav/.micromamba/envs/miashs-hpc/lib/python3.12/site-packages/pandas/core/groupby/indexing.py\": 1726879021.5790722, \"/home/fradav/.micromamba/envs/miashs-hpc/lib/python3.12/site-packages/pandas/core/groupby/groupby.py\": 1726879021.5780723, \"/home/fradav/.micromamba/envs/miashs-hpc/lib/python3.12/site-packages/pandas/core/groupby/generic.py\": 1726879021.5780723, \"/home/fradav/.micromamba/envs/miashs-hpc/lib/python3.12/site-packages/pandas/core/groupby/__init__.py\": 1726879021.5770721, \"/home/fradav/.micromamba/envs/miashs-hpc/lib/python3.12/site-packages/pandas/core/api.py\": 1726879021.556072, \"/home/fradav/.micromamba/envs/miashs-hpc/lib/python3.12/site-packages/pandas/tseries/api.py\": 1726879021.8600757, \"/home/fradav/.micromamba/envs/miashs-hpc/lib/python3.12/site-packages/pandas/core/computation/common.py\": 1726879021.5730722, \"/home/fradav/.micromamba/envs/miashs-hpc/lib/python3.12/site-packages/pandas/core/computation/align.py\": 1726879021.5720723, \"/home/fradav/.micromamba/envs/miashs-hpc/lib/python3.12/site-packages/pandas/core/computation/scope.py\": 1726879021.5740721, \"/home/fradav/.micromamba/envs/miashs-hpc/lib/python3.12/site-packages/pandas/core/computation/ops.py\": 1726879021.5740721, \"/home/fradav/.micromamba/envs/miashs-hpc/lib/python3.12/site-packages/pandas/core/computation/engines.py\": 1726879021.5730722, \"/home/fradav/.micromamba/envs/miashs-hpc/lib/python3.12/site-packages/pandas/core/computation/parsing.py\": 1726879021.5740721, \"/home/fradav/.micromamba/envs/miashs-hpc/lib/python3.12/site-packages/pandas/core/computation/expr.py\": 1726879021.5730722, \"/home/fradav/.micromamba/envs/miashs-hpc/lib/python3.12/site-packages/pandas/core/computation/eval.py\": 1726879021.5730722, \"/home/fradav/.micromamba/envs/miashs-hpc/lib/python3.12/site-packages/pandas/core/computation/api.py\": 1726879021.5730722, \"/home/fradav/.micromamba/envs/miashs-hpc/lib/python3.12/site-packages/pandas/core/reshape/encoding.py\": 1726879021.5910723, \"/home/fradav/.micromamba/envs/miashs-hpc/lib/python3.12/site-packages/pandas/core/reshape/merge.py\": 1726879021.5910723, \"/home/fradav/.micromamba/envs/miashs-hpc/lib/python3.12/site-packages/pandas/core/reshape/pivot.py\": 1726879021.5920725, \"/home/fradav/.micromamba/envs/miashs-hpc/lib/python3.12/site-packages/pandas/core/reshape/tile.py\": 1726879021.5920725, \"/home/fradav/.micromamba/envs/miashs-hpc/lib/python3.12/site-packages/pandas/core/reshape/api.py\": 1726879021.5910723, \"/home/fradav/.micromamba/envs/miashs-hpc/lib/python3.12/site-packages/pandas/api/extensions/__init__.py\": 1726879021.552072, \"/home/fradav/.micromamba/envs/miashs-hpc/lib/python3.12/site-packages/pandas/api/indexers/__init__.py\": 1726879021.552072, \"/home/fradav/.micromamba/envs/miashs-hpc/lib/python3.12/site-packages/pandas/core/interchange/__init__.py\": 1726879021.5840724, \"/home/fradav/.micromamba/envs/miashs-hpc/lib/python3.12/site-packages/pandas/core/interchange/dataframe_protocol.py\": 1726879021.5850723, \"/home/fradav/.micromamba/envs/miashs-hpc/lib/python3.12/site-packages/pandas/core/interchange/utils.py\": 1726879021.5850723, \"/home/fradav/.micromamba/envs/miashs-hpc/lib/python3.12/site-packages/pandas/core/interchange/from_dataframe.py\": 1726879021.5850723, \"/home/fradav/.micromamba/envs/miashs-hpc/lib/python3.12/site-packages/pandas/api/interchange/__init__.py\": 1726879021.553072, \"/home/fradav/.micromamba/envs/miashs-hpc/lib/python3.12/site-packages/pandas/core/dtypes/api.py\": 1726879021.5750723, \"/home/fradav/.micromamba/envs/miashs-hpc/lib/python3.12/site-packages/pandas/api/types/__init__.py\": 1726879021.553072, \"/home/fradav/.micromamba/envs/miashs-hpc/lib/python3.12/site-packages/pandas/core/resample.py\": 1726879021.560072, \"/home/fradav/.micromamba/envs/miashs-hpc/lib/python3.12/site-packages/pandas/_libs/json.cpython-312-x86_64-linux-gnu.so\": 1726879049.0873568, \"/home/fradav/.micromamba/envs/miashs-hpc/lib/python3.12/site-packages/pandas/io/json/_normalize.py\": 1726879021.6100726, \"/home/fradav/.micromamba/envs/miashs-hpc/lib/python3.12/site-packages/pandas/io/json/_table_schema.py\": 1726879021.6100726, \"/home/fradav/.micromamba/envs/miashs-hpc/lib/python3.12/site-packages/pandas/_libs/parsers.cpython-312-x86_64-linux-gnu.so\": 1726879049.0033557, \"/home/fradav/.micromamba/envs/miashs-hpc/lib/python3.12/site-packages/pandas/io/parsers/base_parser.py\": 1726879021.6110725, \"/home/fradav/.micromamba/envs/miashs-hpc/lib/python3.12/site-packages/pandas/io/parsers/arrow_parser_wrapper.py\": 1726879021.6110725, \"/home/fradav/.micromamba/envs/miashs-hpc/lib/python3.12/site-packages/pandas/io/parsers/c_parser_wrapper.py\": 1726879021.6110725, \"/home/fradav/.micromamba/envs/miashs-hpc/lib/python3.12/site-packages/pandas/io/parsers/python_parser.py\": 1726879021.6120727, \"/home/fradav/.micromamba/envs/miashs-hpc/lib/python3.12/site-packages/pandas/io/parsers/readers.py\": 1726879021.6120727, \"/home/fradav/.micromamba/envs/miashs-hpc/lib/python3.12/site-packages/pandas/io/parsers/__init__.py\": 1726879021.6110725, \"/home/fradav/.micromamba/envs/miashs-hpc/lib/python3.12/site-packages/pandas/io/json/_json.py\": 1726879021.6100726, \"/home/fradav/.micromamba/envs/miashs-hpc/lib/python3.12/site-packages/pandas/io/json/__init__.py\": 1726879021.6100726, \"/home/fradav/.micromamba/envs/miashs-hpc/lib/python3.12/site-packages/pandas/io/stata.py\": 1726879021.6010725, \"/home/fradav/.micromamba/envs/miashs-hpc/lib/python3.12/site-packages/pandas/api/typing/__init__.py\": 1726879021.553072, \"/home/fradav/.micromamba/envs/miashs-hpc/lib/python3.12/site-packages/pandas/api/__init__.py\": 1726879021.552072, \"/home/fradav/.micromamba/envs/miashs-hpc/lib/python3.12/site-packages/pandas/_testing/contexts.py\": 1726879021.552072, \"/home/fradav/.micromamba/envs/miashs-hpc/lib/python3.12/site-packages/pandas/_testing/_io.py\": 1726879021.551072, \"/home/fradav/.micromamba/envs/miashs-hpc/lib/python3.12/site-packages/pandas/_testing/_warnings.py\": 1726879021.551072, \"/home/fradav/.micromamba/envs/miashs-hpc/lib/python3.12/lib-dynload/cmath.cpython-312-x86_64-linux-gnu.so\": 1727016397.290907, \"/home/fradav/.micromamba/envs/miashs-hpc/lib/python3.12/site-packages/pandas/_libs/testing.cpython-312-x86_64-linux-gnu.so\": 1726879048.8063536, \"/home/fradav/.micromamba/envs/miashs-hpc/lib/python3.12/site-packages/pandas/_testing/asserters.py\": 1726879021.551072, \"/home/fradav/.micromamba/envs/miashs-hpc/lib/python3.12/site-packages/pandas/_testing/compat.py\": 1726879021.551072, \"/home/fradav/.micromamba/envs/miashs-hpc/lib/python3.12/site-packages/pandas/_testing/__init__.py\": 1726879021.550072, \"/home/fradav/.micromamba/envs/miashs-hpc/lib/python3.12/site-packages/pandas/testing.py\": 1726879021.5490718, \"/home/fradav/.micromamba/envs/miashs-hpc/lib/python3.12/site-packages/pandas/util/_print_versions.py\": 1726879021.8610756, \"/home/fradav/.micromamba/envs/miashs-hpc/lib/python3.12/site-packages/pandas/io/clipboards.py\": 1726879021.5980725, \"/home/fradav/.micromamba/envs/miashs-hpc/lib/python3.12/site-packages/pandas/io/excel/_util.py\": 1726879021.6040726, \"/home/fradav/.micromamba/envs/miashs-hpc/lib/python3.12/site-packages/pandas/io/excel/_calamine.py\": 1726879021.6030726, \"/home/fradav/.micromamba/envs/miashs-hpc/lib/python3.12/site-packages/pandas/io/excel/_odfreader.py\": 1726879021.6030726, \"/home/fradav/.micromamba/envs/miashs-hpc/lib/python3.12/site-packages/pandas/io/excel/_openpyxl.py\": 1726879021.6040726, \"/home/fradav/.micromamba/envs/miashs-hpc/lib/python3.12/site-packages/pandas/io/excel/_pyxlsb.py\": 1726879021.6040726, \"/home/fradav/.micromamba/envs/miashs-hpc/lib/python3.12/site-packages/pandas/io/excel/_xlrd.py\": 1726879021.6040726, \"/home/fradav/.micromamba/envs/miashs-hpc/lib/python3.12/site-packages/pandas/io/excel/_base.py\": 1726879021.6030726, \"/home/fradav/.micromamba/envs/miashs-hpc/lib/python3.12/site-packages/pandas/io/excel/_odswriter.py\": 1726879021.6040726, \"/home/fradav/.micromamba/envs/miashs-hpc/lib/python3.12/site-packages/pandas/io/excel/_xlsxwriter.py\": 1726879021.6050725, \"/home/fradav/.micromamba/envs/miashs-hpc/lib/python3.12/site-packages/pandas/io/excel/__init__.py\": 1726879021.6030726, \"/home/fradav/.micromamba/envs/miashs-hpc/lib/python3.12/site-packages/pandas/io/feather_format.py\": 1726879021.5990725, \"/home/fradav/.micromamba/envs/miashs-hpc/lib/python3.12/site-packages/pandas/io/gbq.py\": 1726879021.5990725, \"/home/fradav/.micromamba/envs/miashs-hpc/lib/python3.12/site-packages/pandas/io/html.py\": 1726879021.5990725, \"/home/fradav/.micromamba/envs/miashs-hpc/lib/python3.12/site-packages/pandas/io/orc.py\": 1726879021.5990725, \"/home/fradav/.micromamba/envs/miashs-hpc/lib/python3.12/site-packages/pandas/io/parquet.py\": 1726879021.6000726, \"/home/fradav/.micromamba/envs/miashs-hpc/lib/python3.12/site-packages/pandas/compat/pickle_compat.py\": 1726879021.554072, \"/home/fradav/.micromamba/envs/miashs-hpc/lib/python3.12/site-packages/pandas/io/pickle.py\": 1726879021.6000726, \"/home/fradav/.micromamba/envs/miashs-hpc/lib/python3.12/site-packages/pandas/core/computation/pytables.py\": 1726879021.5740721, \"/home/fradav/.micromamba/envs/miashs-hpc/lib/python3.12/site-packages/pandas/io/pytables.py\": 1726879021.6000726, \"/home/fradav/.micromamba/envs/miashs-hpc/lib/python3.12/site-packages/pandas/io/sas/sasreader.py\": 1726879021.6130726, \"/home/fradav/.micromamba/envs/miashs-hpc/lib/python3.12/site-packages/pandas/io/sas/__init__.py\": 1726879021.6120727, \"/home/fradav/.micromamba/envs/miashs-hpc/lib/python3.12/site-packages/pandas/io/spss.py\": 1726879021.6010725, \"/home/fradav/.micromamba/envs/miashs-hpc/lib/python3.12/site-packages/pandas/io/sql.py\": 1726879021.6010725, \"/home/fradav/.micromamba/envs/miashs-hpc/lib/python3.12/site-packages/pandas/io/xml.py\": 1726879021.6020725, \"/home/fradav/.micromamba/envs/miashs-hpc/lib/python3.12/site-packages/pandas/io/api.py\": 1726879021.5980725, \"/home/fradav/.micromamba/envs/miashs-hpc/lib/python3.12/site-packages/pandas/util/_tester.py\": 1726879021.8620758, \"/home/fradav/.micromamba/envs/miashs-hpc/lib/python3.12/site-packages/pandas/_version_meson.py\": 1726879021.541072, \"/home/fradav/.micromamba/envs/miashs-hpc/lib/python3.12/site-packages/pandas/__init__.py\": 1726879021.5480719}\n"
     ]
    }
   ],
   "source": [
    "\n",
    "# imports\n",
    "import os\n",
    "import sys\n",
    "import types\n",
    "import json\n",
    "import base64\n",
    "\n",
    "# figure size/format\n",
    "fig_width = 7\n",
    "fig_height = 5\n",
    "fig_format = 'retina'\n",
    "fig_dpi = 96\n",
    "interactivity = ''\n",
    "is_shiny = False\n",
    "is_dashboard = False\n",
    "plotly_connected = True\n",
    "\n",
    "# matplotlib defaults / format\n",
    "try:\n",
    "  import matplotlib.pyplot as plt\n",
    "  plt.rcParams['figure.figsize'] = (fig_width, fig_height)\n",
    "  plt.rcParams['figure.dpi'] = fig_dpi\n",
    "  plt.rcParams['savefig.dpi'] = \"figure\"\n",
    "  from IPython.display import set_matplotlib_formats\n",
    "  set_matplotlib_formats(fig_format)\n",
    "except Exception:\n",
    "  pass\n",
    "\n",
    "# plotly use connected mode\n",
    "try:\n",
    "  import plotly.io as pio\n",
    "  if plotly_connected:\n",
    "    pio.renderers.default = \"notebook_connected\"\n",
    "  else:\n",
    "    pio.renderers.default = \"notebook\"\n",
    "  for template in pio.templates.keys():\n",
    "    pio.templates[template].layout.margin = dict(t=30,r=0,b=0,l=0)\n",
    "except Exception:\n",
    "  pass\n",
    "\n",
    "# disable itables paging for dashboards\n",
    "if is_dashboard:\n",
    "  try:\n",
    "    from itables import options\n",
    "    options.dom = 'fiBrtlp'\n",
    "    options.maxBytes = 1024 * 1024\n",
    "    options.language = dict(info = \"Showing _TOTAL_ entries\")\n",
    "    options.classes = \"display nowrap compact\"\n",
    "    options.paging = False\n",
    "    options.searching = True\n",
    "    options.ordering = True\n",
    "    options.info = True\n",
    "    options.lengthChange = False\n",
    "    options.autoWidth = False\n",
    "    options.responsive = True\n",
    "    options.keys = True\n",
    "    options.buttons = []\n",
    "  except Exception:\n",
    "    pass\n",
    "  \n",
    "  try:\n",
    "    import altair as alt\n",
    "    # By default, dashboards will have container sized\n",
    "    # vega visualizations which allows them to flow reasonably\n",
    "    theme_sentinel = '_quarto-dashboard-internal'\n",
    "    def make_theme(name):\n",
    "        nonTheme = alt.themes._plugins[name]    \n",
    "        def patch_theme(*args, **kwargs):\n",
    "            existingTheme = nonTheme()\n",
    "            if 'height' not in existingTheme:\n",
    "              existingTheme['height'] = 'container'\n",
    "            if 'width' not in existingTheme:\n",
    "              existingTheme['width'] = 'container'\n",
    "\n",
    "            if 'config' not in existingTheme:\n",
    "              existingTheme['config'] = dict()\n",
    "            \n",
    "            # Configure the default font sizes\n",
    "            title_font_size = 15\n",
    "            header_font_size = 13\n",
    "            axis_font_size = 12\n",
    "            legend_font_size = 12\n",
    "            mark_font_size = 12\n",
    "            tooltip = False\n",
    "\n",
    "            config = existingTheme['config']\n",
    "\n",
    "            # The Axis\n",
    "            if 'axis' not in config:\n",
    "              config['axis'] = dict()\n",
    "            axis = config['axis']\n",
    "            if 'labelFontSize' not in axis:\n",
    "              axis['labelFontSize'] = axis_font_size\n",
    "            if 'titleFontSize' not in axis:\n",
    "              axis['titleFontSize'] = axis_font_size  \n",
    "\n",
    "            # The legend\n",
    "            if 'legend' not in config:\n",
    "              config['legend'] = dict()\n",
    "            legend = config['legend']\n",
    "            if 'labelFontSize' not in legend:\n",
    "              legend['labelFontSize'] = legend_font_size\n",
    "            if 'titleFontSize' not in legend:\n",
    "              legend['titleFontSize'] = legend_font_size  \n",
    "\n",
    "            # The header\n",
    "            if 'header' not in config:\n",
    "              config['header'] = dict()\n",
    "            header = config['header']\n",
    "            if 'labelFontSize' not in header:\n",
    "              header['labelFontSize'] = header_font_size\n",
    "            if 'titleFontSize' not in header:\n",
    "              header['titleFontSize'] = header_font_size    \n",
    "\n",
    "            # Title\n",
    "            if 'title' not in config:\n",
    "              config['title'] = dict()\n",
    "            title = config['title']\n",
    "            if 'fontSize' not in title:\n",
    "              title['fontSize'] = title_font_size\n",
    "\n",
    "            # Marks\n",
    "            if 'mark' not in config:\n",
    "              config['mark'] = dict()\n",
    "            mark = config['mark']\n",
    "            if 'fontSize' not in mark:\n",
    "              mark['fontSize'] = mark_font_size\n",
    "\n",
    "            # Mark tooltips\n",
    "            if tooltip and 'tooltip' not in mark:\n",
    "              mark['tooltip'] = dict(content=\"encoding\")\n",
    "\n",
    "            return existingTheme\n",
    "            \n",
    "        return patch_theme\n",
    "\n",
    "    # We can only do this once per session\n",
    "    if theme_sentinel not in alt.themes.names():\n",
    "      for name in alt.themes.names():\n",
    "        alt.themes.register(name, make_theme(name))\n",
    "      \n",
    "      # register a sentinel theme so we only do this once\n",
    "      alt.themes.register(theme_sentinel, make_theme('default'))\n",
    "      alt.themes.enable('default')\n",
    "\n",
    "  except Exception:\n",
    "    pass\n",
    "\n",
    "# enable pandas latex repr when targeting pdfs\n",
    "try:\n",
    "  import pandas as pd\n",
    "  if fig_format == 'pdf':\n",
    "    pd.set_option('display.latex.repr', True)\n",
    "except Exception:\n",
    "  pass\n",
    "\n",
    "# interactivity\n",
    "if interactivity:\n",
    "  from IPython.core.interactiveshell import InteractiveShell\n",
    "  InteractiveShell.ast_node_interactivity = interactivity\n",
    "\n",
    "# NOTE: the kernel_deps code is repeated in the cleanup.py file\n",
    "# (we can't easily share this code b/c of the way it is run).\n",
    "# If you edit this code also edit the same code in cleanup.py!\n",
    "\n",
    "# output kernel dependencies\n",
    "kernel_deps = dict()\n",
    "for module in list(sys.modules.values()):\n",
    "  # Some modules play games with sys.modules (e.g. email/__init__.py\n",
    "  # in the standard library), and occasionally this can cause strange\n",
    "  # failures in getattr.  Just ignore anything that's not an ordinary\n",
    "  # module.\n",
    "  if not isinstance(module, types.ModuleType):\n",
    "    continue\n",
    "  path = getattr(module, \"__file__\", None)\n",
    "  if not path:\n",
    "    continue\n",
    "  if path.endswith(\".pyc\") or path.endswith(\".pyo\"):\n",
    "    path = path[:-1]\n",
    "  if not os.path.exists(path):\n",
    "    continue\n",
    "  kernel_deps[path] = os.stat(path).st_mtime\n",
    "print(json.dumps(kernel_deps))\n",
    "\n",
    "# set run_path if requested\n",
    "run_path = 'L2hvbWUvZnJhZGF2L0Rldi9QeXRob24vbWlhc2hzLTItYWR2YW5jZWQtcHJvZ3JhbW1pbmctcGFyYWxsZWwtY29tcHV0aW5nLTIwMjQtMjAyNS9Db3Vyc2VzL1NvbHV0aW9ucw=='\n",
    "if run_path:\n",
    "  # hex-decode the path\n",
    "  run_path = base64.b64decode(run_path.encode(\"utf-8\")).decode(\"utf-8\")\n",
    "  os.chdir(run_path)\n",
    "\n",
    "# reset state\n",
    "%reset\n",
    "\n",
    "# shiny\n",
    "# Checking for shiny by using False directly because we're after the %reset. We don't want\n",
    "# to set a variable that stays in global scope.\n",
    "if False:\n",
    "  try:\n",
    "    import htmltools as _htmltools\n",
    "    import ast as _ast\n",
    "\n",
    "    _htmltools.html_dependency_render_mode = \"json\"\n",
    "\n",
    "    # This decorator will be added to all function definitions\n",
    "    def _display_if_has_repr_html(x):\n",
    "      try:\n",
    "        # IPython 7.14 preferred import\n",
    "        from IPython.display import display, HTML\n",
    "      except:\n",
    "        from IPython.core.display import display, HTML\n",
    "\n",
    "      if hasattr(x, '_repr_html_'):\n",
    "        display(HTML(x._repr_html_()))\n",
    "      return x\n",
    "\n",
    "    # ideally we would undo the call to ast_transformers.append\n",
    "    # at the end of this block whenver an error occurs, we do \n",
    "    # this for now as it will only be a problem if the user \n",
    "    # switches from shiny to not-shiny mode (and even then likely\n",
    "    # won't matter)\n",
    "    import builtins\n",
    "    builtins._display_if_has_repr_html = _display_if_has_repr_html\n",
    "\n",
    "    class _FunctionDefReprHtml(_ast.NodeTransformer):\n",
    "      def visit_FunctionDef(self, node):\n",
    "        node.decorator_list.insert(\n",
    "          0,\n",
    "          _ast.Name(id=\"_display_if_has_repr_html\", ctx=_ast.Load())\n",
    "        )\n",
    "        return node\n",
    "\n",
    "      def visit_AsyncFunctionDef(self, node):\n",
    "        node.decorator_list.insert(\n",
    "          0,\n",
    "          _ast.Name(id=\"_display_if_has_repr_html\", ctx=_ast.Load())\n",
    "        )\n",
    "        return node\n",
    "\n",
    "    ip = get_ipython()\n",
    "    ip.ast_transformers.append(_FunctionDefReprHtml())\n",
    "\n",
    "  except:\n",
    "    pass\n",
    "\n",
    "def ojs_define(**kwargs):\n",
    "  import json\n",
    "  try:\n",
    "    # IPython 7.14 preferred import\n",
    "    from IPython.display import display, HTML\n",
    "  except:\n",
    "    from IPython.core.display import display, HTML\n",
    "\n",
    "  # do some minor magic for convenience when handling pandas\n",
    "  # dataframes\n",
    "  def convert(v):\n",
    "    try:\n",
    "      import pandas as pd\n",
    "    except ModuleNotFoundError: # don't do the magic when pandas is not available\n",
    "      return v\n",
    "    if type(v) == pd.Series:\n",
    "      v = pd.DataFrame(v)\n",
    "    if type(v) == pd.DataFrame:\n",
    "      j = json.loads(v.T.to_json(orient='split'))\n",
    "      return dict((k,v) for (k,v) in zip(j[\"index\"], j[\"data\"]))\n",
    "    else:\n",
    "      return v\n",
    "\n",
    "  v = dict(contents=list(dict(name=key, value=convert(value)) for (key, value) in kwargs.items()))\n",
    "  display(HTML('<script type=\"ojs-define\">' + json.dumps(v) + '</script>'), metadata=dict(ojs_define = True))\n",
    "globals()[\"ojs_define\"] = ojs_define\n",
    "# globals()[\"__spec__\"] = None"
   ]
  },
  {
   "cell_type": "code",
   "execution_count": 2,
   "id": "edbce273",
   "metadata": {
    "slideshow": {
     "slide_type": "subslide"
    }
   },
   "outputs": [],
   "source": [
    "import numpy as np\n",
    "from numba import jit"
   ]
  },
  {
   "cell_type": "code",
   "execution_count": 3,
   "id": "f6e8b8c8",
   "metadata": {
    "slideshow": {
     "slide_type": "subslide"
    }
   },
   "outputs": [],
   "source": [
    "def find_instr(func, keyword, sig=0, limit=5):\n",
    "    count = 0\n",
    "    for l in func.inspect_asm(func.signatures[sig]).split('\\n'):\n",
    "        if keyword in l:\n",
    "            count += 1\n",
    "            print(l)\n",
    "            if count >= limit:\n",
    "                break\n",
    "    if count == 0:\n",
    "        print('No instructions found')"
   ]
  },
  {
   "cell_type": "code",
   "execution_count": 4,
   "id": "da2fe46b",
   "metadata": {
    "slideshow": {
     "slide_type": "-"
    }
   },
   "outputs": [],
   "source": [
    "@jit(nopython=True)\n",
    "def sqdiff(x, y):\n",
    "    out = np.empty_like(x)\n",
    "    for i in range(x.shape[0]):\n",
    "        out[i] = (x[i] - y[i])**2\n",
    "    return out"
   ]
  },
  {
   "cell_type": "code",
   "execution_count": 5,
   "id": "83478fb7",
   "metadata": {
    "slideshow": {
     "slide_type": "subslide"
    }
   },
   "outputs": [
    {
     "data": {
      "text/plain": [
       "array([1.        , 0.99999976, 1.        , ..., 1.        , 1.0000002 ,\n",
       "       1.        ], dtype=float32)"
      ]
     },
     "execution_count": 4,
     "metadata": {},
     "output_type": "execute_result"
    }
   ],
   "source": [
    "x32 = np.linspace(1, 2, 10000, dtype=np.float32)\n",
    "y32 = np.linspace(2, 3, 10000, dtype=np.float32)\n",
    "sqdiff(x32, y32)"
   ]
  },
  {
   "cell_type": "code",
   "execution_count": 6,
   "id": "b25856de",
   "metadata": {
    "slideshow": {
     "slide_type": "fragment"
    }
   },
   "outputs": [
    {
     "data": {
      "text/plain": [
       "array([1.        , 0.99999976, 1.        , ..., 1.        , 1.00000024,\n",
       "       1.        ])"
      ]
     },
     "execution_count": 5,
     "metadata": {},
     "output_type": "execute_result"
    }
   ],
   "source": [
    "x64 = x32.astype(np.float64)\n",
    "y64 = y32.astype(np.float64)\n",
    "sqdiff(x64, y64)"
   ]
  },
  {
   "cell_type": "code",
   "execution_count": 7,
   "id": "8186c2e1",
   "metadata": {
    "slideshow": {
     "slide_type": "fragment"
    }
   },
   "outputs": [
    {
     "data": {
      "text/plain": [
       "[(Array(float32, 1, 'C', False, aligned=True),\n",
       "  Array(float32, 1, 'C', False, aligned=True)),\n",
       " (Array(float64, 1, 'C', False, aligned=True),\n",
       "  Array(float64, 1, 'C', False, aligned=True))]"
      ]
     },
     "execution_count": 6,
     "metadata": {},
     "output_type": "execute_result"
    }
   ],
   "source": [
    "sqdiff.signatures"
   ]
  },
  {
   "cell_type": "code",
   "execution_count": 8,
   "id": "0c641a94",
   "metadata": {
    "slideshow": {
     "slide_type": "fragment"
    }
   },
   "outputs": [
    {
     "name": "stdout",
     "output_type": "stream",
     "text": [
      "1.94 μs ± 9.66 ns per loop (mean ± std. dev. of 7 runs, 1,000,000 loops each)\n"
     ]
    },
    {
     "name": "stdout",
     "output_type": "stream",
     "text": [
      "2.98 μs ± 17.5 ns per loop (mean ± std. dev. of 7 runs, 100,000 loops each)\n"
     ]
    }
   ],
   "source": [
    "%timeit sqdiff(x32, y32)\n",
    "%timeit sqdiff(x64, y64)"
   ]
  },
  {
   "cell_type": "code",
   "execution_count": 9,
   "id": "8011fddc",
   "metadata": {
    "slideshow": {
     "slide_type": "fragment"
    }
   },
   "outputs": [
    {
     "name": "stdout",
     "output_type": "stream",
     "text": [
      "float32:\n",
      "\tvsubps\t(%rax,%rdi,4), %ymm0, %ymm0\n",
      "\tvsubps\t32(%rax,%rdi,4), %ymm1, %ymm1\n",
      "\tvsubps\t64(%rax,%rdi,4), %ymm2, %ymm2\n",
      "\tvsubps\t96(%rax,%rdi,4), %ymm3, %ymm3\n",
      "\tvsubps\t128(%rax,%rdi,4), %ymm0, %ymm0\n",
      "---\n",
      "float64:\n",
      "\tvsubpd\t(%rax,%rdi,8), %ymm0, %ymm0\n",
      "\tvsubpd\t32(%rax,%rdi,8), %ymm1, %ymm1\n",
      "\tvsubpd\t64(%rax,%rdi,8), %ymm2, %ymm2\n",
      "\tvsubpd\t96(%rax,%rdi,8), %ymm3, %ymm3\n",
      "\tvsubpd\t128(%rax,%rdi,8), %ymm0, %ymm0\n"
     ]
    }
   ],
   "source": [
    "print('float32:')\n",
    "find_instr(sqdiff, keyword='subp', sig=0)\n",
    "print('---\\nfloat64:')\n",
    "find_instr(sqdiff, keyword='subp', sig=1)"
   ]
  },
  {
   "cell_type": "code",
   "execution_count": 10,
   "id": "5e6dd9e1",
   "metadata": {
    "slideshow": {
     "slide_type": "fragment"
    }
   },
   "outputs": [],
   "source": [
    "@jit(nopython=True)\n",
    "def frac_diff1(x, y):\n",
    "    out = np.empty_like(x)\n",
    "    for i in range(x.shape[0]):\n",
    "        out[i] = 2 * (x[i] - y[i]) / (x[i] + y[i])\n",
    "    return out"
   ]
  },
  {
   "cell_type": "code",
   "execution_count": 11,
   "id": "e1c98397",
   "metadata": {
    "slideshow": {
     "slide_type": "subslide"
    }
   },
   "outputs": [
    {
     "data": {
      "text/plain": [
       "array([-0.6666667 , -0.66662216, -0.66657776, ..., -0.400032  ,\n",
       "       -0.40001604, -0.4       ], dtype=float32)"
      ]
     },
     "execution_count": 10,
     "metadata": {},
     "output_type": "execute_result"
    }
   ],
   "source": [
    "frac_diff1(x32, y32)"
   ]
  },
  {
   "cell_type": "code",
   "execution_count": 12,
   "id": "a0170c13",
   "metadata": {
    "slideshow": {
     "slide_type": "fragment"
    }
   },
   "outputs": [
    {
     "name": "stdout",
     "output_type": "stream",
     "text": [
      "No instructions found\n"
     ]
    }
   ],
   "source": [
    "find_instr(frac_diff1, keyword='subp', sig=0)"
   ]
  },
  {
   "cell_type": "code",
   "execution_count": 13,
   "id": "e338280b",
   "metadata": {
    "slideshow": {
     "slide_type": "subslide"
    }
   },
   "outputs": [],
   "source": [
    "@jit(nopython=True, error_model='numpy')\n",
    "def frac_diff2(x, y):\n",
    "    out = np.empty_like(x)\n",
    "    for i in range(x.shape[0]):\n",
    "        out[i] = 2 * (x[i] - y[i]) / (x[i] + y[i])\n",
    "    return out"
   ]
  },
  {
   "cell_type": "code",
   "execution_count": 14,
   "id": "c8ce2a8a",
   "metadata": {
    "slideshow": {
     "slide_type": "subslide"
    }
   },
   "outputs": [
    {
     "data": {
      "text/plain": [
       "array([-0.6666667 , -0.66662216, -0.66657776, ..., -0.400032  ,\n",
       "       -0.40001604, -0.4       ], dtype=float32)"
      ]
     },
     "execution_count": 13,
     "metadata": {},
     "output_type": "execute_result"
    }
   ],
   "source": [
    "frac_diff2(x32, y32)"
   ]
  },
  {
   "cell_type": "code",
   "execution_count": 15,
   "id": "3f24f044",
   "metadata": {
    "slideshow": {
     "slide_type": "fragment"
    }
   },
   "outputs": [
    {
     "name": "stdout",
     "output_type": "stream",
     "text": [
      "\tvsubps\t%ymm1, %ymm0, %ymm2\n",
      "\tvsubps\t%ymm1, %ymm0, %ymm2\n",
      "\tvsubps\t%ymm1, %ymm0, %ymm2\n"
     ]
    }
   ],
   "source": [
    "find_instr(frac_diff2, keyword='subp', sig=0)"
   ]
  },
  {
   "cell_type": "code",
   "execution_count": 16,
   "id": "d7d70e9d",
   "metadata": {
    "slideshow": {
     "slide_type": "fragment"
    }
   },
   "outputs": [
    {
     "name": "stdout",
     "output_type": "stream",
     "text": [
      "6.76 μs ± 14.7 ns per loop (mean ± std. dev. of 7 runs, 100,000 loops each)\n"
     ]
    },
    {
     "name": "stdout",
     "output_type": "stream",
     "text": [
      "6.45 μs ± 9.79 ns per loop (mean ± std. dev. of 7 runs, 100,000 loops each)\n"
     ]
    }
   ],
   "source": [
    "%timeit frac_diff2(x32, y32)\n",
    "%timeit frac_diff2(x64, y64)"
   ]
  },
  {
   "cell_type": "code",
   "execution_count": 17,
   "id": "a10175bc",
   "metadata": {
    "slideshow": {
     "slide_type": "subslide"
    }
   },
   "outputs": [
    {
     "name": "stderr",
     "output_type": "stream",
     "text": [
      "/home/fradav/.micromamba/envs/miashs-hpc/lib/python3.12/site-packages/numba/core/annotations/pretty_annotate.py:7: FutureWarning:\n",
      "\n",
      "The pretty_annotate functionality is experimental and might change API\n",
      "\n"
     ]
    },
    {
     "data": {
      "text/html": [
       "\n",
       "    <html>\n",
       "    <head>\n",
       "        <style>\n",
       "\n",
       "            .annotation_table {\n",
       "                color: #000000;\n",
       "                font-family: monospace;\n",
       "                margin: 5px;\n",
       "                width: 100%;\n",
       "            }\n",
       "\n",
       "            /* override JupyterLab style */\n",
       "            .annotation_table td {\n",
       "                text-align: left;\n",
       "                background-color: transparent; \n",
       "                padding: 1px;\n",
       "            }\n",
       "\n",
       "            .annotation_table tbody tr:nth-child(even) {\n",
       "                background: white;\n",
       "            }\n",
       "\n",
       "            .annotation_table code\n",
       "            {\n",
       "                background-color: transparent; \n",
       "                white-space: normal;\n",
       "            }\n",
       "\n",
       "            /* End override JupyterLab style */\n",
       "\n",
       "            tr:hover {\n",
       "                background-color: rgba(92, 200, 249, 0.25);\n",
       "            }\n",
       "\n",
       "            td.object_tag summary ,\n",
       "            td.lifted_tag summary{\n",
       "                font-weight: bold;\n",
       "                display: list-item;\n",
       "            }\n",
       "\n",
       "            span.lifted_tag {\n",
       "                color: #00cc33;\n",
       "            }\n",
       "\n",
       "            span.object_tag {\n",
       "                color: #cc3300;\n",
       "            }\n",
       "\n",
       "\n",
       "            td.lifted_tag {\n",
       "                background-color: #cdf7d8;\n",
       "            }\n",
       "\n",
       "            td.object_tag {\n",
       "                background-color: #fef5c8;\n",
       "            }\n",
       "\n",
       "            code.ir_code {\n",
       "                color: grey;\n",
       "                font-style: italic;\n",
       "            }\n",
       "\n",
       "            .metadata {\n",
       "                border-bottom: medium solid black;\n",
       "                display: inline-block;\n",
       "                padding: 5px;\n",
       "                width: 100%;\n",
       "            }\n",
       "\n",
       "            .annotations {\n",
       "                padding: 5px;\n",
       "            }\n",
       "\n",
       "            .hidden {\n",
       "                display: none;\n",
       "            }\n",
       "\n",
       "            .buttons {\n",
       "                padding: 10px;\n",
       "                cursor: pointer;\n",
       "            }\n",
       "        </style>\n",
       "    </head>\n",
       "\n",
       "    <body>\n",
       "        \n",
       "            <div class=\"metadata\">\n",
       "            Function name: frac_diff2<br />\n",
       "            \n",
       "                in file: /tmp/ipykernel_3490944/2090011437.py<br />\n",
       "            \n",
       "            with signature: (Array(float32, 1, &#39;C&#39;, False, aligned=True), Array(float32, 1, &#39;C&#39;, False, aligned=True)) -&gt; array(float32, 1d, C)\n",
       "            </div>\n",
       "            <div class=\"annotations\">\n",
       "            <table class=\"annotation_table tex2jax_ignore\">\n",
       "                        <tr><td style=\"text-align:left;\" class=\"\">\n",
       "                            <details>\n",
       "                                <summary>\n",
       "                                    <code>\n",
       "                                    1:\n",
       "                                    <span style=\"color: #AA22FF\">@jit</span>(nopython<span style=\"color: #666666\">=</span><span style=\"color: #008000; font-weight: bold\">True</span>, error_model<span style=\"color: #666666\">=</span><span style=\"color: #BA2121\">&#39;numpy&#39;</span>)\n",
       "                                    </code>\n",
       "                                </summary>\n",
       "                                <table class=\"annotation_table\">\n",
       "                                    <tbody>\n",
       "                                            <tr class=\"ir_code\">\n",
       "                                                <td style=\"text-align: left;\"><code>\n",
       "                                                &nbsp;\n",
       "                                                label 0<span class=\"object_tag\"></span>\n",
       "                                                </code>\n",
       "                                                </td>\n",
       "                                            </tr>\n",
       "                                            <tr class=\"ir_code\">\n",
       "                                                <td style=\"text-align: left;\"><code>\n",
       "                                                &nbsp;\n",
       "                                                &nbsp;&nbsp;x = arg(0, name=x)  :: array(float32, 1d, C)<span class=\"object_tag\"></span>\n",
       "                                                </code>\n",
       "                                                </td>\n",
       "                                            </tr>\n",
       "                                            <tr class=\"ir_code\">\n",
       "                                                <td style=\"text-align: left;\"><code>\n",
       "                                                &nbsp;\n",
       "                                                &nbsp;&nbsp;y = arg(1, name=y)  :: array(float32, 1d, C)<span class=\"object_tag\"></span>\n",
       "                                                </code>\n",
       "                                                </td>\n",
       "                                            </tr></tbody>\n",
       "                                </table>\n",
       "                                </details>\n",
       "                        </td></tr>\n",
       "                    <tr><td style=\"text-align:left; padding-left: 22px;\" class=\"\">\n",
       "                            <code>\n",
       "                                2:\n",
       "                                <span style=\"color: #008000; font-weight: bold\">def</span> <span style=\"color: #0000FF\">frac_diff2</span>(x, y):\n",
       "                            </code>\n",
       "                        </td></tr>\n",
       "                        <tr><td style=\"text-align:left;\" class=\"\">\n",
       "                            <details>\n",
       "                                <summary>\n",
       "                                    <code>\n",
       "                                    3:\n",
       "                                    &nbsp;&nbsp;&nbsp;&nbsp;    out <span style=\"color: #666666\">=</span> np<span style=\"color: #666666\">.</span>empty_like(x)\n",
       "                                    </code>\n",
       "                                </summary>\n",
       "                                <table class=\"annotation_table\">\n",
       "                                    <tbody>\n",
       "                                            <tr class=\"ir_code\">\n",
       "                                                <td style=\"text-align: left;\"><code>\n",
       "                                                &nbsp;&nbsp;&nbsp;&nbsp;&nbsp;\n",
       "                                                &nbsp;&nbsp;$4load_global.0 = global(np: &lt;module &#39;numpy&#39; from &#39;/home/fradav/.micromamba/envs/miashs-hpc/lib/python3.12/site-packages/numpy/__init__.py&#39;&gt;)  :: Module(&lt;module &#39;numpy&#39; from &#39;/home/fradav/.micromamba/envs/miashs-hpc/lib/python3.12/site-packages/numpy/__init__.py&#39;&gt;)<span class=\"object_tag\"></span>\n",
       "                                                </code>\n",
       "                                                </td>\n",
       "                                            </tr>\n",
       "                                            <tr class=\"ir_code\">\n",
       "                                                <td style=\"text-align: left;\"><code>\n",
       "                                                &nbsp;&nbsp;&nbsp;&nbsp;&nbsp;\n",
       "                                                &nbsp;&nbsp;$14load_attr.2 = getattr(value=$4load_global.0, attr=empty_like)  :: Function(&lt;built-in function empty_like&gt;)<span class=\"object_tag\"></span>\n",
       "                                                </code>\n",
       "                                                </td>\n",
       "                                            </tr>\n",
       "                                            <tr class=\"ir_code\">\n",
       "                                                <td style=\"text-align: left;\"><code>\n",
       "                                                &nbsp;&nbsp;&nbsp;&nbsp;&nbsp;\n",
       "                                                &nbsp;&nbsp;del $4load_global.0<span class=\"object_tag\"></span>\n",
       "                                                </code>\n",
       "                                                </td>\n",
       "                                            </tr>\n",
       "                                            <tr class=\"ir_code\">\n",
       "                                                <td style=\"text-align: left;\"><code>\n",
       "                                                &nbsp;&nbsp;&nbsp;&nbsp;&nbsp;\n",
       "                                                &nbsp;&nbsp;out = call $14load_attr.2(x, func=$14load_attr.2, args=[Var(x, 2090011437.py:1)], kws=(), vararg=None, varkwarg=None, target=None)  :: (Array(float32, 1, &#39;C&#39;, False, aligned=True), omitted(default=None)) -&gt; array(float32, 1d, C)<span class=\"object_tag\"></span>\n",
       "                                                </code>\n",
       "                                                </td>\n",
       "                                            </tr>\n",
       "                                            <tr class=\"ir_code\">\n",
       "                                                <td style=\"text-align: left;\"><code>\n",
       "                                                &nbsp;&nbsp;&nbsp;&nbsp;&nbsp;\n",
       "                                                &nbsp;&nbsp;del $14load_attr.2<span class=\"object_tag\"></span>\n",
       "                                                </code>\n",
       "                                                </td>\n",
       "                                            </tr></tbody>\n",
       "                                </table>\n",
       "                                </details>\n",
       "                        </td></tr>\n",
       "                    \n",
       "                        <tr><td style=\"text-align:left;\" class=\"\">\n",
       "                            <details>\n",
       "                                <summary>\n",
       "                                    <code>\n",
       "                                    4:\n",
       "                                    &nbsp;&nbsp;&nbsp;&nbsp;    <span style=\"color: #008000; font-weight: bold\">for</span> i <span style=\"color: #AA22FF; font-weight: bold\">in</span> <span style=\"color: #008000\">range</span>(x<span style=\"color: #666666\">.</span>shape[<span style=\"color: #666666\">0</span>]):\n",
       "                                    </code>\n",
       "                                </summary>\n",
       "                                <table class=\"annotation_table\">\n",
       "                                    <tbody>\n",
       "                                            <tr class=\"ir_code\">\n",
       "                                                <td style=\"text-align: left;\"><code>\n",
       "                                                &nbsp;&nbsp;&nbsp;&nbsp;&nbsp;\n",
       "                                                &nbsp;&nbsp;$46load_global.5 = global(range: &lt;class &#39;range&#39;&gt;)  :: Function(&lt;class &#39;range&#39;&gt;)<span class=\"object_tag\"></span>\n",
       "                                                </code>\n",
       "                                                </td>\n",
       "                                            </tr>\n",
       "                                            <tr class=\"ir_code\">\n",
       "                                                <td style=\"text-align: left;\"><code>\n",
       "                                                &nbsp;&nbsp;&nbsp;&nbsp;&nbsp;\n",
       "                                                &nbsp;&nbsp;$58load_attr.8 = getattr(value=x, attr=shape)  :: UniTuple(int64 x 1)<span class=\"object_tag\"></span>\n",
       "                                                </code>\n",
       "                                                </td>\n",
       "                                            </tr>\n",
       "                                            <tr class=\"ir_code\">\n",
       "                                                <td style=\"text-align: left;\"><code>\n",
       "                                                &nbsp;&nbsp;&nbsp;&nbsp;&nbsp;\n",
       "                                                &nbsp;&nbsp;$const78.9 = const(int, 0)  :: Literal[int](0)<span class=\"object_tag\"></span>\n",
       "                                                </code>\n",
       "                                                </td>\n",
       "                                            </tr>\n",
       "                                            <tr class=\"ir_code\">\n",
       "                                                <td style=\"text-align: left;\"><code>\n",
       "                                                &nbsp;&nbsp;&nbsp;&nbsp;&nbsp;\n",
       "                                                &nbsp;&nbsp;$80binary_subscr.10 = static_getitem(value=$58load_attr.8, index=0, index_var=$const78.9, fn=&lt;built-in function getitem&gt;)  :: int64<span class=\"object_tag\"></span>\n",
       "                                                </code>\n",
       "                                                </td>\n",
       "                                            </tr>\n",
       "                                            <tr class=\"ir_code\">\n",
       "                                                <td style=\"text-align: left;\"><code>\n",
       "                                                &nbsp;&nbsp;&nbsp;&nbsp;&nbsp;\n",
       "                                                &nbsp;&nbsp;del $const78.9<span class=\"object_tag\"></span>\n",
       "                                                </code>\n",
       "                                                </td>\n",
       "                                            </tr>\n",
       "                                            <tr class=\"ir_code\">\n",
       "                                                <td style=\"text-align: left;\"><code>\n",
       "                                                &nbsp;&nbsp;&nbsp;&nbsp;&nbsp;\n",
       "                                                &nbsp;&nbsp;del $58load_attr.8<span class=\"object_tag\"></span>\n",
       "                                                </code>\n",
       "                                                </td>\n",
       "                                            </tr>\n",
       "                                            <tr class=\"ir_code\">\n",
       "                                                <td style=\"text-align: left;\"><code>\n",
       "                                                &nbsp;&nbsp;&nbsp;&nbsp;&nbsp;\n",
       "                                                &nbsp;&nbsp;$84call.11 = call $46load_global.5($80binary_subscr.10, func=$46load_global.5, args=[Var($80binary_subscr.10, 2090011437.py:4)], kws=(), vararg=None, varkwarg=None, target=None)  :: (int64,) -&gt; range_state_int64<span class=\"object_tag\"></span>\n",
       "                                                </code>\n",
       "                                                </td>\n",
       "                                            </tr>\n",
       "                                            <tr class=\"ir_code\">\n",
       "                                                <td style=\"text-align: left;\"><code>\n",
       "                                                &nbsp;&nbsp;&nbsp;&nbsp;&nbsp;\n",
       "                                                &nbsp;&nbsp;del $80binary_subscr.10<span class=\"object_tag\"></span>\n",
       "                                                </code>\n",
       "                                                </td>\n",
       "                                            </tr>\n",
       "                                            <tr class=\"ir_code\">\n",
       "                                                <td style=\"text-align: left;\"><code>\n",
       "                                                &nbsp;&nbsp;&nbsp;&nbsp;&nbsp;\n",
       "                                                &nbsp;&nbsp;del $46load_global.5<span class=\"object_tag\"></span>\n",
       "                                                </code>\n",
       "                                                </td>\n",
       "                                            </tr>\n",
       "                                            <tr class=\"ir_code\">\n",
       "                                                <td style=\"text-align: left;\"><code>\n",
       "                                                &nbsp;&nbsp;&nbsp;&nbsp;&nbsp;\n",
       "                                                &nbsp;&nbsp;$92get_iter.12 = getiter(value=$84call.11)  :: range_iter_int64<span class=\"object_tag\"></span>\n",
       "                                                </code>\n",
       "                                                </td>\n",
       "                                            </tr>\n",
       "                                            <tr class=\"ir_code\">\n",
       "                                                <td style=\"text-align: left;\"><code>\n",
       "                                                &nbsp;&nbsp;&nbsp;&nbsp;&nbsp;\n",
       "                                                &nbsp;&nbsp;del $84call.11<span class=\"object_tag\"></span>\n",
       "                                                </code>\n",
       "                                                </td>\n",
       "                                            </tr>\n",
       "                                            <tr class=\"ir_code\">\n",
       "                                                <td style=\"text-align: left;\"><code>\n",
       "                                                &nbsp;&nbsp;&nbsp;&nbsp;&nbsp;\n",
       "                                                &nbsp;&nbsp;$phi94.0 = $92get_iter.12  :: range_iter_int64<span class=\"object_tag\"></span>\n",
       "                                                </code>\n",
       "                                                </td>\n",
       "                                            </tr>\n",
       "                                            <tr class=\"ir_code\">\n",
       "                                                <td style=\"text-align: left;\"><code>\n",
       "                                                &nbsp;&nbsp;&nbsp;&nbsp;&nbsp;\n",
       "                                                &nbsp;&nbsp;del $92get_iter.12<span class=\"object_tag\"></span>\n",
       "                                                </code>\n",
       "                                                </td>\n",
       "                                            </tr>\n",
       "                                            <tr class=\"ir_code\">\n",
       "                                                <td style=\"text-align: left;\"><code>\n",
       "                                                &nbsp;&nbsp;&nbsp;&nbsp;&nbsp;\n",
       "                                                &nbsp;&nbsp;jump 94<span class=\"object_tag\"></span>\n",
       "                                                </code>\n",
       "                                                </td>\n",
       "                                            </tr>\n",
       "                                            <tr class=\"ir_code\">\n",
       "                                                <td style=\"text-align: left;\"><code>\n",
       "                                                &nbsp;&nbsp;&nbsp;&nbsp;&nbsp;\n",
       "                                                label 94<span class=\"object_tag\"></span>\n",
       "                                                </code>\n",
       "                                                </td>\n",
       "                                            </tr>\n",
       "                                            <tr class=\"ir_code\">\n",
       "                                                <td style=\"text-align: left;\"><code>\n",
       "                                                &nbsp;&nbsp;&nbsp;&nbsp;&nbsp;\n",
       "                                                &nbsp;&nbsp;$94for_iter.1 = iternext(value=$phi94.0)  :: pair&lt;int64, bool&gt;<span class=\"object_tag\"></span>\n",
       "                                                </code>\n",
       "                                                </td>\n",
       "                                            </tr>\n",
       "                                            <tr class=\"ir_code\">\n",
       "                                                <td style=\"text-align: left;\"><code>\n",
       "                                                &nbsp;&nbsp;&nbsp;&nbsp;&nbsp;\n",
       "                                                &nbsp;&nbsp;$94for_iter.2 = pair_first(value=$94for_iter.1)  :: int64<span class=\"object_tag\"></span>\n",
       "                                                </code>\n",
       "                                                </td>\n",
       "                                            </tr>\n",
       "                                            <tr class=\"ir_code\">\n",
       "                                                <td style=\"text-align: left;\"><code>\n",
       "                                                &nbsp;&nbsp;&nbsp;&nbsp;&nbsp;\n",
       "                                                &nbsp;&nbsp;$94for_iter.3 = pair_second(value=$94for_iter.1)  :: bool<span class=\"object_tag\"></span>\n",
       "                                                </code>\n",
       "                                                </td>\n",
       "                                            </tr>\n",
       "                                            <tr class=\"ir_code\">\n",
       "                                                <td style=\"text-align: left;\"><code>\n",
       "                                                &nbsp;&nbsp;&nbsp;&nbsp;&nbsp;\n",
       "                                                &nbsp;&nbsp;del $94for_iter.1<span class=\"object_tag\"></span>\n",
       "                                                </code>\n",
       "                                                </td>\n",
       "                                            </tr>\n",
       "                                            <tr class=\"ir_code\">\n",
       "                                                <td style=\"text-align: left;\"><code>\n",
       "                                                &nbsp;&nbsp;&nbsp;&nbsp;&nbsp;\n",
       "                                                &nbsp;&nbsp;$phi98.1 = $94for_iter.2  :: int64<span class=\"object_tag\"></span>\n",
       "                                                </code>\n",
       "                                                </td>\n",
       "                                            </tr>\n",
       "                                            <tr class=\"ir_code\">\n",
       "                                                <td style=\"text-align: left;\"><code>\n",
       "                                                &nbsp;&nbsp;&nbsp;&nbsp;&nbsp;\n",
       "                                                &nbsp;&nbsp;del $94for_iter.2<span class=\"object_tag\"></span>\n",
       "                                                </code>\n",
       "                                                </td>\n",
       "                                            </tr>\n",
       "                                            <tr class=\"ir_code\">\n",
       "                                                <td style=\"text-align: left;\"><code>\n",
       "                                                &nbsp;&nbsp;&nbsp;&nbsp;&nbsp;\n",
       "                                                &nbsp;&nbsp;branch $94for_iter.3, 98, 160<span class=\"object_tag\"></span>\n",
       "                                                </code>\n",
       "                                                </td>\n",
       "                                            </tr>\n",
       "                                            <tr class=\"ir_code\">\n",
       "                                                <td style=\"text-align: left;\"><code>\n",
       "                                                &nbsp;&nbsp;&nbsp;&nbsp;&nbsp;\n",
       "                                                label 98<span class=\"object_tag\"></span>\n",
       "                                                </code>\n",
       "                                                </td>\n",
       "                                            </tr>\n",
       "                                            <tr class=\"ir_code\">\n",
       "                                                <td style=\"text-align: left;\"><code>\n",
       "                                                &nbsp;&nbsp;&nbsp;&nbsp;&nbsp;\n",
       "                                                &nbsp;&nbsp;del $94for_iter.3<span class=\"object_tag\"></span>\n",
       "                                                </code>\n",
       "                                                </td>\n",
       "                                            </tr>\n",
       "                                            <tr class=\"ir_code\">\n",
       "                                                <td style=\"text-align: left;\"><code>\n",
       "                                                &nbsp;&nbsp;&nbsp;&nbsp;&nbsp;\n",
       "                                                &nbsp;&nbsp;i = $phi98.1  :: int64<span class=\"object_tag\"></span>\n",
       "                                                </code>\n",
       "                                                </td>\n",
       "                                            </tr>\n",
       "                                            <tr class=\"ir_code\">\n",
       "                                                <td style=\"text-align: left;\"><code>\n",
       "                                                &nbsp;&nbsp;&nbsp;&nbsp;&nbsp;\n",
       "                                                &nbsp;&nbsp;del $phi98.1<span class=\"object_tag\"></span>\n",
       "                                                </code>\n",
       "                                                </td>\n",
       "                                            </tr></tbody>\n",
       "                                </table>\n",
       "                                </details>\n",
       "                        </td></tr>\n",
       "                    \n",
       "                        <tr><td style=\"text-align:left;\" class=\"\">\n",
       "                            <details>\n",
       "                                <summary>\n",
       "                                    <code>\n",
       "                                    5:\n",
       "                                    &nbsp;&nbsp;&nbsp;&nbsp;&nbsp;&nbsp;&nbsp;&nbsp;        out[i] <span style=\"color: #666666\">=</span> <span style=\"color: #666666\">2</span> <span style=\"color: #666666\">*</span> (x[i] <span style=\"color: #666666\">-</span> y[i]) <span style=\"color: #666666\">/</span> (x[i] <span style=\"color: #666666\">+</span> y[i])\n",
       "                                    </code>\n",
       "                                </summary>\n",
       "                                <table class=\"annotation_table\">\n",
       "                                    <tbody>\n",
       "                                            <tr class=\"ir_code\">\n",
       "                                                <td style=\"text-align: left;\"><code>\n",
       "                                                &nbsp;&nbsp;&nbsp;&nbsp;&nbsp;&nbsp;&nbsp;&nbsp;&nbsp;\n",
       "                                                &nbsp;&nbsp;$const100.2 = const(int, 2)  :: Literal[int](2)<span class=\"object_tag\"></span>\n",
       "                                                </code>\n",
       "                                                </td>\n",
       "                                            </tr>\n",
       "                                            <tr class=\"ir_code\">\n",
       "                                                <td style=\"text-align: left;\"><code>\n",
       "                                                &nbsp;&nbsp;&nbsp;&nbsp;&nbsp;&nbsp;&nbsp;&nbsp;&nbsp;\n",
       "                                                &nbsp;&nbsp;$106binary_subscr.5 = getitem(value=x, index=i, fn=&lt;built-in function getitem&gt;)  :: float32<span class=\"object_tag\"></span>\n",
       "                                                </code>\n",
       "                                                </td>\n",
       "                                            </tr>\n",
       "                                            <tr class=\"ir_code\">\n",
       "                                                <td style=\"text-align: left;\"><code>\n",
       "                                                &nbsp;&nbsp;&nbsp;&nbsp;&nbsp;&nbsp;&nbsp;&nbsp;&nbsp;\n",
       "                                                &nbsp;&nbsp;$114binary_subscr.8 = getitem(value=y, index=i, fn=&lt;built-in function getitem&gt;)  :: float32<span class=\"object_tag\"></span>\n",
       "                                                </code>\n",
       "                                                </td>\n",
       "                                            </tr>\n",
       "                                            <tr class=\"ir_code\">\n",
       "                                                <td style=\"text-align: left;\"><code>\n",
       "                                                &nbsp;&nbsp;&nbsp;&nbsp;&nbsp;&nbsp;&nbsp;&nbsp;&nbsp;\n",
       "                                                &nbsp;&nbsp;$binop_sub118.9 = $106binary_subscr.5 - $114binary_subscr.8  :: float32<span class=\"object_tag\"></span>\n",
       "                                                </code>\n",
       "                                                </td>\n",
       "                                            </tr>\n",
       "                                            <tr class=\"ir_code\">\n",
       "                                                <td style=\"text-align: left;\"><code>\n",
       "                                                &nbsp;&nbsp;&nbsp;&nbsp;&nbsp;&nbsp;&nbsp;&nbsp;&nbsp;\n",
       "                                                &nbsp;&nbsp;del $114binary_subscr.8<span class=\"object_tag\"></span>\n",
       "                                                </code>\n",
       "                                                </td>\n",
       "                                            </tr>\n",
       "                                            <tr class=\"ir_code\">\n",
       "                                                <td style=\"text-align: left;\"><code>\n",
       "                                                &nbsp;&nbsp;&nbsp;&nbsp;&nbsp;&nbsp;&nbsp;&nbsp;&nbsp;\n",
       "                                                &nbsp;&nbsp;del $106binary_subscr.5<span class=\"object_tag\"></span>\n",
       "                                                </code>\n",
       "                                                </td>\n",
       "                                            </tr>\n",
       "                                            <tr class=\"ir_code\">\n",
       "                                                <td style=\"text-align: left;\"><code>\n",
       "                                                &nbsp;&nbsp;&nbsp;&nbsp;&nbsp;&nbsp;&nbsp;&nbsp;&nbsp;\n",
       "                                                &nbsp;&nbsp;$binop_mul122.10 = $const100.2 * $binop_sub118.9  :: float64<span class=\"object_tag\"></span>\n",
       "                                                </code>\n",
       "                                                </td>\n",
       "                                            </tr>\n",
       "                                            <tr class=\"ir_code\">\n",
       "                                                <td style=\"text-align: left;\"><code>\n",
       "                                                &nbsp;&nbsp;&nbsp;&nbsp;&nbsp;&nbsp;&nbsp;&nbsp;&nbsp;\n",
       "                                                &nbsp;&nbsp;del $const100.2<span class=\"object_tag\"></span>\n",
       "                                                </code>\n",
       "                                                </td>\n",
       "                                            </tr>\n",
       "                                            <tr class=\"ir_code\">\n",
       "                                                <td style=\"text-align: left;\"><code>\n",
       "                                                &nbsp;&nbsp;&nbsp;&nbsp;&nbsp;&nbsp;&nbsp;&nbsp;&nbsp;\n",
       "                                                &nbsp;&nbsp;del $binop_sub118.9<span class=\"object_tag\"></span>\n",
       "                                                </code>\n",
       "                                                </td>\n",
       "                                            </tr>\n",
       "                                            <tr class=\"ir_code\">\n",
       "                                                <td style=\"text-align: left;\"><code>\n",
       "                                                &nbsp;&nbsp;&nbsp;&nbsp;&nbsp;&nbsp;&nbsp;&nbsp;&nbsp;\n",
       "                                                &nbsp;&nbsp;$130binary_subscr.13 = getitem(value=x, index=i, fn=&lt;built-in function getitem&gt;)  :: float32<span class=\"object_tag\"></span>\n",
       "                                                </code>\n",
       "                                                </td>\n",
       "                                            </tr>\n",
       "                                            <tr class=\"ir_code\">\n",
       "                                                <td style=\"text-align: left;\"><code>\n",
       "                                                &nbsp;&nbsp;&nbsp;&nbsp;&nbsp;&nbsp;&nbsp;&nbsp;&nbsp;\n",
       "                                                &nbsp;&nbsp;$138binary_subscr.16 = getitem(value=y, index=i, fn=&lt;built-in function getitem&gt;)  :: float32<span class=\"object_tag\"></span>\n",
       "                                                </code>\n",
       "                                                </td>\n",
       "                                            </tr>\n",
       "                                            <tr class=\"ir_code\">\n",
       "                                                <td style=\"text-align: left;\"><code>\n",
       "                                                &nbsp;&nbsp;&nbsp;&nbsp;&nbsp;&nbsp;&nbsp;&nbsp;&nbsp;\n",
       "                                                &nbsp;&nbsp;$binop_add142.17 = $130binary_subscr.13 + $138binary_subscr.16  :: float32<span class=\"object_tag\"></span>\n",
       "                                                </code>\n",
       "                                                </td>\n",
       "                                            </tr>\n",
       "                                            <tr class=\"ir_code\">\n",
       "                                                <td style=\"text-align: left;\"><code>\n",
       "                                                &nbsp;&nbsp;&nbsp;&nbsp;&nbsp;&nbsp;&nbsp;&nbsp;&nbsp;\n",
       "                                                &nbsp;&nbsp;del $138binary_subscr.16<span class=\"object_tag\"></span>\n",
       "                                                </code>\n",
       "                                                </td>\n",
       "                                            </tr>\n",
       "                                            <tr class=\"ir_code\">\n",
       "                                                <td style=\"text-align: left;\"><code>\n",
       "                                                &nbsp;&nbsp;&nbsp;&nbsp;&nbsp;&nbsp;&nbsp;&nbsp;&nbsp;\n",
       "                                                &nbsp;&nbsp;del $130binary_subscr.13<span class=\"object_tag\"></span>\n",
       "                                                </code>\n",
       "                                                </td>\n",
       "                                            </tr>\n",
       "                                            <tr class=\"ir_code\">\n",
       "                                                <td style=\"text-align: left;\"><code>\n",
       "                                                &nbsp;&nbsp;&nbsp;&nbsp;&nbsp;&nbsp;&nbsp;&nbsp;&nbsp;\n",
       "                                                &nbsp;&nbsp;$binop_truediv146.18 = $binop_mul122.10 / $binop_add142.17  :: float64<span class=\"object_tag\"></span>\n",
       "                                                </code>\n",
       "                                                </td>\n",
       "                                            </tr>\n",
       "                                            <tr class=\"ir_code\">\n",
       "                                                <td style=\"text-align: left;\"><code>\n",
       "                                                &nbsp;&nbsp;&nbsp;&nbsp;&nbsp;&nbsp;&nbsp;&nbsp;&nbsp;\n",
       "                                                &nbsp;&nbsp;del $binop_mul122.10<span class=\"object_tag\"></span>\n",
       "                                                </code>\n",
       "                                                </td>\n",
       "                                            </tr>\n",
       "                                            <tr class=\"ir_code\">\n",
       "                                                <td style=\"text-align: left;\"><code>\n",
       "                                                &nbsp;&nbsp;&nbsp;&nbsp;&nbsp;&nbsp;&nbsp;&nbsp;&nbsp;\n",
       "                                                &nbsp;&nbsp;del $binop_add142.17<span class=\"object_tag\"></span>\n",
       "                                                </code>\n",
       "                                                </td>\n",
       "                                            </tr>\n",
       "                                            <tr class=\"ir_code\">\n",
       "                                                <td style=\"text-align: left;\"><code>\n",
       "                                                &nbsp;&nbsp;&nbsp;&nbsp;&nbsp;&nbsp;&nbsp;&nbsp;&nbsp;\n",
       "                                                &nbsp;&nbsp;out[i] = $binop_truediv146.18  :: (Array(float32, 1, &#39;C&#39;, False, aligned=True), int64, float64) -&gt; none<span class=\"object_tag\"></span>\n",
       "                                                </code>\n",
       "                                                </td>\n",
       "                                            </tr>\n",
       "                                            <tr class=\"ir_code\">\n",
       "                                                <td style=\"text-align: left;\"><code>\n",
       "                                                &nbsp;&nbsp;&nbsp;&nbsp;&nbsp;&nbsp;&nbsp;&nbsp;&nbsp;\n",
       "                                                &nbsp;&nbsp;del i<span class=\"object_tag\"></span>\n",
       "                                                </code>\n",
       "                                                </td>\n",
       "                                            </tr>\n",
       "                                            <tr class=\"ir_code\">\n",
       "                                                <td style=\"text-align: left;\"><code>\n",
       "                                                &nbsp;&nbsp;&nbsp;&nbsp;&nbsp;&nbsp;&nbsp;&nbsp;&nbsp;\n",
       "                                                &nbsp;&nbsp;del $binop_truediv146.18<span class=\"object_tag\"></span>\n",
       "                                                </code>\n",
       "                                                </td>\n",
       "                                            </tr>\n",
       "                                            <tr class=\"ir_code\">\n",
       "                                                <td style=\"text-align: left;\"><code>\n",
       "                                                &nbsp;&nbsp;&nbsp;&nbsp;&nbsp;&nbsp;&nbsp;&nbsp;&nbsp;\n",
       "                                                &nbsp;&nbsp;jump 94<span class=\"object_tag\"></span>\n",
       "                                                </code>\n",
       "                                                </td>\n",
       "                                            </tr></tbody>\n",
       "                                </table>\n",
       "                                </details>\n",
       "                        </td></tr>\n",
       "                    \n",
       "                        <tr><td style=\"text-align:left;\" class=\"\">\n",
       "                            <details>\n",
       "                                <summary>\n",
       "                                    <code>\n",
       "                                    6:\n",
       "                                    &nbsp;&nbsp;&nbsp;&nbsp;    <span style=\"color: #008000; font-weight: bold\">return</span> out\n",
       "                                    </code>\n",
       "                                </summary>\n",
       "                                <table class=\"annotation_table\">\n",
       "                                    <tbody>\n",
       "                                            <tr class=\"ir_code\">\n",
       "                                                <td style=\"text-align: left;\"><code>\n",
       "                                                &nbsp;&nbsp;&nbsp;&nbsp;&nbsp;\n",
       "                                                label 160<span class=\"object_tag\"></span>\n",
       "                                                </code>\n",
       "                                                </td>\n",
       "                                            </tr>\n",
       "                                            <tr class=\"ir_code\">\n",
       "                                                <td style=\"text-align: left;\"><code>\n",
       "                                                &nbsp;&nbsp;&nbsp;&nbsp;&nbsp;\n",
       "                                                &nbsp;&nbsp;del y<span class=\"object_tag\"></span>\n",
       "                                                </code>\n",
       "                                                </td>\n",
       "                                            </tr>\n",
       "                                            <tr class=\"ir_code\">\n",
       "                                                <td style=\"text-align: left;\"><code>\n",
       "                                                &nbsp;&nbsp;&nbsp;&nbsp;&nbsp;\n",
       "                                                &nbsp;&nbsp;del x<span class=\"object_tag\"></span>\n",
       "                                                </code>\n",
       "                                                </td>\n",
       "                                            </tr>\n",
       "                                            <tr class=\"ir_code\">\n",
       "                                                <td style=\"text-align: left;\"><code>\n",
       "                                                &nbsp;&nbsp;&nbsp;&nbsp;&nbsp;\n",
       "                                                &nbsp;&nbsp;del $phi98.1<span class=\"object_tag\"></span>\n",
       "                                                </code>\n",
       "                                                </td>\n",
       "                                            </tr>\n",
       "                                            <tr class=\"ir_code\">\n",
       "                                                <td style=\"text-align: left;\"><code>\n",
       "                                                &nbsp;&nbsp;&nbsp;&nbsp;&nbsp;\n",
       "                                                &nbsp;&nbsp;del $phi94.0<span class=\"object_tag\"></span>\n",
       "                                                </code>\n",
       "                                                </td>\n",
       "                                            </tr>\n",
       "                                            <tr class=\"ir_code\">\n",
       "                                                <td style=\"text-align: left;\"><code>\n",
       "                                                &nbsp;&nbsp;&nbsp;&nbsp;&nbsp;\n",
       "                                                &nbsp;&nbsp;del $94for_iter.3<span class=\"object_tag\"></span>\n",
       "                                                </code>\n",
       "                                                </td>\n",
       "                                            </tr>\n",
       "                                            <tr class=\"ir_code\">\n",
       "                                                <td style=\"text-align: left;\"><code>\n",
       "                                                &nbsp;&nbsp;&nbsp;&nbsp;&nbsp;\n",
       "                                                &nbsp;&nbsp;$164return_value.3 = cast(value=out)  :: array(float32, 1d, C)<span class=\"object_tag\"></span>\n",
       "                                                </code>\n",
       "                                                </td>\n",
       "                                            </tr>\n",
       "                                            <tr class=\"ir_code\">\n",
       "                                                <td style=\"text-align: left;\"><code>\n",
       "                                                &nbsp;&nbsp;&nbsp;&nbsp;&nbsp;\n",
       "                                                &nbsp;&nbsp;del out<span class=\"object_tag\"></span>\n",
       "                                                </code>\n",
       "                                                </td>\n",
       "                                            </tr>\n",
       "                                            <tr class=\"ir_code\">\n",
       "                                                <td style=\"text-align: left;\"><code>\n",
       "                                                &nbsp;&nbsp;&nbsp;&nbsp;&nbsp;\n",
       "                                                &nbsp;&nbsp;return $164return_value.3<span class=\"object_tag\"></span>\n",
       "                                                </code>\n",
       "                                                </td>\n",
       "                                            </tr></tbody>\n",
       "                                </table>\n",
       "                                </details>\n",
       "                        </td></tr>\n",
       "                    </table>\n",
       "            </div>\n",
       "        \n",
       "            <div class=\"metadata\">\n",
       "            Function name: frac_diff2<br />\n",
       "            \n",
       "                in file: /tmp/ipykernel_3490944/2090011437.py<br />\n",
       "            \n",
       "            with signature: (Array(float64, 1, &#39;C&#39;, False, aligned=True), Array(float64, 1, &#39;C&#39;, False, aligned=True)) -&gt; array(float64, 1d, C)\n",
       "            </div>\n",
       "            <div class=\"annotations\">\n",
       "            <table class=\"annotation_table tex2jax_ignore\">\n",
       "                        <tr><td style=\"text-align:left;\" class=\"\">\n",
       "                            <details>\n",
       "                                <summary>\n",
       "                                    <code>\n",
       "                                    1:\n",
       "                                    <span style=\"color: #AA22FF\">@jit</span>(nopython<span style=\"color: #666666\">=</span><span style=\"color: #008000; font-weight: bold\">True</span>, error_model<span style=\"color: #666666\">=</span><span style=\"color: #BA2121\">&#39;numpy&#39;</span>)\n",
       "                                    </code>\n",
       "                                </summary>\n",
       "                                <table class=\"annotation_table\">\n",
       "                                    <tbody>\n",
       "                                            <tr class=\"ir_code\">\n",
       "                                                <td style=\"text-align: left;\"><code>\n",
       "                                                &nbsp;\n",
       "                                                label 0<span class=\"object_tag\"></span>\n",
       "                                                </code>\n",
       "                                                </td>\n",
       "                                            </tr>\n",
       "                                            <tr class=\"ir_code\">\n",
       "                                                <td style=\"text-align: left;\"><code>\n",
       "                                                &nbsp;\n",
       "                                                &nbsp;&nbsp;x = arg(0, name=x)  :: array(float64, 1d, C)<span class=\"object_tag\"></span>\n",
       "                                                </code>\n",
       "                                                </td>\n",
       "                                            </tr>\n",
       "                                            <tr class=\"ir_code\">\n",
       "                                                <td style=\"text-align: left;\"><code>\n",
       "                                                &nbsp;\n",
       "                                                &nbsp;&nbsp;y = arg(1, name=y)  :: array(float64, 1d, C)<span class=\"object_tag\"></span>\n",
       "                                                </code>\n",
       "                                                </td>\n",
       "                                            </tr></tbody>\n",
       "                                </table>\n",
       "                                </details>\n",
       "                        </td></tr>\n",
       "                    <tr><td style=\"text-align:left; padding-left: 22px;\" class=\"\">\n",
       "                            <code>\n",
       "                                2:\n",
       "                                <span style=\"color: #008000; font-weight: bold\">def</span> <span style=\"color: #0000FF\">frac_diff2</span>(x, y):\n",
       "                            </code>\n",
       "                        </td></tr>\n",
       "                        <tr><td style=\"text-align:left;\" class=\"\">\n",
       "                            <details>\n",
       "                                <summary>\n",
       "                                    <code>\n",
       "                                    3:\n",
       "                                    &nbsp;&nbsp;&nbsp;&nbsp;    out <span style=\"color: #666666\">=</span> np<span style=\"color: #666666\">.</span>empty_like(x)\n",
       "                                    </code>\n",
       "                                </summary>\n",
       "                                <table class=\"annotation_table\">\n",
       "                                    <tbody>\n",
       "                                            <tr class=\"ir_code\">\n",
       "                                                <td style=\"text-align: left;\"><code>\n",
       "                                                &nbsp;&nbsp;&nbsp;&nbsp;&nbsp;\n",
       "                                                &nbsp;&nbsp;$4load_global.0 = global(np: &lt;module &#39;numpy&#39; from &#39;/home/fradav/.micromamba/envs/miashs-hpc/lib/python3.12/site-packages/numpy/__init__.py&#39;&gt;)  :: Module(&lt;module &#39;numpy&#39; from &#39;/home/fradav/.micromamba/envs/miashs-hpc/lib/python3.12/site-packages/numpy/__init__.py&#39;&gt;)<span class=\"object_tag\"></span>\n",
       "                                                </code>\n",
       "                                                </td>\n",
       "                                            </tr>\n",
       "                                            <tr class=\"ir_code\">\n",
       "                                                <td style=\"text-align: left;\"><code>\n",
       "                                                &nbsp;&nbsp;&nbsp;&nbsp;&nbsp;\n",
       "                                                &nbsp;&nbsp;$14load_attr.2 = getattr(value=$4load_global.0, attr=empty_like)  :: Function(&lt;built-in function empty_like&gt;)<span class=\"object_tag\"></span>\n",
       "                                                </code>\n",
       "                                                </td>\n",
       "                                            </tr>\n",
       "                                            <tr class=\"ir_code\">\n",
       "                                                <td style=\"text-align: left;\"><code>\n",
       "                                                &nbsp;&nbsp;&nbsp;&nbsp;&nbsp;\n",
       "                                                &nbsp;&nbsp;del $4load_global.0<span class=\"object_tag\"></span>\n",
       "                                                </code>\n",
       "                                                </td>\n",
       "                                            </tr>\n",
       "                                            <tr class=\"ir_code\">\n",
       "                                                <td style=\"text-align: left;\"><code>\n",
       "                                                &nbsp;&nbsp;&nbsp;&nbsp;&nbsp;\n",
       "                                                &nbsp;&nbsp;out = call $14load_attr.2(x, func=$14load_attr.2, args=[Var(x, 2090011437.py:1)], kws=(), vararg=None, varkwarg=None, target=None)  :: (Array(float64, 1, &#39;C&#39;, False, aligned=True), omitted(default=None)) -&gt; array(float64, 1d, C)<span class=\"object_tag\"></span>\n",
       "                                                </code>\n",
       "                                                </td>\n",
       "                                            </tr>\n",
       "                                            <tr class=\"ir_code\">\n",
       "                                                <td style=\"text-align: left;\"><code>\n",
       "                                                &nbsp;&nbsp;&nbsp;&nbsp;&nbsp;\n",
       "                                                &nbsp;&nbsp;del $14load_attr.2<span class=\"object_tag\"></span>\n",
       "                                                </code>\n",
       "                                                </td>\n",
       "                                            </tr></tbody>\n",
       "                                </table>\n",
       "                                </details>\n",
       "                        </td></tr>\n",
       "                    \n",
       "                        <tr><td style=\"text-align:left;\" class=\"\">\n",
       "                            <details>\n",
       "                                <summary>\n",
       "                                    <code>\n",
       "                                    4:\n",
       "                                    &nbsp;&nbsp;&nbsp;&nbsp;    <span style=\"color: #008000; font-weight: bold\">for</span> i <span style=\"color: #AA22FF; font-weight: bold\">in</span> <span style=\"color: #008000\">range</span>(x<span style=\"color: #666666\">.</span>shape[<span style=\"color: #666666\">0</span>]):\n",
       "                                    </code>\n",
       "                                </summary>\n",
       "                                <table class=\"annotation_table\">\n",
       "                                    <tbody>\n",
       "                                            <tr class=\"ir_code\">\n",
       "                                                <td style=\"text-align: left;\"><code>\n",
       "                                                &nbsp;&nbsp;&nbsp;&nbsp;&nbsp;\n",
       "                                                &nbsp;&nbsp;$46load_global.5 = global(range: &lt;class &#39;range&#39;&gt;)  :: Function(&lt;class &#39;range&#39;&gt;)<span class=\"object_tag\"></span>\n",
       "                                                </code>\n",
       "                                                </td>\n",
       "                                            </tr>\n",
       "                                            <tr class=\"ir_code\">\n",
       "                                                <td style=\"text-align: left;\"><code>\n",
       "                                                &nbsp;&nbsp;&nbsp;&nbsp;&nbsp;\n",
       "                                                &nbsp;&nbsp;$58load_attr.8 = getattr(value=x, attr=shape)  :: UniTuple(int64 x 1)<span class=\"object_tag\"></span>\n",
       "                                                </code>\n",
       "                                                </td>\n",
       "                                            </tr>\n",
       "                                            <tr class=\"ir_code\">\n",
       "                                                <td style=\"text-align: left;\"><code>\n",
       "                                                &nbsp;&nbsp;&nbsp;&nbsp;&nbsp;\n",
       "                                                &nbsp;&nbsp;$const78.9 = const(int, 0)  :: Literal[int](0)<span class=\"object_tag\"></span>\n",
       "                                                </code>\n",
       "                                                </td>\n",
       "                                            </tr>\n",
       "                                            <tr class=\"ir_code\">\n",
       "                                                <td style=\"text-align: left;\"><code>\n",
       "                                                &nbsp;&nbsp;&nbsp;&nbsp;&nbsp;\n",
       "                                                &nbsp;&nbsp;$80binary_subscr.10 = static_getitem(value=$58load_attr.8, index=0, index_var=$const78.9, fn=&lt;built-in function getitem&gt;)  :: int64<span class=\"object_tag\"></span>\n",
       "                                                </code>\n",
       "                                                </td>\n",
       "                                            </tr>\n",
       "                                            <tr class=\"ir_code\">\n",
       "                                                <td style=\"text-align: left;\"><code>\n",
       "                                                &nbsp;&nbsp;&nbsp;&nbsp;&nbsp;\n",
       "                                                &nbsp;&nbsp;del $const78.9<span class=\"object_tag\"></span>\n",
       "                                                </code>\n",
       "                                                </td>\n",
       "                                            </tr>\n",
       "                                            <tr class=\"ir_code\">\n",
       "                                                <td style=\"text-align: left;\"><code>\n",
       "                                                &nbsp;&nbsp;&nbsp;&nbsp;&nbsp;\n",
       "                                                &nbsp;&nbsp;del $58load_attr.8<span class=\"object_tag\"></span>\n",
       "                                                </code>\n",
       "                                                </td>\n",
       "                                            </tr>\n",
       "                                            <tr class=\"ir_code\">\n",
       "                                                <td style=\"text-align: left;\"><code>\n",
       "                                                &nbsp;&nbsp;&nbsp;&nbsp;&nbsp;\n",
       "                                                &nbsp;&nbsp;$84call.11 = call $46load_global.5($80binary_subscr.10, func=$46load_global.5, args=[Var($80binary_subscr.10, 2090011437.py:4)], kws=(), vararg=None, varkwarg=None, target=None)  :: (int64,) -&gt; range_state_int64<span class=\"object_tag\"></span>\n",
       "                                                </code>\n",
       "                                                </td>\n",
       "                                            </tr>\n",
       "                                            <tr class=\"ir_code\">\n",
       "                                                <td style=\"text-align: left;\"><code>\n",
       "                                                &nbsp;&nbsp;&nbsp;&nbsp;&nbsp;\n",
       "                                                &nbsp;&nbsp;del $80binary_subscr.10<span class=\"object_tag\"></span>\n",
       "                                                </code>\n",
       "                                                </td>\n",
       "                                            </tr>\n",
       "                                            <tr class=\"ir_code\">\n",
       "                                                <td style=\"text-align: left;\"><code>\n",
       "                                                &nbsp;&nbsp;&nbsp;&nbsp;&nbsp;\n",
       "                                                &nbsp;&nbsp;del $46load_global.5<span class=\"object_tag\"></span>\n",
       "                                                </code>\n",
       "                                                </td>\n",
       "                                            </tr>\n",
       "                                            <tr class=\"ir_code\">\n",
       "                                                <td style=\"text-align: left;\"><code>\n",
       "                                                &nbsp;&nbsp;&nbsp;&nbsp;&nbsp;\n",
       "                                                &nbsp;&nbsp;$92get_iter.12 = getiter(value=$84call.11)  :: range_iter_int64<span class=\"object_tag\"></span>\n",
       "                                                </code>\n",
       "                                                </td>\n",
       "                                            </tr>\n",
       "                                            <tr class=\"ir_code\">\n",
       "                                                <td style=\"text-align: left;\"><code>\n",
       "                                                &nbsp;&nbsp;&nbsp;&nbsp;&nbsp;\n",
       "                                                &nbsp;&nbsp;del $84call.11<span class=\"object_tag\"></span>\n",
       "                                                </code>\n",
       "                                                </td>\n",
       "                                            </tr>\n",
       "                                            <tr class=\"ir_code\">\n",
       "                                                <td style=\"text-align: left;\"><code>\n",
       "                                                &nbsp;&nbsp;&nbsp;&nbsp;&nbsp;\n",
       "                                                &nbsp;&nbsp;$phi94.0 = $92get_iter.12  :: range_iter_int64<span class=\"object_tag\"></span>\n",
       "                                                </code>\n",
       "                                                </td>\n",
       "                                            </tr>\n",
       "                                            <tr class=\"ir_code\">\n",
       "                                                <td style=\"text-align: left;\"><code>\n",
       "                                                &nbsp;&nbsp;&nbsp;&nbsp;&nbsp;\n",
       "                                                &nbsp;&nbsp;del $92get_iter.12<span class=\"object_tag\"></span>\n",
       "                                                </code>\n",
       "                                                </td>\n",
       "                                            </tr>\n",
       "                                            <tr class=\"ir_code\">\n",
       "                                                <td style=\"text-align: left;\"><code>\n",
       "                                                &nbsp;&nbsp;&nbsp;&nbsp;&nbsp;\n",
       "                                                &nbsp;&nbsp;jump 94<span class=\"object_tag\"></span>\n",
       "                                                </code>\n",
       "                                                </td>\n",
       "                                            </tr>\n",
       "                                            <tr class=\"ir_code\">\n",
       "                                                <td style=\"text-align: left;\"><code>\n",
       "                                                &nbsp;&nbsp;&nbsp;&nbsp;&nbsp;\n",
       "                                                label 94<span class=\"object_tag\"></span>\n",
       "                                                </code>\n",
       "                                                </td>\n",
       "                                            </tr>\n",
       "                                            <tr class=\"ir_code\">\n",
       "                                                <td style=\"text-align: left;\"><code>\n",
       "                                                &nbsp;&nbsp;&nbsp;&nbsp;&nbsp;\n",
       "                                                &nbsp;&nbsp;$94for_iter.1 = iternext(value=$phi94.0)  :: pair&lt;int64, bool&gt;<span class=\"object_tag\"></span>\n",
       "                                                </code>\n",
       "                                                </td>\n",
       "                                            </tr>\n",
       "                                            <tr class=\"ir_code\">\n",
       "                                                <td style=\"text-align: left;\"><code>\n",
       "                                                &nbsp;&nbsp;&nbsp;&nbsp;&nbsp;\n",
       "                                                &nbsp;&nbsp;$94for_iter.2 = pair_first(value=$94for_iter.1)  :: int64<span class=\"object_tag\"></span>\n",
       "                                                </code>\n",
       "                                                </td>\n",
       "                                            </tr>\n",
       "                                            <tr class=\"ir_code\">\n",
       "                                                <td style=\"text-align: left;\"><code>\n",
       "                                                &nbsp;&nbsp;&nbsp;&nbsp;&nbsp;\n",
       "                                                &nbsp;&nbsp;$94for_iter.3 = pair_second(value=$94for_iter.1)  :: bool<span class=\"object_tag\"></span>\n",
       "                                                </code>\n",
       "                                                </td>\n",
       "                                            </tr>\n",
       "                                            <tr class=\"ir_code\">\n",
       "                                                <td style=\"text-align: left;\"><code>\n",
       "                                                &nbsp;&nbsp;&nbsp;&nbsp;&nbsp;\n",
       "                                                &nbsp;&nbsp;del $94for_iter.1<span class=\"object_tag\"></span>\n",
       "                                                </code>\n",
       "                                                </td>\n",
       "                                            </tr>\n",
       "                                            <tr class=\"ir_code\">\n",
       "                                                <td style=\"text-align: left;\"><code>\n",
       "                                                &nbsp;&nbsp;&nbsp;&nbsp;&nbsp;\n",
       "                                                &nbsp;&nbsp;$phi98.1 = $94for_iter.2  :: int64<span class=\"object_tag\"></span>\n",
       "                                                </code>\n",
       "                                                </td>\n",
       "                                            </tr>\n",
       "                                            <tr class=\"ir_code\">\n",
       "                                                <td style=\"text-align: left;\"><code>\n",
       "                                                &nbsp;&nbsp;&nbsp;&nbsp;&nbsp;\n",
       "                                                &nbsp;&nbsp;del $94for_iter.2<span class=\"object_tag\"></span>\n",
       "                                                </code>\n",
       "                                                </td>\n",
       "                                            </tr>\n",
       "                                            <tr class=\"ir_code\">\n",
       "                                                <td style=\"text-align: left;\"><code>\n",
       "                                                &nbsp;&nbsp;&nbsp;&nbsp;&nbsp;\n",
       "                                                &nbsp;&nbsp;branch $94for_iter.3, 98, 160<span class=\"object_tag\"></span>\n",
       "                                                </code>\n",
       "                                                </td>\n",
       "                                            </tr>\n",
       "                                            <tr class=\"ir_code\">\n",
       "                                                <td style=\"text-align: left;\"><code>\n",
       "                                                &nbsp;&nbsp;&nbsp;&nbsp;&nbsp;\n",
       "                                                label 98<span class=\"object_tag\"></span>\n",
       "                                                </code>\n",
       "                                                </td>\n",
       "                                            </tr>\n",
       "                                            <tr class=\"ir_code\">\n",
       "                                                <td style=\"text-align: left;\"><code>\n",
       "                                                &nbsp;&nbsp;&nbsp;&nbsp;&nbsp;\n",
       "                                                &nbsp;&nbsp;del $94for_iter.3<span class=\"object_tag\"></span>\n",
       "                                                </code>\n",
       "                                                </td>\n",
       "                                            </tr>\n",
       "                                            <tr class=\"ir_code\">\n",
       "                                                <td style=\"text-align: left;\"><code>\n",
       "                                                &nbsp;&nbsp;&nbsp;&nbsp;&nbsp;\n",
       "                                                &nbsp;&nbsp;i = $phi98.1  :: int64<span class=\"object_tag\"></span>\n",
       "                                                </code>\n",
       "                                                </td>\n",
       "                                            </tr>\n",
       "                                            <tr class=\"ir_code\">\n",
       "                                                <td style=\"text-align: left;\"><code>\n",
       "                                                &nbsp;&nbsp;&nbsp;&nbsp;&nbsp;\n",
       "                                                &nbsp;&nbsp;del $phi98.1<span class=\"object_tag\"></span>\n",
       "                                                </code>\n",
       "                                                </td>\n",
       "                                            </tr></tbody>\n",
       "                                </table>\n",
       "                                </details>\n",
       "                        </td></tr>\n",
       "                    \n",
       "                        <tr><td style=\"text-align:left;\" class=\"\">\n",
       "                            <details>\n",
       "                                <summary>\n",
       "                                    <code>\n",
       "                                    5:\n",
       "                                    &nbsp;&nbsp;&nbsp;&nbsp;&nbsp;&nbsp;&nbsp;&nbsp;        out[i] <span style=\"color: #666666\">=</span> <span style=\"color: #666666\">2</span> <span style=\"color: #666666\">*</span> (x[i] <span style=\"color: #666666\">-</span> y[i]) <span style=\"color: #666666\">/</span> (x[i] <span style=\"color: #666666\">+</span> y[i])\n",
       "                                    </code>\n",
       "                                </summary>\n",
       "                                <table class=\"annotation_table\">\n",
       "                                    <tbody>\n",
       "                                            <tr class=\"ir_code\">\n",
       "                                                <td style=\"text-align: left;\"><code>\n",
       "                                                &nbsp;&nbsp;&nbsp;&nbsp;&nbsp;&nbsp;&nbsp;&nbsp;&nbsp;\n",
       "                                                &nbsp;&nbsp;$const100.2 = const(int, 2)  :: Literal[int](2)<span class=\"object_tag\"></span>\n",
       "                                                </code>\n",
       "                                                </td>\n",
       "                                            </tr>\n",
       "                                            <tr class=\"ir_code\">\n",
       "                                                <td style=\"text-align: left;\"><code>\n",
       "                                                &nbsp;&nbsp;&nbsp;&nbsp;&nbsp;&nbsp;&nbsp;&nbsp;&nbsp;\n",
       "                                                &nbsp;&nbsp;$106binary_subscr.5 = getitem(value=x, index=i, fn=&lt;built-in function getitem&gt;)  :: float64<span class=\"object_tag\"></span>\n",
       "                                                </code>\n",
       "                                                </td>\n",
       "                                            </tr>\n",
       "                                            <tr class=\"ir_code\">\n",
       "                                                <td style=\"text-align: left;\"><code>\n",
       "                                                &nbsp;&nbsp;&nbsp;&nbsp;&nbsp;&nbsp;&nbsp;&nbsp;&nbsp;\n",
       "                                                &nbsp;&nbsp;$114binary_subscr.8 = getitem(value=y, index=i, fn=&lt;built-in function getitem&gt;)  :: float64<span class=\"object_tag\"></span>\n",
       "                                                </code>\n",
       "                                                </td>\n",
       "                                            </tr>\n",
       "                                            <tr class=\"ir_code\">\n",
       "                                                <td style=\"text-align: left;\"><code>\n",
       "                                                &nbsp;&nbsp;&nbsp;&nbsp;&nbsp;&nbsp;&nbsp;&nbsp;&nbsp;\n",
       "                                                &nbsp;&nbsp;$binop_sub118.9 = $106binary_subscr.5 - $114binary_subscr.8  :: float64<span class=\"object_tag\"></span>\n",
       "                                                </code>\n",
       "                                                </td>\n",
       "                                            </tr>\n",
       "                                            <tr class=\"ir_code\">\n",
       "                                                <td style=\"text-align: left;\"><code>\n",
       "                                                &nbsp;&nbsp;&nbsp;&nbsp;&nbsp;&nbsp;&nbsp;&nbsp;&nbsp;\n",
       "                                                &nbsp;&nbsp;del $114binary_subscr.8<span class=\"object_tag\"></span>\n",
       "                                                </code>\n",
       "                                                </td>\n",
       "                                            </tr>\n",
       "                                            <tr class=\"ir_code\">\n",
       "                                                <td style=\"text-align: left;\"><code>\n",
       "                                                &nbsp;&nbsp;&nbsp;&nbsp;&nbsp;&nbsp;&nbsp;&nbsp;&nbsp;\n",
       "                                                &nbsp;&nbsp;del $106binary_subscr.5<span class=\"object_tag\"></span>\n",
       "                                                </code>\n",
       "                                                </td>\n",
       "                                            </tr>\n",
       "                                            <tr class=\"ir_code\">\n",
       "                                                <td style=\"text-align: left;\"><code>\n",
       "                                                &nbsp;&nbsp;&nbsp;&nbsp;&nbsp;&nbsp;&nbsp;&nbsp;&nbsp;\n",
       "                                                &nbsp;&nbsp;$binop_mul122.10 = $const100.2 * $binop_sub118.9  :: float64<span class=\"object_tag\"></span>\n",
       "                                                </code>\n",
       "                                                </td>\n",
       "                                            </tr>\n",
       "                                            <tr class=\"ir_code\">\n",
       "                                                <td style=\"text-align: left;\"><code>\n",
       "                                                &nbsp;&nbsp;&nbsp;&nbsp;&nbsp;&nbsp;&nbsp;&nbsp;&nbsp;\n",
       "                                                &nbsp;&nbsp;del $const100.2<span class=\"object_tag\"></span>\n",
       "                                                </code>\n",
       "                                                </td>\n",
       "                                            </tr>\n",
       "                                            <tr class=\"ir_code\">\n",
       "                                                <td style=\"text-align: left;\"><code>\n",
       "                                                &nbsp;&nbsp;&nbsp;&nbsp;&nbsp;&nbsp;&nbsp;&nbsp;&nbsp;\n",
       "                                                &nbsp;&nbsp;del $binop_sub118.9<span class=\"object_tag\"></span>\n",
       "                                                </code>\n",
       "                                                </td>\n",
       "                                            </tr>\n",
       "                                            <tr class=\"ir_code\">\n",
       "                                                <td style=\"text-align: left;\"><code>\n",
       "                                                &nbsp;&nbsp;&nbsp;&nbsp;&nbsp;&nbsp;&nbsp;&nbsp;&nbsp;\n",
       "                                                &nbsp;&nbsp;$130binary_subscr.13 = getitem(value=x, index=i, fn=&lt;built-in function getitem&gt;)  :: float64<span class=\"object_tag\"></span>\n",
       "                                                </code>\n",
       "                                                </td>\n",
       "                                            </tr>\n",
       "                                            <tr class=\"ir_code\">\n",
       "                                                <td style=\"text-align: left;\"><code>\n",
       "                                                &nbsp;&nbsp;&nbsp;&nbsp;&nbsp;&nbsp;&nbsp;&nbsp;&nbsp;\n",
       "                                                &nbsp;&nbsp;$138binary_subscr.16 = getitem(value=y, index=i, fn=&lt;built-in function getitem&gt;)  :: float64<span class=\"object_tag\"></span>\n",
       "                                                </code>\n",
       "                                                </td>\n",
       "                                            </tr>\n",
       "                                            <tr class=\"ir_code\">\n",
       "                                                <td style=\"text-align: left;\"><code>\n",
       "                                                &nbsp;&nbsp;&nbsp;&nbsp;&nbsp;&nbsp;&nbsp;&nbsp;&nbsp;\n",
       "                                                &nbsp;&nbsp;$binop_add142.17 = $130binary_subscr.13 + $138binary_subscr.16  :: float64<span class=\"object_tag\"></span>\n",
       "                                                </code>\n",
       "                                                </td>\n",
       "                                            </tr>\n",
       "                                            <tr class=\"ir_code\">\n",
       "                                                <td style=\"text-align: left;\"><code>\n",
       "                                                &nbsp;&nbsp;&nbsp;&nbsp;&nbsp;&nbsp;&nbsp;&nbsp;&nbsp;\n",
       "                                                &nbsp;&nbsp;del $138binary_subscr.16<span class=\"object_tag\"></span>\n",
       "                                                </code>\n",
       "                                                </td>\n",
       "                                            </tr>\n",
       "                                            <tr class=\"ir_code\">\n",
       "                                                <td style=\"text-align: left;\"><code>\n",
       "                                                &nbsp;&nbsp;&nbsp;&nbsp;&nbsp;&nbsp;&nbsp;&nbsp;&nbsp;\n",
       "                                                &nbsp;&nbsp;del $130binary_subscr.13<span class=\"object_tag\"></span>\n",
       "                                                </code>\n",
       "                                                </td>\n",
       "                                            </tr>\n",
       "                                            <tr class=\"ir_code\">\n",
       "                                                <td style=\"text-align: left;\"><code>\n",
       "                                                &nbsp;&nbsp;&nbsp;&nbsp;&nbsp;&nbsp;&nbsp;&nbsp;&nbsp;\n",
       "                                                &nbsp;&nbsp;$binop_truediv146.18 = $binop_mul122.10 / $binop_add142.17  :: float64<span class=\"object_tag\"></span>\n",
       "                                                </code>\n",
       "                                                </td>\n",
       "                                            </tr>\n",
       "                                            <tr class=\"ir_code\">\n",
       "                                                <td style=\"text-align: left;\"><code>\n",
       "                                                &nbsp;&nbsp;&nbsp;&nbsp;&nbsp;&nbsp;&nbsp;&nbsp;&nbsp;\n",
       "                                                &nbsp;&nbsp;del $binop_mul122.10<span class=\"object_tag\"></span>\n",
       "                                                </code>\n",
       "                                                </td>\n",
       "                                            </tr>\n",
       "                                            <tr class=\"ir_code\">\n",
       "                                                <td style=\"text-align: left;\"><code>\n",
       "                                                &nbsp;&nbsp;&nbsp;&nbsp;&nbsp;&nbsp;&nbsp;&nbsp;&nbsp;\n",
       "                                                &nbsp;&nbsp;del $binop_add142.17<span class=\"object_tag\"></span>\n",
       "                                                </code>\n",
       "                                                </td>\n",
       "                                            </tr>\n",
       "                                            <tr class=\"ir_code\">\n",
       "                                                <td style=\"text-align: left;\"><code>\n",
       "                                                &nbsp;&nbsp;&nbsp;&nbsp;&nbsp;&nbsp;&nbsp;&nbsp;&nbsp;\n",
       "                                                &nbsp;&nbsp;out[i] = $binop_truediv146.18  :: (Array(float64, 1, &#39;C&#39;, False, aligned=True), int64, float64) -&gt; none<span class=\"object_tag\"></span>\n",
       "                                                </code>\n",
       "                                                </td>\n",
       "                                            </tr>\n",
       "                                            <tr class=\"ir_code\">\n",
       "                                                <td style=\"text-align: left;\"><code>\n",
       "                                                &nbsp;&nbsp;&nbsp;&nbsp;&nbsp;&nbsp;&nbsp;&nbsp;&nbsp;\n",
       "                                                &nbsp;&nbsp;del i<span class=\"object_tag\"></span>\n",
       "                                                </code>\n",
       "                                                </td>\n",
       "                                            </tr>\n",
       "                                            <tr class=\"ir_code\">\n",
       "                                                <td style=\"text-align: left;\"><code>\n",
       "                                                &nbsp;&nbsp;&nbsp;&nbsp;&nbsp;&nbsp;&nbsp;&nbsp;&nbsp;\n",
       "                                                &nbsp;&nbsp;del $binop_truediv146.18<span class=\"object_tag\"></span>\n",
       "                                                </code>\n",
       "                                                </td>\n",
       "                                            </tr>\n",
       "                                            <tr class=\"ir_code\">\n",
       "                                                <td style=\"text-align: left;\"><code>\n",
       "                                                &nbsp;&nbsp;&nbsp;&nbsp;&nbsp;&nbsp;&nbsp;&nbsp;&nbsp;\n",
       "                                                &nbsp;&nbsp;jump 94<span class=\"object_tag\"></span>\n",
       "                                                </code>\n",
       "                                                </td>\n",
       "                                            </tr></tbody>\n",
       "                                </table>\n",
       "                                </details>\n",
       "                        </td></tr>\n",
       "                    \n",
       "                        <tr><td style=\"text-align:left;\" class=\"\">\n",
       "                            <details>\n",
       "                                <summary>\n",
       "                                    <code>\n",
       "                                    6:\n",
       "                                    &nbsp;&nbsp;&nbsp;&nbsp;    <span style=\"color: #008000; font-weight: bold\">return</span> out\n",
       "                                    </code>\n",
       "                                </summary>\n",
       "                                <table class=\"annotation_table\">\n",
       "                                    <tbody>\n",
       "                                            <tr class=\"ir_code\">\n",
       "                                                <td style=\"text-align: left;\"><code>\n",
       "                                                &nbsp;&nbsp;&nbsp;&nbsp;&nbsp;\n",
       "                                                label 160<span class=\"object_tag\"></span>\n",
       "                                                </code>\n",
       "                                                </td>\n",
       "                                            </tr>\n",
       "                                            <tr class=\"ir_code\">\n",
       "                                                <td style=\"text-align: left;\"><code>\n",
       "                                                &nbsp;&nbsp;&nbsp;&nbsp;&nbsp;\n",
       "                                                &nbsp;&nbsp;del y<span class=\"object_tag\"></span>\n",
       "                                                </code>\n",
       "                                                </td>\n",
       "                                            </tr>\n",
       "                                            <tr class=\"ir_code\">\n",
       "                                                <td style=\"text-align: left;\"><code>\n",
       "                                                &nbsp;&nbsp;&nbsp;&nbsp;&nbsp;\n",
       "                                                &nbsp;&nbsp;del x<span class=\"object_tag\"></span>\n",
       "                                                </code>\n",
       "                                                </td>\n",
       "                                            </tr>\n",
       "                                            <tr class=\"ir_code\">\n",
       "                                                <td style=\"text-align: left;\"><code>\n",
       "                                                &nbsp;&nbsp;&nbsp;&nbsp;&nbsp;\n",
       "                                                &nbsp;&nbsp;del $phi98.1<span class=\"object_tag\"></span>\n",
       "                                                </code>\n",
       "                                                </td>\n",
       "                                            </tr>\n",
       "                                            <tr class=\"ir_code\">\n",
       "                                                <td style=\"text-align: left;\"><code>\n",
       "                                                &nbsp;&nbsp;&nbsp;&nbsp;&nbsp;\n",
       "                                                &nbsp;&nbsp;del $phi94.0<span class=\"object_tag\"></span>\n",
       "                                                </code>\n",
       "                                                </td>\n",
       "                                            </tr>\n",
       "                                            <tr class=\"ir_code\">\n",
       "                                                <td style=\"text-align: left;\"><code>\n",
       "                                                &nbsp;&nbsp;&nbsp;&nbsp;&nbsp;\n",
       "                                                &nbsp;&nbsp;del $94for_iter.3<span class=\"object_tag\"></span>\n",
       "                                                </code>\n",
       "                                                </td>\n",
       "                                            </tr>\n",
       "                                            <tr class=\"ir_code\">\n",
       "                                                <td style=\"text-align: left;\"><code>\n",
       "                                                &nbsp;&nbsp;&nbsp;&nbsp;&nbsp;\n",
       "                                                &nbsp;&nbsp;$164return_value.3 = cast(value=out)  :: array(float64, 1d, C)<span class=\"object_tag\"></span>\n",
       "                                                </code>\n",
       "                                                </td>\n",
       "                                            </tr>\n",
       "                                            <tr class=\"ir_code\">\n",
       "                                                <td style=\"text-align: left;\"><code>\n",
       "                                                &nbsp;&nbsp;&nbsp;&nbsp;&nbsp;\n",
       "                                                &nbsp;&nbsp;del out<span class=\"object_tag\"></span>\n",
       "                                                </code>\n",
       "                                                </td>\n",
       "                                            </tr>\n",
       "                                            <tr class=\"ir_code\">\n",
       "                                                <td style=\"text-align: left;\"><code>\n",
       "                                                &nbsp;&nbsp;&nbsp;&nbsp;&nbsp;\n",
       "                                                &nbsp;&nbsp;return $164return_value.3<span class=\"object_tag\"></span>\n",
       "                                                </code>\n",
       "                                                </td>\n",
       "                                            </tr></tbody>\n",
       "                                </table>\n",
       "                                </details>\n",
       "                        </td></tr>\n",
       "                    </table>\n",
       "            </div>\n",
       "        \n",
       "    </body>\n",
       "    </html>\n",
       "    "
      ],
      "text/plain": [
       "Function name: \u001b[34mfrac_diff2\u001b[39;49;00m\n",
       "In file: \u001b[34m/tmp/ipykernel_3490944/2090011437.py\u001b[39;49;00m\n",
       "With signature: \u001b[34m(Array(float32, 1, 'C', False, aligned=True), Array(float32, 1, 'C', False, aligned=True)) -> array(float32, 1d, C)\u001b[39;49;00m\n",
       "\n",
       "1: \u001b[90m@jit\u001b[39;49;00m(nopython=\u001b[34mTrue\u001b[39;49;00m, error_model=\u001b[33m'\u001b[39;49;00m\u001b[33mnumpy\u001b[39;49;00m\u001b[33m'\u001b[39;49;00m)\u001b[37m\u001b[39;49;00m\n",
       "--    label 0\u001b[41m\u001b[39;49;00m\n",
       "--      x = arg(0, name=x)  :: array(float32, 1d, C)\u001b[41m\u001b[39;49;00m\n",
       "--      y = arg(1, name=y)  :: array(float32, 1d, C)\u001b[41m\u001b[39;49;00m\n",
       "2: \u001b[34mdef\u001b[39;49;00m \u001b[32mfrac_diff2\u001b[39;49;00m(x, y):\u001b[37m\u001b[39;49;00m\n",
       "3:     out = np.empty_like(x)\u001b[37m\u001b[39;49;00m\n",
       "--          $4load_global.0 = global(np: <module 'numpy' from '/home/fradav/.micromamba/envs/miashs-hpc/lib/python3.12/site-packages/numpy/__init__.py'>)  :: Module(<module 'numpy' from '/home/fradav/.micromamba/envs/miashs-hpc/lib/python3.12/site-packages/numpy/__init__.py'>)\u001b[41m\u001b[39;49;00m\n",
       "--          $14load_attr.2 = getattr(value=$4load_global.0, attr=empty_like)  :: Function(<built-in function empty_like>)\u001b[41m\u001b[39;49;00m\n",
       "--          del $4load_global.0\u001b[41m\u001b[39;49;00m\n",
       "--          out = call $14load_attr.2(x, func=$14load_attr.2, args=[Var(x, 2090011437.py:1)], kws=(), vararg=None, varkwarg=None, target=None)  :: (Array(float32, 1, 'C', False, aligned=True), omitted(default=None)) -> array(float32, 1d, C)\u001b[41m\u001b[39;49;00m\n",
       "--          del $14load_attr.2\u001b[41m\u001b[39;49;00m\n",
       "4:     \u001b[34mfor\u001b[39;49;00m i \u001b[35min\u001b[39;49;00m \u001b[36mrange\u001b[39;49;00m(x.shape[\u001b[34m0\u001b[39;49;00m]):\u001b[37m\u001b[39;49;00m\n",
       "--          $46load_global.5 = global(range: <class 'range'>)  :: Function(<class 'range'>)\u001b[41m\u001b[39;49;00m\n",
       "--          $58load_attr.8 = getattr(value=x, attr=shape)  :: UniTuple(int64 x 1)\u001b[41m\u001b[39;49;00m\n",
       "--          $const78.9 = const(int, 0)  :: Literal[int](0)\u001b[41m\u001b[39;49;00m\n",
       "--          $80binary_subscr.10 = static_getitem(value=$58load_attr.8, index=0, index_var=$const78.9, fn=<built-in function getitem>)  :: int64\u001b[41m\u001b[39;49;00m\n",
       "--          del $const78.9\u001b[41m\u001b[39;49;00m\n",
       "--          del $58load_attr.8\u001b[41m\u001b[39;49;00m\n",
       "--          $84call.11 = call $46load_global.5($80binary_subscr.10, func=$46load_global.5, args=[Var($80binary_subscr.10, 2090011437.py:4)], kws=(), vararg=None, varkwarg=None, target=None)  :: (int64,) -> range_state_int64\u001b[41m\u001b[39;49;00m\n",
       "--          del $80binary_subscr.10\u001b[41m\u001b[39;49;00m\n",
       "--          del $46load_global.5\u001b[41m\u001b[39;49;00m\n",
       "--          $92get_iter.12 = getiter(value=$84call.11)  :: range_iter_int64\u001b[41m\u001b[39;49;00m\n",
       "--          del $84call.11\u001b[41m\u001b[39;49;00m\n",
       "--          $phi94.0 = $92get_iter.12  :: range_iter_int64\u001b[41m\u001b[39;49;00m\n",
       "--          del $92get_iter.12\u001b[41m\u001b[39;49;00m\n",
       "--          jump 94\u001b[41m\u001b[39;49;00m\n",
       "--        label 94\u001b[41m\u001b[39;49;00m\n",
       "--          $94for_iter.1 = iternext(value=$phi94.0)  :: pair<int64, bool>\u001b[41m\u001b[39;49;00m\n",
       "--          $94for_iter.2 = pair_first(value=$94for_iter.1)  :: int64\u001b[41m\u001b[39;49;00m\n",
       "--          $94for_iter.3 = pair_second(value=$94for_iter.1)  :: bool\u001b[41m\u001b[39;49;00m\n",
       "--          del $94for_iter.1\u001b[41m\u001b[39;49;00m\n",
       "--          $phi98.1 = $94for_iter.2  :: int64\u001b[41m\u001b[39;49;00m\n",
       "--          del $94for_iter.2\u001b[41m\u001b[39;49;00m\n",
       "--          branch $94for_iter.3, 98, 160\u001b[41m\u001b[39;49;00m\n",
       "--        label 98\u001b[41m\u001b[39;49;00m\n",
       "--          del $94for_iter.3\u001b[41m\u001b[39;49;00m\n",
       "--          i = $phi98.1  :: int64\u001b[41m\u001b[39;49;00m\n",
       "--          del $phi98.1\u001b[41m\u001b[39;49;00m\n",
       "5:         out[i] = \u001b[34m2\u001b[39;49;00m * (x[i] - y[i]) / (x[i] + y[i])\u001b[37m\u001b[39;49;00m\n",
       "--              $const100.2 = const(int, 2)  :: Literal[int](2)\u001b[41m\u001b[39;49;00m\n",
       "--              $106binary_subscr.5 = getitem(value=x, index=i, fn=<built-in function getitem>)  :: float32\u001b[41m\u001b[39;49;00m\n",
       "--              $114binary_subscr.8 = getitem(value=y, index=i, fn=<built-in function getitem>)  :: float32\u001b[41m\u001b[39;49;00m\n",
       "--              $binop_sub118.9 = $106binary_subscr.5 - $114binary_subscr.8  :: float32\u001b[41m\u001b[39;49;00m\n",
       "--              del $114binary_subscr.8\u001b[41m\u001b[39;49;00m\n",
       "--              del $106binary_subscr.5\u001b[41m\u001b[39;49;00m\n",
       "--              $binop_mul122.10 = $const100.2 * $binop_sub118.9  :: float64\u001b[41m\u001b[39;49;00m\n",
       "--              del $const100.2\u001b[41m\u001b[39;49;00m\n",
       "--              del $binop_sub118.9\u001b[41m\u001b[39;49;00m\n",
       "--              $130binary_subscr.13 = getitem(value=x, index=i, fn=<built-in function getitem>)  :: float32\u001b[41m\u001b[39;49;00m\n",
       "--              $138binary_subscr.16 = getitem(value=y, index=i, fn=<built-in function getitem>)  :: float32\u001b[41m\u001b[39;49;00m\n",
       "--              $binop_add142.17 = $130binary_subscr.13 + $138binary_subscr.16  :: float32\u001b[41m\u001b[39;49;00m\n",
       "--              del $138binary_subscr.16\u001b[41m\u001b[39;49;00m\n",
       "--              del $130binary_subscr.13\u001b[41m\u001b[39;49;00m\n",
       "--              $binop_truediv146.18 = $binop_mul122.10 / $binop_add142.17  :: float64\u001b[41m\u001b[39;49;00m\n",
       "--              del $binop_mul122.10\u001b[41m\u001b[39;49;00m\n",
       "--              del $binop_add142.17\u001b[41m\u001b[39;49;00m\n",
       "--              out[i] = $binop_truediv146.18  :: (Array(float32, 1, 'C', False, aligned=True), int64, float64) -> none\u001b[41m\u001b[39;49;00m\n",
       "--              del i\u001b[41m\u001b[39;49;00m\n",
       "--              del $binop_truediv146.18\u001b[41m\u001b[39;49;00m\n",
       "--              jump 94\u001b[41m\u001b[39;49;00m\n",
       "6:     \u001b[34mreturn\u001b[39;49;00m out\u001b[37m\u001b[39;49;00m\n",
       "--        label 160\u001b[41m\u001b[39;49;00m\n",
       "--          del y\u001b[41m\u001b[39;49;00m\n",
       "--          del x\u001b[41m\u001b[39;49;00m\n",
       "--          del $phi98.1\u001b[41m\u001b[39;49;00m\n",
       "--          del $phi94.0\u001b[41m\u001b[39;49;00m\n",
       "--          del $94for_iter.3\u001b[41m\u001b[39;49;00m\n",
       "--          $164return_value.3 = cast(value=out)  :: array(float32, 1d, C)\u001b[41m\u001b[39;49;00m\n",
       "--          del out\u001b[41m\u001b[39;49;00m\n",
       "--          return $164return_value.3\u001b[41m\u001b[39;49;00mFunction name: \u001b[34mfrac_diff2\u001b[39;49;00m\n",
       "In file: \u001b[34m/tmp/ipykernel_3490944/2090011437.py\u001b[39;49;00m\n",
       "With signature: \u001b[34m(Array(float64, 1, 'C', False, aligned=True), Array(float64, 1, 'C', False, aligned=True)) -> array(float64, 1d, C)\u001b[39;49;00m\n",
       "\n",
       "1: \u001b[90m@jit\u001b[39;49;00m(nopython=\u001b[34mTrue\u001b[39;49;00m, error_model=\u001b[33m'\u001b[39;49;00m\u001b[33mnumpy\u001b[39;49;00m\u001b[33m'\u001b[39;49;00m)\u001b[37m\u001b[39;49;00m\n",
       "--    label 0\u001b[41m\u001b[39;49;00m\n",
       "--      x = arg(0, name=x)  :: array(float64, 1d, C)\u001b[41m\u001b[39;49;00m\n",
       "--      y = arg(1, name=y)  :: array(float64, 1d, C)\u001b[41m\u001b[39;49;00m\n",
       "2: \u001b[34mdef\u001b[39;49;00m \u001b[32mfrac_diff2\u001b[39;49;00m(x, y):\u001b[37m\u001b[39;49;00m\n",
       "3:     out = np.empty_like(x)\u001b[37m\u001b[39;49;00m\n",
       "--          $4load_global.0 = global(np: <module 'numpy' from '/home/fradav/.micromamba/envs/miashs-hpc/lib/python3.12/site-packages/numpy/__init__.py'>)  :: Module(<module 'numpy' from '/home/fradav/.micromamba/envs/miashs-hpc/lib/python3.12/site-packages/numpy/__init__.py'>)\u001b[41m\u001b[39;49;00m\n",
       "--          $14load_attr.2 = getattr(value=$4load_global.0, attr=empty_like)  :: Function(<built-in function empty_like>)\u001b[41m\u001b[39;49;00m\n",
       "--          del $4load_global.0\u001b[41m\u001b[39;49;00m\n",
       "--          out = call $14load_attr.2(x, func=$14load_attr.2, args=[Var(x, 2090011437.py:1)], kws=(), vararg=None, varkwarg=None, target=None)  :: (Array(float64, 1, 'C', False, aligned=True), omitted(default=None)) -> array(float64, 1d, C)\u001b[41m\u001b[39;49;00m\n",
       "--          del $14load_attr.2\u001b[41m\u001b[39;49;00m\n",
       "4:     \u001b[34mfor\u001b[39;49;00m i \u001b[35min\u001b[39;49;00m \u001b[36mrange\u001b[39;49;00m(x.shape[\u001b[34m0\u001b[39;49;00m]):\u001b[37m\u001b[39;49;00m\n",
       "--          $46load_global.5 = global(range: <class 'range'>)  :: Function(<class 'range'>)\u001b[41m\u001b[39;49;00m\n",
       "--          $58load_attr.8 = getattr(value=x, attr=shape)  :: UniTuple(int64 x 1)\u001b[41m\u001b[39;49;00m\n",
       "--          $const78.9 = const(int, 0)  :: Literal[int](0)\u001b[41m\u001b[39;49;00m\n",
       "--          $80binary_subscr.10 = static_getitem(value=$58load_attr.8, index=0, index_var=$const78.9, fn=<built-in function getitem>)  :: int64\u001b[41m\u001b[39;49;00m\n",
       "--          del $const78.9\u001b[41m\u001b[39;49;00m\n",
       "--          del $58load_attr.8\u001b[41m\u001b[39;49;00m\n",
       "--          $84call.11 = call $46load_global.5($80binary_subscr.10, func=$46load_global.5, args=[Var($80binary_subscr.10, 2090011437.py:4)], kws=(), vararg=None, varkwarg=None, target=None)  :: (int64,) -> range_state_int64\u001b[41m\u001b[39;49;00m\n",
       "--          del $80binary_subscr.10\u001b[41m\u001b[39;49;00m\n",
       "--          del $46load_global.5\u001b[41m\u001b[39;49;00m\n",
       "--          $92get_iter.12 = getiter(value=$84call.11)  :: range_iter_int64\u001b[41m\u001b[39;49;00m\n",
       "--          del $84call.11\u001b[41m\u001b[39;49;00m\n",
       "--          $phi94.0 = $92get_iter.12  :: range_iter_int64\u001b[41m\u001b[39;49;00m\n",
       "--          del $92get_iter.12\u001b[41m\u001b[39;49;00m\n",
       "--          jump 94\u001b[41m\u001b[39;49;00m\n",
       "--        label 94\u001b[41m\u001b[39;49;00m\n",
       "--          $94for_iter.1 = iternext(value=$phi94.0)  :: pair<int64, bool>\u001b[41m\u001b[39;49;00m\n",
       "--          $94for_iter.2 = pair_first(value=$94for_iter.1)  :: int64\u001b[41m\u001b[39;49;00m\n",
       "--          $94for_iter.3 = pair_second(value=$94for_iter.1)  :: bool\u001b[41m\u001b[39;49;00m\n",
       "--          del $94for_iter.1\u001b[41m\u001b[39;49;00m\n",
       "--          $phi98.1 = $94for_iter.2  :: int64\u001b[41m\u001b[39;49;00m\n",
       "--          del $94for_iter.2\u001b[41m\u001b[39;49;00m\n",
       "--          branch $94for_iter.3, 98, 160\u001b[41m\u001b[39;49;00m\n",
       "--        label 98\u001b[41m\u001b[39;49;00m\n",
       "--          del $94for_iter.3\u001b[41m\u001b[39;49;00m\n",
       "--          i = $phi98.1  :: int64\u001b[41m\u001b[39;49;00m\n",
       "--          del $phi98.1\u001b[41m\u001b[39;49;00m\n",
       "5:         out[i] = \u001b[34m2\u001b[39;49;00m * (x[i] - y[i]) / (x[i] + y[i])\u001b[37m\u001b[39;49;00m\n",
       "--              $const100.2 = const(int, 2)  :: Literal[int](2)\u001b[41m\u001b[39;49;00m\n",
       "--              $106binary_subscr.5 = getitem(value=x, index=i, fn=<built-in function getitem>)  :: float64\u001b[41m\u001b[39;49;00m\n",
       "--              $114binary_subscr.8 = getitem(value=y, index=i, fn=<built-in function getitem>)  :: float64\u001b[41m\u001b[39;49;00m\n",
       "--              $binop_sub118.9 = $106binary_subscr.5 - $114binary_subscr.8  :: float64\u001b[41m\u001b[39;49;00m\n",
       "--              del $114binary_subscr.8\u001b[41m\u001b[39;49;00m\n",
       "--              del $106binary_subscr.5\u001b[41m\u001b[39;49;00m\n",
       "--              $binop_mul122.10 = $const100.2 * $binop_sub118.9  :: float64\u001b[41m\u001b[39;49;00m\n",
       "--              del $const100.2\u001b[41m\u001b[39;49;00m\n",
       "--              del $binop_sub118.9\u001b[41m\u001b[39;49;00m\n",
       "--              $130binary_subscr.13 = getitem(value=x, index=i, fn=<built-in function getitem>)  :: float64\u001b[41m\u001b[39;49;00m\n",
       "--              $138binary_subscr.16 = getitem(value=y, index=i, fn=<built-in function getitem>)  :: float64\u001b[41m\u001b[39;49;00m\n",
       "--              $binop_add142.17 = $130binary_subscr.13 + $138binary_subscr.16  :: float64\u001b[41m\u001b[39;49;00m\n",
       "--              del $138binary_subscr.16\u001b[41m\u001b[39;49;00m\n",
       "--              del $130binary_subscr.13\u001b[41m\u001b[39;49;00m\n",
       "--              $binop_truediv146.18 = $binop_mul122.10 / $binop_add142.17  :: float64\u001b[41m\u001b[39;49;00m\n",
       "--              del $binop_mul122.10\u001b[41m\u001b[39;49;00m\n",
       "--              del $binop_add142.17\u001b[41m\u001b[39;49;00m\n",
       "--              out[i] = $binop_truediv146.18  :: (Array(float64, 1, 'C', False, aligned=True), int64, float64) -> none\u001b[41m\u001b[39;49;00m\n",
       "--              del i\u001b[41m\u001b[39;49;00m\n",
       "--              del $binop_truediv146.18\u001b[41m\u001b[39;49;00m\n",
       "--              jump 94\u001b[41m\u001b[39;49;00m\n",
       "6:     \u001b[34mreturn\u001b[39;49;00m out\u001b[37m\u001b[39;49;00m\n",
       "--        label 160\u001b[41m\u001b[39;49;00m\n",
       "--          del y\u001b[41m\u001b[39;49;00m\n",
       "--          del x\u001b[41m\u001b[39;49;00m\n",
       "--          del $phi98.1\u001b[41m\u001b[39;49;00m\n",
       "--          del $phi94.0\u001b[41m\u001b[39;49;00m\n",
       "--          del $94for_iter.3\u001b[41m\u001b[39;49;00m\n",
       "--          $164return_value.3 = cast(value=out)  :: array(float64, 1d, C)\u001b[41m\u001b[39;49;00m\n",
       "--          del out\u001b[41m\u001b[39;49;00m\n",
       "--          return $164return_value.3\u001b[41m\u001b[39;49;00m"
      ]
     },
     "execution_count": 16,
     "metadata": {},
     "output_type": "execute_result"
    }
   ],
   "source": [
    "frac_diff2.inspect_types(pretty=True)"
   ]
  },
  {
   "cell_type": "code",
   "execution_count": 18,
   "id": "3c7013d1",
   "metadata": {
    "slideshow": {
     "slide_type": "subslide"
    }
   },
   "outputs": [],
   "source": [
    "@jit(nopython=True, error_model='numpy')\n",
    "def frac_diff3(x, y):\n",
    "    out = np.empty_like(x)\n",
    "    dt = x.dtype # Cast the constant using the dtype of the input\n",
    "    for i in range(x.shape[0]):\n",
    "        # Could also use np.float32(2) to always use same type, regardless of input\n",
    "        out[i] = dt.type(2) * (x[i] - y[i]) / (x[i] + y[i])\n",
    "    return out"
   ]
  },
  {
   "cell_type": "code",
   "execution_count": 19,
   "id": "b1637b9b",
   "metadata": {
    "slideshow": {
     "slide_type": "fragment"
    }
   },
   "outputs": [
    {
     "data": {
      "text/plain": [
       "array([-0.6666667 , -0.66662216, -0.66657776, ..., -0.400032  ,\n",
       "       -0.40001604, -0.4       ], dtype=float32)"
      ]
     },
     "execution_count": 18,
     "metadata": {},
     "output_type": "execute_result"
    }
   ],
   "source": [
    "frac_diff3(x32, y32)"
   ]
  },
  {
   "cell_type": "code",
   "execution_count": 20,
   "id": "ccad3366",
   "metadata": {
    "slideshow": {
     "slide_type": "subslide"
    }
   },
   "outputs": [
    {
     "name": "stdout",
     "output_type": "stream",
     "text": [
      "2.62 μs ± 7.41 ns per loop (mean ± std. dev. of 7 runs, 100,000 loops each)\n"
     ]
    },
    {
     "name": "stdout",
     "output_type": "stream",
     "text": [
      "6.48 μs ± 17.7 ns per loop (mean ± std. dev. of 7 runs, 100,000 loops each)\n"
     ]
    }
   ],
   "source": [
    "%timeit frac_diff3(x32, y32)\n",
    "%timeit frac_diff3(x64, y64)"
   ]
  },
  {
   "cell_type": "code",
   "execution_count": 21,
   "id": "d614cf48",
   "metadata": {
    "slideshow": {
     "slide_type": "subslide"
    }
   },
   "outputs": [],
   "source": [
    "@jit(nopython=True)\n",
    "def do_sum(A):\n",
    "    acc = 0.\n",
    "    # without fastmath, this loop must accumulate in strict order\n",
    "    for x in A:\n",
    "        acc += x**2\n",
    "    return acc\n",
    "\n",
    "@jit(nopython=True, fastmath=True)\n",
    "def do_sum_fast(A):\n",
    "    acc = 0.\n",
    "    # with fastmath, the reduction can be vectorized as floating point\n",
    "    # reassociation is permitted.\n",
    "    for x in A:\n",
    "        acc += x**2\n",
    "    return acc"
   ]
  },
  {
   "cell_type": "code",
   "execution_count": 22,
   "id": "2c3cd894",
   "metadata": {
    "slideshow": {
     "slide_type": "subslide"
    }
   },
   "outputs": [
    {
     "name": "stdout",
     "output_type": "stream",
     "text": [
      "No instructions found\n"
     ]
    }
   ],
   "source": [
    "do_sum(x32)\n",
    "find_instr(do_sum, keyword='mulp')  # look for vector multiplication"
   ]
  },
  {
   "cell_type": "code",
   "execution_count": 23,
   "id": "a60345b6",
   "metadata": {
    "slideshow": {
     "slide_type": "subslide"
    }
   },
   "outputs": [
    {
     "name": "stdout",
     "output_type": "stream",
     "text": [
      "\tvmulps\t%xmm4, %xmm4, %xmm4\n",
      "\tvmulps\t%xmm5, %xmm5, %xmm5\n",
      "\tvmulps\t%xmm6, %xmm6, %xmm6\n",
      "\tvmulps\t%xmm7, %xmm7, %xmm7\n"
     ]
    }
   ],
   "source": [
    "do_sum_fast(x32)\n",
    "find_instr(do_sum_fast, keyword='mulp')"
   ]
  },
  {
   "cell_type": "code",
   "execution_count": 24,
   "id": "88c59eb3",
   "metadata": {
    "slideshow": {
     "slide_type": "fragment"
    }
   },
   "outputs": [
    {
     "name": "stdout",
     "output_type": "stream",
     "text": [
      "11.1 μs ± 27.4 ns per loop (mean ± std. dev. of 7 runs, 100,000 loops each)\n"
     ]
    },
    {
     "name": "stdout",
     "output_type": "stream",
     "text": [
      "5.03 μs ± 5.33 ns per loop (mean ± std. dev. of 7 runs, 100,000 loops each)\n"
     ]
    }
   ],
   "source": [
    "%timeit do_sum(x32)\n",
    "%timeit do_sum_fast(x32)"
   ]
  },
  {
   "cell_type": "code",
   "execution_count": 25,
   "id": "9ee7bd15",
   "metadata": {
    "slideshow": {
     "slide_type": "fragment"
    }
   },
   "outputs": [
    {
     "name": "stdout",
     "output_type": "stream",
     "text": [
      "zsh:1: command not found: conda\r\n"
     ]
    }
   ],
   "source": [
    "! conda list icc_rt"
   ]
  },
  {
   "cell_type": "code",
   "execution_count": 26,
   "id": "8ea1d535",
   "metadata": {
    "slideshow": {
     "slide_type": "-"
    }
   },
   "outputs": [],
   "source": [
    "SQRT_2PI = np.sqrt(2 * np.pi)\n",
    "\n",
    "@jit(nopython=True, error_model='numpy', fastmath=True)\n",
    "def kde(x, means, widths):\n",
    "    '''Compute value of gaussian kernel density estimate.\n",
    "    \n",
    "    x - location of evaluation\n",
    "    means - array of kernel means\n",
    "    widths - array of kernel widths\n",
    "    '''\n",
    "    n = means.shape[0]\n",
    "    acc = 0.\n",
    "    for i in range(n):\n",
    "        acc += np.exp( -0.5 * ((x - means[i]) / widths[i])**2 ) / widths[i]\n",
    "    return acc / SQRT_2PI / n"
   ]
  },
  {
   "cell_type": "code",
   "execution_count": 27,
   "id": "b7feea8b",
   "metadata": {
    "slideshow": {
     "slide_type": "subslide"
    }
   },
   "outputs": [
    {
     "data": {
      "text/plain": [
       "0.4926645301770076"
      ]
     },
     "execution_count": 26,
     "metadata": {},
     "output_type": "execute_result"
    }
   ],
   "source": [
    "# The distribution we are approximating is flat between -1 and 1, so we expect a KDE value of ~0.5 everywhere\n",
    "means = np.random.uniform(-1, 1, size=10000)\n",
    "# These widths are not selected in any reasonable way.  Consult your local statistician before approximating a PDF.\n",
    "widths = np.random.uniform(0.1, 0.3, size=10000)\n",
    "\n",
    "kde(0.4, means, widths)"
   ]
  },
  {
   "cell_type": "code",
   "execution_count": 28,
   "id": "bfd9967f",
   "metadata": {
    "slideshow": {
     "slide_type": "fragment"
    }
   },
   "outputs": [
    {
     "name": "stdout",
     "output_type": "stream",
     "text": [
      "\tvsubpd\t(%rbx,%rsi,8), %ymm3, %ymm0\n",
      "\tvsubpd\t32(%rbx,%rsi,8), %ymm3, %ymm1\n",
      "\tvsubpd\t64(%rbx,%rsi,8), %ymm3, %ymm2\n",
      "\tvsubpd\t96(%rbx,%rsi,8), %ymm3, %ymm3\n"
     ]
    }
   ],
   "source": [
    "find_instr(kde, 'subp')"
   ]
  },
  {
   "cell_type": "code",
   "execution_count": 29,
   "id": "7bfc1c8b",
   "metadata": {
    "slideshow": {
     "slide_type": "fragment"
    }
   },
   "outputs": [
    {
     "name": "stdout",
     "output_type": "stream",
     "text": [
      "\tmovabsq\t$__svml_exp4, %rdi\n"
     ]
    }
   ],
   "source": [
    "find_instr(kde, keyword='svml')"
   ]
  },
  {
   "cell_type": "code",
   "execution_count": 30,
   "id": "201a6580",
   "metadata": {
    "slideshow": {
     "slide_type": "fragment"
    }
   },
   "outputs": [
    {
     "name": "stdout",
     "output_type": "stream",
     "text": [
      "17.9 μs ± 712 ns per loop (mean ± std. dev. of 7 runs, 100,000 loops each)\n"
     ]
    }
   ],
   "source": [
    "%timeit kde(0.4, means, widths)"
   ]
  },
  {
   "cell_type": "code",
   "execution_count": 31,
   "id": "b5938115",
   "metadata": {
    "slideshow": {
     "slide_type": "fragment"
    }
   },
   "outputs": [
    {
     "data": {
      "text/plain": [
       "0.4926645301770067"
      ]
     },
     "execution_count": 30,
     "metadata": {},
     "output_type": "execute_result"
    }
   ],
   "source": [
    "slow_kde = jit(nopython=True)(kde.py_func)\n",
    "\n",
    "slow_kde(0.4, means, widths)"
   ]
  },
  {
   "cell_type": "code",
   "execution_count": 32,
   "id": "69722fcf",
   "metadata": {
    "slideshow": {
     "slide_type": "fragment"
    }
   },
   "outputs": [
    {
     "name": "stdout",
     "output_type": "stream",
     "text": [
      "No instructions found\n",
      "---\n",
      "No instructions found\n"
     ]
    }
   ],
   "source": [
    "find_instr(slow_kde, keyword='subp')\n",
    "print('---')\n",
    "find_instr(slow_kde, keyword='svml')"
   ]
  },
  {
   "cell_type": "code",
   "execution_count": 33,
   "id": "259cb4e9",
   "metadata": {
    "slideshow": {
     "slide_type": "fragment"
    }
   },
   "outputs": [
    {
     "name": "stdout",
     "output_type": "stream",
     "text": [
      "18.2 μs ± 14.4 ns per loop (mean ± std. dev. of 7 runs, 100,000 loops each)\n"
     ]
    },
    {
     "name": "stdout",
     "output_type": "stream",
     "text": [
      "82.2 μs ± 78.4 ns per loop (mean ± std. dev. of 7 runs, 10,000 loops each)\n"
     ]
    }
   ],
   "source": [
    "%timeit kde(0.4, means, widths)\n",
    "%timeit slow_kde(0.4, means, widths)"
   ]
  },
  {
   "cell_type": "code",
   "execution_count": 34,
   "id": "34cafbdb",
   "metadata": {
    "slideshow": {
     "slide_type": "fragment"
    }
   },
   "outputs": [],
   "source": [
    "def numpy_kde(x, means, widths):\n",
    "    acc = (np.exp( -0.5 * ((x - means) / widths)**2 ) / widths).mean()\n",
    "    # .mean() already divides by n\n",
    "    return acc / SQRT_2PI"
   ]
  },
  {
   "cell_type": "code",
   "execution_count": 35,
   "id": "4a81b813",
   "metadata": {
    "slideshow": {
     "slide_type": "fragment"
    }
   },
   "outputs": [
    {
     "data": {
      "text/plain": [
       "np.float64(0.4926645301770076)"
      ]
     },
     "execution_count": 34,
     "metadata": {},
     "output_type": "execute_result"
    }
   ],
   "source": [
    "numpy_kde(0.4, means, widths)"
   ]
  },
  {
   "cell_type": "code",
   "execution_count": 36,
   "id": "72c15245",
   "metadata": {
    "slideshow": {
     "slide_type": "fragment"
    }
   },
   "outputs": [
    {
     "name": "stdout",
     "output_type": "stream",
     "text": [
      "36.9 μs ± 143 ns per loop (mean ± std. dev. of 7 runs, 10,000 loops each)\n"
     ]
    }
   ],
   "source": [
    "%timeit numpy_kde(0.4, means, widths)"
   ]
  },
  {
   "cell_type": "code",
   "execution_count": 37,
   "id": "279c1ae5",
   "metadata": {
    "slideshow": {
     "slide_type": "fragment"
    }
   },
   "outputs": [
    {
     "data": {
      "text/plain": [
       "0.4926645301770071"
      ]
     },
     "execution_count": 36,
     "metadata": {},
     "output_type": "execute_result"
    }
   ],
   "source": [
    "numba_numpy_kde = jit(nopython=True, error_model='numpy', fastmath=True)(numpy_kde)\n",
    "\n",
    "numba_numpy_kde(0.4, means, widths)"
   ]
  },
  {
   "cell_type": "code",
   "execution_count": 38,
   "id": "a2355645",
   "metadata": {
    "slideshow": {
     "slide_type": "subslide"
    }
   },
   "outputs": [
    {
     "name": "stdout",
     "output_type": "stream",
     "text": [
      "\tvsubpd\t(%r14,%rsi,8), %ymm8, %ymm0\n",
      "\tvsubpd\t(%r14,%rsi,8), %ymm8, %ymm0\n",
      "---\n",
      "\tmovabsq\t$__svml_exp4, %rdi\n",
      "\tmovabsq\t$__svml_exp4, %rdi\n",
      "\tmovabsq\t$__svml_exp4, %rdi\n",
      "\tmovabsq\t$__svml_exp4, %rax\n"
     ]
    }
   ],
   "source": [
    "find_instr(numba_numpy_kde, keyword='subp')\n",
    "print('---')\n",
    "find_instr(numba_numpy_kde, keyword='svml')"
   ]
  },
  {
   "cell_type": "code",
   "execution_count": 39,
   "id": "5c2e25f3",
   "metadata": {
    "slideshow": {
     "slide_type": "fragment"
    }
   },
   "outputs": [
    {
     "name": "stdout",
     "output_type": "stream",
     "text": [
      "17.8 μs ± 835 ns per loop (mean ± std. dev. of 7 runs, 100,000 loops each)\n"
     ]
    },
    {
     "name": "stdout",
     "output_type": "stream",
     "text": [
      "22.1 μs ± 24 ns per loop (mean ± std. dev. of 7 runs, 10,000 loops each)\n"
     ]
    },
    {
     "name": "stdout",
     "output_type": "stream",
     "text": [
      "37 μs ± 35.7 ns per loop (mean ± std. dev. of 7 runs, 10,000 loops each)\n"
     ]
    }
   ],
   "source": [
    "%timeit kde(0.4, means, widths)\n",
    "%timeit numba_numpy_kde(0.4, means, widths)\n",
    "%timeit numpy_kde(0.4, means, widths)"
   ]
  }
 ],
 "metadata": {
  "kernelspec": {
   "display_name": "Python 3 (ipykernel)",
   "language": "python",
   "name": "python3",
   "path": "/home/fradav/.micromamba/envs/miashs-hpc/share/jupyter/kernels/python3"
  },
  "language_info": {
   "codemirror_mode": {
    "name": "ipython",
    "version": 3
   },
   "file_extension": ".py",
   "mimetype": "text/x-python",
   "name": "python",
   "nbconvert_exporter": "python",
   "pygments_lexer": "ipython3",
   "version": "3.12.6"
  }
 },
 "nbformat": 4,
 "nbformat_minor": 5
}