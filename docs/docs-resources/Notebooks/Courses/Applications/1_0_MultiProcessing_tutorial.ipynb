{
  "cells": [
    {
      "cell_type": "markdown",
      "metadata": {},
      "source": [
        "# Multiprocessing in Python 3\n",
        "\n",
        "Introduction to the `multiprocessing` module\n",
        "\n",
        "François-David Collin (CNRS, IMAG, Paul-Valéry Montpellier 3\n",
        "University)  \n",
        "Ghislain Durif (CNRS, LBMC)  \n",
        "Monday, August 26, 2024\n",
        "\n",
        "# Multiprocessing in Python 3\n",
        "\n",
        "## Threads vs Processes\n",
        "\n",
        "-   Thread\n",
        "    -   Is bound to processor that python process running on\n",
        "    -   Is controlled by Global Interpreter Lock (GIL)\n",
        "        -   Single python bytecode executed at a time by any thread\n",
        "-   Process\n",
        "    -   Uses multiple processors\n",
        "    -   Concurrency between threads and processes (local and remote)\n",
        "    -   Ignores GIL"
      ],
      "id": "b8e9dccd-b619-4d63-a753-e97d4c1839a5"
    },
    {
      "cell_type": "code",
      "execution_count": 2,
      "metadata": {
        "slideshow": {
          "slide_type": "slide"
        }
      },
      "outputs": [],
      "source": [
        "from os import getpid, getppid\n",
        "from time import sleep\n",
        "\n",
        "def printer(val, wait=0):\n",
        "    sleep(wait)\n",
        "    print('Pid: {}, PPid: {}, Value: {}'\n",
        "          .format(getpid(), getppid(), val))"
      ],
      "id": "9f618170"
    },
    {
      "cell_type": "markdown",
      "metadata": {},
      "source": [
        "## Process Instantiation\n",
        "\n",
        "Let’s start with most basic example of spawning new process to run a\n",
        "function"
      ],
      "id": "17706c9d-cb09-4117-9085-76ad755ad3b2"
    },
    {
      "cell_type": "code",
      "execution_count": 3,
      "metadata": {
        "slideshow": {
          "slide_type": ""
        }
      },
      "outputs": [
        {
          "output_type": "stream",
          "name": "stdout",
          "text": [
            "Starting demo..."
          ]
        }
      ],
      "source": [
        "from multiprocessing import Process\n",
        "\n",
        "print('Starting demo...')\n",
        "p = Process(target=printer, args=('hello demo',))\n",
        "p.start()"
      ],
      "id": "87057b41"
    },
    {
      "cell_type": "markdown",
      "metadata": {},
      "source": [
        "### Process timing\n",
        "\n",
        "-   Use printer’s delay to see process timing\n",
        "-   Track multiple process objects\n",
        "-   Execute code in main process while chile process is running\n",
        "-   Use Process.join() to wait for processes to finish"
      ],
      "id": "8e7ccad4-3607-4749-a777-c60b9be3eec8"
    },
    {
      "cell_type": "code",
      "execution_count": 4,
      "metadata": {
        "slideshow": {
          "slide_type": "subslide"
        }
      },
      "outputs": [
        {
          "output_type": "stream",
          "name": "stdout",
          "text": [
            "Pid: 186949, PPid: 186915, Value: immediate\n",
            "Not waiting for proccesses to finish...\n",
            "Pid: 186951, PPid: 186915, Value: delayed\n",
            "Pid: 186955, PPid: 186915, Value: eternity\n",
            "After processes..."
          ]
        }
      ],
      "source": [
        "proc_list = []\n",
        "for values in [('immediate', 0), ('delayed', 2), ('eternity', 5)]:\n",
        "    p = Process(target=printer, args=values)\n",
        "    proc_list.append(p)\n",
        "    p.start()  # start execution of printer\n",
        "\n",
        "print('Not waiting for proccesses to finish...')\n",
        "    \n",
        "[p.join() for p in proc_list]\n",
        "\n",
        "print('After processes...')"
      ],
      "id": "6e47264e"
    },
    {
      "cell_type": "markdown",
      "metadata": {},
      "source": [
        "## Process Pool\n",
        "\n",
        "-   Worker processes instead of direct instantiation\n",
        "-   Context manager to handle starting/joining child processes\n",
        "-   Pool.map() works like default python `map(f, args)` function\n",
        "-   Pool.map() Does not unpack args"
      ],
      "id": "31560f6a-7d85-437c-9590-429ffb38b09e"
    },
    {
      "cell_type": "code",
      "execution_count": 5,
      "metadata": {
        "slideshow": {
          "slide_type": "subslide"
        }
      },
      "outputs": [
        {
          "output_type": "stream",
          "name": "stdout",
          "text": [
            "Pid: 186965, PPid: 186915, Value: ItsPid: 186966, PPid: 186915, Value: ('A', 5)Pid: 186967, PPid: 186915, Value: Race\n",
            "\n"
          ]
        }
      ],
      "source": [
        "from multiprocessing.pool import Pool\n",
        "\n",
        "with Pool(3) as pool:\n",
        "    pool.map(printer, ['Its', ('A', 5), 'Race'])\n",
        "    # each worker process executes one function"
      ],
      "id": "246a245a"
    },
    {
      "cell_type": "markdown",
      "metadata": {},
      "source": [
        "## Process + args/kwargs iteration with starmap"
      ],
      "id": "578402ce-60e7-4fc2-93f2-25167c4450bb"
    },
    {
      "cell_type": "code",
      "execution_count": 6,
      "metadata": {
        "slideshow": {
          "slide_type": "fragment"
        }
      },
      "outputs": [
        {
          "output_type": "stream",
          "name": "stdout",
          "text": [
            "Pid: 186983, PPid: 186915, Value: Its\n",
            "Pid: 186983, PPid: 186915, Value: Race\n",
            "Pid: 186984, PPid: 186915, Value: A"
          ]
        }
      ],
      "source": [
        "with Pool(2) as pool:\n",
        "    pool.starmap(printer, [('Its',), ('A', 2), ('Race',)])\n",
        "    # one worker will execute 2 functions, one worker will execute the 'slow' function"
      ],
      "id": "b53aff1c"
    },
    {
      "cell_type": "markdown",
      "metadata": {},
      "source": [
        "## Thread Pool"
      ],
      "id": "0a1bfb85-f5e2-41a1-85c7-785c209998fd"
    },
    {
      "cell_type": "code",
      "execution_count": 7,
      "metadata": {},
      "outputs": [
        {
          "output_type": "stream",
          "name": "stdout",
          "text": [
            "Pid: 186915, PPid: 186913, Value: Its\n",
            "Pid: 186915, PPid: 186913, Value: A\n",
            "Pid: 186915, PPid: 186913, Value: Race"
          ]
        }
      ],
      "source": [
        "from multiprocessing.pool import ThreadPool\n",
        "\n",
        "# Threadpool instead of process pool, same interface\n",
        "with ThreadPool(2) as pool:\n",
        "    pool.starmap(printer, [('Its', 5), ('A', 10), ('Race', 15)])"
      ],
      "id": "5d1b1e58"
    },
    {
      "cell_type": "markdown",
      "metadata": {},
      "source": [
        "## Starmap is the bomb"
      ],
      "id": "70b0e915-978c-4b5a-8a68-8c52da15ad92"
    },
    {
      "cell_type": "code",
      "execution_count": 8,
      "metadata": {
        "slideshow": {
          "slide_type": "fragment"
        }
      },
      "outputs": [],
      "source": [
        "def pretend_delete_method(provider, vm_name):\n",
        "    print('Pretend delete: {} on {}. (Pid: {})'\n",
        "          .format(vm_name, provider, getpid()))    \n",
        "    \n",
        "# Assuming we fetched a list of vm names on providers we want to cleanup...\n",
        "example_provider_vm_lists = dict(\n",
        "    vmware=['test_vm_1', 'test_vm_2'],\n",
        "    rhv=['test_vm_3', 'test_vm_4'],\n",
        "    osp=['test_vm_5', 'test_vm_6'],\n",
        ")"
      ],
      "id": "059cc85d"
    },
    {
      "cell_type": "code",
      "execution_count": 9,
      "metadata": {
        "slideshow": {
          "slide_type": "subslide"
        }
      },
      "outputs": [
        {
          "output_type": "stream",
          "name": "stdout",
          "text": [
            "Pretend delete: test_vm_1 on vmware. (Pid: 186915)\n",
            "Pretend delete: test_vm_2 on vmware. (Pid: 186915)\n",
            "Pretend delete: test_vm_3 on rhv. (Pid: 186915)\n",
            "Pretend delete: test_vm_4 on rhv. (Pid: 186915)\n",
            "Pretend delete: test_vm_5 on osp. (Pid: 186915)\n",
            "Pretend delete: test_vm_6 on osp. (Pid: 186915)"
          ]
        }
      ],
      "source": [
        "# don't hate me for nested comprehension here - building tuples of provider+name\n",
        "from multiprocessing.pool import ThreadPool\n",
        "\n",
        "# Threadpool instead of process pool, same interface\n",
        "with ThreadPool(6) as pool:\n",
        "    pool.starmap(\n",
        "        pretend_delete_method, \n",
        "        [(key, vm) \n",
        "         for key, vms \n",
        "         in example_provider_vm_lists.items() \n",
        "         for vm in vms]\n",
        "    )"
      ],
      "id": "ef5dbac5"
    },
    {
      "cell_type": "markdown",
      "metadata": {},
      "source": [
        "## Locking\n",
        "\n",
        "-   semaphore-type object that can be acquired and released\n",
        "-   When acquired, only thread that has the lock can run\n",
        "-   Necessary when using shared objects"
      ],
      "id": "899a06d1-0c4f-49ad-b029-c3d7d0688dd4"
    },
    {
      "cell_type": "code",
      "execution_count": 10,
      "metadata": {
        "slideshow": {
          "slide_type": "subslide"
        }
      },
      "outputs": [],
      "source": [
        "def not_safe_printing_method(provider, vm_name):\n",
        "        print('Pretend delete: {} on {}. (Pid: {})'\n",
        "              .format(vm_name, provider, getpid()))"
      ],
      "id": "bf220089"
    },
    {
      "cell_type": "code",
      "execution_count": 11,
      "metadata": {
        "slideshow": {
          "slide_type": "fragment"
        }
      },
      "outputs": [
        {
          "output_type": "stream",
          "name": "stdout",
          "text": [
            "Pretend delete: test_vm_4 on rhv. (Pid: 187021)Pretend delete: test_vm_1 on vmware. (Pid: 187018)Pretend delete: test_vm_5 on osp. (Pid: 187022)Pretend delete: test_vm_2 on vmware. (Pid: 187019)Pretend delete: test_vm_3 on rhv. (Pid: 187020)Pretend delete: test_vm_6 on osp. (Pid: 187023)\n",
            "\n",
            "\n",
            "\n",
            "\n"
          ]
        }
      ],
      "source": [
        "with Pool(6) as pool:\n",
        "    pool.starmap(\n",
        "        not_safe_printing_method, \n",
        "        [(key, vm) for key, vms in example_provider_vm_lists.items() for vm in vms])"
      ],
      "id": "7d992228"
    },
    {
      "cell_type": "code",
      "execution_count": 12,
      "metadata": {
        "slideshow": {
          "slide_type": "subslide"
        }
      },
      "outputs": [],
      "source": [
        "# Printing is thread safe, but will sometimes print separate messages on the same line (above)\n",
        "# Use a lock around print\n",
        "from multiprocessing import Lock\n",
        "\n",
        "lock = Lock()\n",
        "\n",
        "def safe_printing_method(provider, vm_name):\n",
        "    with lock:\n",
        "        print('Pretend delete: {} on {}. (Pid: {})'\n",
        "              .format(vm_name, provider, getpid()))"
      ],
      "id": "6982ea31"
    },
    {
      "cell_type": "code",
      "execution_count": 13,
      "metadata": {
        "slideshow": {
          "slide_type": "fragment"
        }
      },
      "outputs": [
        {
          "output_type": "stream",
          "name": "stdout",
          "text": [
            "Pretend delete: test_vm_1 on vmware. (Pid: 187051)\n",
            "Pretend delete: test_vm_2 on vmware. (Pid: 187052)\n",
            "Pretend delete: test_vm_3 on rhv. (Pid: 187053)\n",
            "Pretend delete: test_vm_4 on rhv. (Pid: 187054)\n",
            "Pretend delete: test_vm_5 on osp. (Pid: 187055)\n",
            "Pretend delete: test_vm_6 on osp. (Pid: 187056)"
          ]
        }
      ],
      "source": [
        "with Pool(6) as pool:\n",
        "    pool.starmap(\n",
        "        safe_printing_method, \n",
        "        [(key, vm) for key, vms in example_provider_vm_lists.items() for vm in vms])"
      ],
      "id": "0671c4c4"
    },
    {
      "cell_type": "markdown",
      "metadata": {},
      "source": [
        "# Queues\n",
        "\n",
        "-   Store data/objects in child thread/processes and retrieve in parent\n",
        "-   FIFO stack with put, get, and empty methods"
      ],
      "id": "5d458508-ca07-44b1-9ff0-dfadc49e33b2"
    },
    {
      "cell_type": "code",
      "execution_count": 14,
      "metadata": {},
      "outputs": [
        {
          "output_type": "stream",
          "name": "stdout",
          "text": [
            "Members of the queue:\n",
            "0 1 2 3 \n",
            "Size of the queue:\n",
            "4"
          ]
        }
      ],
      "source": [
        "# Standard Queue\n",
        "import queue\n",
        "q = queue.Queue()\n",
        "for x in range(4):\n",
        "    q.put(x)\n",
        "print(\"Members of the queue:\")\n",
        "y=z=q.qsize()\n",
        "\n",
        "for n in list(q.queue):\n",
        "    print(n, end=\" \")\n",
        "print(\"\\nSize of the queue:\")\n",
        "print(q.qsize())"
      ],
      "id": "fad1ea6e"
    },
    {
      "cell_type": "markdown",
      "metadata": {},
      "source": [
        "# Reminder on python serialization : “Pickling”\n",
        "\n",
        "So what is pickling? Pickling is the serializing and de-serializing of\n",
        "python objects to a byte stream. Unpicking is the opposite.\n",
        "\n",
        "Pickling is used to store python objects. This means things like lists,\n",
        "dictionaries, class objects, and more."
      ],
      "id": "82e2831c-67dd-4117-8e17-18c2ea1fe239"
    },
    {
      "cell_type": "code",
      "execution_count": 15,
      "metadata": {
        "cell_style": "center",
        "slideshow": {
          "slide_type": "fragment"
        }
      },
      "outputs": [],
      "source": [
        "import pickle # First, import pickle to use it"
      ],
      "id": "293082c4"
    },
    {
      "cell_type": "code",
      "execution_count": 16,
      "metadata": {
        "cell_style": "center",
        "slideshow": {
          "slide_type": "fragment"
        }
      },
      "outputs": [],
      "source": [
        "example_dict = {1:\"6\",2:\"2\",3:\"f\"} # we define an example dictionary, which is a Python object"
      ],
      "id": "d100f09e"
    },
    {
      "cell_type": "code",
      "execution_count": 17,
      "metadata": {
        "cell_style": "center",
        "slideshow": {
          "slide_type": "fragment"
        }
      },
      "outputs": [],
      "source": [
        "pickle_out = open(\"dict.pickle\",\"wb\") # Next, we open a file (note that we open to write bytes in Python 3+)"
      ],
      "id": "467ff5a0"
    },
    {
      "cell_type": "code",
      "execution_count": 18,
      "metadata": {
        "cell_style": "center",
        "slideshow": {
          "slide_type": "fragment"
        }
      },
      "outputs": [],
      "source": [
        "pickle.dump(example_dict, pickle_out) # then we use pickle.dump() to put the dict into opened file, then close."
      ],
      "id": "496680a5"
    },
    {
      "cell_type": "code",
      "execution_count": 19,
      "metadata": {
        "cell_style": "center",
        "slideshow": {
          "slide_type": "fragment"
        }
      },
      "outputs": [],
      "source": [
        "pickle_out.close() # and close(), it's very important to NOT forget to close your opened files."
      ],
      "id": "d538a28b"
    },
    {
      "cell_type": "markdown",
      "metadata": {},
      "source": [
        "The above code will save the pickle file for us, now we need to cover\n",
        "how to access the pickled file:"
      ],
      "id": "9eb7590c-eb2f-47f8-aa6d-6f54621d450d"
    },
    {
      "cell_type": "code",
      "execution_count": 20,
      "metadata": {
        "cell_style": "center",
        "slideshow": {
          "slide_type": "fragment"
        }
      },
      "outputs": [],
      "source": [
        "pickle_in = open(\"dict.pickle\",\"rb\") # Open the pickle file"
      ],
      "id": "a139b4ca"
    },
    {
      "cell_type": "code",
      "execution_count": 21,
      "metadata": {
        "cell_style": "center",
        "slideshow": {
          "slide_type": "fragment"
        }
      },
      "outputs": [],
      "source": [
        "example_dict = pickle.load(pickle_in) # Use pickle.load() to load it to a var."
      ],
      "id": "c4caaa6c"
    },
    {
      "cell_type": "markdown",
      "metadata": {},
      "source": [
        "That’s all there is to it, now you can do things like:"
      ],
      "id": "e552484f-1056-4230-b2c4-831b207f6667"
    },
    {
      "cell_type": "code",
      "execution_count": 22,
      "metadata": {
        "cell_style": "center",
        "slideshow": {
          "slide_type": "fragment"
        }
      },
      "outputs": [
        {
          "output_type": "stream",
          "name": "stdout",
          "text": [
            "{1: '6', 2: '2', 3: 'f'}\n",
            "f"
          ]
        }
      ],
      "source": [
        "print(example_dict)\n",
        "print(example_dict[3])"
      ],
      "id": "f82621e9"
    },
    {
      "cell_type": "markdown",
      "metadata": {},
      "source": [
        "This shows that we’ve retained the dict data-type.\n",
        "\n",
        "## Queues\n",
        "\n",
        "-   multiprocessing.Queue\n",
        "    -   **cannot be pickled** and thus can’t be passed to Pool methods\n",
        "    -   can deadlock with improper join use\n",
        "-   multiprocessing.Manager.Queue\n",
        "    -   is proxy, can be pickled\n",
        "    -   can be shared between processes\n",
        "\n",
        "$\\Longrightarrow$ prefer the use of managed queues\n",
        "\n",
        "## Short example of queue use\n",
        "\n",
        "In this example we share a managed queue between processes, and each\n",
        "process can randomly put a boolean (indicating a failure for example) in\n",
        "this queue.\n",
        "\n",
        "This is our dummy function to parallelize, getting the shared queue as\n",
        "an additional argument"
      ],
      "id": "2a9217bf-02ae-4c1a-9330-978e947dc909"
    },
    {
      "cell_type": "code",
      "execution_count": 23,
      "metadata": {
        "slideshow": {
          "slide_type": "-"
        }
      },
      "outputs": [],
      "source": [
        "from random import randint\n",
        "\n",
        "def multiple_output_method(provider, vm_name, fail_queue):\n",
        "    # random success of called method\n",
        "    if randint(0, 1):\n",
        "        return True\n",
        "    else:\n",
        "        # Store our failure vm on the queue\n",
        "        fail_queue.put(vm_name)\n",
        "        return None"
      ],
      "id": "ca2b7015"
    },
    {
      "cell_type": "markdown",
      "metadata": {},
      "source": [
        "We need to instantiate the manager, and create a queue from it"
      ],
      "id": "fa5ed0b6-25ff-4630-92a8-c8fbb8e09766"
    },
    {
      "cell_type": "code",
      "execution_count": 24,
      "metadata": {
        "slideshow": {
          "slide_type": "-"
        }
      },
      "outputs": [],
      "source": [
        "from multiprocessing import Manager\n",
        "\n",
        "# Create instance of manager\n",
        "manager = Manager()\n",
        "\n",
        "# Create queue object to give to child processes\n",
        "queue_for_failures = manager.Queue()"
      ],
      "id": "e5e24c43"
    },
    {
      "cell_type": "markdown",
      "metadata": {},
      "source": [
        "The (multi)-processing is there"
      ],
      "id": "37f2899f-f6c3-4976-8f8d-ad8062447b22"
    },
    {
      "cell_type": "code",
      "execution_count": 25,
      "metadata": {
        "slideshow": {
          "slide_type": "-"
        }
      },
      "outputs": [],
      "source": [
        "with Pool(2) as pool:\n",
        "    results = pool.starmap(\n",
        "        multiple_output_method, \n",
        "        [(key, vm, queue_for_failures)\n",
        "         for key, vms\n",
        "         in example_provider_vm_lists.items()\n",
        "         for vm in vms]\n",
        "    )"
      ],
      "id": "c309d8de"
    },
    {
      "cell_type": "markdown",
      "metadata": {},
      "source": [
        "Now what’s up ?\n",
        "\n",
        "Results :"
      ],
      "id": "27d361a9-419f-402e-939a-603b18630f24"
    },
    {
      "cell_type": "code",
      "execution_count": 26,
      "metadata": {
        "slideshow": {
          "slide_type": "fragment"
        }
      },
      "outputs": [
        {
          "output_type": "stream",
          "name": "stdout",
          "text": [
            "Results are in: [True, None, True, True, True, None]"
          ]
        }
      ],
      "source": [
        "print('Results are in: {}'.format(results))"
      ],
      "id": "9885ee63"
    },
    {
      "cell_type": "markdown",
      "metadata": {},
      "source": [
        "And what is in the queue ?"
      ],
      "id": "58c26674-3390-4867-8e24-80b414a63721"
    },
    {
      "cell_type": "code",
      "execution_count": 27,
      "metadata": {
        "slideshow": {
          "slide_type": "fragment"
        }
      },
      "outputs": [
        {
          "output_type": "stream",
          "name": "stdout",
          "text": [
            "Failures are in: ['test_vm_2', 'test_vm_6']"
          ]
        }
      ],
      "source": [
        "failed_vms = []\n",
        "# get items from the queue while its not empty\n",
        "while not queue_for_failures.empty():\n",
        "    failed_vms.append(queue_for_failures.get())\n",
        "    \n",
        "print('Failures are in: {}'.format(failed_vms))"
      ],
      "id": "500acd26"
    }
  ],
  "nbformat": 4,
  "nbformat_minor": 5,
  "metadata": {
    "kernelspec": {
      "name": "python3",
      "display_name": "Python 3 (ipykernel)",
      "language": "python",
      "path": "/nfs/home/collinf/micromamba/envs/miashs-hpc/share/jupyter/kernels/python3"
    },
    "language_info": {
      "name": "python",
      "codemirror_mode": {
        "name": "ipython",
        "version": "3"
      },
      "file_extension": ".py",
      "mimetype": "text/x-python",
      "nbconvert_exporter": "python",
      "pygments_lexer": "ipython3",
      "version": "3.12.5"
    }
  }
}