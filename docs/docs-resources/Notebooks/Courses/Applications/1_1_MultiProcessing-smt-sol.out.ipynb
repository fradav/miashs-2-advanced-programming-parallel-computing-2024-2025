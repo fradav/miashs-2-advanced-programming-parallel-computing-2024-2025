{
  "cells": [
    {
      "cell_type": "markdown",
      "metadata": {},
      "source": [
        "# MultiProcessing, Strong Scaling\n",
        "\n",
        "François-David Collin (CNRS, IMAG, Paul-Valéry Montpellier 3\n",
        "University)  \n",
        "Ghislain Durif (CNRS, LBMC)  \n",
        "Monday, August 26, 2024\n",
        "\n",
        "François-David Collin (CNRS, IMAG, Paul-Valéry Montpellier 3\n",
        "University)  \n",
        "Ghislain Durif (CNRS, LBMC)  \n",
        "Monday, August 26, 2024\n",
        "\n",
        "## ⚠️⚠️⚠️⚠️ Attention ⚠️⚠️⚠️⚠️\n",
        "\n",
        "Under *Windows*, with python the multiprocessing module\n",
        "`multiprocessing` works in a normal script but **not in notebooks**.\n",
        "\n",
        "If you absolutely must use Windows,\n",
        "use[WSL](https://docs.microsoft.com/fr-fr/windows/wsl/)\n",
        "\n",
        "# Strong Scaling\n",
        "\n",
        "## Prerequisites\n",
        "\n",
        "For this TP, set the number of **physical** cores available (8 on the\n",
        "cluster nodes), not the number of logical cores."
      ],
      "id": "dd1e22ba-0da0-403c-b476-2faa10f1ee51"
    },
    {
      "cell_type": "code",
      "execution_count": 1,
      "metadata": {},
      "outputs": [],
      "source": [
        "ncores = 8 # 8 on the cluster nodes"
      ],
      "id": "8f7c2bdd"
    },
    {
      "cell_type": "code",
      "execution_count": 2,
      "metadata": {},
      "outputs": [],
      "source": [
        "import math"
      ],
      "id": "721514f2"
    },
    {
      "cell_type": "markdown",
      "metadata": {},
      "source": [
        "# Introduction\n",
        "\n",
        "## Basic functions\n",
        "\n",
        "Make a function `is_prime` that tests whether an integer $n$ strictly\n",
        "greater than 2 is prime or not.\n",
        "\n",
        "Hint: First check that it is not even, then list all odd numbers from 3\n",
        "to $\\sqrt{n}$ (upper rounding) and test whether they are factors.\n",
        "\n",
        "Make a function `total_primes` that counts the number of primes in a\n",
        "list.\n",
        "\n",
        "Calculate the number of primes from 1 to $N=100 000$ with this function"
      ],
      "id": "21adb538-2add-4129-b16b-d7356d7d376a"
    },
    {
      "cell_type": "code",
      "execution_count": 5,
      "metadata": {},
      "outputs": [],
      "source": [
        "N=100000"
      ],
      "id": "d324973d"
    },
    {
      "cell_type": "code",
      "execution_count": 6,
      "metadata": {},
      "outputs": [
        {
          "output_type": "display_data",
          "metadata": {},
          "data": {
            "text/plain": [
              "9593"
            ]
          }
        }
      ],
      "source": [
        "total_primes(range(1,N+1))"
      ],
      "id": "25f4f07e"
    },
    {
      "cell_type": "markdown",
      "metadata": {},
      "source": [
        "## Time measurement\n",
        "\n",
        "Use `%timeit` to measure the average time taken to count the number of\n",
        "primes up to $N=100000$. (note: by default, `timeit` repeats the\n",
        "calculation $7times{}10$ to obtain a reliable average. Please refer to\n",
        "the\n",
        "[magic](https://ipython.readthedocs.io/en/stable/interactive/magics.html)\n",
        "and [timeit](https://docs.python.org/3.9/library/timeit.html) docs).\n",
        "\n",
        "Store measurements using the -o option in timeit"
      ],
      "id": "8c0ba4eb-c992-4f90-8f55-1a3047eff780"
    },
    {
      "cell_type": "code",
      "execution_count": 7,
      "metadata": {},
      "outputs": [
        {
          "output_type": "stream",
          "name": "stdout",
          "text": [
            "71.7 ms ± 205 μs per loop (mean ± std. dev. of 7 runs, 10 loops each)"
          ]
        }
      ],
      "source": [
        "orig_time = %timeit -o total_primes(range(1,N+1))"
      ],
      "id": "195d4e2a"
    },
    {
      "cell_type": "markdown",
      "metadata": {},
      "source": [
        "# First steps\n",
        "\n",
        "Our first attempt at multiprocessing will involve partitioning the count\n",
        "into 2. We’ll run two processes in parallel on $\\{1,...,N/2\\}$ and\n",
        "$\\{N/2+1,...,N\\}$.\n",
        "\n",
        "Complete the following code\n",
        "([source](https://notebook.community/izapolsk/integration_tests/notebooks/MultiProcessing)).\n",
        "\n",
        "Check the result and the performance gain with `%timeit`."
      ],
      "id": "80d46ade-ab57-4ed7-9bdc-b9237c68473e"
    },
    {
      "cell_type": "code",
      "execution_count": 8,
      "metadata": {},
      "outputs": [],
      "source": [
        "from multiprocessing.pool import Pool\n",
        "\n",
        "def split_total(N):\n",
        "    with Pool(2) as pool:\n",
        "        return sum(pool.map(total_primes, ...))"
      ],
      "id": "cfd1cc52"
    },
    {
      "cell_type": "code",
      "execution_count": 10,
      "metadata": {},
      "outputs": [
        {
          "output_type": "display_data",
          "metadata": {},
          "data": {
            "text/plain": [
              "9593"
            ]
          }
        }
      ],
      "source": [
        "split_total(N)"
      ],
      "id": "4671e8f3"
    },
    {
      "cell_type": "code",
      "execution_count": 11,
      "metadata": {},
      "outputs": [
        {
          "output_type": "stream",
          "name": "stdout",
          "text": [
            "51.8 ms ± 79.5 μs per loop (mean ± std. dev. of 7 runs, 10 loops each)"
          ]
        }
      ],
      "source": [
        "split_time = %timeit -o split_total(N)"
      ],
      "id": "dc2f9706"
    },
    {
      "cell_type": "code",
      "execution_count": 12,
      "metadata": {},
      "outputs": [
        {
          "output_type": "stream",
          "name": "stdout",
          "text": [
            "Gain with split : 1.4"
          ]
        }
      ],
      "source": [
        "print(\"Gain with split : {:.1f}\".format(orig_time.average/split_time.average))"
      ],
      "id": "713640b9"
    },
    {
      "cell_type": "markdown",
      "metadata": {},
      "source": [
        "# Generalization\n",
        "\n",
        "Generalize the function with partitioning into *n* tasks instead of just\n",
        "2. We’ll use a generalized `multi_process_list` function, which takes as\n",
        "arguments : -\n",
        "f`the main computation function, which takes an integer list as argument - n`\n",
        "the number of partitions (here, one partition = task) -\n",
        "par_f`a function which takes as argument a list and a number of partitions to be performed, and returns the list of partitions in this list - l`\n",
        "the list to be partitioned"
      ],
      "id": "af0e6fbf-bcde-4060-ba3b-005453a6c1e0"
    },
    {
      "cell_type": "code",
      "execution_count": 13,
      "metadata": {},
      "outputs": [],
      "source": [
        "def multi_process_list(f,n,par_f,l):\n",
        "    with Pool(ncores) as pool:\n",
        "        return sum(pool.map(...)"
      ],
      "id": "f87ee71d"
    },
    {
      "cell_type": "markdown",
      "metadata": {},
      "source": [
        "First, we write the `naive_par` partitioning function."
      ],
      "id": "bd4757d5-8c0f-466f-b486-0d7cf3b0094a"
    },
    {
      "cell_type": "code",
      "execution_count": 14,
      "metadata": {},
      "outputs": [],
      "source": [
        "def naive_par(lst,n):\n",
        "    return ..."
      ],
      "id": "b8b52021"
    },
    {
      "cell_type": "markdown",
      "metadata": {},
      "source": [
        "We’ll use the `chunks` function, which partitions a list into chunks of\n",
        "fixed size (except for the last one).\n",
        "\n",
        "We’ll test the gain obtained with 8 tasks/partitions."
      ],
      "id": "9ea96b1e-5849-4d1b-bdeb-2f8ae329d237"
    },
    {
      "cell_type": "code",
      "execution_count": 6,
      "metadata": {},
      "outputs": [],
      "source": [
        "def chunks(lst, m):\n",
        "    \"\"\"Yield successive m-sized chunks from lst.\"\"\"\n",
        "    for i in range(0, len(lst), m):\n",
        "        yield lst[i:i + m]"
      ],
      "id": "8c1c932d"
    },
    {
      "cell_type": "markdown",
      "metadata": {},
      "source": [
        "Vérifier le fonctionnement de `naive_par`"
      ],
      "id": "99ec2493-780c-431b-a08b-c3600c4f8130"
    },
    {
      "cell_type": "code",
      "execution_count": 20,
      "metadata": {},
      "outputs": [
        {
          "output_type": "stream",
          "name": "stdout",
          "text": [
            "44.3 ms ± 1.13 ms per loop (mean ± std. dev. of 7 runs, 10 loops each)"
          ]
        }
      ],
      "source": [
        "multi_time = %timeit -o multi_process_list(total_primes,ncores,naive_par,range(1,N+1))"
      ],
      "id": "d3f66d02"
    },
    {
      "cell_type": "code",
      "execution_count": 21,
      "metadata": {},
      "outputs": [
        {
          "output_type": "stream",
          "name": "stdout",
          "text": [
            "Gain avec multi : 1.6"
          ]
        }
      ],
      "source": [
        "print(\"Gain avec multi : {:.1f}\".format(orig_time.average/multi_time.average))"
      ],
      "id": "4b2b3990"
    },
    {
      "cell_type": "markdown",
      "metadata": {},
      "source": [
        "Repeat all calculations and payoff comparisons with $N=5000000$. To\n",
        "avoid long calculation times, we’ll restrict ourselves to a single\n",
        "iteration (option `-r 1 -n 1` in `%timeit`)."
      ],
      "id": "28f9d9f4-687f-4fdd-8a18-83c8cb89b41d"
    },
    {
      "cell_type": "code",
      "execution_count": 22,
      "metadata": {},
      "outputs": [],
      "source": [
        "N = 5000000"
      ],
      "id": "488e9113"
    },
    {
      "cell_type": "code",
      "execution_count": 23,
      "metadata": {},
      "outputs": [
        {
          "output_type": "stream",
          "name": "stdout",
          "text": [
            "18.5 s ± 0 ns per loop (mean ± std. dev. of 1 run, 1 loop each)\n",
            "11.2 s ± 0 ns per loop (mean ± std. dev. of 1 run, 1 loop each)\n",
            "3.11 s ± 0 ns per loop (mean ± std. dev. of 1 run, 1 loop each)\n",
            "Gain with split : 1.7\n",
            "Gain with multi : 5.9"
          ]
        }
      ],
      "source": [
        "orig_time = %timeit -r 1 -n 1 -o total_primes(range(1,N+1))\n",
        "split_time = %timeit -r 1 -n 1 -o split_total(N)\n",
        "multi_time = %timeit -r 1 -n 1 -o multi_process_list(total_primes,ncores,naive_par,range(1,N+1))\n",
        "\n",
        "print(\"Gain with split : {:.1f}\".format(orig_time.average/split_time.average))\n",
        "print(\"Gain with multi : {:.1f}\".format(orig_time.average/multi_time.average))"
      ],
      "id": "9f331356"
    },
    {
      "cell_type": "markdown",
      "metadata": {},
      "source": [
        "# Optional refinement\n",
        "\n",
        "How much time is spent on each task? Use the following function to get\n",
        "an idea. What do you observe?"
      ],
      "id": "b1daf2aa-aa44-41f0-a6c4-c2ff7f772a9c"
    },
    {
      "cell_type": "code",
      "execution_count": 9,
      "metadata": {},
      "outputs": [],
      "source": [
        "def timed_total_primes(l):\n",
        "    %timeit -r 1 -n 1 total_primes(l)\n",
        "    return 0"
      ],
      "id": "4c67048b"
    },
    {
      "cell_type": "markdown",
      "metadata": {},
      "source": [
        "How can we solve this problem?\n",
        "\n",
        "Find a simple solution that requires only one line of code. Check the\n",
        "execution times of individual tasks.\n",
        "\n",
        "Compare again with $N = 10000000$ (which will take about 1 minute\n",
        "sequentially).\n",
        "\n",
        "# Recreational interlude\n",
        "\n",
        "If you have a CPU with SMT (Hyperthreading), redo the measurements with\n",
        "`ncores` equal to the number of logic cores, and explain the results."
      ],
      "id": "80d33683-c355-4ff2-9226-38b8659c0ea1"
    }
  ],
  "nbformat": 4,
  "nbformat_minor": 5,
  "metadata": {
    "kernelspec": {
      "name": "python3",
      "display_name": "Python 3 (ipykernel)",
      "language": "python",
      "path": "/nfs/home/collinf/micromamba/envs/miashs-hpc/share/jupyter/kernels/python3"
    },
    "language_info": {
      "name": "python",
      "codemirror_mode": {
        "name": "ipython",
        "version": "3"
      },
      "file_extension": ".py",
      "mimetype": "text/x-python",
      "nbconvert_exporter": "python",
      "pygments_lexer": "ipython3",
      "version": "3.12.5"
    }
  }
}