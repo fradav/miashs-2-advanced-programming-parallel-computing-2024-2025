{
  "cells": [
    {
      "cell_type": "markdown",
      "metadata": {},
      "source": [
        "# MultiProcessing, Strong Scaling\n",
        "\n",
        "François-David Collin (CNRS, IMAG, Paul-Valéry Montpellier 3\n",
        "University)  \n",
        "Ghislain Durif (CNRS, LBMC)  \n",
        "Monday, August 26, 2024\n",
        "\n",
        "## ⚠️⚠️⚠️⚠️ Attention ⚠️⚠️⚠️⚠️\n",
        "\n",
        "Under *Windows*, with python the multiprocessing module\n",
        "`multiprocessing` works in a normal script but **not in notebooks**.\n",
        "\n",
        "If you absolutely must use Windows,\n",
        "use[WSL](https://docs.microsoft.com/fr-fr/windows/wsl/)\n",
        "\n",
        "# Strong Scaling\n",
        "\n",
        "## Prerequisites\n",
        "\n",
        "For this TP, set the number of **physical** cores available (8 on the\n",
        "cluster nodes), not the number of logical cores."
      ],
      "id": "be170fc5-ed9e-4752-b9eb-a06a3297c573"
    },
    {
      "cell_type": "code",
      "execution_count": 2,
      "metadata": {},
      "outputs": [],
      "source": [
        "ncores = 8 # 8 on the cluster nodes"
      ],
      "id": "6703cb12"
    },
    {
      "cell_type": "code",
      "execution_count": 3,
      "metadata": {},
      "outputs": [],
      "source": [
        "import math"
      ],
      "id": "d6ea49f2"
    },
    {
      "cell_type": "markdown",
      "metadata": {},
      "source": [
        "# Introduction\n",
        "\n",
        "## Basic functions\n",
        "\n",
        "Make a function `is_prime` that tests whether an integer $n$ strictly\n",
        "greater than 2 is prime or not.\n",
        "\n",
        "Hint: First check that it is not even, then list all odd numbers from 3\n",
        "to $\\sqrt{n}$ (upper rounding) and test whether they are factors.\n",
        "\n",
        "Make a function `total_primes` that counts the number of primes in a\n",
        "list.\n",
        "\n",
        "Calculate the number of primes from 1 to $N=100 000$ with this function"
      ],
      "id": "9c78a7e1-e929-409c-a988-65307578a2e2"
    },
    {
      "cell_type": "code",
      "execution_count": 6,
      "metadata": {},
      "outputs": [],
      "source": [
        "N=100000"
      ],
      "id": "4d7ef32b"
    },
    {
      "cell_type": "code",
      "execution_count": 7,
      "metadata": {},
      "outputs": [
        {
          "output_type": "display_data",
          "metadata": {},
          "data": {
            "text/plain": [
              "9593"
            ]
          }
        }
      ],
      "source": [
        "total_primes(range(1,N+1))"
      ],
      "id": "0a97d4ed"
    },
    {
      "cell_type": "markdown",
      "metadata": {},
      "source": [
        "## Time measurement\n",
        "\n",
        "Use `%timeit` to measure the average time taken to count the number of\n",
        "primes up to $N=100000$. (note: by default, `timeit` repeats the\n",
        "calculation $7times{}10$ to obtain a reliable average. Please refer to\n",
        "the\n",
        "[magic](https://ipython.readthedocs.io/en/stable/interactive/magics.html)\n",
        "and [timeit](https://docs.python.org/3.9/library/timeit.html) docs).\n",
        "\n",
        "Store measurements using the -o option in timeit"
      ],
      "id": "c8f23eef-3172-463c-9402-c18a5c439384"
    },
    {
      "cell_type": "code",
      "execution_count": 8,
      "metadata": {},
      "outputs": [
        {
          "output_type": "stream",
          "name": "stdout",
          "text": [
            "88.4 ms ± 661 μs per loop (mean ± std. dev. of 7 runs, 10 loops each)"
          ]
        }
      ],
      "source": [
        "orig_time = %timeit -o total_primes(range(1,N+1))"
      ],
      "id": "ae6cebc4"
    },
    {
      "cell_type": "markdown",
      "metadata": {},
      "source": [
        "# First steps\n",
        "\n",
        "Our first attempt at multiprocessing will involve partitioning the count\n",
        "into 2. We’ll run two processes in parallel on $\\{1,...,N/2\\}$ and\n",
        "$\\{N/2+1,...,N\\}$.\n",
        "\n",
        "Complete the following code\n",
        "([source](https://notebook.community/izapolsk/integration_tests/notebooks/MultiProcessing)).\n",
        "\n",
        "Check the result and the performance gain with `%timeit`."
      ],
      "id": "5f250d57-bd0f-4bf7-b023-321fcc697c4e"
    },
    {
      "cell_type": "code",
      "execution_count": 9,
      "metadata": {},
      "outputs": [],
      "source": [
        "from multiprocessing.pool import Pool\n",
        "\n",
        "def split_total(N):\n",
        "    with Pool(2) as pool:\n",
        "        return sum(pool.map(total_primes, ...))"
      ],
      "id": "cf70f27d"
    },
    {
      "cell_type": "code",
      "execution_count": 11,
      "metadata": {},
      "outputs": [
        {
          "output_type": "display_data",
          "metadata": {},
          "data": {
            "text/plain": [
              "9593"
            ]
          }
        }
      ],
      "source": [
        "split_total(N)"
      ],
      "id": "6ba1f355"
    },
    {
      "cell_type": "code",
      "execution_count": 12,
      "metadata": {},
      "outputs": [
        {
          "output_type": "stream",
          "name": "stdout",
          "text": [
            "56.9 ms ± 973 μs per loop (mean ± std. dev. of 7 runs, 10 loops each)"
          ]
        }
      ],
      "source": [
        "split_time = %timeit -o split_total(N)"
      ],
      "id": "5caa8a23"
    },
    {
      "cell_type": "code",
      "execution_count": 13,
      "metadata": {},
      "outputs": [
        {
          "output_type": "stream",
          "name": "stdout",
          "text": [
            "Gain with split : 1.6"
          ]
        }
      ],
      "source": [
        "print(\"Gain with split : {:.1f}\".format(orig_time.average/split_time.average))"
      ],
      "id": "92e2f8e0"
    },
    {
      "cell_type": "markdown",
      "metadata": {},
      "source": [
        "# Generalization\n",
        "\n",
        "Generalize the function with partitioning into *n* tasks instead of just\n",
        "2. We’ll use a generalized `multi_process_list` function, which takes as\n",
        "arguments : -\n",
        "f`the main computation function, which takes an integer list as argument - n`\n",
        "the number of partitions (here, one partition = task) -\n",
        "par_f`a function which takes as argument a list and a number of partitions to be performed, and returns the list of partitions in this list - l`\n",
        "the list to be partitioned"
      ],
      "id": "f1a1b6e6-0d77-4f16-88b1-a926bacf72d2"
    },
    {
      "cell_type": "code",
      "execution_count": 14,
      "metadata": {},
      "outputs": [],
      "source": [
        "def multi_process_list(f,n,par_f,l):\n",
        "    with Pool(ncores) as pool:\n",
        "        return sum(pool.map(...)"
      ],
      "id": "26aec68e"
    },
    {
      "cell_type": "markdown",
      "metadata": {},
      "source": [
        "First, we write the `naive_par` partitioning function."
      ],
      "id": "231a4a84-f30d-4bf1-b89e-c52e57c9d913"
    },
    {
      "cell_type": "code",
      "execution_count": 15,
      "metadata": {},
      "outputs": [],
      "source": [
        "def naive_par(lst,n):\n",
        "    return ..."
      ],
      "id": "2681a8ae"
    },
    {
      "cell_type": "markdown",
      "metadata": {},
      "source": [
        "We’ll use the `chunks` function, which partitions a list into chunks of\n",
        "fixed size (except for the last one).\n",
        "\n",
        "We’ll test the gain obtained with 8 tasks/partitions."
      ],
      "id": "58c26751-2195-42ad-b14b-899e4d608110"
    },
    {
      "cell_type": "code",
      "execution_count": 16,
      "metadata": {},
      "outputs": [],
      "source": [
        "def chunks(lst, m):\n",
        "    \"\"\"Yield successive m-sized chunks from lst.\"\"\"\n",
        "    for i in range(0, len(lst), m):\n",
        "        yield lst[i:i + m]"
      ],
      "id": "9baa19a1"
    },
    {
      "cell_type": "markdown",
      "metadata": {},
      "source": [
        "Vérifier le fonctionnement de `naive_par`"
      ],
      "id": "84dea1f3-28d2-43a4-a808-1172ba3595c8"
    },
    {
      "cell_type": "code",
      "execution_count": 21,
      "metadata": {},
      "outputs": [
        {
          "output_type": "stream",
          "name": "stdout",
          "text": [
            "42.6 ms ± 742 μs per loop (mean ± std. dev. of 7 runs, 10 loops each)"
          ]
        }
      ],
      "source": [
        "multi_time = %timeit -o multi_process_list(total_primes,ncores,naive_par,range(1,N+1))"
      ],
      "id": "35b89106"
    },
    {
      "cell_type": "code",
      "execution_count": 22,
      "metadata": {},
      "outputs": [
        {
          "output_type": "stream",
          "name": "stdout",
          "text": [
            "Gain avec multi : 2.1"
          ]
        }
      ],
      "source": [
        "print(\"Gain avec multi : {:.1f}\".format(orig_time.average/multi_time.average))"
      ],
      "id": "3995673b"
    },
    {
      "cell_type": "markdown",
      "metadata": {},
      "source": [
        "Repeat all calculations and payoff comparisons with $N=5000000$. To\n",
        "avoid long calculation times, we’ll restrict ourselves to a single\n",
        "iteration (option `-r 1 -n 1` in `%timeit`)."
      ],
      "id": "63737d29-6559-4fd2-828a-4a97799e9db6"
    },
    {
      "cell_type": "code",
      "execution_count": 23,
      "metadata": {},
      "outputs": [],
      "source": [
        "N = 5000000"
      ],
      "id": "5363118a"
    },
    {
      "cell_type": "code",
      "execution_count": 24,
      "metadata": {},
      "outputs": [
        {
          "output_type": "stream",
          "name": "stdout",
          "text": [
            "19.6 s ± 0 ns per loop (mean ± std. dev. of 1 run, 1 loop each)\n",
            "11.8 s ± 0 ns per loop (mean ± std. dev. of 1 run, 1 loop each)\n",
            "3.26 s ± 0 ns per loop (mean ± std. dev. of 1 run, 1 loop each)\n",
            "Gain with split : 1.7\n",
            "Gain with multi : 6.0"
          ]
        }
      ],
      "source": [
        "orig_time = %timeit -r 1 -n 1 -o total_primes(range(1,N+1))\n",
        "split_time = %timeit -r 1 -n 1 -o split_total(N)\n",
        "multi_time = %timeit -r 1 -n 1 -o multi_process_list(total_primes,ncores,naive_par,range(1,N+1))\n",
        "\n",
        "print(\"Gain with split : {:.1f}\".format(orig_time.average/split_time.average))\n",
        "print(\"Gain with multi : {:.1f}\".format(orig_time.average/multi_time.average))"
      ],
      "id": "db9bbcfb"
    },
    {
      "cell_type": "markdown",
      "metadata": {},
      "source": [
        "# Optional refinement\n",
        "\n",
        "How much time is spent on each task? Use the following function to get\n",
        "an idea. What do you observe?"
      ],
      "id": "cc402e12-e9f9-4389-b0fe-a4d224ac6e20"
    },
    {
      "cell_type": "code",
      "execution_count": 25,
      "metadata": {},
      "outputs": [],
      "source": [
        "def timed_total_primes(l):\n",
        "    %timeit -r 1 -n 1 total_primes(l)\n",
        "    return 0"
      ],
      "id": "016b010f"
    },
    {
      "cell_type": "markdown",
      "metadata": {},
      "source": [
        "How can we solve this problem?\n",
        "\n",
        "Find a simple solution that requires only one line of code. Check the\n",
        "execution times of individual tasks.\n",
        "\n",
        "Compare again with $N = 10000000$ (which will take about 1 minute\n",
        "sequentially).\n",
        "\n",
        "# Recreational interlude\n",
        "\n",
        "If you have a CPU with SMT (Hyperthreading), redo the measurements with\n",
        "`ncores` equal to the number of logic cores, and explain the results."
      ],
      "id": "3dd9fbfb-c58b-474d-b1e5-7a20e17a0218"
    }
  ],
  "nbformat": 4,
  "nbformat_minor": 5,
  "metadata": {
    "kernelspec": {
      "name": "python3",
      "display_name": "Python 3 (ipykernel)",
      "language": "python",
      "path": "/nfs/home/collinf/micromamba/envs/miashs-hpc/share/jupyter/kernels/python3"
    },
    "language_info": {
      "name": "python",
      "codemirror_mode": {
        "name": "ipython",
        "version": "3"
      },
      "file_extension": ".py",
      "mimetype": "text/x-python",
      "nbconvert_exporter": "python",
      "pygments_lexer": "ipython3",
      "version": "3.12.5"
    }
  }
}