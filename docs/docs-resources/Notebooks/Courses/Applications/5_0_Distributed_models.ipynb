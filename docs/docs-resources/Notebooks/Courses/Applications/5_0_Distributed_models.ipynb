{
  "cells": [
    {
      "cell_type": "markdown",
      "metadata": {},
      "source": [
        "# Distributed models with dask\n",
        "\n",
        "François-David Collin (CNRS, IMAG, Paul-Valéry Montpellier 3\n",
        "University)  \n",
        "Ghislain Durif (CNRS, LBMC)  \n",
        "Monday, August 26, 2024\n",
        "\n",
        "# Initialization"
      ],
      "id": "171666c1-ffa9-46ab-b369-374494727b8b"
    },
    {
      "cell_type": "code",
      "execution_count": 1,
      "metadata": {},
      "outputs": [],
      "source": [
        "from ipyparallel import Client\n",
        "\n",
        "rc = Client()"
      ],
      "id": "6c0e7956"
    },
    {
      "cell_type": "markdown",
      "metadata": {},
      "source": [
        "`rc` is an interable of accessibles computing nodes."
      ],
      "id": "e80f130c-fa3f-423b-870a-a687a63d0007"
    },
    {
      "cell_type": "code",
      "execution_count": 2,
      "metadata": {},
      "outputs": [],
      "source": [
        "views = rc[:]"
      ],
      "id": "21ea7367"
    },
    {
      "cell_type": "code",
      "execution_count": 3,
      "metadata": {},
      "outputs": [
        {
          "output_type": "display_data",
          "metadata": {},
          "data": {
            "text/plain": [
              "<DirectView [0, 1, 2, 3,...]>"
            ]
          }
        }
      ],
      "source": [
        "views"
      ],
      "id": "65b1e6d1"
    },
    {
      "cell_type": "markdown",
      "metadata": {},
      "source": [
        "## Check cluster engines"
      ],
      "id": "52b7e34d-28f2-43c8-978c-ef616cee3c2f"
    },
    {
      "cell_type": "code",
      "execution_count": 4,
      "metadata": {},
      "outputs": [
        {
          "output_type": "display_data",
          "metadata": {},
          "data": {
            "text/plain": [
              "'muse190.cluster'"
            ]
          }
        }
      ],
      "source": [
        "import platform\n",
        "platform.node()"
      ],
      "id": "6da27f31"
    },
    {
      "cell_type": "code",
      "execution_count": 5,
      "metadata": {},
      "outputs": [
        {
          "output_type": "display_data",
          "metadata": {},
          "data": {
            "text/plain": [
              "['muse191.cluster',\n",
              " 'muse195.cluster',\n",
              " 'muse194.cluster',\n",
              " 'muse193.cluster',\n",
              " 'muse197.cluster',\n",
              " 'muse196.cluster',\n",
              " 'muse198.cluster',\n",
              " 'muse190.cluster']"
            ]
          }
        }
      ],
      "source": [
        "views.apply_sync(platform.node)"
      ],
      "id": "cad0ca46"
    },
    {
      "cell_type": "markdown",
      "metadata": {},
      "source": [
        "## Distributed prime numbers\n",
        "\n",
        "Let’s revive our functions"
      ],
      "id": "a6f762c9-8b4f-4ab7-b039-5c84cce3fd7d"
    },
    {
      "cell_type": "code",
      "execution_count": 6,
      "metadata": {},
      "outputs": [],
      "source": [
        "import math\n",
        "\n",
        "def check_prime(n):\n",
        "    if n % 2 == 0:\n",
        "        return False\n",
        "    for i in range(3, int(math.sqrt(n)) + 1, 2):\n",
        "        if n % i == 0:\n",
        "            return False\n",
        "    return True"
      ],
      "id": "9bd3d336"
    },
    {
      "cell_type": "code",
      "execution_count": 7,
      "metadata": {},
      "outputs": [],
      "source": [
        "def chunks(lst, n):\n",
        "    \"\"\"Yield successive n-sized chunks from lst.\"\"\"\n",
        "    for i in range(0, len(lst), n):\n",
        "        yield lst[i:i + n]"
      ],
      "id": "2612cb80"
    },
    {
      "cell_type": "code",
      "execution_count": 8,
      "metadata": {},
      "outputs": [],
      "source": [
        "def find_primes(r):\n",
        "    return list(filter(check_prime,r))"
      ],
      "id": "28413d87"
    },
    {
      "cell_type": "markdown",
      "metadata": {},
      "source": [
        "## Peculiarities\n",
        "\n",
        "You’ll have to -\n",
        "[`push`](https://ipyparallel.readthedocs.io/en/latest/api/ipyparallel.html#ipyparallel.DirectView.push)\n",
        "your dependant functions to the engines (`ipyparallel` does push your\n",
        "main “mapped” function, but not its dependancies) - explicitly import\n",
        "any required python library to the engines"
      ],
      "id": "a97651cd-c85a-4835-8a10-9202c546a103"
    },
    {
      "cell_type": "code",
      "execution_count": 9,
      "metadata": {},
      "outputs": [
        {
          "output_type": "display_data",
          "metadata": {},
          "data": {
            "text/plain": [
              "<AsyncResult(_push): pending>"
            ]
          }
        }
      ],
      "source": [
        "views.push({'check_prime': check_prime})"
      ],
      "id": "1d6e8f51"
    },
    {
      "cell_type": "code",
      "execution_count": 10,
      "metadata": {},
      "outputs": [
        {
          "output_type": "stream",
          "name": "stdout",
          "text": [
            "importing math on engine(s)"
          ]
        }
      ],
      "source": [
        "with views.sync_imports():\n",
        "    import math"
      ],
      "id": "e46147d3"
    },
    {
      "cell_type": "markdown",
      "metadata": {},
      "source": [
        "### First steps\n",
        "\n",
        "1.  Complete with the correct\n",
        "    [`views.map`](https://ipyparallel.readthedocs.io/en/latest/api/ipyparallel.html#ipyparallel.DirectView.map)\n",
        "    call\n",
        "\n",
        "``` python\n",
        "def calculate_primes(N,chunksize):\n",
        "    return ...\n",
        "```\n",
        "\n",
        "1.  Benchmark it for\n",
        "\n",
        "``` python\n",
        "N = 5000000\n",
        "chunksize = int(N/64)\n",
        "```"
      ],
      "id": "24dcd195-3fbd-4569-bca1-689b47d712d2"
    },
    {
      "cell_type": "code",
      "execution_count": 12,
      "metadata": {},
      "outputs": [],
      "source": [
        "N = 5000000"
      ],
      "id": "e11f9aa3"
    },
    {
      "cell_type": "code",
      "execution_count": 13,
      "metadata": {},
      "outputs": [
        {
          "output_type": "stream",
          "name": "stdout",
          "text": [
            "3.27 s ± 0 ns per loop (mean ± std. dev. of 1 run, 1 loop each)"
          ]
        }
      ],
      "source": [
        "%timeit -r 1 -n 1 calculate_primes(N,int(N/64))"
      ],
      "id": "cf8de496"
    },
    {
      "cell_type": "markdown",
      "metadata": {},
      "source": [
        "# (Aside) a network optimization : [broadcast_view](https://ipyparallel.readthedocs.io/en/latest/examples/broadcast/Broadcast%20view.html) (network optimization)"
      ],
      "id": "f79210f7-d3f4-4c44-a8de-974ba7ecda8d"
    },
    {
      "cell_type": "raw",
      "metadata": {
        "raw_mimetype": "text/html"
      },
      "source": [
        "<center>"
      ],
      "id": "af8a4046-f0e2-49a6-98f0-399a88a8798b"
    },
    {
      "cell_type": "markdown",
      "metadata": {},
      "source": [
        "<img src=\"attachment:image.png\" width=\"500\"/>"
      ],
      "id": "5a0c7593-fe45-4b77-8d8c-2912ffd5b9cc"
    },
    {
      "cell_type": "raw",
      "metadata": {
        "raw_mimetype": "text/html"
      },
      "source": [
        "</center>"
      ],
      "id": "6632db32-e547-4056-8310-bb9eca2e365d"
    },
    {
      "cell_type": "code",
      "execution_count": 14,
      "metadata": {},
      "outputs": [],
      "source": [
        "direct_view = rc.direct_view()\n",
        "bcast_view = rc.broadcast_view()"
      ],
      "id": "466d7d0a"
    },
    {
      "cell_type": "code",
      "execution_count": 15,
      "metadata": {},
      "outputs": [
        {
          "output_type": "stream",
          "name": "stdout",
          "text": [
            "14.5 ms ± 505 μs per loop (mean ± std. dev. of 7 runs, 100 loops each)"
          ]
        }
      ],
      "source": [
        "%timeit direct_view.apply_sync(lambda: None)"
      ],
      "id": "922ceb68"
    },
    {
      "cell_type": "code",
      "execution_count": 16,
      "metadata": {},
      "outputs": [
        {
          "output_type": "stream",
          "name": "stdout",
          "text": [
            "16.7 ms ± 554 μs per loop (mean ± std. dev. of 7 runs, 10 loops each)"
          ]
        }
      ],
      "source": [
        "%timeit bcast_view.apply_sync(lambda: None)"
      ],
      "id": "8ee9a9e0"
    },
    {
      "cell_type": "markdown",
      "metadata": {},
      "source": [
        "# An embarrasingly parallel example : distributed Monte-Carlo computing of $\\pi$\n",
        "\n",
        "If we sample randomly a bunch of $N$ points in the unity square, and\n",
        "counts all points $N_I$ verifying the condition\n",
        "\n",
        "$x^2 + y^2 \\le 1$ whichs means they are in the upper right quarter of a\n",
        "disk.\n",
        "\n",
        "We have this convergence\n",
        "\n",
        "$\\lim_{N\\to\\infty} 4\\frac{N_I}{N} = \\pi$"
      ],
      "id": "52a79dc4-92f6-4e4d-9023-5766d6461896"
    },
    {
      "cell_type": "raw",
      "metadata": {
        "raw_mimetype": "text/html"
      },
      "source": [
        "<center>"
      ],
      "id": "2423fe63-3995-46b0-a2b1-c5b527e85774"
    },
    {
      "cell_type": "markdown",
      "metadata": {},
      "source": [
        "<img src=\"attachment:hpp2_0901.png\" width=\"40%\" />"
      ],
      "id": "8ef030a0-05ad-403a-a571-3a60b5d0b046"
    },
    {
      "cell_type": "raw",
      "metadata": {
        "raw_mimetype": "text/html"
      },
      "source": [
        "</center>"
      ],
      "id": "a42906a9-fbd9-4809-bbb8-3c59c02773dc"
    },
    {
      "cell_type": "markdown",
      "metadata": {},
      "source": [
        "### 2. Write the function which :\n",
        "\n",
        "-   takes a number of estimates `nbr_estimates` as argument\n",
        "-   samples them in the \\[(0,0),(1,1)\\] unity square\n",
        "-   returns the number of points inside the disk quarter\n",
        "\n",
        "``` python\n",
        "def estimate_nbr_points_in_quarter_circle(nbr_estimates):\n",
        "    ...\n",
        "    return nbr_trials_in_quarter_unit_circle\n",
        "```\n",
        "\n",
        "### 3. Make it distributed\n",
        "\n",
        "-   Wraps the previous function in\n",
        "    `python     def calculate_pi_distributed(nnodes,nbr_samples_in_total)         ...         return estimated_pi`\n",
        "-   `nnodes` will use only `rc[:nnodes]` and split the number of\n",
        "    estimates for each worker nodes into `nnodes` blocks.\n",
        "-   Try it on `1e8` samples and benchmark it on 1 to 8 nodes. (use\n",
        "    [`time`](https://docs.python.org/3/library/time.html#time.time))\n",
        "-   Plot the performance gain over one node and comment the plot.\n",
        "\n",
        "$\\Longrightarrow$ We see a near perfect linear scalability."
      ],
      "id": "cda9480b-1ac5-4ff7-8343-764fc288302c"
    }
  ],
  "nbformat": 4,
  "nbformat_minor": 5,
  "metadata": {
    "kernelspec": {
      "name": "python3",
      "display_name": "Python 3 (ipykernel)",
      "language": "python",
      "path": "/opt/conda/share/jupyter/kernels/python3"
    },
    "language_info": {
      "name": "python",
      "codemirror_mode": {
        "name": "ipython",
        "version": "3"
      },
      "file_extension": ".py",
      "mimetype": "text/x-python",
      "nbconvert_exporter": "python",
      "pygments_lexer": "ipython3",
      "version": "3.12.5"
    }
  }
}