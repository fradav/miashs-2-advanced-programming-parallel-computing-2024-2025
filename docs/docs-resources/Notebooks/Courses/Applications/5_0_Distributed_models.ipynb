{
  "cells": [
    {
      "cell_type": "markdown",
      "metadata": {},
      "source": [
        "# Distributed models with dask\n",
        "\n",
        "François-David Collin (CNRS, IMAG, Paul-Valéry Montpellier 3\n",
        "University)  \n",
        "Ghislain Durif (CNRS, LBMC)  \n",
        "Monday, August 26, 2024\n",
        "\n",
        "# Initialization"
      ],
      "id": "d517414d-5867-4ec4-a146-df6d888bd5df"
    },
    {
      "cell_type": "code",
      "execution_count": 1,
      "metadata": {},
      "outputs": [],
      "source": [
        "from ipyparallel import Client\n",
        "\n",
        "rc = Client()"
      ],
      "id": "6c0e7956"
    },
    {
      "cell_type": "markdown",
      "metadata": {},
      "source": [
        "`rc` is an interable of accessibles computing nodes."
      ],
      "id": "d484f10f-2c31-4f81-9890-2c5b4e800a7e"
    },
    {
      "cell_type": "code",
      "execution_count": 2,
      "metadata": {},
      "outputs": [],
      "source": [
        "views = rc[:]"
      ],
      "id": "21ea7367"
    },
    {
      "cell_type": "code",
      "execution_count": 3,
      "metadata": {},
      "outputs": [
        {
          "output_type": "display_data",
          "metadata": {},
          "data": {
            "text/plain": [
              "<DirectView [0, 1, 2, 3,...]>"
            ]
          }
        }
      ],
      "source": [
        "views"
      ],
      "id": "65b1e6d1"
    },
    {
      "cell_type": "markdown",
      "metadata": {},
      "source": [
        "## Check cluster engines"
      ],
      "id": "8d6359c5-3fab-4d51-8f2c-3a514e738b7c"
    },
    {
      "cell_type": "code",
      "execution_count": 4,
      "metadata": {},
      "outputs": [
        {
          "output_type": "display_data",
          "metadata": {},
          "data": {
            "text/plain": [
              "'muse190.cluster'"
            ]
          }
        }
      ],
      "source": [
        "import platform\n",
        "platform.node()"
      ],
      "id": "6da27f31"
    },
    {
      "cell_type": "code",
      "execution_count": 5,
      "metadata": {},
      "outputs": [
        {
          "output_type": "display_data",
          "metadata": {},
          "data": {
            "text/plain": [
              "['muse191.cluster',\n",
              " 'muse195.cluster',\n",
              " 'muse194.cluster',\n",
              " 'muse193.cluster',\n",
              " 'muse197.cluster',\n",
              " 'muse196.cluster',\n",
              " 'muse198.cluster',\n",
              " 'muse190.cluster']"
            ]
          }
        }
      ],
      "source": [
        "views.apply_sync(platform.node)"
      ],
      "id": "cad0ca46"
    },
    {
      "cell_type": "markdown",
      "metadata": {},
      "source": [
        "## Distributed prime numbers\n",
        "\n",
        "Let’s revive our functions"
      ],
      "id": "82f17a81-e412-4964-8775-392af481dffd"
    },
    {
      "cell_type": "code",
      "execution_count": 6,
      "metadata": {},
      "outputs": [],
      "source": [
        "import math\n",
        "\n",
        "def check_prime(n):\n",
        "    if n % 2 == 0:\n",
        "        return False\n",
        "    for i in range(3, int(math.sqrt(n)) + 1, 2):\n",
        "        if n % i == 0:\n",
        "            return False\n",
        "    return True"
      ],
      "id": "9bd3d336"
    },
    {
      "cell_type": "code",
      "execution_count": 7,
      "metadata": {},
      "outputs": [],
      "source": [
        "def chunks(lst, n):\n",
        "    \"\"\"Yield successive n-sized chunks from lst.\"\"\"\n",
        "    for i in range(0, len(lst), n):\n",
        "        yield lst[i:i + n]"
      ],
      "id": "2612cb80"
    },
    {
      "cell_type": "code",
      "execution_count": 8,
      "metadata": {},
      "outputs": [],
      "source": [
        "def find_primes(r):\n",
        "    return list(filter(check_prime,r))"
      ],
      "id": "28413d87"
    },
    {
      "cell_type": "markdown",
      "metadata": {},
      "source": [
        "## Peculiarities\n",
        "\n",
        "You’ll have to -\n",
        "[`push`](https://ipyparallel.readthedocs.io/en/latest/api/ipyparallel.html#ipyparallel.DirectView.push)\n",
        "your dependant functions to the engines (`ipyparallel` does push your\n",
        "main “mapped” function, but not its dependancies) - explicitly import\n",
        "any required python library to the engines"
      ],
      "id": "1b94c162-f5aa-4426-8d13-abd07b947506"
    },
    {
      "cell_type": "code",
      "execution_count": 9,
      "metadata": {},
      "outputs": [
        {
          "output_type": "display_data",
          "metadata": {},
          "data": {
            "text/plain": [
              "<AsyncResult(_push): pending>"
            ]
          }
        }
      ],
      "source": [
        "views.push({'check_prime': check_prime})"
      ],
      "id": "1d6e8f51"
    },
    {
      "cell_type": "code",
      "execution_count": 10,
      "metadata": {},
      "outputs": [
        {
          "output_type": "stream",
          "name": "stdout",
          "text": [
            "importing math on engine(s)"
          ]
        }
      ],
      "source": [
        "with views.sync_imports():\n",
        "    import math"
      ],
      "id": "e46147d3"
    },
    {
      "cell_type": "markdown",
      "metadata": {},
      "source": [
        "### First steps\n",
        "\n",
        "1.  Complete with the correct\n",
        "    [`views.map`](https://ipyparallel.readthedocs.io/en/latest/api/ipyparallel.html#ipyparallel.DirectView.map)\n",
        "    call\n",
        "\n",
        "``` python\n",
        "def calculate_primes(N,chunksize):\n",
        "    return ...\n",
        "```\n",
        "\n",
        "1.  Benchmark it for\n",
        "\n",
        "``` python\n",
        "N = 5000000\n",
        "chunksize = int(N/64)\n",
        "```"
      ],
      "id": "f4805e34-c490-45b5-9645-b0369aaadb3c"
    },
    {
      "cell_type": "code",
      "execution_count": 12,
      "metadata": {},
      "outputs": [],
      "source": [
        "N = 5000000"
      ],
      "id": "e11f9aa3"
    },
    {
      "cell_type": "code",
      "execution_count": 13,
      "metadata": {},
      "outputs": [
        {
          "output_type": "stream",
          "name": "stdout",
          "text": [
            "3.27 s ± 0 ns per loop (mean ± std. dev. of 1 run, 1 loop each)"
          ]
        }
      ],
      "source": [
        "%timeit -r 1 -n 1 calculate_primes(N,int(N/64))"
      ],
      "id": "cf8de496"
    },
    {
      "cell_type": "markdown",
      "metadata": {},
      "source": [
        "# (Aside) a network optimization : [broadcast_view](https://ipyparallel.readthedocs.io/en/latest/examples/broadcast/Broadcast%20view.html) (network optimization)"
      ],
      "id": "e1b4193b-dbe1-40fa-aa0d-1dc99e7bc807"
    },
    {
      "cell_type": "raw",
      "metadata": {
        "raw_mimetype": "text/html"
      },
      "source": [
        "<center>"
      ],
      "id": "f594e353-ca5f-46cd-aca2-c893e366a351"
    },
    {
      "cell_type": "markdown",
      "metadata": {},
      "source": [
        "<img src=\"attachment:image.png\" width=\"500\"/>"
      ],
      "id": "03a80a2f-d5ca-4984-96f2-4ee1ebca01be"
    },
    {
      "cell_type": "raw",
      "metadata": {
        "raw_mimetype": "text/html"
      },
      "source": [
        "</center>"
      ],
      "id": "f5118e0b-97eb-4660-8b0b-042869971e0f"
    },
    {
      "cell_type": "code",
      "execution_count": 14,
      "metadata": {},
      "outputs": [],
      "source": [
        "direct_view = rc.direct_view()\n",
        "bcast_view = rc.broadcast_view()"
      ],
      "id": "466d7d0a"
    },
    {
      "cell_type": "code",
      "execution_count": 15,
      "metadata": {},
      "outputs": [
        {
          "output_type": "stream",
          "name": "stdout",
          "text": [
            "14.5 ms ± 505 μs per loop (mean ± std. dev. of 7 runs, 100 loops each)"
          ]
        }
      ],
      "source": [
        "%timeit direct_view.apply_sync(lambda: None)"
      ],
      "id": "922ceb68"
    },
    {
      "cell_type": "code",
      "execution_count": 16,
      "metadata": {},
      "outputs": [
        {
          "output_type": "stream",
          "name": "stdout",
          "text": [
            "16.7 ms ± 554 μs per loop (mean ± std. dev. of 7 runs, 10 loops each)"
          ]
        }
      ],
      "source": [
        "%timeit bcast_view.apply_sync(lambda: None)"
      ],
      "id": "8ee9a9e0"
    },
    {
      "cell_type": "markdown",
      "metadata": {},
      "source": [
        "# An embarrasingly parallel example : distributed Monte-Carlo computing of $\\pi$\n",
        "\n",
        "If we sample randomly a bunch of $N$ points in the unity square, and\n",
        "counts all points $N_I$ verifying the condition\n",
        "\n",
        "$x^2 + y^2 \\le 1$ whichs means they are in the upper right quarter of a\n",
        "disk.\n",
        "\n",
        "We have this convergence\n",
        "\n",
        "$\\lim_{N\\to\\infty} 4\\frac{N_I}{N} = \\pi$"
      ],
      "id": "e2fde76b-2830-40e5-8593-46f6feadb505"
    },
    {
      "cell_type": "raw",
      "metadata": {
        "raw_mimetype": "text/html"
      },
      "source": [
        "<center>"
      ],
      "id": "d7be6661-2243-47b1-9e17-c225138d61ee"
    },
    {
      "cell_type": "markdown",
      "metadata": {},
      "source": [
        "<img src=\"attachment:hpp2_0901.png\" width=\"40%\" />"
      ],
      "id": "9dbd54c9-036e-4c76-9739-fd42b8b8cd36"
    },
    {
      "cell_type": "raw",
      "metadata": {
        "raw_mimetype": "text/html"
      },
      "source": [
        "</center>"
      ],
      "id": "6eaf20a8-f3f8-4e30-8c87-6e313e71284c"
    },
    {
      "cell_type": "markdown",
      "metadata": {},
      "source": [
        "### 2. Write the function which :\n",
        "\n",
        "-   takes a number of estimates `nbr_estimates` as argument\n",
        "-   samples them in the \\[(0,0),(1,1)\\] unity square\n",
        "-   returns the number of points inside the disk quarter\n",
        "\n",
        "``` python\n",
        "def estimate_nbr_points_in_quarter_circle(nbr_estimates):\n",
        "    ...\n",
        "    return nbr_trials_in_quarter_unit_circle\n",
        "```\n",
        "\n",
        "### 3. Make it distributed\n",
        "\n",
        "-   Wraps the previous function in\n",
        "    `python     def calculate_pi_distributed(nnodes,nbr_samples_in_total)         ...         return estimated_pi`\n",
        "-   `nnodes` will use only `rc[:nnodes]` and split the number of\n",
        "    estimates for each worker nodes into `nnodes` blocks.\n",
        "-   Try it on `1e8` samples and benchmark it on 1 to 8 nodes. (use\n",
        "    [`time`](https://docs.python.org/3/library/time.html#time.time))\n",
        "-   Plot the performance gain over one node and comment the plot.\n",
        "\n",
        "$\\Longrightarrow$ We see a near perfect linear scalability."
      ],
      "id": "2e69897f-74cf-4978-a523-8c7c7e564dab"
    }
  ],
  "nbformat": 4,
  "nbformat_minor": 5,
  "metadata": {
    "kernelspec": {
      "name": "python3",
      "display_name": "Python 3 (ipykernel)",
      "language": "python",
      "path": "/opt/conda/share/jupyter/kernels/python3"
    },
    "language_info": {
      "name": "python",
      "codemirror_mode": {
        "name": "ipython",
        "version": "3"
      },
      "file_extension": ".py",
      "mimetype": "text/x-python",
      "nbconvert_exporter": "python",
      "pygments_lexer": "ipython3",
      "version": "3.12.5"
    }
  }
}