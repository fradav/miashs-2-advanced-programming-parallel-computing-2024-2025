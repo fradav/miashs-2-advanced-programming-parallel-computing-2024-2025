{
  "cells": [
    {
      "cell_type": "markdown",
      "metadata": {},
      "source": [
        "# Distributed models with dask\n",
        "\n",
        "François-David Collin (CNRS, IMAG, Paul-Valéry Montpellier 3\n",
        "University)  \n",
        "Ghislain Durif (CNRS, LBMC)  \n",
        "Monday, August 26, 2024\n",
        "\n",
        "# Initialization"
      ],
      "id": "deb9af14-ce78-45c5-97f7-a95fcd6b407f"
    },
    {
      "cell_type": "code",
      "execution_count": 1,
      "metadata": {},
      "outputs": [],
      "source": [
        "from ipyparallel import Client\n",
        "\n",
        "rc = Client()"
      ],
      "id": "6c0e7956"
    },
    {
      "cell_type": "markdown",
      "metadata": {},
      "source": [
        "`rc` is an interable of accessibles computing nodes."
      ],
      "id": "a7ae552c-5f3e-46f8-9a80-89d99bbdfd38"
    },
    {
      "cell_type": "code",
      "execution_count": 2,
      "metadata": {},
      "outputs": [],
      "source": [
        "views = rc[:]"
      ],
      "id": "21ea7367"
    },
    {
      "cell_type": "code",
      "execution_count": 3,
      "metadata": {},
      "outputs": [
        {
          "output_type": "display_data",
          "metadata": {},
          "data": {
            "text/plain": [
              "<DirectView [0, 1, 2, 3,...]>"
            ]
          }
        }
      ],
      "source": [
        "views"
      ],
      "id": "65b1e6d1"
    },
    {
      "cell_type": "markdown",
      "metadata": {},
      "source": [
        "## Check cluster engines"
      ],
      "id": "53ca7432-2aea-4504-b1a7-16ee978bb1e1"
    },
    {
      "cell_type": "code",
      "execution_count": 4,
      "metadata": {},
      "outputs": [
        {
          "output_type": "display_data",
          "metadata": {},
          "data": {
            "text/plain": [
              "'muse190.cluster'"
            ]
          }
        }
      ],
      "source": [
        "import platform\n",
        "platform.node()"
      ],
      "id": "6da27f31"
    },
    {
      "cell_type": "code",
      "execution_count": 5,
      "metadata": {},
      "outputs": [
        {
          "output_type": "display_data",
          "metadata": {},
          "data": {
            "text/plain": [
              "['muse191.cluster',\n",
              " 'muse195.cluster',\n",
              " 'muse194.cluster',\n",
              " 'muse193.cluster',\n",
              " 'muse197.cluster',\n",
              " 'muse196.cluster',\n",
              " 'muse198.cluster',\n",
              " 'muse190.cluster']"
            ]
          }
        }
      ],
      "source": [
        "views.apply_sync(platform.node)"
      ],
      "id": "cad0ca46"
    },
    {
      "cell_type": "markdown",
      "metadata": {},
      "source": [
        "## Distributed prime numbers\n",
        "\n",
        "Let’s revive our functions"
      ],
      "id": "034ff238-7945-405e-b1af-a8d477dca744"
    },
    {
      "cell_type": "code",
      "execution_count": 6,
      "metadata": {},
      "outputs": [],
      "source": [
        "import math\n",
        "\n",
        "def check_prime(n):\n",
        "    if n % 2 == 0:\n",
        "        return False\n",
        "    for i in range(3, int(math.sqrt(n)) + 1, 2):\n",
        "        if n % i == 0:\n",
        "            return False\n",
        "    return True"
      ],
      "id": "9bd3d336"
    },
    {
      "cell_type": "code",
      "execution_count": 7,
      "metadata": {},
      "outputs": [],
      "source": [
        "def chunks(lst, n):\n",
        "    \"\"\"Yield successive n-sized chunks from lst.\"\"\"\n",
        "    for i in range(0, len(lst), n):\n",
        "        yield lst[i:i + n]"
      ],
      "id": "2612cb80"
    },
    {
      "cell_type": "code",
      "execution_count": 8,
      "metadata": {},
      "outputs": [],
      "source": [
        "def find_primes(r):\n",
        "    return list(filter(check_prime,r))"
      ],
      "id": "28413d87"
    },
    {
      "cell_type": "markdown",
      "metadata": {},
      "source": [
        "## Peculiarities\n",
        "\n",
        "You’ll have to -\n",
        "[`push`](https://ipyparallel.readthedocs.io/en/latest/api/ipyparallel.html#ipyparallel.DirectView.push)\n",
        "your dependant functions to the engines (`ipyparallel` does push your\n",
        "main “mapped” function, but not its dependancies) - explicitly import\n",
        "any required python library to the engines"
      ],
      "id": "3658f8a6-72fd-420b-9c5a-9fd1d07e3c68"
    },
    {
      "cell_type": "code",
      "execution_count": 9,
      "metadata": {},
      "outputs": [
        {
          "output_type": "display_data",
          "metadata": {},
          "data": {
            "text/plain": [
              "<AsyncResult(_push): pending>"
            ]
          }
        }
      ],
      "source": [
        "views.push({'check_prime': check_prime})"
      ],
      "id": "1d6e8f51"
    },
    {
      "cell_type": "code",
      "execution_count": 10,
      "metadata": {},
      "outputs": [
        {
          "output_type": "stream",
          "name": "stdout",
          "text": [
            "importing math on engine(s)"
          ]
        }
      ],
      "source": [
        "with views.sync_imports():\n",
        "    import math"
      ],
      "id": "e46147d3"
    },
    {
      "cell_type": "markdown",
      "metadata": {},
      "source": [
        "### First steps\n",
        "\n",
        "1.  Complete with the correct\n",
        "    [`views.map`](https://ipyparallel.readthedocs.io/en/latest/api/ipyparallel.html#ipyparallel.DirectView.map)\n",
        "    call\n",
        "\n",
        "``` python\n",
        "def calculate_primes(N,chunksize):\n",
        "    return ...\n",
        "```\n",
        "\n",
        "1.  Benchmark it for\n",
        "\n",
        "``` python\n",
        "N = 5000000\n",
        "chunksize = int(N/64)\n",
        "```"
      ],
      "id": "79ce7f8e-7650-4327-b492-f8f90825c9b2"
    },
    {
      "cell_type": "code",
      "execution_count": 12,
      "metadata": {},
      "outputs": [],
      "source": [
        "N = 5000000"
      ],
      "id": "e11f9aa3"
    },
    {
      "cell_type": "code",
      "execution_count": 13,
      "metadata": {},
      "outputs": [
        {
          "output_type": "stream",
          "name": "stdout",
          "text": [
            "3.27 s ± 0 ns per loop (mean ± std. dev. of 1 run, 1 loop each)"
          ]
        }
      ],
      "source": [
        "%timeit -r 1 -n 1 calculate_primes(N,int(N/64))"
      ],
      "id": "cf8de496"
    },
    {
      "cell_type": "markdown",
      "metadata": {},
      "source": [
        "# (Aside) a network optimization : [broadcast_view](https://ipyparallel.readthedocs.io/en/latest/examples/broadcast/Broadcast%20view.html) (network optimization)"
      ],
      "id": "d308fd35-ff01-453b-9102-3d71cb05740b"
    },
    {
      "cell_type": "raw",
      "metadata": {
        "raw_mimetype": "text/html"
      },
      "source": [
        "<center>"
      ],
      "id": "e8d74d8e-3046-4e0f-b4fa-f26fae069095"
    },
    {
      "cell_type": "markdown",
      "metadata": {},
      "source": [
        "<img src=\"attachment:image.png\" width=\"500\"/>"
      ],
      "id": "b6ba8f10-f431-4190-aa7a-0baa14857afc"
    },
    {
      "cell_type": "raw",
      "metadata": {
        "raw_mimetype": "text/html"
      },
      "source": [
        "</center>"
      ],
      "id": "552f16d9-b0f2-4e9f-ab01-5c13c70f10fc"
    },
    {
      "cell_type": "code",
      "execution_count": 14,
      "metadata": {},
      "outputs": [],
      "source": [
        "direct_view = rc.direct_view()\n",
        "bcast_view = rc.broadcast_view()"
      ],
      "id": "466d7d0a"
    },
    {
      "cell_type": "code",
      "execution_count": 15,
      "metadata": {},
      "outputs": [
        {
          "output_type": "stream",
          "name": "stdout",
          "text": [
            "14.5 ms ± 505 μs per loop (mean ± std. dev. of 7 runs, 100 loops each)"
          ]
        }
      ],
      "source": [
        "%timeit direct_view.apply_sync(lambda: None)"
      ],
      "id": "922ceb68"
    },
    {
      "cell_type": "code",
      "execution_count": 16,
      "metadata": {},
      "outputs": [
        {
          "output_type": "stream",
          "name": "stdout",
          "text": [
            "16.7 ms ± 554 μs per loop (mean ± std. dev. of 7 runs, 10 loops each)"
          ]
        }
      ],
      "source": [
        "%timeit bcast_view.apply_sync(lambda: None)"
      ],
      "id": "8ee9a9e0"
    },
    {
      "cell_type": "markdown",
      "metadata": {},
      "source": [
        "# An embarrasingly parallel example : distributed Monte-Carlo computing of $\\pi$\n",
        "\n",
        "If we sample randomly a bunch of $N$ points in the unity square, and\n",
        "counts all points $N_I$ verifying the condition\n",
        "\n",
        "$x^2 + y^2 \\le 1$ whichs means they are in the upper right quarter of a\n",
        "disk.\n",
        "\n",
        "We have this convergence\n",
        "\n",
        "$\\lim_{N\\to\\infty} 4\\frac{N_I}{N} = \\pi$"
      ],
      "id": "7805b8b9-731c-4c92-a350-2a95123ae11d"
    },
    {
      "cell_type": "raw",
      "metadata": {
        "raw_mimetype": "text/html"
      },
      "source": [
        "<center>"
      ],
      "id": "94731ac5-1aee-4591-bb61-cd5d21d8d075"
    },
    {
      "cell_type": "markdown",
      "metadata": {},
      "source": [
        "<img src=\"attachment:hpp2_0901.png\" width=\"40%\" />"
      ],
      "id": "da461aee-0b23-4813-8a3a-0433b5053c2b"
    },
    {
      "cell_type": "raw",
      "metadata": {
        "raw_mimetype": "text/html"
      },
      "source": [
        "</center>"
      ],
      "id": "a4ec5fcd-c7c6-43e4-9a41-a2cb3d3f4bb9"
    },
    {
      "cell_type": "markdown",
      "metadata": {},
      "source": [
        "### 2. Write the function which :\n",
        "\n",
        "-   takes a number of estimates `nbr_estimates` as argument\n",
        "-   samples them in the \\[(0,0),(1,1)\\] unity square\n",
        "-   returns the number of points inside the disk quarter\n",
        "\n",
        "``` python\n",
        "def estimate_nbr_points_in_quarter_circle(nbr_estimates):\n",
        "    ...\n",
        "    return nbr_trials_in_quarter_unit_circle\n",
        "```\n",
        "\n",
        "### 3. Make it distributed\n",
        "\n",
        "-   Wraps the previous function in\n",
        "    `python     def calculate_pi_distributed(nnodes,nbr_samples_in_total)         ...         return estimated_pi`\n",
        "-   `nnodes` will use only `rc[:nnodes]` and split the number of\n",
        "    estimates for each worker nodes into `nnodes` blocks.\n",
        "-   Try it on `1e8` samples and benchmark it on 1 to 8 nodes. (use\n",
        "    [`time`](https://docs.python.org/3/library/time.html#time.time))\n",
        "-   Plot the performance gain over one node and comment the plot.\n",
        "\n",
        "$\\Longrightarrow$ We see a near perfect linear scalability."
      ],
      "id": "240bd1fc-12ef-426a-9cc6-c3f8f2ed6276"
    }
  ],
  "nbformat": 4,
  "nbformat_minor": 5,
  "metadata": {
    "kernelspec": {
      "name": "python3",
      "display_name": "Python 3 (ipykernel)",
      "language": "python",
      "path": "/opt/conda/share/jupyter/kernels/python3"
    },
    "language_info": {
      "name": "python",
      "codemirror_mode": {
        "name": "ipython",
        "version": "3"
      },
      "file_extension": ".py",
      "mimetype": "text/x-python",
      "nbconvert_exporter": "python",
      "pygments_lexer": "ipython3",
      "version": "3.12.5"
    }
  }
}