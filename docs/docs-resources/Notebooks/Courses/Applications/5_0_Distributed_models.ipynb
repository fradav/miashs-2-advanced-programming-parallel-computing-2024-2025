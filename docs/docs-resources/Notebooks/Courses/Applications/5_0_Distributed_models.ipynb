{
  "cells": [
    {
      "cell_type": "markdown",
      "metadata": {},
      "source": [
        "# Distributed models with dask\n",
        "\n",
        "François-David Collin (CNRS, IMAG, Paul-Valéry Montpellier 3\n",
        "University)  \n",
        "Ghislain Durif (CNRS, LBMC)  \n",
        "Monday, August 26, 2024\n",
        "\n",
        "# Initialization"
      ],
      "id": "b684a38f-2bab-44e0-96e5-c33428e1adf0"
    },
    {
      "cell_type": "code",
      "execution_count": 1,
      "metadata": {},
      "outputs": [],
      "source": [
        "from ipyparallel import Client\n",
        "\n",
        "rc = Client()"
      ],
      "id": "6c0e7956"
    },
    {
      "cell_type": "markdown",
      "metadata": {},
      "source": [
        "`rc` is an interable of accessibles computing nodes."
      ],
      "id": "80dbad0f-efcb-42c3-b85f-d7ed68bac619"
    },
    {
      "cell_type": "code",
      "execution_count": 2,
      "metadata": {},
      "outputs": [],
      "source": [
        "views = rc[:]"
      ],
      "id": "21ea7367"
    },
    {
      "cell_type": "code",
      "execution_count": 3,
      "metadata": {},
      "outputs": [
        {
          "output_type": "display_data",
          "metadata": {},
          "data": {
            "text/plain": [
              "<DirectView [0, 1, 2, 3,...]>"
            ]
          }
        }
      ],
      "source": [
        "views"
      ],
      "id": "65b1e6d1"
    },
    {
      "cell_type": "markdown",
      "metadata": {},
      "source": [
        "## Check cluster engines"
      ],
      "id": "6907cb8e-6e00-4f1f-8f59-b8f9a8b5cd94"
    },
    {
      "cell_type": "code",
      "execution_count": 4,
      "metadata": {},
      "outputs": [
        {
          "output_type": "display_data",
          "metadata": {},
          "data": {
            "text/plain": [
              "'muse190.cluster'"
            ]
          }
        }
      ],
      "source": [
        "import platform\n",
        "platform.node()"
      ],
      "id": "6da27f31"
    },
    {
      "cell_type": "code",
      "execution_count": 5,
      "metadata": {},
      "outputs": [
        {
          "output_type": "display_data",
          "metadata": {},
          "data": {
            "text/plain": [
              "['muse191.cluster',\n",
              " 'muse195.cluster',\n",
              " 'muse194.cluster',\n",
              " 'muse193.cluster',\n",
              " 'muse197.cluster',\n",
              " 'muse196.cluster',\n",
              " 'muse198.cluster',\n",
              " 'muse190.cluster']"
            ]
          }
        }
      ],
      "source": [
        "views.apply_sync(platform.node)"
      ],
      "id": "cad0ca46"
    },
    {
      "cell_type": "markdown",
      "metadata": {},
      "source": [
        "## Distributed prime numbers\n",
        "\n",
        "Let’s revive our functions"
      ],
      "id": "e10d15aa-f443-449e-827d-5a4687a1b955"
    },
    {
      "cell_type": "code",
      "execution_count": 6,
      "metadata": {},
      "outputs": [],
      "source": [
        "import math\n",
        "\n",
        "def check_prime(n):\n",
        "    if n % 2 == 0:\n",
        "        return False\n",
        "    for i in range(3, int(math.sqrt(n)) + 1, 2):\n",
        "        if n % i == 0:\n",
        "            return False\n",
        "    return True"
      ],
      "id": "9bd3d336"
    },
    {
      "cell_type": "code",
      "execution_count": 7,
      "metadata": {},
      "outputs": [],
      "source": [
        "def chunks(lst, n):\n",
        "    \"\"\"Yield successive n-sized chunks from lst.\"\"\"\n",
        "    for i in range(0, len(lst), n):\n",
        "        yield lst[i:i + n]"
      ],
      "id": "2612cb80"
    },
    {
      "cell_type": "code",
      "execution_count": 8,
      "metadata": {},
      "outputs": [],
      "source": [
        "def find_primes(r):\n",
        "    return list(filter(check_prime,r))"
      ],
      "id": "28413d87"
    },
    {
      "cell_type": "markdown",
      "metadata": {},
      "source": [
        "## Peculiarities\n",
        "\n",
        "You’ll have to -\n",
        "[`push`](https://ipyparallel.readthedocs.io/en/latest/api/ipyparallel.html#ipyparallel.DirectView.push)\n",
        "your dependant functions to the engines (`ipyparallel` does push your\n",
        "main “mapped” function, but not its dependancies) - explicitly import\n",
        "any required python library to the engines"
      ],
      "id": "52a12c8d-e445-4da5-813e-18221fa0903c"
    },
    {
      "cell_type": "code",
      "execution_count": 9,
      "metadata": {},
      "outputs": [
        {
          "output_type": "display_data",
          "metadata": {},
          "data": {
            "text/plain": [
              "<AsyncResult(_push): pending>"
            ]
          }
        }
      ],
      "source": [
        "views.push({'check_prime': check_prime})"
      ],
      "id": "1d6e8f51"
    },
    {
      "cell_type": "code",
      "execution_count": 10,
      "metadata": {},
      "outputs": [
        {
          "output_type": "stream",
          "name": "stdout",
          "text": [
            "importing math on engine(s)"
          ]
        }
      ],
      "source": [
        "with views.sync_imports():\n",
        "    import math"
      ],
      "id": "e46147d3"
    },
    {
      "cell_type": "markdown",
      "metadata": {},
      "source": [
        "### First steps\n",
        "\n",
        "1.  Complete with the correct\n",
        "    [`views.map`](https://ipyparallel.readthedocs.io/en/latest/api/ipyparallel.html#ipyparallel.DirectView.map)\n",
        "    call\n",
        "\n",
        "``` python\n",
        "def calculate_primes(N,chunksize):\n",
        "    return ...\n",
        "```\n",
        "\n",
        "1.  Benchmark it for\n",
        "\n",
        "``` python\n",
        "N = 5000000\n",
        "chunksize = int(N/64)\n",
        "```"
      ],
      "id": "23836abc-f6e3-43ec-b679-273b54b78cf5"
    },
    {
      "cell_type": "code",
      "execution_count": 12,
      "metadata": {},
      "outputs": [],
      "source": [
        "N = 5000000"
      ],
      "id": "e11f9aa3"
    },
    {
      "cell_type": "code",
      "execution_count": 13,
      "metadata": {},
      "outputs": [
        {
          "output_type": "stream",
          "name": "stdout",
          "text": [
            "3.27 s ± 0 ns per loop (mean ± std. dev. of 1 run, 1 loop each)"
          ]
        }
      ],
      "source": [
        "%timeit -r 1 -n 1 calculate_primes(N,int(N/64))"
      ],
      "id": "cf8de496"
    },
    {
      "cell_type": "markdown",
      "metadata": {},
      "source": [
        "# (Aside) a network optimization : [broadcast_view](https://ipyparallel.readthedocs.io/en/latest/examples/broadcast/Broadcast%20view.html) (network optimization)"
      ],
      "id": "62f945d1-84fb-4e03-94fc-135f39ce6755"
    },
    {
      "cell_type": "raw",
      "metadata": {
        "raw_mimetype": "text/html"
      },
      "source": [
        "<center>"
      ],
      "id": "04d81724-0478-4f30-965e-0b89d176ecf3"
    },
    {
      "cell_type": "markdown",
      "metadata": {},
      "source": [
        "<img src=\"attachment:image.png\" width=\"500\"/>"
      ],
      "id": "fed69158-2c34-41ab-81e9-1eb0a582c174"
    },
    {
      "cell_type": "raw",
      "metadata": {
        "raw_mimetype": "text/html"
      },
      "source": [
        "</center>"
      ],
      "id": "00a9bde8-d26e-4106-971b-36b1a55be42e"
    },
    {
      "cell_type": "code",
      "execution_count": 14,
      "metadata": {},
      "outputs": [],
      "source": [
        "direct_view = rc.direct_view()\n",
        "bcast_view = rc.broadcast_view()"
      ],
      "id": "466d7d0a"
    },
    {
      "cell_type": "code",
      "execution_count": 15,
      "metadata": {},
      "outputs": [
        {
          "output_type": "stream",
          "name": "stdout",
          "text": [
            "14.5 ms ± 505 μs per loop (mean ± std. dev. of 7 runs, 100 loops each)"
          ]
        }
      ],
      "source": [
        "%timeit direct_view.apply_sync(lambda: None)"
      ],
      "id": "922ceb68"
    },
    {
      "cell_type": "code",
      "execution_count": 16,
      "metadata": {},
      "outputs": [
        {
          "output_type": "stream",
          "name": "stdout",
          "text": [
            "16.7 ms ± 554 μs per loop (mean ± std. dev. of 7 runs, 10 loops each)"
          ]
        }
      ],
      "source": [
        "%timeit bcast_view.apply_sync(lambda: None)"
      ],
      "id": "8ee9a9e0"
    },
    {
      "cell_type": "markdown",
      "metadata": {},
      "source": [
        "# An embarrasingly parallel example : distributed Monte-Carlo computing of $\\pi$\n",
        "\n",
        "If we sample randomly a bunch of $N$ points in the unity square, and\n",
        "counts all points $N_I$ verifying the condition\n",
        "\n",
        "$x^2 + y^2 \\le 1$ whichs means they are in the upper right quarter of a\n",
        "disk.\n",
        "\n",
        "We have this convergence\n",
        "\n",
        "$\\lim_{N\\to\\infty} 4\\frac{N_I}{N} = \\pi$"
      ],
      "id": "b8298f8e-b3a6-4d87-a0e7-6e6b7812964c"
    },
    {
      "cell_type": "raw",
      "metadata": {
        "raw_mimetype": "text/html"
      },
      "source": [
        "<center>"
      ],
      "id": "b81d1633-072e-4ad8-98af-4d9a69bedd4a"
    },
    {
      "cell_type": "markdown",
      "metadata": {},
      "source": [
        "<img src=\"attachment:hpp2_0901.png\" width=\"40%\" />"
      ],
      "id": "c4fec139-f088-4e59-ad5a-2cac1f007444"
    },
    {
      "cell_type": "raw",
      "metadata": {
        "raw_mimetype": "text/html"
      },
      "source": [
        "</center>"
      ],
      "id": "aa1ff636-2c12-41d4-be3b-b6c27eb12e45"
    },
    {
      "cell_type": "markdown",
      "metadata": {},
      "source": [
        "### 2. Write the function which :\n",
        "\n",
        "-   takes a number of estimates `nbr_estimates` as argument\n",
        "-   samples them in the \\[(0,0),(1,1)\\] unity square\n",
        "-   returns the number of points inside the disk quarter\n",
        "\n",
        "``` python\n",
        "def estimate_nbr_points_in_quarter_circle(nbr_estimates):\n",
        "    ...\n",
        "    return nbr_trials_in_quarter_unit_circle\n",
        "```\n",
        "\n",
        "### 3. Make it distributed\n",
        "\n",
        "-   Wraps the previous function in\n",
        "    `python     def calculate_pi_distributed(nnodes,nbr_samples_in_total)         ...         return estimated_pi`\n",
        "-   `nnodes` will use only `rc[:nnodes]` and split the number of\n",
        "    estimates for each worker nodes into `nnodes` blocks.\n",
        "-   Try it on `1e8` samples and benchmark it on 1 to 8 nodes. (use\n",
        "    [`time`](https://docs.python.org/3/library/time.html#time.time))\n",
        "-   Plot the performance gain over one node and comment the plot.\n",
        "\n",
        "$\\Longrightarrow$ We see a near perfect linear scalability."
      ],
      "id": "29e8010e-2814-4d99-882f-b8e3760ec36b"
    }
  ],
  "nbformat": 4,
  "nbformat_minor": 5,
  "metadata": {
    "kernelspec": {
      "name": "python3",
      "display_name": "Python 3 (ipykernel)",
      "language": "python",
      "path": "/opt/conda/share/jupyter/kernels/python3"
    },
    "language_info": {
      "name": "python",
      "codemirror_mode": {
        "name": "ipython",
        "version": "3"
      },
      "file_extension": ".py",
      "mimetype": "text/x-python",
      "nbconvert_exporter": "python",
      "pygments_lexer": "ipython3",
      "version": "3.12.5"
    }
  }
}