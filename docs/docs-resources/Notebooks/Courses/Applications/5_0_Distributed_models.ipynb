{
  "cells": [
    {
      "cell_type": "markdown",
      "metadata": {},
      "source": [
        "# Distributed models with dask\n",
        "\n",
        "François-David Collin (CNRS, IMAG, Paul-Valéry Montpellier 3\n",
        "University)  \n",
        "Ghislain Durif (CNRS, LBMC)  \n",
        "Monday, August 26, 2024\n",
        "\n",
        "# Initialization"
      ],
      "id": "a73e4b48-62d9-4070-945f-c2c06eb844a1"
    },
    {
      "cell_type": "code",
      "execution_count": 1,
      "metadata": {},
      "outputs": [],
      "source": [
        "from ipyparallel import Client\n",
        "\n",
        "rc = Client()"
      ],
      "id": "b5504abd"
    },
    {
      "cell_type": "markdown",
      "metadata": {},
      "source": [
        "`rc` is an interable of accessibles computing nodes."
      ],
      "id": "01adb6bb-fe2c-4e8e-a4af-82a3c1a50323"
    },
    {
      "cell_type": "code",
      "execution_count": 2,
      "metadata": {},
      "outputs": [],
      "source": [
        "views = rc[:]"
      ],
      "id": "888c1aa8"
    },
    {
      "cell_type": "code",
      "execution_count": 3,
      "metadata": {},
      "outputs": [],
      "source": [
        "views"
      ],
      "id": "19d6683a"
    },
    {
      "cell_type": "markdown",
      "metadata": {},
      "source": [
        "## Check cluster engines"
      ],
      "id": "b418d1b4-d85b-44ae-bb31-b150eff2d413"
    },
    {
      "cell_type": "code",
      "execution_count": 4,
      "metadata": {},
      "outputs": [],
      "source": [
        "import platform\n",
        "platform.node()"
      ],
      "id": "a1d0bb00"
    },
    {
      "cell_type": "code",
      "execution_count": 5,
      "metadata": {},
      "outputs": [],
      "source": [
        "views.apply_sync(platform.node)"
      ],
      "id": "06a50795"
    },
    {
      "cell_type": "markdown",
      "metadata": {},
      "source": [
        "## Distributed prime numbers\n",
        "\n",
        "Let’s revive our functions"
      ],
      "id": "9cc01cb1-ffb6-45a2-937f-6ff32456a8f4"
    },
    {
      "cell_type": "code",
      "execution_count": 6,
      "metadata": {},
      "outputs": [],
      "source": [
        "import math\n",
        "\n",
        "def check_prime(n):\n",
        "    if n % 2 == 0:\n",
        "        return False\n",
        "    for i in range(3, int(math.sqrt(n)) + 1, 2):\n",
        "        if n % i == 0:\n",
        "            return False\n",
        "    return True"
      ],
      "id": "0715c160"
    },
    {
      "cell_type": "code",
      "execution_count": 7,
      "metadata": {},
      "outputs": [],
      "source": [
        "def chunks(lst, n):\n",
        "    \"\"\"Yield successive n-sized chunks from lst.\"\"\"\n",
        "    for i in range(0, len(lst), n):\n",
        "        yield lst[i:i + n]"
      ],
      "id": "b1c5b1dc"
    },
    {
      "cell_type": "code",
      "execution_count": 8,
      "metadata": {},
      "outputs": [],
      "source": [
        "def find_primes(r):\n",
        "    return list(filter(check_prime,r))"
      ],
      "id": "f2d29599"
    },
    {
      "cell_type": "markdown",
      "metadata": {},
      "source": [
        "## Peculiarities\n",
        "\n",
        "You’ll have to -\n",
        "[`push`](https://ipyparallel.readthedocs.io/en/latest/api/ipyparallel.html#ipyparallel.DirectView.push)\n",
        "your dependant functions to the engines (`ipyparallel` does push your\n",
        "main “mapped” function, but not its dependancies) - explicitly import\n",
        "any required python library to the engines"
      ],
      "id": "624c3d6d-9646-49d3-9d45-ff38f3358408"
    },
    {
      "cell_type": "code",
      "execution_count": 9,
      "metadata": {},
      "outputs": [],
      "source": [
        "views.push({'check_prime': check_prime})"
      ],
      "id": "3aed4fac"
    },
    {
      "cell_type": "code",
      "execution_count": 10,
      "metadata": {},
      "outputs": [],
      "source": [
        "with views.sync_imports():\n",
        "    import math"
      ],
      "id": "baa1e3b7"
    },
    {
      "cell_type": "markdown",
      "metadata": {},
      "source": [
        "### First steps\n",
        "\n",
        "1.  Complete with the correct\n",
        "    [`views.map`](https://ipyparallel.readthedocs.io/en/latest/api/ipyparallel.html#ipyparallel.DirectView.map)\n",
        "    call\n",
        "\n",
        "``` python\n",
        "def calculate_primes(N,chunksize):\n",
        "    return ...\n",
        "```\n",
        "\n",
        "1.  Benchmark it for\n",
        "\n",
        "``` python\n",
        "N = 5000000\n",
        "chunksize = int(N/64)\n",
        "```"
      ],
      "id": "ee3aef97-6644-431d-b088-f8359a4b70c4"
    },
    {
      "cell_type": "code",
      "execution_count": 12,
      "metadata": {},
      "outputs": [],
      "source": [
        "N = 5000000"
      ],
      "id": "c20ac8a2"
    },
    {
      "cell_type": "code",
      "execution_count": 13,
      "metadata": {},
      "outputs": [],
      "source": [
        "%timeit -r 1 -n 1 calculate_primes(N,int(N/64))"
      ],
      "id": "4dbfdf82"
    },
    {
      "cell_type": "markdown",
      "metadata": {},
      "source": [
        "# (Aside) a network optimization : [broadcast_view](https://ipyparallel.readthedocs.io/en/latest/examples/broadcast/Broadcast%20view.html) (network optimization)"
      ],
      "id": "2f120216-7853-4469-bc79-4299faf82a17"
    },
    {
      "cell_type": "raw",
      "metadata": {
        "raw_mimetype": "text/html"
      },
      "source": [
        "<center>"
      ],
      "id": "b61d38f5-1e5b-4c19-94ea-e1910539480c"
    },
    {
      "cell_type": "markdown",
      "metadata": {},
      "source": [
        "<img src=\"attachment:image.png\" width=\"500\"/>"
      ],
      "id": "77a95b4c-bca4-4965-9c52-561527c230a6"
    },
    {
      "cell_type": "raw",
      "metadata": {
        "raw_mimetype": "text/html"
      },
      "source": [
        "</center>"
      ],
      "id": "bf0bc459-f40c-49b1-8d7b-ef2844ea3698"
    },
    {
      "cell_type": "code",
      "execution_count": 14,
      "metadata": {},
      "outputs": [],
      "source": [
        "direct_view = rc.direct_view()\n",
        "bcast_view = rc.broadcast_view()"
      ],
      "id": "246c9d4d"
    },
    {
      "cell_type": "code",
      "execution_count": 15,
      "metadata": {},
      "outputs": [],
      "source": [
        "%timeit direct_view.apply_sync(lambda: None)"
      ],
      "id": "8e5eb6ee"
    },
    {
      "cell_type": "code",
      "execution_count": 16,
      "metadata": {},
      "outputs": [],
      "source": [
        "%timeit bcast_view.apply_sync(lambda: None)"
      ],
      "id": "8e2b6209"
    },
    {
      "cell_type": "markdown",
      "metadata": {},
      "source": [
        "# An embarrasingly parallel example : distributed Monte-Carlo computing of $\\pi$\n",
        "\n",
        "If we sample randomly a bunch of $N$ points in the unity square, and\n",
        "counts all points $N_I$ verifying the condition\n",
        "\n",
        "$x^2 + y^2 \\le 1$ whichs means they are in the upper right quarter of a\n",
        "disk.\n",
        "\n",
        "We have this convergence\n",
        "\n",
        "$\\lim_{N\\to\\infty} 4\\frac{N_I}{N} = \\pi$"
      ],
      "id": "247997bb-7ed3-4b61-9da2-7a4a8f1aa26b"
    },
    {
      "cell_type": "raw",
      "metadata": {
        "raw_mimetype": "text/html"
      },
      "source": [
        "<center>"
      ],
      "id": "fc17b1af-bb4d-4fbc-b695-1cbdae06679a"
    },
    {
      "cell_type": "markdown",
      "metadata": {},
      "source": [
        "<img src=\"attachment:hpp2_0901.png\" width=\"40%\" />"
      ],
      "id": "8acce19a-c0e9-4be9-bc5f-b4a1cabcd8a3"
    },
    {
      "cell_type": "raw",
      "metadata": {
        "raw_mimetype": "text/html"
      },
      "source": [
        "</center>"
      ],
      "id": "6eafb556-c734-4cb5-bd58-e8fcd8fe4110"
    },
    {
      "cell_type": "markdown",
      "metadata": {},
      "source": [
        "### 2. Write the function which :\n",
        "\n",
        "-   takes a number of estimates `nbr_estimates` as argument\n",
        "-   samples them in the \\[(0,0),(1,1)\\] unity square\n",
        "-   returns the number of points inside the disk quarter\n",
        "\n",
        "``` python\n",
        "def estimate_nbr_points_in_quarter_circle(nbr_estimates):\n",
        "    ...\n",
        "    return nbr_trials_in_quarter_unit_circle\n",
        "```\n",
        "\n",
        "### 3. Make it distributed\n",
        "\n",
        "-   Wraps the previous function in\n",
        "    `python     def calculate_pi_distributed(nnodes,nbr_samples_in_total)         ...         return estimated_pi`\n",
        "-   `nnodes` will use only `rc[:nnodes]` and split the number of\n",
        "    estimates for each worker nodes into `nnodes` blocks.\n",
        "-   Try it on `1e8` samples and benchmark it on 1 to 8 nodes. (use\n",
        "    [`time`](https://docs.python.org/3/library/time.html#time.time))\n",
        "-   Plot the performance gain over one node and comment the plot.\n",
        "\n",
        "$\\Longrightarrow$ We see a near perfect linear scalability."
      ],
      "id": "4eb537b9-f3ce-4141-bc72-59da65a2e75c"
    }
  ],
  "nbformat": 4,
  "nbformat_minor": 5,
  "metadata": {
    "kernelspec": {
      "name": "python3",
      "display_name": "Python 3 (ipykernel)",
      "language": "python",
      "path": "/nfs/home/collinf/micromamba/envs/miashs-hpc/share/jupyter/kernels/python3"
    },
    "language_info": {
      "name": "python",
      "codemirror_mode": {
        "name": "ipython",
        "version": "3"
      },
      "file_extension": ".py",
      "mimetype": "text/x-python",
      "nbconvert_exporter": "python",
      "pygments_lexer": "ipython3",
      "version": "3.12.5"
    }
  }
}