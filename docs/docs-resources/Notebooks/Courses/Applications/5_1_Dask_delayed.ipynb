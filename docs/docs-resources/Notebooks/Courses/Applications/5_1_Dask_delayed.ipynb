{
  "cells": [
    {
      "cell_type": "markdown",
      "metadata": {},
      "source": [
        "# Dask `delayed` App\n",
        "\n",
        "François-David Collin (CNRS, IMAG, Paul-Valéry Montpellier 3\n",
        "University)  \n",
        "Ghislain Durif (CNRS, LBMC)  \n",
        "Monday, August 26, 2024\n",
        "\n",
        "<img src=\"https://docs.dask.org/en/latest/_images/dask_horizontal.svg\"\n",
        "     align=\"right\"\n",
        "     width=\"30%\"\n",
        "     alt=\"Dask logo\\\">\n",
        "\n",
        "# dask.delayed - parallelize any code\n",
        "\n",
        "What if you don’t have an array or dataframe? Instead of having blocks\n",
        "where the function is applied to each block, you can decorate functions\n",
        "with `@delayed` and *have the functions themselves be lazy*.\n",
        "\n",
        "This is a simple way to use `dask` to parallelize existing codebases or\n",
        "build [complex\n",
        "systems](https://blog.dask.org/2018/02/09/credit-models-with-dask).\n",
        "\n",
        "**Related Documentation**\n",
        "\n",
        "-   [Delayed\n",
        "    documentation](https://docs.dask.org/en/latest/delayed.html)\n",
        "-   [Delayed screencast](https://www.youtube.com/watch?v=SHqFmynRxVU)\n",
        "-   [Delayed API](https://docs.dask.org/en/latest/delayed-api.html)\n",
        "-   [Delayed examples](https://examples.dask.org/delayed.html)\n",
        "-   [Delayed best\n",
        "    practices](https://docs.dask.org/en/latest/delayed-best-practices.html)\n",
        "\n",
        "As we’ll see in the [distributed scheduler\n",
        "notebook](05_distributed.ipynb), Dask has several ways of executing code\n",
        "in parallel. We’ll use the distributed scheduler by creating a\n",
        "`dask.distributed.Client`. For now, this will provide us with some nice\n",
        "diagnostics. We’ll talk about schedulers in depth later.\n",
        "\n",
        "### Iniatilization of the ipyparallel/dask interface"
      ],
      "id": "6af311e2-bfa8-46aa-be73-e8a939d7499a"
    },
    {
      "cell_type": "code",
      "execution_count": 1,
      "metadata": {},
      "outputs": [
        {
          "output_type": "display_data",
          "metadata": {},
          "data": {
            "text/html": [
              "\n",
              "            </details>\n",
              "            </div>\n",
              "        </div>\n",
              "        \n",
              "\n",
              "    </details>\n",
              "</div>\n",
              "            </details>\n",
              "        \n",
              "\n",
              "    </div>\n",
              "</div>"
            ]
          }
        }
      ],
      "source": [
        "from ipyparallel import Client\n",
        "\n",
        "### Force the 8 nodes/1 core layout\n",
        "rc = Client()\n",
        "rc.stop_distributed()\n",
        "client = rc.become_dask()\n",
        "client"
      ],
      "id": "63576d7e"
    },
    {
      "cell_type": "markdown",
      "metadata": {},
      "source": [
        "## A Typical Workflow\n",
        "\n",
        "Typically if a workflow contains a for-loop it can benefit from delayed.\n",
        "The following example outlines a read-transform-write:\n",
        "\n",
        "``` python\n",
        "import dask\n",
        "    \n",
        "@dask.delayed\n",
        "def process_file(filename):\n",
        "    data = read_a_file(filename)\n",
        "    data = do_a_transformation(data)\n",
        "    destination = f\"results/{filename}\"\n",
        "    write_out_data(data, destination)\n",
        "    return destination\n",
        "\n",
        "results = []\n",
        "for filename in filenames:\n",
        "    results.append(process_file(filename))\n",
        "    \n",
        "dask.compute(results)\n",
        "```\n",
        "\n",
        "## Basics\n",
        "\n",
        "First let’s make some toy functions, `inc` and `add`, that sleep for a\n",
        "while to simulate work. We’ll then time running these functions\n",
        "normally.\n",
        "\n",
        "In the next section we’ll parallelize this code."
      ],
      "id": "058c8797-e9fb-452a-8727-55912df4602b"
    },
    {
      "cell_type": "code",
      "execution_count": 2,
      "metadata": {},
      "outputs": [],
      "source": [
        "from time import sleep\n",
        "\n",
        "\n",
        "def inc(x):\n",
        "    sleep(1)\n",
        "    return x + 1\n",
        "\n",
        "\n",
        "def add(x, y):\n",
        "    sleep(1)\n",
        "    return x + y"
      ],
      "id": "5b54bffa"
    },
    {
      "cell_type": "markdown",
      "metadata": {},
      "source": [
        "We time the execution of this normal code using the `%%time` magic,\n",
        "which is a special function of the Jupyter Notebook."
      ],
      "id": "95bb6fc9-d74d-43f3-8d40-2149a7dbd873"
    },
    {
      "cell_type": "code",
      "execution_count": 3,
      "metadata": {},
      "outputs": [
        {
          "output_type": "stream",
          "name": "stdout",
          "text": [
            "CPU times: user 1.72 ms, sys: 65 μs, total: 1.79 ms\n",
            "Wall time: 3 s"
          ]
        }
      ],
      "source": [
        "%%time\n",
        "# This takes three seconds to run because we call each\n",
        "# function sequentially, one after the other\n",
        "\n",
        "x = inc(1)\n",
        "y = inc(2)\n",
        "z = add(x, y) "
      ],
      "id": "79f33cb8"
    },
    {
      "cell_type": "markdown",
      "metadata": {},
      "source": [
        "### Parallelize with the `dask.delayed` decorator\n",
        "\n",
        "Those two increment calls *could* be called in parallel, because they\n",
        "are totally independent of one-another.\n",
        "\n",
        "We’ll make the `inc` and `add` functions lazy using the `dask.delayed`\n",
        "decorator. When we call the delayed version by passing the arguments,\n",
        "exactly as before, the original function isn’t actually called yet -\n",
        "which is why the cell execution finishes very quickly. Instead, a\n",
        "*delayed object* is made, which keeps track of the function to call and\n",
        "the arguments to pass to it."
      ],
      "id": "c468cfe9-8316-46bc-a499-28676b2bb02a"
    },
    {
      "cell_type": "code",
      "execution_count": 4,
      "metadata": {},
      "outputs": [],
      "source": [
        "import dask\n",
        "\n",
        "\n",
        "@dask.delayed\n",
        "def inc(x):\n",
        "    sleep(1)\n",
        "    return x + 1\n",
        "\n",
        "\n",
        "@dask.delayed\n",
        "def add(x, y):\n",
        "    sleep(1)\n",
        "    return x + y"
      ],
      "id": "8fe1497f"
    },
    {
      "cell_type": "code",
      "execution_count": 5,
      "metadata": {},
      "outputs": [
        {
          "output_type": "stream",
          "name": "stdout",
          "text": [
            "CPU times: user 345 μs, sys: 0 ns, total: 345 μs\n",
            "Wall time: 281 μs"
          ]
        }
      ],
      "source": [
        "%%time\n",
        "# This runs immediately, all it does is build a graph\n",
        "\n",
        "x = inc(1)\n",
        "y = inc(2)\n",
        "z = add(x, y)"
      ],
      "id": "fafcb63b"
    },
    {
      "cell_type": "markdown",
      "metadata": {},
      "source": [
        "This ran immediately, since nothing has really happened yet.\n",
        "\n",
        "To get the result, call `compute`. Notice that this runs faster than the\n",
        "original code."
      ],
      "id": "548b77a7-29da-4263-a780-c78c2cfef044"
    },
    {
      "cell_type": "code",
      "execution_count": 6,
      "metadata": {},
      "outputs": [
        {
          "output_type": "stream",
          "name": "stdout",
          "text": [
            "CPU times: user 4.01 ms, sys: 0 ns, total: 4.01 ms\n",
            "Wall time: 2.01 s"
          ]
        },
        {
          "output_type": "display_data",
          "metadata": {},
          "data": {
            "text/plain": [
              "5"
            ]
          }
        }
      ],
      "source": [
        "%%time\n",
        "# This actually runs our computation using a local thread pool\n",
        "\n",
        "z.compute()"
      ],
      "id": "1975e888"
    },
    {
      "cell_type": "markdown",
      "metadata": {},
      "source": [
        "## What just happened?\n",
        "\n",
        "The `z` object is a lazy `Delayed` object. This object holds everything\n",
        "we need to compute the final result, including references to all of the\n",
        "functions that are required and their inputs and relationship to\n",
        "one-another. We can evaluate the result with `.compute()` as above or we\n",
        "can visualize the task graph for this value with `.visualize()`."
      ],
      "id": "0994d182-7db9-4c5a-a9c5-7ab93b3b419b"
    },
    {
      "cell_type": "code",
      "execution_count": 7,
      "metadata": {},
      "outputs": [
        {
          "output_type": "display_data",
          "metadata": {},
          "data": {
            "text/plain": [
              "Delayed('add-d09cc81f-e395-48eb-82e8-159a14304ebf')"
            ]
          }
        }
      ],
      "source": [
        "z"
      ],
      "id": "3d634f20"
    },
    {
      "cell_type": "code",
      "execution_count": 8,
      "metadata": {},
      "outputs": [
        {
          "output_type": "display_data",
          "metadata": {},
          "data": {
            "image/png": "[encoded data removed]"
          }
        }
      ],
      "source": [
        "# Look at the task graph for `z`\n",
        "z.visualize()"
      ],
      "id": "9c1a89b9"
    },
    {
      "cell_type": "markdown",
      "metadata": {},
      "source": [
        "Notice that this includes the names of the functions from before, and\n",
        "the logical flow of the outputs of the `inc` functions to the inputs of\n",
        "`add`.\n",
        "\n",
        "### Some questions to consider:\n",
        "\n",
        "-   Why did we go from 3s to 2s? Why weren’t we able to parallelize down\n",
        "    to 1s?\n",
        "-   What would have happened if the inc and add functions didn’t include\n",
        "    the `sleep(1)`? Would Dask still be able to speed up this code?\n",
        "-   What if we have multiple outputs or also want to get access to x or\n",
        "    y?\n",
        "\n",
        "## Exercise: Parallelize a for loop\n",
        "\n",
        "`for` loops are one of the most common things that we want to\n",
        "parallelize. Use `dask.delayed` on `inc` and `sum` to parallelize the\n",
        "computation below:"
      ],
      "id": "f15a10cb-3212-4bf0-ad43-f7db042db439"
    },
    {
      "cell_type": "code",
      "execution_count": 9,
      "metadata": {},
      "outputs": [],
      "source": [
        "data = [1, 2, 3, 4, 5, 6, 7, 8] "
      ],
      "id": "e989de88"
    },
    {
      "cell_type": "code",
      "execution_count": 10,
      "metadata": {},
      "outputs": [
        {
          "output_type": "stream",
          "name": "stdout",
          "text": [
            "CPU times: user 3.48 ms, sys: 0 ns, total: 3.48 ms\n",
            "Wall time: 8 s"
          ]
        }
      ],
      "source": [
        "%%time\n",
        "# Sequential code\n",
        "\n",
        "\n",
        "def inc(x):\n",
        "    sleep(1)\n",
        "    return x + 1\n",
        "\n",
        "\n",
        "results = []\n",
        "for x in data:\n",
        "    y = inc(x)\n",
        "    results.append(y)\n",
        "\n",
        "total = sum(results)"
      ],
      "id": "157cf7f4"
    },
    {
      "cell_type": "code",
      "execution_count": 11,
      "metadata": {},
      "outputs": [
        {
          "output_type": "display_data",
          "metadata": {},
          "data": {
            "text/plain": [
              "44"
            ]
          }
        }
      ],
      "source": [
        "total"
      ],
      "id": "4fdb48a4"
    },
    {
      "cell_type": "code",
      "execution_count": 12,
      "metadata": {},
      "outputs": [
        {
          "output_type": "stream",
          "name": "stdout",
          "text": [
            "CPU times: user 0 ns, sys: 0 ns, total: 0 ns\n",
            "Wall time: 4.77 μs"
          ]
        }
      ],
      "source": [
        "%%time\n",
        "# Your parallel code here..."
      ],
      "id": "a7eb30ed"
    },
    {
      "cell_type": "markdown",
      "metadata": {},
      "source": [
        "How do the graph visualizations compare with the given solution,\n",
        "compared to a version with the `sum` function used directly rather than\n",
        "wrapped with `delayed`? Can you explain the latter version? You might\n",
        "find the result of the following expression illuminating\n",
        "\n",
        "``` python\n",
        "inc(1) + inc(2)\n",
        "```\n",
        "\n",
        "## Putting it all together with a the producer-consumer pattern\n",
        "\n",
        "## Introduction with a simple producer-consumer example\n",
        "\n",
        "We’ll try to reproduce the producer/consumer code from asynchronous\n",
        "application with `asyncio` or `threading` but with `dask.delayed` and\n",
        "compute\n",
        "\n",
        "``` python\n",
        "from dask import delayed, compute\n",
        "from dask.distributed import Queue, print\n",
        "from time import sleep\n",
        "\n",
        "queue = Queue()\n",
        "...\n",
        "```\n",
        "\n",
        "## Exercise: Parallelize a for-loop code with control flow\n",
        "\n",
        "Often we want to delay only *some* functions, running a few of them\n",
        "immediately. This is especially helpful when those functions are fast\n",
        "and help us to determine what other slower functions we should call.\n",
        "This decision, to delay or not to delay, is usually where we need to be\n",
        "thoughtful when using `dask.delayed`.\n",
        "\n",
        "In the example below we iterate through a list of inputs. If that input\n",
        "is even then we want to call `inc`. If the input is odd then we want to\n",
        "call `double`. This `is_even` decision to call `inc` or `double` has to\n",
        "be made immediately (not lazily) in order for our graph-building Python\n",
        "code to proceed."
      ],
      "id": "63635ba4-47f7-4d25-82db-f0fb93fdd78c"
    },
    {
      "cell_type": "code",
      "execution_count": 18,
      "metadata": {},
      "outputs": [],
      "source": [
        "def double(x):\n",
        "    sleep(1)\n",
        "    return 2 * x\n",
        "\n",
        "def inc(x):\n",
        "    sleep(1)\n",
        "    return x + 1\n",
        "\n",
        "def is_even(x):\n",
        "    return not x % 2\n",
        "\n",
        "\n",
        "data = [1, 2, 3, 4, 5, 6, 7, 8, 9, 10]"
      ],
      "id": "7197691c"
    },
    {
      "cell_type": "code",
      "execution_count": 19,
      "metadata": {},
      "outputs": [
        {
          "output_type": "stream",
          "name": "stdout",
          "text": [
            "90\n",
            "CPU times: user 4.22 ms, sys: 197 μs, total: 4.42 ms\n",
            "Wall time: 10 s"
          ]
        }
      ],
      "source": [
        "%%time\n",
        "# Sequential code\n",
        "\n",
        "results = []\n",
        "for x in data:\n",
        "    if is_even(x):\n",
        "        y = double(x)\n",
        "    else:\n",
        "        y = inc(x)\n",
        "    results.append(y)\n",
        "\n",
        "total = sum(results)\n",
        "print(total)"
      ],
      "id": "42c54c8f"
    },
    {
      "cell_type": "markdown",
      "metadata": {},
      "source": [
        "``` python\n",
        "%%time\n",
        "# Your parallel code here...\n",
        "# TODO: parallelize the sequential code above using dask.delayed\n",
        "# You will need to delay some functions, but not all\n",
        "```\n",
        "\n",
        "### Some questions to consider:\n",
        "\n",
        "-   What are other examples of control flow where we can’t use delayed?\n",
        "\n",
        "-   What would have happened if we had delayed the evaluation of\n",
        "    `is_even(x)` in the example above?\n",
        "\n",
        "-   What are your thoughts on delaying `sum`? This function is both\n",
        "    computational but also fast to run.\n",
        "\n",
        "-   Example of control flow with we can’t use delayed : conditional\n",
        "    loops, recursive functions\n",
        "\n",
        "-   Nothing, we have to compute it immediately for branching\n",
        "\n",
        "-   Delaying sum isn’t worth the graph walk overload\n",
        "\n",
        "## Exercise: Parallelize a Pandas Groupby Reduction\n",
        "\n",
        "In this exercise we read several CSV files and perform a groupby\n",
        "operation in parallel. We are given sequential code to do this and\n",
        "parallelize it with `dask.delayed`.\n",
        "\n",
        "The computation we will parallelize is to compute the mean departure\n",
        "delay per airport from some historical flight data. We will do this by\n",
        "using `dask.delayed` together with `pandas`. In a future section we will\n",
        "do this same exercise with `dask.dataframe`.\n",
        "\n",
        "## Create data\n",
        "\n",
        "Run this code to prep some data.\n",
        "\n",
        "This downloads and extracts some historical flight data for flights out\n",
        "of NYC between 1990 and 2000. The data is originally from\n",
        "[here](http://stat-computing.org/dataexpo/2009/the-data.html)."
      ],
      "id": "19d38a85-d18d-4ee4-8165-4ccb5e1ddea4"
    },
    {
      "cell_type": "code",
      "execution_count": 23,
      "metadata": {},
      "outputs": [
        {
          "output_type": "stream",
          "name": "stdout",
          "text": [
            "- Downloading NYC Flights dataset... done\n",
            "- Extracting flight data... "
          ]
        },
        {
          "output_type": "stream",
          "name": "stderr",
          "text": [
            "/lustre/collinf/miashs-2-advanced-programming-parallel-computing-2024-2025/Courses/Applications/prep.py:66: DeprecationWarning:\n",
            "\n",
            "Python 3.14 will, by default, filter extracted tar archives and reject files or modify their metadata. Use the filter argument to control this behavior.\n"
          ]
        },
        {
          "output_type": "stream",
          "name": "stdout",
          "text": [
            "done\n",
            "- Creating json data... done\n",
            "** Created flights dataset! in 5.74s**"
          ]
        }
      ],
      "source": [
        "import os\n",
        "import requests\n",
        "\n",
        "os.makedirs(\"data\", exist_ok=True)\n",
        "code_url = \"https://raw.githubusercontent.com/dask/dask-tutorial/main/prep.py\"\n",
        "with open(\"prep.py\", \"wb\") as f:\n",
        "    f.write(requests.get(code_url).content)\n",
        "%run prep.py -d flights"
      ],
      "id": "7aed2bb0"
    },
    {
      "cell_type": "markdown",
      "metadata": {},
      "source": [
        "### Inspect data"
      ],
      "id": "d77558e1-eec4-4134-ba7b-4354f87d9263"
    },
    {
      "cell_type": "code",
      "execution_count": 24,
      "metadata": {},
      "outputs": [
        {
          "output_type": "display_data",
          "metadata": {},
          "data": {
            "text/plain": [
              "['1990.csv',\n",
              " '1991.csv',\n",
              " '1992.csv',\n",
              " '1993.csv',\n",
              " '1994.csv',\n",
              " '1995.csv',\n",
              " '1996.csv',\n",
              " '1997.csv',\n",
              " '1998.csv',\n",
              " '1999.csv']"
            ]
          }
        }
      ],
      "source": [
        "sorted(os.listdir(os.path.join(\"data\", \"nycflights\")))"
      ],
      "id": "a7b61479"
    },
    {
      "cell_type": "markdown",
      "metadata": {},
      "source": [
        "### Read one file with `pandas.read_csv` and compute mean departure delay"
      ],
      "id": "e2eedc06-e2ac-4688-8e82-2fb9efe886a1"
    },
    {
      "cell_type": "code",
      "execution_count": 25,
      "metadata": {},
      "outputs": [
        {
          "output_type": "display_data",
          "metadata": {},
          "data": {
            "text/html": [
              "\n",
              "<p>5 rows × 23 columns</p>\n",
              "</div>"
            ]
          }
        }
      ],
      "source": [
        "import pandas as pd\n",
        "\n",
        "df = pd.read_csv(os.path.join(\"data\", \"nycflights\", \"1990.csv\"))\n",
        "df.head()"
      ],
      "id": "604c4ab1"
    },
    {
      "cell_type": "code",
      "execution_count": 26,
      "metadata": {},
      "outputs": [
        {
          "output_type": "display_data",
          "metadata": {},
          "data": {
            "text/plain": [
              "Year                   int64\n",
              "Month                  int64\n",
              "DayofMonth             int64\n",
              "DayOfWeek              int64\n",
              "DepTime              float64\n",
              "CRSDepTime             int64\n",
              "ArrTime              float64\n",
              "CRSArrTime             int64\n",
              "UniqueCarrier         object\n",
              "FlightNum              int64\n",
              "TailNum              float64\n",
              "ActualElapsedTime    float64\n",
              "CRSElapsedTime         int64\n",
              "AirTime              float64\n",
              "ArrDelay             float64\n",
              "DepDelay             float64\n",
              "Origin                object\n",
              "Dest                  object\n",
              "Distance             float64\n",
              "TaxiIn               float64\n",
              "TaxiOut              float64\n",
              "Cancelled              int64\n",
              "Diverted               int64\n",
              "dtype: object"
            ]
          }
        }
      ],
      "source": [
        "# What is the schema?\n",
        "df.dtypes"
      ],
      "id": "7918165b"
    },
    {
      "cell_type": "code",
      "execution_count": 27,
      "metadata": {},
      "outputs": [
        {
          "output_type": "display_data",
          "metadata": {},
          "data": {
            "text/plain": [
              "array(['EWR', 'LGA', 'JFK'], dtype=object)"
            ]
          }
        }
      ],
      "source": [
        "# What originating airports are in the data?\n",
        "df.Origin.unique()"
      ],
      "id": "596d511b"
    },
    {
      "cell_type": "code",
      "execution_count": 28,
      "metadata": {},
      "outputs": [
        {
          "output_type": "display_data",
          "metadata": {},
          "data": {
            "text/plain": [
              "Origin\n",
              "EWR     9.168411\n",
              "JFK    11.857274\n",
              "LGA     8.560045\n",
              "Name: DepDelay, dtype: float64"
            ]
          }
        }
      ],
      "source": [
        "# Mean departure delay per-airport for one year\n",
        "df.groupby(\"Origin\").DepDelay.mean()"
      ],
      "id": "83153ef2"
    },
    {
      "cell_type": "markdown",
      "metadata": {},
      "source": [
        "### Sequential code: Mean Departure Delay Per Airport\n",
        "\n",
        "The above cell computes the mean departure delay per-airport for one\n",
        "year. Here we expand that to all years using a sequential for loop."
      ],
      "id": "b641de90-1819-46fa-81c3-02bbfb6f7006"
    },
    {
      "cell_type": "code",
      "execution_count": 29,
      "metadata": {},
      "outputs": [],
      "source": [
        "from glob import glob\n",
        "\n",
        "filenames = sorted(glob(os.path.join(\"data\", \"nycflights\", \"*.csv\")))"
      ],
      "id": "3cd100bc"
    },
    {
      "cell_type": "code",
      "execution_count": 30,
      "metadata": {},
      "outputs": [
        {
          "output_type": "display_data",
          "metadata": {},
          "data": {
            "text/plain": [
              "['data/nycflights/1990.csv',\n",
              " 'data/nycflights/1991.csv',\n",
              " 'data/nycflights/1992.csv',\n",
              " 'data/nycflights/1993.csv',\n",
              " 'data/nycflights/1994.csv',\n",
              " 'data/nycflights/1995.csv',\n",
              " 'data/nycflights/1996.csv',\n",
              " 'data/nycflights/1997.csv',\n",
              " 'data/nycflights/1998.csv',\n",
              " 'data/nycflights/1999.csv']"
            ]
          }
        }
      ],
      "source": [
        "filenames"
      ],
      "id": "9b3178a6"
    },
    {
      "cell_type": "code",
      "execution_count": 31,
      "metadata": {},
      "outputs": [
        {
          "output_type": "stream",
          "name": "stdout",
          "text": [
            "CPU times: user 3.47 s, sys: 152 ms, total: 3.62 s\n",
            "Wall time: 3.83 s"
          ]
        }
      ],
      "source": [
        "%%time\n",
        "\n",
        "sums = []\n",
        "counts = []\n",
        "for fn in filenames:\n",
        "    # Read in file\n",
        "    df = pd.read_csv(fn)\n",
        "\n",
        "    # Groupby origin airport\n",
        "    by_origin = df.groupby(\"Origin\")\n",
        "\n",
        "    # Sum of all departure delays by origin\n",
        "    total = by_origin.DepDelay.sum()\n",
        "\n",
        "    # Number of flights by origin\n",
        "    count = by_origin.DepDelay.count()\n",
        "\n",
        "    # Save the intermediates\n",
        "    sums.append(total)\n",
        "    counts.append(count)\n",
        "\n",
        "# Combine intermediates to get total mean-delay-per-origin\n",
        "total_delays = sum(sums)\n",
        "n_flights = sum(counts)\n",
        "mean = total_delays / n_flights"
      ],
      "id": "22905793"
    },
    {
      "cell_type": "code",
      "execution_count": 32,
      "metadata": {},
      "outputs": [
        {
          "output_type": "display_data",
          "metadata": {},
          "data": {
            "text/plain": [
              "Origin\n",
              "EWR    10.295469\n",
              "JFK    10.351299\n",
              "LGA     7.431142\n",
              "Name: DepDelay, dtype: float64"
            ]
          }
        }
      ],
      "source": [
        "mean"
      ],
      "id": "cea2edcc"
    },
    {
      "cell_type": "markdown",
      "metadata": {},
      "source": [
        "### Parallelize the code above\n",
        "\n",
        "Use `dask.delayed` to parallelize the code above. Some extra things you\n",
        "will need to know.\n",
        "\n",
        "1.  Methods and attribute access on delayed objects work automatically,\n",
        "    so if you have a delayed object you can perform normal arithmetic,\n",
        "    slicing, and method calls on it and it will produce the correct\n",
        "    delayed calls.\n",
        "\n",
        "2.  Calling the `.compute()` method works well when you have a single\n",
        "    output. When you have multiple outputs you might want to use the\n",
        "    `dask.compute` function. This way Dask can share the intermediate\n",
        "    values.\n",
        "\n",
        "So your goal is to parallelize the code above (which has been copied\n",
        "below) using `dask.delayed`. You may also want to visualize a bit of the\n",
        "computation to see if you’re doing it correctly.\n",
        "\n",
        "``` python\n",
        "%%time\n",
        "# your code here\n",
        "```"
      ],
      "id": "243942ad-807e-4cf3-82ea-f87a6913bfcf"
    },
    {
      "cell_type": "code",
      "execution_count": 34,
      "metadata": {},
      "outputs": [
        {
          "output_type": "display_data",
          "metadata": {},
          "data": {
            "text/plain": [
              "Origin\n",
              "EWR    10.295469\n",
              "JFK    10.351299\n",
              "LGA     7.431142\n",
              "Name: DepDelay, dtype: float64"
            ]
          }
        }
      ],
      "source": [
        "# ensure the results still match\n",
        "mean"
      ],
      "id": "a4af1c46"
    },
    {
      "cell_type": "markdown",
      "metadata": {},
      "source": [
        "### Some questions to consider:\n",
        "\n",
        "-   How much speedup did you get? Is this how much speedup you’d expect?\n",
        "-   Experiment with where to call `compute`. What happens when you call\n",
        "    it on `sums` and `counts`? What happens if you wait and call it on\n",
        "    `mean`?\n",
        "-   Experiment with delaying the call to `sum`. What does the graph look\n",
        "    like if `sum` is delayed? What does the graph look like if it isn’t?\n",
        "-   Can you think of any reason why you’d want to do the reduction one\n",
        "    way over the other?\n",
        "\n",
        "### Learn More\n",
        "\n",
        "Visit the [Delayed\n",
        "documentation](https://docs.dask.org/en/latest/delayed.html). In\n",
        "particular, this [delayed\n",
        "screencast](https://www.youtube.com/watch?v=SHqFmynRxVU) will reinforce\n",
        "the concepts you learned here and the [delayed best\n",
        "practices](https://docs.dask.org/en/latest/delayed-best-practices.html)\n",
        "document collects advice on using `dask.delayed` well.\n",
        "\n",
        "Some improvements by actual parallelization of file reading, but we’re\n",
        "limited by IO throughput.\n",
        "\n",
        "<span class=\"proof-title\">*Solution*. </span>Delaying the sum could be\n",
        "interesting in case to make more balanced loads between tasks.\n",
        "\n",
        "## Close the Client\n",
        "\n",
        "Before moving on to the next exercise, make sure to close your client or\n",
        "stop this kernel."
      ],
      "id": "6bffcbd9-670e-42c7-a4e2-2509db4f1fe7"
    },
    {
      "cell_type": "code",
      "execution_count": 40,
      "metadata": {},
      "outputs": [],
      "source": [
        "client.close()"
      ],
      "id": "62b6a5a5"
    }
  ],
  "nbformat": 4,
  "nbformat_minor": 5,
  "metadata": {
    "kernelspec": {
      "name": "python3",
      "display_name": "Python 3 (ipykernel)",
      "language": "python",
      "path": "/opt/conda/share/jupyter/kernels/python3"
    },
    "language_info": {
      "name": "python",
      "codemirror_mode": {
        "name": "ipython",
        "version": "3"
      },
      "file_extension": ".py",
      "mimetype": "text/x-python",
      "nbconvert_exporter": "python",
      "pygments_lexer": "ipython3",
      "version": "3.12.5"
    }
  }
}