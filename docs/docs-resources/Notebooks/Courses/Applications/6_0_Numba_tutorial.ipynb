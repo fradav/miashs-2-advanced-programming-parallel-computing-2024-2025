{
  "cells": [
    {
      "cell_type": "markdown",
      "metadata": {},
      "source": [
        "# Numba Introduction\n",
        "\n",
        "François-David Collin (CNRS, IMAG, Paul-Valéry Montpellier 3\n",
        "University)  \n",
        "Ghislain Durif (CNRS, LBMC)  \n",
        "Monday, August 26, 2024\n",
        "\n",
        "# Numba Basics\n",
        "\n",
        "Numba is a just-in-time compiler of Python functions. It translates a\n",
        "Python function when it is called into a machine code equivalent that\n",
        "runs anywhere from 2x (simple NumPy operations) to 100x (complex Python\n",
        "loops) faster. In this notebook, we show some basic examples of using\n",
        "Numba."
      ],
      "id": "1761369b-8ed0-4704-a30f-0599ee799c1e"
    },
    {
      "cell_type": "code",
      "execution_count": 1,
      "metadata": {
        "slideshow": {
          "slide_type": "-"
        }
      },
      "outputs": [],
      "source": [
        "import numpy as np\n",
        "import numba\n",
        "from numba import jit"
      ],
      "id": "f0bf1aee"
    },
    {
      "cell_type": "markdown",
      "metadata": {},
      "source": [
        "Let’s check which version of Numba we have:"
      ],
      "id": "3b06f9ba-c08d-4148-bfc6-b180d109ce2f"
    },
    {
      "cell_type": "code",
      "execution_count": 2,
      "metadata": {
        "slideshow": {
          "slide_type": "-"
        }
      },
      "outputs": [],
      "source": [
        "print(numba.__version__)"
      ],
      "id": "d91f3157"
    },
    {
      "cell_type": "markdown",
      "metadata": {},
      "source": [
        "Numba uses Python *decorators* to transform Python functions into\n",
        "functions that compile themselves. The most common Numba decorator is\n",
        "`@jit`, which creates a normal function for execution on the CPU.\n",
        "\n",
        "Numba works best on numerical functions that make use of NumPy arrays.\n",
        "Here’s an example:"
      ],
      "id": "b32ea7de-55e5-4b67-bf34-a59ad6106c41"
    },
    {
      "cell_type": "code",
      "execution_count": 3,
      "metadata": {
        "cell_style": "center",
        "slideshow": {
          "slide_type": "fragment"
        }
      },
      "outputs": [],
      "source": [
        "@jit(nopython=True)\n",
        "def go_fast(a): # Function is compiled to machine code when called the first time\n",
        "    trace = 0.0\n",
        "    # assuming square input matrix\n",
        "    for i in range(a.shape[0]):   # Numba likes loops\n",
        "        trace += np.tanh(a[i, i]) # Numba likes NumPy functions\n",
        "    return a + trace              # Numba likes NumPy broadcasting"
      ],
      "id": "62e62f18"
    },
    {
      "cell_type": "markdown",
      "metadata": {},
      "source": [
        "The `nopython=True` option requires that the function be fully compiled\n",
        "(so that the Python interpreter calls are completely removed), otherwise\n",
        "an exception is raised. These exceptions usually indicate places in the\n",
        "function that need to be modified in order to achieve better-than-Python\n",
        "performance. We strongly recommend always using `nopython=True`.\n",
        "\n",
        "The function has not yet been compiled. To do that, we need to call the\n",
        "function:"
      ],
      "id": "70fb688b-ab43-4c11-99a8-9db83588cf16"
    },
    {
      "cell_type": "code",
      "execution_count": 4,
      "metadata": {
        "slideshow": {
          "slide_type": "-"
        }
      },
      "outputs": [],
      "source": [
        "x = np.arange(100).reshape(10, 10)\n",
        "go_fast(x)"
      ],
      "id": "ae677362"
    },
    {
      "cell_type": "markdown",
      "metadata": {},
      "source": [
        "This first time the function was called, a new version of the function\n",
        "was compiled and executed. If we call it again, the previously generated\n",
        "function executions without another compilation step."
      ],
      "id": "aab005a2-3ad1-4990-9e0b-cefca1a0bcd2"
    },
    {
      "cell_type": "code",
      "execution_count": 5,
      "metadata": {
        "slideshow": {
          "slide_type": "-"
        }
      },
      "outputs": [],
      "source": [
        "go_fast(2*x)"
      ],
      "id": "8cc51c95"
    },
    {
      "cell_type": "markdown",
      "metadata": {},
      "source": [
        "To benchmark Numba-compiled functions, it is important to time them\n",
        "without including the compilation step, since the compilation of a given\n",
        "function will only happen once for each set of input types, but the\n",
        "function will be called many times.\n",
        "\n",
        "In a notebook, the `%timeit` magic function is the best to use because\n",
        "it runs the function many times in a loop to get a more accurate\n",
        "estimate of the execution time of short functions."
      ],
      "id": "feea46a4-8489-47a2-b69e-3e0803eddc69"
    },
    {
      "cell_type": "code",
      "execution_count": 6,
      "metadata": {
        "slideshow": {
          "slide_type": "-"
        }
      },
      "outputs": [],
      "source": [
        "%timeit go_fast(x)"
      ],
      "id": "3ff7b217"
    },
    {
      "cell_type": "markdown",
      "metadata": {},
      "source": [
        "Let’s compare to the uncompiled function. Numba-compiled function have a\n",
        "special `.py_func` attribute which is the original uncompiled Python\n",
        "function. We should first verify we get the same results:"
      ],
      "id": "c657a27d-e9bf-4ff6-8c59-39f1503e79ac"
    },
    {
      "cell_type": "code",
      "execution_count": 7,
      "metadata": {
        "slideshow": {
          "slide_type": "-"
        }
      },
      "outputs": [],
      "source": [
        "print(np.testing.assert_array_equal(go_fast(x), go_fast.py_func(x)))"
      ],
      "id": "d6e60b6e"
    },
    {
      "cell_type": "markdown",
      "metadata": {},
      "source": [
        "And test the speed of the Python version:"
      ],
      "id": "32bba634-c3e3-4fde-958c-770ac9f5e345"
    },
    {
      "cell_type": "code",
      "execution_count": 8,
      "metadata": {
        "slideshow": {
          "slide_type": "-"
        }
      },
      "outputs": [],
      "source": [
        "%timeit go_fast.py_func(x)"
      ],
      "id": "ca90dd7a"
    },
    {
      "cell_type": "markdown",
      "metadata": {},
      "source": [
        "The original Python function is more than 20x slower than the\n",
        "Numba-compiled version. However, the Numba function used explicit loops,\n",
        "which are very fast in Numba and not very fast in Python. Our example\n",
        "function is so simple, we can create an alternate version of `go_fast`\n",
        "using only NumPy array expressions:"
      ],
      "id": "1e61937d-7522-49ab-b3f7-8324278eac0e"
    },
    {
      "cell_type": "code",
      "execution_count": 9,
      "metadata": {
        "slideshow": {
          "slide_type": "fragment"
        }
      },
      "outputs": [],
      "source": [
        "def go_numpy(a):\n",
        "    return a + np.tanh(np.diagonal(a)).sum()"
      ],
      "id": "5a858b4b"
    },
    {
      "cell_type": "code",
      "execution_count": 10,
      "metadata": {
        "slideshow": {
          "slide_type": "fragment"
        }
      },
      "outputs": [],
      "source": [
        "np.testing.assert_array_equal(go_numpy(x), go_fast(x))"
      ],
      "id": "13c009f9"
    },
    {
      "cell_type": "code",
      "execution_count": 11,
      "metadata": {
        "slideshow": {
          "slide_type": "fragment"
        }
      },
      "outputs": [],
      "source": [
        "%timeit go_numpy(x)"
      ],
      "id": "2aed5985"
    },
    {
      "cell_type": "markdown",
      "metadata": {},
      "source": [
        "The NumPy version is more than 2x faster than Python, but still 10x\n",
        "slower than Numba.\n",
        "\n",
        "### Supported Python Features\n",
        "\n",
        "Numba works best when used with NumPy arrays, but Numba also supports\n",
        "other data types out of the box:\n",
        "\n",
        "-   `int`, `float`\n",
        "-   `tuple`, `namedtuple`\n",
        "-   `list` (with some restrictions)\n",
        "-   … and others. See the [Reference\n",
        "    Manual](https://numba.pydata.org/numba-doc/latest/reference/pysupported.html)\n",
        "    for more details.\n",
        "\n",
        "In particular, tuples are useful for returning multiple values from\n",
        "functions:"
      ],
      "id": "38c712ab-b3e4-426f-95f9-db8db7be5dea"
    },
    {
      "cell_type": "code",
      "execution_count": 12,
      "metadata": {
        "slideshow": {
          "slide_type": "subslide"
        }
      },
      "outputs": [],
      "source": [
        "import random\n",
        "\n",
        "@jit(nopython=True)\n",
        "def spherical_to_cartesian(r, theta, phi):\n",
        "    '''Convert spherical coordinates (physics convention) to cartesian coordinates'''\n",
        "    sin_theta = np.sin(theta)\n",
        "    x = r * sin_theta * np.cos(phi)\n",
        "    y = r * sin_theta * np.sin(phi)\n",
        "    z = r * np.cos(theta)\n",
        "    \n",
        "    return x, y, z # return a tuple"
      ],
      "id": "bb6a3e34"
    },
    {
      "cell_type": "code",
      "execution_count": 13,
      "metadata": {
        "slideshow": {
          "slide_type": "subslide"
        }
      },
      "outputs": [],
      "source": [
        "@jit(nopython=True)\n",
        "def random_directions(n, r):\n",
        "    '''Return ``n`` 3-vectors in random directions with radius ``r``'''\n",
        "    out = np.empty(shape=(n,3), dtype=np.float64)\n",
        "    \n",
        "    for i in range(n):\n",
        "        # Pick directions randomly in solid angle\n",
        "        phi = random.uniform(0, 2*np.pi)\n",
        "        theta = np.arccos(random.uniform(-1, 1))\n",
        "        # unpack a tuple\n",
        "        x, y, z = spherical_to_cartesian(r, theta, phi)\n",
        "        out[i] = x, y, z\n",
        "    \n",
        "    return out"
      ],
      "id": "57473371"
    },
    {
      "cell_type": "code",
      "execution_count": 14,
      "metadata": {
        "slideshow": {
          "slide_type": "subslide"
        }
      },
      "outputs": [],
      "source": [
        "random_directions(10, 1.0)"
      ],
      "id": "f9f264e3"
    },
    {
      "cell_type": "markdown",
      "metadata": {},
      "source": [
        "When Numba is translating Python to machine code, it uses the\n",
        "[LLVM](https://llvm.org/) library to do most of the optimization and\n",
        "final code generation. This automatically enables a wide range of\n",
        "optimizations that you don’t even have to think about. If we were to\n",
        "inspect the output of the compiler for the previous random directions\n",
        "example, we would find that:\n",
        "\n",
        "-   The function body for `spherical_to_cartesian()` was inlined\n",
        "    directly into the body of the for loop in `random_directions`,\n",
        "    eliminating the overhead of making a function call.\n",
        "-   The separate calls to `sin()` and `cos()` were combined into a\n",
        "    single, faster call to an internal `sincos()` function.\n",
        "\n",
        "These kinds of cross-function optimizations are one of the reasons that\n",
        "Numba can sometimes outperform compiled NumPy code."
      ],
      "id": "49b938db-c39f-4ec4-81c8-67e53580dea7"
    }
  ],
  "nbformat": 4,
  "nbformat_minor": 5,
  "metadata": {
    "kernelspec": {
      "name": "python3",
      "display_name": "Python 3 (ipykernel)",
      "language": "python",
      "path": "/opt/conda/share/jupyter/kernels/python3"
    },
    "language_info": {
      "name": "python",
      "codemirror_mode": {
        "name": "ipython",
        "version": "3"
      },
      "file_extension": ".py",
      "mimetype": "text/x-python",
      "nbconvert_exporter": "python",
      "pygments_lexer": "ipython3",
      "version": "3.12.5"
    }
  }
}