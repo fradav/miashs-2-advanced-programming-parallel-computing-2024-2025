{
  "cells": [
    {
      "cell_type": "markdown",
      "metadata": {},
      "source": [
        "# GPU computing with Numba (introduction)\n",
        "\n",
        "François-David Collin (CNRS, IMAG, Paul-Valéry Montpellier 3\n",
        "University)  \n",
        "Ghislain Durif (CNRS, LBMC)  \n",
        "Monday, August 26, 2024\n",
        "\n",
        "> “[Numba](https://numba.pydata.org/) is an open source JIT compiler\n",
        "> that translates a subset of Python and NumPy code into fast machine\n",
        "> code.”\n",
        "\n",
        "Numba offers GPU support (through CUDA). See the official\n",
        "[documentation](https://numba.pydata.org/numba-doc/latest/cuda/index.html)\n",
        "or this [NYU course](https://nyu-cds.github.io/python-numba/05-cuda/)\n",
        "\n",
        "## Terminology\n",
        "\n",
        "Several important terms in the topic of CUDA programming are listed\n",
        "here:\n",
        "\n",
        "-   host: the CPU along with the system memory (RAM)\n",
        "\n",
        "-   device: the GPU\n",
        "\n",
        "-   host memory: the system main memory\n",
        "\n",
        "-   device memory: onboard memory on a GPU card\n",
        "\n",
        "-   kernel: a GPU function launched by the host and executed on the\n",
        "    device\n",
        "\n",
        "-   device function: a GPU function executed on the device which can\n",
        "    only be called from the device (i.e. from a kernel or another device\n",
        "    function)\n",
        "\n",
        "## First example: array reduction\n",
        "\n",
        "In our examples: - 128 threads (on 64 CPU cores) to run CPU computing -\n",
        "Nvidia A10 GPU to run GPU computing\n",
        "\n",
        "|  |  |\n",
        "|------------------------------------|------------------------------------|\n",
        "| FP32 | 31.2 teraFLOPS |\n",
        "| TF32 Tensor Core | 62.5 teraFLOPS |\n",
        "| BFLOAT16 Tensor Core | 125 teraFLOPS |\n",
        "| FP16 Tensor Core | 125 teraFLOPS |\n",
        "| INT8 Tensor Core | 250 TOPS |\n",
        "| INT4 Tensor Core | 500 TOPS |\n",
        "| RT Core | 72 RT Cores |\n",
        "| Encode/decode | 1 encoder2 decoder (+AV1 decode) |\n",
        "| GPU memory | 24GB GDDR6 |\n",
        "| GPU memory bandwidth | 600GB/s |\n",
        "| Interconnect | PCIe Gen4 64GB/s |\n",
        "| Form factors | Single-slot, full-height, full-length (FHFL) |\n",
        "| Max thermal design power (TDP) | 150W |\n",
        "| vGPU software support | NVIDIA Virtual PC, NVIDIA Virtual Applications, NVIDIA RTX Virtual Workstation, NVIDIA Virtual Compute Server, NVIDIA AI Enterprise |\n",
        "\n",
        "A10 Technical Specifications and Features\n",
        "\n",
        "### requirements"
      ],
      "id": "8168f8c0-5973-4447-9ba3-920bdd1d6360"
    },
    {
      "cell_type": "code",
      "execution_count": 1,
      "metadata": {},
      "outputs": [],
      "source": [
        "import numpy as np\n",
        "import pandas as pd\n",
        "import plotly.express as px\n",
        "# import matplotlib.pyplot as plt\n",
        "\n",
        "from numba import cuda, set_num_threads\n",
        "import plotly.io as pio\n",
        "pio.renderers.default = \"notebook+plotly_mimetype+svg\"\n",
        "\n",
        "set_num_threads(128)\n",
        "from numba.core.errors import NumbaPerformanceWarning\n",
        "import warnings\n",
        "\n",
        "warnings.simplefilter('ignore', category=NumbaPerformanceWarning)"
      ],
      "id": "20428c0f"
    },
    {
      "cell_type": "markdown",
      "metadata": {},
      "source": [
        "### Reduction algorithm"
      ],
      "id": "3966ea95-1301-46e5-b6d1-a4fd5d44189c"
    },
    {
      "cell_type": "code",
      "execution_count": 2,
      "metadata": {},
      "outputs": [],
      "source": [
        "@cuda.reduce\n",
        "def sum_reduce(a, b):\n",
        "    return a + b"
      ],
      "id": "c1c6f937"
    },
    {
      "cell_type": "markdown",
      "metadata": {},
      "source": [
        "**Attention**: the first call to `sum_reduce` will trigger a compilation\n",
        "step so with Numba operators, we always need to run a blank run first\n",
        "(on small data to avoid high computation time)."
      ],
      "id": "590a83ce-b7f0-4eda-97c1-047ba41d2481"
    },
    {
      "cell_type": "code",
      "execution_count": 3,
      "metadata": {},
      "outputs": [],
      "source": [
        "# blank run\n",
        "A = np.arange(1,10).astype(np.float32)\n",
        "sum_reduce(A)"
      ],
      "id": "a9030b19"
    },
    {
      "cell_type": "markdown",
      "metadata": {},
      "source": [
        "### Toy example"
      ],
      "id": "bb86e32f-b015-4994-83f5-99fd69ad27bd"
    },
    {
      "cell_type": "code",
      "execution_count": 4,
      "metadata": {},
      "outputs": [],
      "source": [
        "# generate a vector array of dimension 1E7 with random float32 elements\n",
        "A = np.random.normal(loc=0, scale=10, size=1000000).astype(np.float32)"
      ],
      "id": "81d0e0bc"
    },
    {
      "cell_type": "code",
      "execution_count": 5,
      "metadata": {},
      "outputs": [],
      "source": [
        "# numpy sum reduction\n",
        "t1 = %timeit -r 5 -n 800 -q -o A.sum()"
      ],
      "id": "06fc2847"
    },
    {
      "cell_type": "code",
      "execution_count": 6,
      "metadata": {},
      "outputs": [],
      "source": [
        "sum_reduce(A)\n",
        "# cuda sum reduction\n",
        "t2 = %timeit -r 5 -n 800 -q -o sum_reduce(A)"
      ],
      "id": "b8506451"
    },
    {
      "cell_type": "markdown",
      "metadata": {},
      "source": [
        "#### Which one is faster ?"
      ],
      "id": "8a051174-d67e-42f2-b9b4-067a9923a2f6"
    },
    {
      "cell_type": "code",
      "execution_count": 7,
      "metadata": {},
      "outputs": [],
      "source": [
        "# numpy sum reduction\n",
        "t1"
      ],
      "id": "475b5a75"
    },
    {
      "cell_type": "code",
      "execution_count": 8,
      "metadata": {},
      "outputs": [],
      "source": [
        "# cuda sum reduction\n",
        "t2"
      ],
      "id": "9d63839c"
    },
    {
      "cell_type": "markdown",
      "metadata": {},
      "source": [
        "#### The GPU is slower????\n",
        "\n",
        "### Benchmark numpy array sum vs cuda sum reduction"
      ],
      "id": "6fd3d2c7-e38d-4944-8232-69f6ec0955cb"
    },
    {
      "cell_type": "code",
      "execution_count": 9,
      "metadata": {},
      "outputs": [],
      "source": [
        "def benchmark1(N):\n",
        "    A = np.random.normal(loc=0, scale=10, size=N).astype(np.float32)\n",
        "    # numpy sum reduction\n",
        "    t1 = %timeit -r 5 -n 10 -q -o A.sum()\n",
        "    # cuda sum reduction\n",
        "    t2 = %timeit -r 5 -n 10 -q -o sum_reduce(A)\n",
        "    # output\n",
        "    return t1.average, t2.average"
      ],
      "id": "698d3a58"
    },
    {
      "cell_type": "markdown",
      "metadata": {},
      "source": [
        "#### Checking increasing vector size"
      ],
      "id": "8a027d70-f921-46d9-bec0-43e68304de72"
    },
    {
      "cell_type": "code",
      "execution_count": 10,
      "metadata": {},
      "outputs": [],
      "source": [
        "# Powers of 2 vector\n",
        "vec_size = [2**exp for exp in range(12,28)]"
      ],
      "id": "d6a4242d"
    },
    {
      "cell_type": "code",
      "execution_count": 11,
      "metadata": {},
      "outputs": [],
      "source": [
        "# check the list size candidates\n",
        "import plotly.express as px\n",
        "\n",
        "px.scatter(y=vec_size,width=600,labels={'y':\"Data length\",'x':\"Vector index\"},log_y=True)"
      ],
      "id": "88734f51"
    },
    {
      "cell_type": "markdown",
      "metadata": {},
      "source": [
        "#### Run the benchmark"
      ],
      "id": "303e428b-0d6a-409e-8f9c-df28a2d4e2d7"
    },
    {
      "cell_type": "code",
      "execution_count": 12,
      "metadata": {},
      "outputs": [],
      "source": [
        "# run the benchmark\n",
        "from tqdm.notebook import tqdm\n",
        "\n",
        "res = []\n",
        "\n",
        "for N in tqdm(vec_size):\n",
        "    \n",
        "    time_res = benchmark1(N)\n",
        "    \n",
        "    res.append({\n",
        "        'N': N,\n",
        "        'numpy': time_res[0],\n",
        "        'cuda': time_res[1]\n",
        "    })"
      ],
      "id": "863382d5"
    },
    {
      "cell_type": "markdown",
      "metadata": {},
      "source": [
        "#### Results"
      ],
      "id": "3ce958d8-a93e-4685-a79c-e6b356223d4e"
    },
    {
      "cell_type": "code",
      "execution_count": 13,
      "metadata": {},
      "outputs": [],
      "source": [
        "df_res = pd.DataFrame(res)\n",
        "px.line(df_res, x='N', y=['numpy', 'cuda'], log_y=True, log_x=True, width=600)"
      ],
      "id": "b87252de"
    },
    {
      "cell_type": "markdown",
      "metadata": {},
      "source": [
        "**It is confirmed!!! Why bother using GPU???**\n",
        "\n",
        "#### Any idea ?\n",
        "\n",
        "### Bottleneck\n",
        "\n",
        "-   Host to device (GPU) memory copy\n",
        "\n",
        "### Solution\n",
        "\n",
        "-   Copy data to device (GPU) before running the computations\n",
        "\n",
        "See Numba dedicated\n",
        "[page](https://numba.pydata.org/numba-doc/latest/cuda/memory.html) for\n",
        "memory management."
      ],
      "id": "50d6c222-14fe-452d-a402-dd69d2997cf8"
    },
    {
      "cell_type": "code",
      "execution_count": 14,
      "metadata": {},
      "outputs": [],
      "source": [
        "def benchmark2(N):\n",
        "    print(f\"sum of {N} elements\")\n",
        "    A = np.random.normal(loc=0, scale=10, size=N).astype(np.float32)\n",
        "    # numpy sum reduction\n",
        "    t1 = %timeit -r 5 -n 10 -q -o A.sum()\n",
        "    # copy data to device\n",
        "    A_gpu = cuda.to_device(A)\n",
        "    # cuda sum reduction\n",
        "    t2 = %timeit -r 5 -n 10 -q -o sum_reduce(A_gpu)\n",
        "    # output\n",
        "    return t1.average, t2.average"
      ],
      "id": "fd43bb62"
    },
    {
      "cell_type": "code",
      "execution_count": 15,
      "metadata": {},
      "outputs": [],
      "source": [
        "# run the benchmark\n",
        "res = []\n",
        "\n",
        "for N in tqdm(vec_size):\n",
        "    \n",
        "    time_res = benchmark2(N)\n",
        "    \n",
        "    res.append({\n",
        "        'N': N,\n",
        "        'numpy': time_res[0],\n",
        "        'cuda': time_res[1]\n",
        "    })"
      ],
      "id": "b839a875"
    },
    {
      "cell_type": "code",
      "execution_count": 16,
      "metadata": {},
      "outputs": [],
      "source": [
        "# results\n",
        "df_res2 = pd.DataFrame(res)\n",
        "px.line(df_res2, x='N', y=['numpy', 'cuda'], log_y=True, log_x=True, width=600)"
      ],
      "id": "c0b34356"
    },
    {
      "cell_type": "markdown",
      "metadata": {},
      "source": [
        "**GPU is better to do high throughput computing with larger matrices.**\n",
        "\n",
        "### GPU memory overflow"
      ],
      "id": "332aee67-39fd-4b65-8f6a-9ccbd32a3590"
    },
    {
      "cell_type": "code",
      "execution_count": 17,
      "metadata": {
        "Note": "GPU memory overflow on small gpu"
      },
      "outputs": [],
      "source": [
        "try:\n",
        "    A = np.random.normal(loc=0, scale=10, size=int(2E9)).astype(np.float32)\n",
        "    sum_reduce(A)\n",
        "except Exception as e:\n",
        "    print(e)"
      ],
      "id": "042d924f"
    },
    {
      "cell_type": "markdown",
      "metadata": {},
      "source": [
        "**To avoid memory overflow:** -\n",
        "[KeOps](https://www.kernel-operations.io/keops/index.html): Kernel\n",
        "Operations (including matrix operations and reduction) on the GPU, with\n",
        "autodiff, without memory overflows"
      ],
      "id": "b2069fdc-d639-4b04-a7f6-60a37dc978d7"
    },
    {
      "cell_type": "code",
      "execution_count": 18,
      "metadata": {},
      "outputs": [],
      "source": [
        "# Note: CPU memory overflow\n",
        "try:\n",
        "    A = np.random.normal(loc=0, scale=10, size=int(1E12)).astype(np.float32)\n",
        "    sum_reduce(A)\n",
        "except Exception as e:\n",
        "    print(e)"
      ],
      "id": "8e70b09c"
    },
    {
      "cell_type": "markdown",
      "metadata": {},
      "source": [
        "### Complex operation on GPU ?\n",
        "\n",
        "$$\\sum_i \\vert x_i \\vert = \\sum_i (-1)^{I_{\\{x_i < 0\\}}} x_i = \\sum_{i,x_i \\geq 0} x_i - \\sum_{i,x_i < 0} x_i$$\n",
        "\n",
        "Example: if $x = [-1, 3, 5, -2]$ then we want to compute $1 + 3 + 5 + 2$"
      ],
      "id": "0d31106a-3371-4fca-9fde-52ab66938620"
    },
    {
      "cell_type": "code",
      "execution_count": 19,
      "metadata": {},
      "outputs": [],
      "source": [
        "# Numpy reduce\n",
        "def numpy_reduce(vec):\n",
        "    return (vec * np.where(vec < 0, -1, 1)).sum()\n",
        "\n",
        "# numba cpu reduce\n",
        "from numba import njit, prange, set_num_threads\n",
        "\n",
        "set_num_threads(8)\n",
        "\n",
        "@njit(parallel=True)\n",
        "def numba_reduce(A):\n",
        "    s = 0\n",
        "    # Without \"parallel=True\" in the jit-decorator\n",
        "    # the prange statement is equivalent to range\n",
        "    for i in prange(A.shape[0]):\n",
        "        if A[i] < 0:\n",
        "            s += -A[i]\n",
        "        else:\n",
        "            s += A[i]\n",
        "    return s\n",
        "\n",
        "# cuda reduce\n",
        "@cuda.reduce\n",
        "def cuda_reduce(a, b):\n",
        "    if b < 0:\n",
        "        return a - b\n",
        "    else:\n",
        "        return a + b\n",
        "    \n",
        "A = np.random.normal(loc=0, scale=10, size=1000).astype(np.float32)\n",
        "numba_reduce(A)\n",
        "cuda_reduce(A)"
      ],
      "id": "2d4f4b02"
    },
    {
      "cell_type": "code",
      "execution_count": 20,
      "metadata": {},
      "outputs": [],
      "source": [
        "# benchmark\n",
        "def benchmark3(N):\n",
        "    print(f\"complex operations on {N} elements\")\n",
        "    A = np.random.normal(loc=0, scale=10, size=N).astype(np.float32)\n",
        "    # numpy reduction\n",
        "    t1 = %timeit -r 2 -n 5 -q -o numpy_reduce(A)\n",
        "    # numba reduction\n",
        "    t2 = %timeit -r 2 -n 5 -q -o numba_reduce(A)\n",
        "    # cuda reduction\n",
        "    A_gpu = cuda.to_device(A)\n",
        "    t3 = %timeit -r 2 -n 5 -q -o cuda_reduce(A_gpu)\n",
        "    # output\n",
        "    return t1.average, t2.average, t3.average"
      ],
      "id": "658f0e92"
    },
    {
      "cell_type": "code",
      "execution_count": 21,
      "metadata": {},
      "outputs": [],
      "source": [
        "# run the benchmark\n",
        "res = []\n",
        "resspeedup = []\n",
        "for N in tqdm(vec_size):\n",
        "    \n",
        "    time_res = benchmark3(N)\n",
        "    \n",
        "    res.append({\n",
        "        'N': N,\n",
        "        'numpy': time_res[0],\n",
        "        'numba_128c': time_res[1],\n",
        "        'cuda': time_res[2],\n",
        "    })\n",
        "    resspeedup.append({\n",
        "        'N': N,\n",
        "        'numpy/numba': time_res[0]/time_res[1],\n",
        "        'numpy/cuda': time_res[0]/time_res[2]\n",
        "    })"
      ],
      "id": "c32cdc8e"
    },
    {
      "cell_type": "code",
      "execution_count": 22,
      "metadata": {},
      "outputs": [],
      "source": [
        "# results\n",
        "df_res = pd.DataFrame(res)\n",
        "fig = px.line(df_res, x='N', y=['numpy', 'numba_128c', 'cuda'], log_y=True, log_x=True, width=600)\n",
        "fig.show()\n",
        "df_resspeedup = pd.DataFrame(resspeedup)\n",
        "fig = px.line(df_resspeedup, x='N', y=['numpy/numba', 'numpy/cuda'], log_y=True, log_x=True, width=600)\n",
        "fig.show()"
      ],
      "id": "ad8e3a72"
    },
    {
      "cell_type": "markdown",
      "metadata": {},
      "source": [
        "## Numba for GPU: next level\n",
        "\n",
        "### GPU management"
      ],
      "id": "f6907435-4338-41c8-8be7-c473f70ff568"
    },
    {
      "cell_type": "code",
      "execution_count": 23,
      "metadata": {},
      "outputs": [],
      "source": [
        "# to check available GPU\n",
        "from numba import cuda\n",
        "for gpu in cuda.list_devices():\n",
        "    print(gpu.name)\n",
        "    \n",
        "cuda.get_current_device().name"
      ],
      "id": "9492909a"
    },
    {
      "cell_type": "markdown",
      "metadata": {},
      "source": [
        "### Kernel declaration\n",
        "\n",
        "kernel function = GPU function meant to be called from CPU code\n",
        "\n",
        "Characteristics: - kernels **cannot explicitly return a value** (all\n",
        "result data must be written to an array passed to the function) -\n",
        "kernels **explicitly declare their thread hierarchy when called**:\n",
        "i.e. the number of thread blocks and the number of threads per block\n",
        "\n",
        "**Attention**: Kernel function are compiled on their first call, we\n",
        "always need to run a blank run first (on small data to avoid high\n",
        "computation time)."
      ],
      "id": "bb83cb51-014c-4a8e-be75-0a25402d2236"
    },
    {
      "cell_type": "code",
      "execution_count": 24,
      "metadata": {},
      "outputs": [],
      "source": [
        "from numba import cuda\n",
        "\n",
        "@cuda.jit\n",
        "def my_kernel(io_array):\n",
        "    \"\"\"\n",
        "    Code for kernel.\n",
        "    \"\"\"\n",
        "    # code here"
      ],
      "id": "1bfce648"
    },
    {
      "cell_type": "code",
      "execution_count": 25,
      "metadata": {},
      "outputs": [],
      "source": [
        "import numpy\n",
        "\n",
        "# Create the data array - usually initialized some other way\n",
        "data = numpy.ones(256)\n",
        "\n",
        "# Set the number of threads in a block\n",
        "threadsperblock = 32 \n",
        "\n",
        "# Calculate the number of thread blocks in the grid\n",
        "blockspergrid = (data.size + (threadsperblock - 1)) // threadsperblock\n",
        "\n",
        "# Now start the kernel\n",
        "my_kernel[blockspergrid, threadsperblock](data)\n",
        "\n",
        "# Print the result\n",
        "print(data)"
      ],
      "id": "b5b3fe63"
    },
    {
      "cell_type": "markdown",
      "metadata": {},
      "source": [
        "**Important**: you have to choose the number of blocks per grid (and\n",
        "hence the block size) and the number of threads per block. The product\n",
        "of the two will give the total number of threads launched.\n",
        "\n",
        "### Choosing the block size\n",
        "\n",
        "[Credit](https://nyu-cds.github.io/python-numba/05-cuda/)\n",
        "\n",
        "The two-level thread hierarchy is important for the following reasons:\n",
        "\n",
        "-   On the software side, the block size determines how many threads\n",
        "    share a given area of shared memory.\n",
        "-   On the hardware side, the block size must be large enough for full\n",
        "    occupation of execution units; recommendations can be found in the\n",
        "    CUDA C Programming Guide.\n",
        "\n",
        "The block size you choose depends on a range of factors, including:\n",
        "\n",
        "-   The size of the data array\n",
        "-   The size of the shared mempory per block (e.g. 64KB)\n",
        "-   The maximum number of threads per block supported by the hardware\n",
        "    (e.g. 512 or 1024)\n",
        "-   The maximum number of threads per multiprocessor (MP) (e.g. 2048)\n",
        "-   The maximum number of blocks per MP (e.g. 32)\n",
        "-   The number of threads that can be executed concurrently (a “warp”\n",
        "    i.e. 32)\n",
        "\n",
        "The execution of threads in a warp has a big effect on the computational\n",
        "throughput. If all threads in a warp are executing the same instruction\n",
        "then they can all be executed in parallel. But if one or more threads is\n",
        "executing a different instruction, the warp has to be split into groups\n",
        "of threads, and these groups execute serially.\n",
        "\n",
        "**Rules of thumb for threads per block:**\n",
        "\n",
        "-   Should be a round multiple of the warp size (32)\n",
        "-   A good place to start is 128-512 but benchmarking is required to\n",
        "    determine the optimal value.\n",
        "\n",
        "Each streaming multiprocessor (SP) on the GPU must have enough active\n",
        "warps to achieve maximum throughput. In other words, the blocksize is\n",
        "usually selected to maximize the “occupancy”. See the [CUDA Occupancy\n",
        "Calculator\n",
        "spreadsheet](http://developer.download.nvidia.com/compute/cuda/CUDA_Occupancy_calculator.xls)for\n",
        "more details.\n",
        "\n",
        "### Thread positioning\n",
        "\n",
        "[Credit](https://nyu-cds.github.io/python-numba/05-cuda/)\n",
        "\n",
        "When running a kernel, the kernel function’s code is executed by every\n",
        "thread once. It therefore has to know which thread it is in, in order to\n",
        "know which array element(s) it is responsible for. More complex\n",
        "algorithms may define more complex responsibilities, but the underlying\n",
        "principle is the same.\n",
        "\n",
        "To help deal with multi-dimensional arrays, CUDA allows you to specify\n",
        "multi-dimensional blocks and grids. In the example above, you could make\n",
        "blockspergrid and threadsperblock tuples of one, two or three integers.\n",
        "Compared to 1-dimensional declarations of equivalent sizes, this doesn’t\n",
        "change anything to the efficiency or behaviour of generated code, but\n",
        "can help you write your algorithms in a more natural way.\n",
        "\n",
        "### Matrix product\n",
        "\n",
        "Numpy version for comparison"
      ],
      "id": "0e88fc18-d400-4a7d-8da0-7bea1ae19de9"
    },
    {
      "cell_type": "code",
      "execution_count": 26,
      "metadata": {},
      "outputs": [],
      "source": [
        "# numpy version\n",
        "def numpy_matmul(A, B):\n",
        "    C = np.matmul(A, B)\n",
        "    return C"
      ],
      "id": "33efa081"
    },
    {
      "cell_type": "markdown",
      "metadata": {},
      "source": [
        "#### Naive cuda version"
      ],
      "id": "0b5f9c9d-04aa-441d-b6aa-348cc841bd3a"
    },
    {
      "cell_type": "code",
      "execution_count": 27,
      "metadata": {},
      "outputs": [],
      "source": [
        "@cuda.jit\n",
        "def cuda_matmul(A, B, C):\n",
        "    \"\"\"Perform matrix multiplication of C = A * B\n",
        "    \"\"\"\n",
        "    row, col = cuda.grid(2)\n",
        "    if row < C.shape[0] and col < C.shape[1]:\n",
        "        tmp = 0.\n",
        "        for k in range(A.shape[1]):\n",
        "            tmp += A[row, k] * B[k, col]\n",
        "        C[row, col] = tmp"
      ],
      "id": "b18f18c4"
    },
    {
      "cell_type": "markdown",
      "metadata": {},
      "source": [
        "![](attachment:../figs/matmul.png)\n",
        "[Credit](https://nyu-cds.github.io/python-numba/05-cuda/)\n",
        "\n",
        "#### Run"
      ],
      "attachments": {
        "../figs/matmul.png": {
          "image/png": "[encoded data removed]"
        }
      },
      "id": "a3b4fc87-6512-4675-9bee-a1742dca9555"
    },
    {
      "cell_type": "code",
      "execution_count": 28,
      "metadata": {},
      "outputs": [],
      "source": [
        "# data 1000x1000 matrix\n",
        "A = np.random.normal(loc=0, scale=10, size=1000**2).astype(np.float32).reshape((1000,1000))\n",
        "B = np.random.normal(loc=0, scale=10, size=1000**2).astype(np.float32).reshape((1000,1000))"
      ],
      "id": "3c782f07"
    },
    {
      "cell_type": "code",
      "execution_count": 29,
      "metadata": {},
      "outputs": [],
      "source": [
        "# numpy run\n",
        "%timeit -r 5 -n 20 -q -o numpy_matmul(A, B)"
      ],
      "id": "455ac73d"
    },
    {
      "cell_type": "code",
      "execution_count": 30,
      "metadata": {},
      "outputs": [],
      "source": [
        "# Copy the arrays to the device\n",
        "A_gpu = cuda.to_device(A)\n",
        "B_gpu = cuda.to_device(B)\n",
        "\n",
        "# Allocate memory on the device for the result\n",
        "C_gpu = cuda.device_array((24, 22))"
      ],
      "id": "74961067"
    },
    {
      "cell_type": "code",
      "execution_count": 31,
      "metadata": {},
      "outputs": [],
      "source": [
        "# Configure the blocks\n",
        "import math\n",
        "threadsperblock = (16, 16)\n",
        "blockspergrid_x = int(math.ceil(A.shape[0] / threadsperblock[0]))\n",
        "blockspergrid_y = int(math.ceil(B.shape[1] / threadsperblock[1]))\n",
        "blockspergrid = (blockspergrid_x, blockspergrid_y)"
      ],
      "id": "72128cab"
    },
    {
      "cell_type": "code",
      "execution_count": 32,
      "metadata": {},
      "outputs": [],
      "source": [
        "#\n",
        "# CUDA matrix multiplication\n",
        "#\n",
        "@cuda.jit\n",
        "def cuda_matmul1(A, B, C):\n",
        "    \"\"\"Perform square matrix multiplication of C = A * B\n",
        "    \"\"\"\n",
        "    i, j = cuda.grid(2)\n",
        "    if i < C.shape[0] and j < C.shape[1]:\n",
        "        tmp = 0.\n",
        "        for k in range(A.shape[1]):\n",
        "            tmp += A[i, k] * B[k, j]\n",
        "        C[i, j] = tmp"
      ],
      "id": "9e692275"
    },
    {
      "cell_type": "code",
      "execution_count": 33,
      "metadata": {},
      "outputs": [],
      "source": [
        "# cuda run\n",
        "%timeit -r 5 -n 20 -q -o cuda_matmul1[blockspergrid, threadsperblock](A_gpu, B_gpu, C_gpu)"
      ],
      "id": "a8ff77ef"
    },
    {
      "cell_type": "code",
      "execution_count": 34,
      "metadata": {},
      "outputs": [],
      "source": [
        "# get the result from the GPU\n",
        "C = C_gpu.copy_to_host()"
      ],
      "id": "c8f94739"
    },
    {
      "cell_type": "code",
      "execution_count": 35,
      "metadata": {},
      "outputs": [],
      "source": [
        "from numba import cuda, float32\n",
        "\n",
        "# Controls threads per block and shared memory usage.\n",
        "# The computation will be done on blocks of TPBxTPB elements.\n",
        "TPB = 16\n",
        "\n",
        "@cuda.jit\n",
        "def cuda_fast_matmul(A, B, C):\n",
        "    # Define an array in the shared memory\n",
        "    # The size and type of the arrays must be known at compile time\n",
        "    sA = cuda.shared.array(shape=(TPB, TPB), dtype=float32)\n",
        "    sB = cuda.shared.array(shape=(TPB, TPB), dtype=float32)\n",
        "\n",
        "    x, y = cuda.grid(2)\n",
        "\n",
        "    tx = cuda.threadIdx.x\n",
        "    ty = cuda.threadIdx.y\n",
        "    bpg = cuda.gridDim.x    # blocks per grid\n",
        "\n",
        "    if x >= C.shape[0] and y >= C.shape[1]:\n",
        "        # Quit if (x, y) is outside of valid C boundary\n",
        "        return\n",
        "\n",
        "    # Each thread computes one element in the result matrix.\n",
        "    # The dot product is chunked into dot products of TPB-long vectors.\n",
        "    tmp = 0.\n",
        "    for i in range(bpg):\n",
        "        # Preload data into shared memory\n",
        "        sA[tx, ty] = A[x, ty + i * TPB]\n",
        "        sB[tx, ty] = B[tx + i * TPB, y]\n",
        "\n",
        "        # Wait until all threads finish preloading\n",
        "        cuda.syncthreads()\n",
        "\n",
        "        # Computes partial product on the shared memory\n",
        "        for j in range(TPB):\n",
        "            tmp += sA[tx, j] * sB[j, ty]\n",
        "\n",
        "        # Wait until all threads finish computing\n",
        "        cuda.syncthreads()\n",
        "\n",
        "    C[x, y] = tmp"
      ],
      "id": "863294c0"
    },
    {
      "cell_type": "code",
      "execution_count": 36,
      "metadata": {},
      "outputs": [],
      "source": [
        "# Configure the blocks\n",
        "threadsperblock = (TPB, TPB)\n",
        "blockspergrid_x = int(math.ceil(A.shape[0] / threadsperblock[1]))\n",
        "blockspergrid_y = int(math.ceil(B.shape[1] / threadsperblock[0]))\n",
        "blockspergrid = (blockspergrid_x, blockspergrid_y)\n",
        "\n",
        "# Start the kernel \n",
        "%timeit -r 5 -n 20 -q -o cuda_fast_matmul[blockspergrid, threadsperblock](A_gpu, B_gpu, C_gpu)"
      ],
      "id": "19f80194"
    }
  ],
  "nbformat": 4,
  "nbformat_minor": 5,
  "metadata": {
    "kernelspec": {
      "name": "python3",
      "display_name": "Python 3 (ipykernel)",
      "language": "python",
      "path": "/home/fradav/.micromamba/envs/miashs-hpc/share/jupyter/kernels/python3"
    },
    "language_info": {
      "name": "python",
      "codemirror_mode": {
        "name": "ipython",
        "version": "3"
      },
      "file_extension": ".py",
      "mimetype": "text/x-python",
      "nbconvert_exporter": "python",
      "pygments_lexer": "ipython3",
      "version": "3.12.6"
    }
  }
}