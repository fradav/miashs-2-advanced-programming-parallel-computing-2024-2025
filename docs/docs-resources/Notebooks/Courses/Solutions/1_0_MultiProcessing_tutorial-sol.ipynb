{
  "cells": [
    {
      "cell_type": "markdown",
      "metadata": {},
      "source": [
        "# Multiprocessing in Python 3\n",
        "\n",
        "Introduction to the `multiprocessing` module\n",
        "\n",
        "François-David Collin (CNRS, IMAG, Paul-Valéry Montpellier 3\n",
        "University)  \n",
        "Ghislain Durif (CNRS, LBMC)  \n",
        "Monday, August 26, 2024\n",
        "\n",
        "# Multiprocessing in Python 3\n",
        "\n",
        "## Threads vs Processes\n",
        "\n",
        "-   Thread\n",
        "    -   Is bound to processor that python process running on\n",
        "    -   Is controlled by Global Interpreter Lock (GIL)\n",
        "        -   Single python bytecode executed at a time by any thread\n",
        "-   Process\n",
        "    -   Uses multiple processors\n",
        "    -   Concurrency between threads and processes (local and remote)\n",
        "    -   Ignores GIL"
      ],
      "id": "daa30623-1ed0-4383-861f-540c230072ac"
    },
    {
      "cell_type": "code",
      "execution_count": 2,
      "metadata": {
        "slideshow": {
          "slide_type": "slide"
        }
      },
      "outputs": [],
      "source": [
        "from os import getpid, getppid\n",
        "from time import sleep\n",
        "\n",
        "def printer(val, wait=0):\n",
        "    sleep(wait)\n",
        "    print('Pid: {}, PPid: {}, Value: {}'\n",
        "          .format(getpid(), getppid(), val))"
      ],
      "id": "74981aa1"
    },
    {
      "cell_type": "markdown",
      "metadata": {},
      "source": [
        "## Process Instantiation\n",
        "\n",
        "Let’s start with most basic example of spawning new process to run a\n",
        "function"
      ],
      "id": "22b14eee-e49a-4697-9d23-2b6f9d65669d"
    },
    {
      "cell_type": "code",
      "execution_count": 3,
      "metadata": {
        "slideshow": {
          "slide_type": ""
        }
      },
      "outputs": [
        {
          "output_type": "stream",
          "name": "stdout",
          "text": [
            "Starting demo..."
          ]
        }
      ],
      "source": [
        "from multiprocessing import Process\n",
        "\n",
        "print('Starting demo...')\n",
        "p = Process(target=printer, args=('hello demo',))\n",
        "p.start()"
      ],
      "id": "c87e47fc"
    },
    {
      "cell_type": "markdown",
      "metadata": {},
      "source": [
        "### Process timing\n",
        "\n",
        "-   Use printer’s delay to see process timing\n",
        "-   Track multiple process objects\n",
        "-   Execute code in main process while chile process is running\n",
        "-   Use Process.join() to wait for processes to finish"
      ],
      "id": "3920e466-cedb-41bd-81eb-4966f49b6203"
    },
    {
      "cell_type": "code",
      "execution_count": 4,
      "metadata": {
        "slideshow": {
          "slide_type": "subslide"
        }
      },
      "outputs": [
        {
          "output_type": "stream",
          "name": "stdout",
          "text": [
            "Pid: 187363, PPid: 187329, Value: immediate\n",
            "Not waiting for proccesses to finish...\n",
            "Pid: 187365, PPid: 187329, Value: delayed\n",
            "Pid: 187369, PPid: 187329, Value: eternity\n",
            "After processes..."
          ]
        }
      ],
      "source": [
        "proc_list = []\n",
        "for values in [('immediate', 0), ('delayed', 2), ('eternity', 5)]:\n",
        "    p = Process(target=printer, args=values)\n",
        "    proc_list.append(p)\n",
        "    p.start()  # start execution of printer\n",
        "\n",
        "print('Not waiting for proccesses to finish...')\n",
        "    \n",
        "[p.join() for p in proc_list]\n",
        "\n",
        "print('After processes...')"
      ],
      "id": "0cf08cc1"
    },
    {
      "cell_type": "markdown",
      "metadata": {},
      "source": [
        "## Process Pool\n",
        "\n",
        "-   Worker processes instead of direct instantiation\n",
        "-   Context manager to handle starting/joining child processes\n",
        "-   Pool.map() works like default python `map(f, args)` function\n",
        "-   Pool.map() Does not unpack args"
      ],
      "id": "6d31861e-8314-4c3c-86f5-4d5a2355108c"
    },
    {
      "cell_type": "code",
      "execution_count": 5,
      "metadata": {
        "slideshow": {
          "slide_type": "subslide"
        }
      },
      "outputs": [
        {
          "output_type": "stream",
          "name": "stdout",
          "text": [
            "Pid: 187379, PPid: 187329, Value: ('A', 5)Pid: 187378, PPid: 187329, Value: ItsPid: 187380, PPid: 187329, Value: Race\n",
            "\n"
          ]
        }
      ],
      "source": [
        "from multiprocessing.pool import Pool\n",
        "\n",
        "with Pool(3) as pool:\n",
        "    pool.map(printer, ['Its', ('A', 5), 'Race'])\n",
        "    # each worker process executes one function"
      ],
      "id": "dc516548"
    },
    {
      "cell_type": "markdown",
      "metadata": {},
      "source": [
        "## Process + args/kwargs iteration with starmap"
      ],
      "id": "53b7ee4c-1071-4442-b363-0be1bc074c4b"
    },
    {
      "cell_type": "code",
      "execution_count": 6,
      "metadata": {
        "slideshow": {
          "slide_type": "fragment"
        }
      },
      "outputs": [
        {
          "output_type": "stream",
          "name": "stdout",
          "text": [
            "Pid: 187396, PPid: 187329, Value: Its\n",
            "Pid: 187396, PPid: 187329, Value: Race\n",
            "Pid: 187397, PPid: 187329, Value: A"
          ]
        }
      ],
      "source": [
        "with Pool(2) as pool:\n",
        "    pool.starmap(printer, [('Its',), ('A', 2), ('Race',)])\n",
        "    # one worker will execute 2 functions, one worker will execute the 'slow' function"
      ],
      "id": "f33730a7"
    },
    {
      "cell_type": "markdown",
      "metadata": {},
      "source": [
        "## Thread Pool"
      ],
      "id": "47908f98-4588-48c1-ba46-daa47e05fbd5"
    },
    {
      "cell_type": "code",
      "execution_count": 7,
      "metadata": {},
      "outputs": [
        {
          "output_type": "stream",
          "name": "stdout",
          "text": [
            "Pid: 187329, PPid: 187327, Value: Its\n",
            "Pid: 187329, PPid: 187327, Value: A\n",
            "Pid: 187329, PPid: 187327, Value: Race"
          ]
        }
      ],
      "source": [
        "from multiprocessing.pool import ThreadPool\n",
        "\n",
        "# Threadpool instead of process pool, same interface\n",
        "with ThreadPool(2) as pool:\n",
        "    pool.starmap(printer, [('Its', 5), ('A', 10), ('Race', 15)])"
      ],
      "id": "3cca6c2e"
    },
    {
      "cell_type": "markdown",
      "metadata": {},
      "source": [
        "## Starmap is the bomb"
      ],
      "id": "e428da7f-4ab1-45c4-9800-ff8ebf43a143"
    },
    {
      "cell_type": "code",
      "execution_count": 8,
      "metadata": {
        "slideshow": {
          "slide_type": "fragment"
        }
      },
      "outputs": [],
      "source": [
        "def pretend_delete_method(provider, vm_name):\n",
        "    print('Pretend delete: {} on {}. (Pid: {})'\n",
        "          .format(vm_name, provider, getpid()))    \n",
        "    \n",
        "# Assuming we fetched a list of vm names on providers we want to cleanup...\n",
        "example_provider_vm_lists = dict(\n",
        "    vmware=['test_vm_1', 'test_vm_2'],\n",
        "    rhv=['test_vm_3', 'test_vm_4'],\n",
        "    osp=['test_vm_5', 'test_vm_6'],\n",
        ")"
      ],
      "id": "e0eca737"
    },
    {
      "cell_type": "code",
      "execution_count": 9,
      "metadata": {
        "slideshow": {
          "slide_type": "subslide"
        }
      },
      "outputs": [
        {
          "output_type": "stream",
          "name": "stdout",
          "text": [
            "Pretend delete: test_vm_1 on vmware. (Pid: 187329)\n",
            "Pretend delete: test_vm_2 on vmware. (Pid: 187329)\n",
            "Pretend delete: test_vm_3 on rhv. (Pid: 187329)\n",
            "Pretend delete: test_vm_4 on rhv. (Pid: 187329)\n",
            "Pretend delete: test_vm_5 on osp. (Pid: 187329)\n",
            "Pretend delete: test_vm_6 on osp. (Pid: 187329)"
          ]
        }
      ],
      "source": [
        "# don't hate me for nested comprehension here - building tuples of provider+name\n",
        "from multiprocessing.pool import ThreadPool\n",
        "\n",
        "# Threadpool instead of process pool, same interface\n",
        "with ThreadPool(6) as pool:\n",
        "    pool.starmap(\n",
        "        pretend_delete_method, \n",
        "        [(key, vm) \n",
        "         for key, vms \n",
        "         in example_provider_vm_lists.items() \n",
        "         for vm in vms]\n",
        "    )"
      ],
      "id": "a013273d"
    },
    {
      "cell_type": "markdown",
      "metadata": {},
      "source": [
        "## Locking\n",
        "\n",
        "-   semaphore-type object that can be acquired and released\n",
        "-   When acquired, only thread that has the lock can run\n",
        "-   Necessary when using shared objects"
      ],
      "id": "793c7d5d-a76f-4a2d-8587-6ac8e7abb393"
    },
    {
      "cell_type": "code",
      "execution_count": 10,
      "metadata": {
        "slideshow": {
          "slide_type": "subslide"
        }
      },
      "outputs": [],
      "source": [
        "def not_safe_printing_method(provider, vm_name):\n",
        "        print('Pretend delete: {} on {}. (Pid: {})'\n",
        "              .format(vm_name, provider, getpid()))"
      ],
      "id": "92bb5143"
    },
    {
      "cell_type": "code",
      "execution_count": 11,
      "metadata": {
        "slideshow": {
          "slide_type": "fragment"
        }
      },
      "outputs": [
        {
          "output_type": "stream",
          "name": "stdout",
          "text": [
            "Pretend delete: test_vm_1 on vmware. (Pid: 187431)Pretend delete: test_vm_2 on vmware. (Pid: 187432)Pretend delete: test_vm_4 on rhv. (Pid: 187434)Pretend delete: test_vm_5 on osp. (Pid: 187435)Pretend delete: test_vm_3 on rhv. (Pid: 187433)Pretend delete: test_vm_6 on osp. (Pid: 187436)\n",
            "\n",
            "\n",
            "\n",
            "\n"
          ]
        }
      ],
      "source": [
        "with Pool(6) as pool:\n",
        "    pool.starmap(\n",
        "        not_safe_printing_method, \n",
        "        [(key, vm) for key, vms in example_provider_vm_lists.items() for vm in vms])"
      ],
      "id": "5e6d4ebb"
    },
    {
      "cell_type": "code",
      "execution_count": 12,
      "metadata": {
        "slideshow": {
          "slide_type": "subslide"
        }
      },
      "outputs": [],
      "source": [
        "# Printing is thread safe, but will sometimes print separate messages on the same line (above)\n",
        "# Use a lock around print\n",
        "from multiprocessing import Lock\n",
        "\n",
        "lock = Lock()\n",
        "\n",
        "def safe_printing_method(provider, vm_name):\n",
        "    with lock:\n",
        "        print('Pretend delete: {} on {}. (Pid: {})'\n",
        "              .format(vm_name, provider, getpid()))"
      ],
      "id": "3ee9ddcb"
    },
    {
      "cell_type": "code",
      "execution_count": 13,
      "metadata": {
        "slideshow": {
          "slide_type": "fragment"
        }
      },
      "outputs": [
        {
          "output_type": "stream",
          "name": "stdout",
          "text": [
            "Pretend delete: test_vm_1 on vmware. (Pid: 187464)\n",
            "Pretend delete: test_vm_2 on vmware. (Pid: 187465)\n",
            "Pretend delete: test_vm_3 on rhv. (Pid: 187466)\n",
            "Pretend delete: test_vm_4 on rhv. (Pid: 187467)\n",
            "Pretend delete: test_vm_5 on osp. (Pid: 187468)\n",
            "Pretend delete: test_vm_6 on osp. (Pid: 187469)"
          ]
        }
      ],
      "source": [
        "with Pool(6) as pool:\n",
        "    pool.starmap(\n",
        "        safe_printing_method, \n",
        "        [(key, vm) for key, vms in example_provider_vm_lists.items() for vm in vms])"
      ],
      "id": "d3cf7949"
    },
    {
      "cell_type": "markdown",
      "metadata": {},
      "source": [
        "# Queues\n",
        "\n",
        "-   Store data/objects in child thread/processes and retrieve in parent\n",
        "-   FIFO stack with put, get, and empty methods"
      ],
      "id": "82509881-af5b-43bf-9110-afd32f190f58"
    },
    {
      "cell_type": "code",
      "execution_count": 14,
      "metadata": {},
      "outputs": [
        {
          "output_type": "stream",
          "name": "stdout",
          "text": [
            "Members of the queue:\n",
            "0 1 2 3 \n",
            "Size of the queue:\n",
            "4"
          ]
        }
      ],
      "source": [
        "# Standard Queue\n",
        "import queue\n",
        "q = queue.Queue()\n",
        "for x in range(4):\n",
        "    q.put(x)\n",
        "print(\"Members of the queue:\")\n",
        "y=z=q.qsize()\n",
        "\n",
        "for n in list(q.queue):\n",
        "    print(n, end=\" \")\n",
        "print(\"\\nSize of the queue:\")\n",
        "print(q.qsize())"
      ],
      "id": "f9df283b"
    },
    {
      "cell_type": "markdown",
      "metadata": {},
      "source": [
        "# Reminder on python serialization : “Pickling”\n",
        "\n",
        "So what is pickling? Pickling is the serializing and de-serializing of\n",
        "python objects to a byte stream. Unpicking is the opposite.\n",
        "\n",
        "Pickling is used to store python objects. This means things like lists,\n",
        "dictionaries, class objects, and more."
      ],
      "id": "fc3024cc-ac5b-4bf6-9cbb-132e7a5521ac"
    },
    {
      "cell_type": "code",
      "execution_count": 15,
      "metadata": {
        "cell_style": "center",
        "slideshow": {
          "slide_type": "fragment"
        }
      },
      "outputs": [],
      "source": [
        "import pickle # First, import pickle to use it"
      ],
      "id": "dec500b2"
    },
    {
      "cell_type": "code",
      "execution_count": 16,
      "metadata": {
        "cell_style": "center",
        "slideshow": {
          "slide_type": "fragment"
        }
      },
      "outputs": [],
      "source": [
        "example_dict = {1:\"6\",2:\"2\",3:\"f\"} # we define an example dictionary, which is a Python object"
      ],
      "id": "a0d4b598"
    },
    {
      "cell_type": "code",
      "execution_count": 17,
      "metadata": {
        "cell_style": "center",
        "slideshow": {
          "slide_type": "fragment"
        }
      },
      "outputs": [],
      "source": [
        "pickle_out = open(\"dict.pickle\",\"wb\") # Next, we open a file (note that we open to write bytes in Python 3+)"
      ],
      "id": "09bd6860"
    },
    {
      "cell_type": "code",
      "execution_count": 18,
      "metadata": {
        "cell_style": "center",
        "slideshow": {
          "slide_type": "fragment"
        }
      },
      "outputs": [],
      "source": [
        "pickle.dump(example_dict, pickle_out) # then we use pickle.dump() to put the dict into opened file, then close."
      ],
      "id": "7199967f"
    },
    {
      "cell_type": "code",
      "execution_count": 19,
      "metadata": {
        "cell_style": "center",
        "slideshow": {
          "slide_type": "fragment"
        }
      },
      "outputs": [],
      "source": [
        "pickle_out.close() # and close(), it's very important to NOT forget to close your opened files."
      ],
      "id": "b15b6c3b"
    },
    {
      "cell_type": "markdown",
      "metadata": {},
      "source": [
        "The above code will save the pickle file for us, now we need to cover\n",
        "how to access the pickled file:"
      ],
      "id": "44d17562-958b-441a-ae80-bb7474532fad"
    },
    {
      "cell_type": "code",
      "execution_count": 20,
      "metadata": {
        "cell_style": "center",
        "slideshow": {
          "slide_type": "fragment"
        }
      },
      "outputs": [],
      "source": [
        "pickle_in = open(\"dict.pickle\",\"rb\") # Open the pickle file"
      ],
      "id": "155ac14f"
    },
    {
      "cell_type": "code",
      "execution_count": 21,
      "metadata": {
        "cell_style": "center",
        "slideshow": {
          "slide_type": "fragment"
        }
      },
      "outputs": [],
      "source": [
        "example_dict = pickle.load(pickle_in) # Use pickle.load() to load it to a var."
      ],
      "id": "a0a9e672"
    },
    {
      "cell_type": "markdown",
      "metadata": {},
      "source": [
        "That’s all there is to it, now you can do things like:"
      ],
      "id": "7536f43a-8549-43f3-a6ca-6b03d6790ba1"
    },
    {
      "cell_type": "code",
      "execution_count": 22,
      "metadata": {
        "cell_style": "center",
        "slideshow": {
          "slide_type": "fragment"
        }
      },
      "outputs": [
        {
          "output_type": "stream",
          "name": "stdout",
          "text": [
            "{1: '6', 2: '2', 3: 'f'}\n",
            "f"
          ]
        }
      ],
      "source": [
        "print(example_dict)\n",
        "print(example_dict[3])"
      ],
      "id": "fad297c3"
    },
    {
      "cell_type": "markdown",
      "metadata": {},
      "source": [
        "This shows that we’ve retained the dict data-type.\n",
        "\n",
        "## Queues\n",
        "\n",
        "-   multiprocessing.Queue\n",
        "    -   **cannot be pickled** and thus can’t be passed to Pool methods\n",
        "    -   can deadlock with improper join use\n",
        "-   multiprocessing.Manager.Queue\n",
        "    -   is proxy, can be pickled\n",
        "    -   can be shared between processes\n",
        "\n",
        "$\\Longrightarrow$ prefer the use of managed queues\n",
        "\n",
        "## Short example of queue use\n",
        "\n",
        "In this example we share a managed queue between processes, and each\n",
        "process can randomly put a boolean (indicating a failure for example) in\n",
        "this queue.\n",
        "\n",
        "This is our dummy function to parallelize, getting the shared queue as\n",
        "an additional argument"
      ],
      "id": "5dbb1e2f-c503-4198-83fc-11e7d119e2d1"
    },
    {
      "cell_type": "code",
      "execution_count": 23,
      "metadata": {
        "slideshow": {
          "slide_type": "-"
        }
      },
      "outputs": [],
      "source": [
        "from random import randint\n",
        "\n",
        "def multiple_output_method(provider, vm_name, fail_queue):\n",
        "    # random success of called method\n",
        "    if randint(0, 1):\n",
        "        return True\n",
        "    else:\n",
        "        # Store our failure vm on the queue\n",
        "        fail_queue.put(vm_name)\n",
        "        return None"
      ],
      "id": "09d1d594"
    },
    {
      "cell_type": "markdown",
      "metadata": {},
      "source": [
        "We need to instantiate the manager, and create a queue from it"
      ],
      "id": "d6dc95a6-27e6-4cc3-a611-33fa77b5dd2b"
    },
    {
      "cell_type": "code",
      "execution_count": 24,
      "metadata": {
        "slideshow": {
          "slide_type": "-"
        }
      },
      "outputs": [],
      "source": [
        "from multiprocessing import Manager\n",
        "\n",
        "# Create instance of manager\n",
        "manager = Manager()\n",
        "\n",
        "# Create queue object to give to child processes\n",
        "queue_for_failures = manager.Queue()"
      ],
      "id": "0c9bfbc0"
    },
    {
      "cell_type": "markdown",
      "metadata": {},
      "source": [
        "The (multi)-processing is there"
      ],
      "id": "6735b1fc-0a15-49e4-8d06-9f2be4b90a0c"
    },
    {
      "cell_type": "code",
      "execution_count": 25,
      "metadata": {
        "slideshow": {
          "slide_type": "-"
        }
      },
      "outputs": [],
      "source": [
        "with Pool(2) as pool:\n",
        "    results = pool.starmap(\n",
        "        multiple_output_method, \n",
        "        [(key, vm, queue_for_failures)\n",
        "         for key, vms\n",
        "         in example_provider_vm_lists.items()\n",
        "         for vm in vms]\n",
        "    )"
      ],
      "id": "f38407a3"
    },
    {
      "cell_type": "markdown",
      "metadata": {},
      "source": [
        "Now what’s up ?\n",
        "\n",
        "Results :"
      ],
      "id": "4388c5ab-b2ab-47f5-b67e-a7591fcfcc7f"
    },
    {
      "cell_type": "code",
      "execution_count": 26,
      "metadata": {
        "slideshow": {
          "slide_type": "fragment"
        }
      },
      "outputs": [
        {
          "output_type": "stream",
          "name": "stdout",
          "text": [
            "Results are in: [None, None, None, None, None, None]"
          ]
        }
      ],
      "source": [
        "print('Results are in: {}'.format(results))"
      ],
      "id": "38aed4f5"
    },
    {
      "cell_type": "markdown",
      "metadata": {},
      "source": [
        "And what is in the queue ?"
      ],
      "id": "853d2bcc-a03b-456a-a423-de1975b9c950"
    },
    {
      "cell_type": "code",
      "execution_count": 27,
      "metadata": {
        "slideshow": {
          "slide_type": "fragment"
        }
      },
      "outputs": [
        {
          "output_type": "stream",
          "name": "stdout",
          "text": [
            "Failures are in: ['test_vm_1', 'test_vm_2', 'test_vm_3', 'test_vm_4', 'test_vm_5', 'test_vm_6']"
          ]
        }
      ],
      "source": [
        "failed_vms = []\n",
        "# get items from the queue while its not empty\n",
        "while not queue_for_failures.empty():\n",
        "    failed_vms.append(queue_for_failures.get())\n",
        "    \n",
        "print('Failures are in: {}'.format(failed_vms))"
      ],
      "id": "99db25cf"
    }
  ],
  "nbformat": 4,
  "nbformat_minor": 5,
  "metadata": {
    "kernelspec": {
      "name": "python3",
      "display_name": "Python 3 (ipykernel)",
      "language": "python",
      "path": "/nfs/home/collinf/micromamba/envs/miashs-hpc/share/jupyter/kernels/python3"
    },
    "language_info": {
      "name": "python",
      "codemirror_mode": {
        "name": "ipython",
        "version": "3"
      },
      "file_extension": ".py",
      "mimetype": "text/x-python",
      "nbconvert_exporter": "python",
      "pygments_lexer": "ipython3",
      "version": "3.12.5"
    }
  }
}