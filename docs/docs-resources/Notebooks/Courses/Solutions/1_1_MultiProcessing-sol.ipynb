{
  "cells": [
    {
      "cell_type": "markdown",
      "metadata": {},
      "source": [
        "# MultiProcessing, Strong Scaling\n",
        "\n",
        "François-David Collin (CNRS, IMAG, Paul-Valéry Montpellier 3\n",
        "University)  \n",
        "Ghislain Durif (CNRS, LBMC)  \n",
        "Monday, August 26, 2024\n",
        "\n",
        "## ⚠️⚠️⚠️⚠️ Attention ⚠️⚠️⚠️⚠️\n",
        "\n",
        "Under *Windows*, with python the multiprocessing module\n",
        "`multiprocessing` works in a normal script but **not in notebooks**.\n",
        "\n",
        "If you absolutely must use Windows,\n",
        "use[WSL](https://docs.microsoft.com/fr-fr/windows/wsl/)\n",
        "\n",
        "# Strong Scaling\n",
        "\n",
        "## Prerequisites\n",
        "\n",
        "For this TP, set the number of **physical** cores available (8 on the\n",
        "cluster nodes), not the number of logical cores."
      ],
      "id": "a00723dd-f924-4d5d-accc-c3cb56b7e108"
    },
    {
      "cell_type": "code",
      "execution_count": 2,
      "metadata": {},
      "outputs": [],
      "source": [
        "ncores = 8 # 8 on the cluster nodes"
      ],
      "id": "8f7c2bdd"
    },
    {
      "cell_type": "code",
      "execution_count": 3,
      "metadata": {},
      "outputs": [],
      "source": [
        "import math"
      ],
      "id": "721514f2"
    },
    {
      "cell_type": "markdown",
      "metadata": {},
      "source": [
        "# Introduction\n",
        "\n",
        "## Basic functions\n",
        "\n",
        "Make a function `is_prime` that tests whether an integer $n$ strictly\n",
        "greater than 2 is prime or not.\n",
        "\n",
        "Hint: First check that it is not even, then list all odd numbers from 3\n",
        "to $\\sqrt{n}$ (upper rounding) and test whether they are factors."
      ],
      "id": "2e81d781-eebc-4849-9445-eea4ca4f1ee2"
    },
    {
      "cell_type": "code",
      "execution_count": 4,
      "metadata": {
        "tags": [
          "solution"
        ]
      },
      "outputs": [],
      "source": [
        "def is_prime(n):\n",
        "    if n % 2 == 0:\n",
        "        return False\n",
        "    for i in range(3, int(math.sqrt(n)) + 1, 2):\n",
        "        if n % i == 0:\n",
        "            return False\n",
        "    return True"
      ],
      "id": "6dad6011"
    },
    {
      "cell_type": "markdown",
      "metadata": {},
      "source": [
        "Make a function `total_primes` that counts the number of primes in a\n",
        "list."
      ],
      "id": "9518ad7b-d2d2-45db-a905-02bc5b69ad1b"
    },
    {
      "cell_type": "code",
      "execution_count": 5,
      "metadata": {
        "tags": [
          "solution"
        ]
      },
      "outputs": [],
      "source": [
        "def total_primes(l):\n",
        "    n = 0\n",
        "    for i in l:\n",
        "        if (i > 0) & (i <= 2):\n",
        "            n=n+1\n",
        "        elif is_prime(i):\n",
        "            n=n+1                \n",
        "    return n"
      ],
      "id": "8b81c3b6"
    },
    {
      "cell_type": "markdown",
      "metadata": {},
      "source": [
        "Calculate the number of primes from 1 to $N=100 000$ with this function"
      ],
      "id": "01103dcf-d3ed-4ef1-b82e-5a19d0ff591b"
    },
    {
      "cell_type": "code",
      "execution_count": 6,
      "metadata": {},
      "outputs": [],
      "source": [
        "N=100000"
      ],
      "id": "d324973d"
    },
    {
      "cell_type": "code",
      "execution_count": 7,
      "metadata": {},
      "outputs": [
        {
          "output_type": "display_data",
          "metadata": {},
          "data": {
            "text/plain": [
              "9593"
            ]
          }
        }
      ],
      "source": [
        "total_primes(range(1,N+1))"
      ],
      "id": "25f4f07e"
    },
    {
      "cell_type": "markdown",
      "metadata": {},
      "source": [
        "## Time measurement\n",
        "\n",
        "Use `%timeit` to measure the average time taken to count the number of\n",
        "primes up to $N=100000$. (note: by default, `timeit` repeats the\n",
        "calculation $7times{}10$ to obtain a reliable average. Please refer to\n",
        "the\n",
        "[magic](https://ipython.readthedocs.io/en/stable/interactive/magics.html)\n",
        "and [timeit](https://docs.python.org/3.9/library/timeit.html) docs).\n",
        "\n",
        "Store measurements using the -o option in timeit"
      ],
      "id": "ccff66ea-94c0-4105-966b-6a12b4f771f8"
    },
    {
      "cell_type": "code",
      "execution_count": 8,
      "metadata": {},
      "outputs": [
        {
          "output_type": "stream",
          "name": "stdout",
          "text": [
            "71.7 ms ± 205 μs per loop (mean ± std. dev. of 7 runs, 10 loops each)"
          ]
        }
      ],
      "source": [
        "orig_time = %timeit -o total_primes(range(1,N+1))"
      ],
      "id": "195d4e2a"
    },
    {
      "cell_type": "markdown",
      "metadata": {},
      "source": [
        "# First steps\n",
        "\n",
        "Our first attempt at multiprocessing will involve partitioning the count\n",
        "into 2. We’ll run two processes in parallel on $\\{1,...,N/2\\}$ and\n",
        "$\\{N/2+1,...,N\\}$.\n",
        "\n",
        "Complete the following code\n",
        "([source](https://notebook.community/izapolsk/integration_tests/notebooks/MultiProcessing)).\n",
        "\n",
        "Check the result and the performance gain with `%timeit`."
      ],
      "id": "8cc99f5f-3024-40a1-855e-abd3bd9a8510"
    },
    {
      "cell_type": "code",
      "execution_count": 9,
      "metadata": {},
      "outputs": [],
      "source": [
        "from multiprocessing.pool import Pool\n",
        "\n",
        "def split_total(N):\n",
        "    with Pool(2) as pool:\n",
        "        return sum(pool.map(total_primes, ...))"
      ],
      "id": "cfd1cc52"
    },
    {
      "cell_type": "code",
      "execution_count": 10,
      "metadata": {
        "tags": [
          "solution"
        ]
      },
      "outputs": [],
      "source": [
        "from multiprocessing.pool import Pool\n",
        "\n",
        "def split_total(N):\n",
        "    with Pool(2) as pool:\n",
        "        return sum(pool.map(total_primes, [range(1,int(N/2)), range(int(N/2)+1,N+1)]))"
      ],
      "id": "99031e1d"
    },
    {
      "cell_type": "code",
      "execution_count": 11,
      "metadata": {},
      "outputs": [
        {
          "output_type": "display_data",
          "metadata": {},
          "data": {
            "text/plain": [
              "9593"
            ]
          }
        }
      ],
      "source": [
        "split_total(N)"
      ],
      "id": "4671e8f3"
    },
    {
      "cell_type": "code",
      "execution_count": 12,
      "metadata": {},
      "outputs": [
        {
          "output_type": "stream",
          "name": "stdout",
          "text": [
            "51.8 ms ± 79.5 μs per loop (mean ± std. dev. of 7 runs, 10 loops each)"
          ]
        }
      ],
      "source": [
        "split_time = %timeit -o split_total(N)"
      ],
      "id": "dc2f9706"
    },
    {
      "cell_type": "code",
      "execution_count": 13,
      "metadata": {},
      "outputs": [
        {
          "output_type": "stream",
          "name": "stdout",
          "text": [
            "Gain with split : 1.4"
          ]
        }
      ],
      "source": [
        "print(\"Gain with split : {:.1f}\".format(orig_time.average/split_time.average))"
      ],
      "id": "713640b9"
    },
    {
      "cell_type": "markdown",
      "metadata": {},
      "source": [
        "# Generalization\n",
        "\n",
        "Generalize the function with partitioning into *n* tasks instead of just\n",
        "2. We’ll use a generalized `multi_process_list` function, which takes as\n",
        "arguments : -\n",
        "f`the main computation function, which takes an integer list as argument - n`\n",
        "the number of partitions (here, one partition = task) -\n",
        "par_f`a function which takes as argument a list and a number of partitions to be performed, and returns the list of partitions in this list - l`\n",
        "the list to be partitioned"
      ],
      "id": "6c32819c-2dfa-4e51-a970-efe54c64b35b"
    },
    {
      "cell_type": "code",
      "execution_count": 14,
      "metadata": {},
      "outputs": [],
      "source": [
        "def multi_process_list(f,n,par_f,l):\n",
        "    with Pool(ncores) as pool:\n",
        "        return sum(pool.map(...)"
      ],
      "id": "f87ee71d"
    },
    {
      "cell_type": "markdown",
      "metadata": {},
      "source": [
        "First, we write the `naive_par` partitioning function."
      ],
      "id": "3e06101c-3274-442a-9836-edb416d5f549"
    },
    {
      "cell_type": "code",
      "execution_count": 15,
      "metadata": {},
      "outputs": [],
      "source": [
        "def naive_par(lst,n):\n",
        "    return ..."
      ],
      "id": "b8b52021"
    },
    {
      "cell_type": "markdown",
      "metadata": {},
      "source": [
        "We’ll use the `chunks` function, which partitions a list into chunks of\n",
        "fixed size (except for the last one).\n",
        "\n",
        "We’ll test the gain obtained with 8 tasks/partitions."
      ],
      "id": "19e9c7a0-9d7f-45cf-a161-69d58495db1a"
    },
    {
      "cell_type": "code",
      "execution_count": 16,
      "metadata": {},
      "outputs": [],
      "source": [
        "def chunks(lst, m):\n",
        "    \"\"\"Yield successive m-sized chunks from lst.\"\"\"\n",
        "    for i in range(0, len(lst), m):\n",
        "        yield lst[i:i + m]"
      ],
      "id": "8c1c932d"
    },
    {
      "cell_type": "markdown",
      "metadata": {},
      "source": [
        "Vérifier le fonctionnement de `naive_par`"
      ],
      "id": "7d58ed36-b951-42e3-b628-a21366c24ed4"
    },
    {
      "cell_type": "code",
      "execution_count": 17,
      "metadata": {
        "tags": [
          "solution"
        ]
      },
      "outputs": [],
      "source": [
        "def naive_par(lst,n):\n",
        "    return chunks(lst,int(len(lst)/n))"
      ],
      "id": "c1c32de1"
    },
    {
      "cell_type": "code",
      "execution_count": 18,
      "metadata": {
        "tags": [
          "solution"
        ]
      },
      "outputs": [
        {
          "output_type": "display_data",
          "metadata": {},
          "data": {
            "text/plain": [
              "[range(1, 25001),\n",
              " range(25001, 50001),\n",
              " range(50001, 75001),\n",
              " range(75001, 100001)]"
            ]
          }
        }
      ],
      "source": [
        "list(naive_par(range(1,100001),4))"
      ],
      "id": "902ce1fe"
    },
    {
      "cell_type": "code",
      "execution_count": 19,
      "metadata": {
        "tags": [
          "solution"
        ]
      },
      "outputs": [],
      "source": [
        "def multi_process_list(f,n,par_f,l):\n",
        "    with Pool(n) as pool:\n",
        "        return sum(pool.map(f,par_f(l,n)))"
      ],
      "id": "ac06d9d7"
    },
    {
      "cell_type": "code",
      "execution_count": 20,
      "metadata": {
        "tags": [
          "solution"
        ]
      },
      "outputs": [
        {
          "output_type": "display_data",
          "metadata": {},
          "data": {
            "text/plain": [
              "9593"
            ]
          }
        }
      ],
      "source": [
        "multi_process_list(total_primes,ncores,naive_par,range(1,N+1))"
      ],
      "id": "cb43ca92"
    },
    {
      "cell_type": "code",
      "execution_count": 21,
      "metadata": {},
      "outputs": [
        {
          "output_type": "stream",
          "name": "stdout",
          "text": [
            "44.3 ms ± 1.13 ms per loop (mean ± std. dev. of 7 runs, 10 loops each)"
          ]
        }
      ],
      "source": [
        "multi_time = %timeit -o multi_process_list(total_primes,ncores,naive_par,range(1,N+1))"
      ],
      "id": "d3f66d02"
    },
    {
      "cell_type": "code",
      "execution_count": 22,
      "metadata": {},
      "outputs": [
        {
          "output_type": "stream",
          "name": "stdout",
          "text": [
            "Gain avec multi : 1.6"
          ]
        }
      ],
      "source": [
        "print(\"Gain avec multi : {:.1f}\".format(orig_time.average/multi_time.average))"
      ],
      "id": "4b2b3990"
    },
    {
      "cell_type": "markdown",
      "metadata": {},
      "source": [
        "Repeat all calculations and payoff comparisons with $N=5000000$. To\n",
        "avoid long calculation times, we’ll restrict ourselves to a single\n",
        "iteration (option `-r 1 -n 1` in `%timeit`)."
      ],
      "id": "671dd745-18ba-423d-b592-c46324d15c6a"
    },
    {
      "cell_type": "code",
      "execution_count": 23,
      "metadata": {},
      "outputs": [],
      "source": [
        "N = 5000000"
      ],
      "id": "488e9113"
    },
    {
      "cell_type": "code",
      "execution_count": 24,
      "metadata": {},
      "outputs": [
        {
          "output_type": "stream",
          "name": "stdout",
          "text": [
            "18.5 s ± 0 ns per loop (mean ± std. dev. of 1 run, 1 loop each)\n",
            "11.2 s ± 0 ns per loop (mean ± std. dev. of 1 run, 1 loop each)\n",
            "3.11 s ± 0 ns per loop (mean ± std. dev. of 1 run, 1 loop each)\n",
            "Gain with split : 1.7\n",
            "Gain with multi : 5.9"
          ]
        }
      ],
      "source": [
        "orig_time = %timeit -r 1 -n 1 -o total_primes(range(1,N+1))\n",
        "split_time = %timeit -r 1 -n 1 -o split_total(N)\n",
        "multi_time = %timeit -r 1 -n 1 -o multi_process_list(total_primes,ncores,naive_par,range(1,N+1))\n",
        "\n",
        "print(\"Gain with split : {:.1f}\".format(orig_time.average/split_time.average))\n",
        "print(\"Gain with multi : {:.1f}\".format(orig_time.average/multi_time.average))"
      ],
      "id": "9f331356"
    },
    {
      "cell_type": "markdown",
      "metadata": {},
      "source": [
        "# Optional refinement\n",
        "\n",
        "How much time is spent on each task? Use the following function to get\n",
        "an idea. What do you observe?"
      ],
      "id": "bbfbcad7-5587-4083-ae83-3801000a81c0"
    },
    {
      "cell_type": "code",
      "execution_count": 25,
      "metadata": {},
      "outputs": [],
      "source": [
        "def timed_total_primes(l):\n",
        "    %timeit -r 1 -n 1 total_primes(l)\n",
        "    return 0"
      ],
      "id": "4c67048b"
    },
    {
      "cell_type": "code",
      "execution_count": 26,
      "metadata": {
        "tags": [
          "solution"
        ]
      },
      "outputs": [
        {
          "output_type": "stream",
          "name": "stdout",
          "text": [
            "921 ms ± 0 ns per loop (mean ± std. dev. of 1 run, 1 loop each)\n",
            "1.6 s ± 0 ns per loop (mean ± std. dev. of 1 run, 1 loop each)\n",
            "1.96 s ± 0 ns per loop (mean ± std. dev. of 1 run, 1 loop each)\n",
            "2.23 s ± 0 ns per loop (mean ± std. dev. of 1 run, 1 loop each)\n",
            "2.48 s ± 0 ns per loop (mean ± std. dev. of 1 run, 1 loop each)\n",
            "2.7 s ± 0 ns per loop (mean ± std. dev. of 1 run, 1 loop each)\n",
            "2.89 s ± 0 ns per loop (mean ± std. dev. of 1 run, 1 loop each)\n",
            "3.23 s ± 0 ns per loop (mean ± std. dev. of 1 run, 1 loop each)"
          ]
        },
        {
          "output_type": "display_data",
          "metadata": {},
          "data": {
            "text/plain": [
              "0"
            ]
          }
        }
      ],
      "source": [
        "multi_process_list(timed_total_primes,ncores,naive_par,range(1,N+1))"
      ],
      "id": "c82310cc"
    },
    {
      "cell_type": "markdown",
      "metadata": {},
      "source": [
        "How can we solve this problem?\n",
        "\n",
        "Find a simple solution that requires only one line of code. Check the\n",
        "execution times of individual tasks.\n",
        "\n",
        "Compare again with $N = 10000000$ (which will take about 1 minute\n",
        "sequentially)."
      ],
      "id": "d0766aaf-1ce2-4297-96fc-0d43b1a91c8f"
    },
    {
      "cell_type": "code",
      "execution_count": 27,
      "metadata": {
        "tags": [
          "solution"
        ]
      },
      "outputs": [],
      "source": [
        "import random\n",
        "\n",
        "N = 10000000\n",
        "\n",
        "shuffled = random.sample(range(1,N+1),N)"
      ],
      "id": "10723192"
    },
    {
      "cell_type": "code",
      "execution_count": 28,
      "metadata": {
        "tags": [
          "solution"
        ]
      },
      "outputs": [
        {
          "output_type": "display_data",
          "metadata": {},
          "data": {
            "text/plain": [
              "664580"
            ]
          }
        }
      ],
      "source": [
        "multi_process_list(total_primes,ncores,naive_par,shuffled)"
      ],
      "id": "0983d550"
    },
    {
      "cell_type": "code",
      "execution_count": 29,
      "metadata": {
        "tags": [
          "solution"
        ]
      },
      "outputs": [
        {
          "output_type": "stream",
          "name": "stdout",
          "text": [
            "7.68 s ± 0 ns per loop (mean ± std. dev. of 1 run, 1 loop each)"
          ]
        }
      ],
      "source": [
        "temps_shuffled = %timeit -r 1 -n 1 -o multi_process_list(total_primes,ncores,naive_par,shuffled)"
      ],
      "id": "2a64a66d"
    },
    {
      "cell_type": "code",
      "execution_count": 30,
      "metadata": {
        "tags": [
          "solution"
        ]
      },
      "outputs": [
        {
          "output_type": "stream",
          "name": "stdout",
          "text": [
            "5.98 s ± 0 ns per loop (mean ± std. dev. of 1 run, 1 loop each)\n",
            "5.98 s ± 0 ns per loop (mean ± std. dev. of 1 run, 1 loop each)\n",
            "5.98 s ± 0 ns per loop (mean ± std. dev. of 1 run, 1 loop each)\n",
            "5.96 s ± 0 ns per loop (mean ± std. dev. of 1 run, 1 loop each)\n",
            "5.99 s ± 0 ns per loop (mean ± std. dev. of 1 run, 1 loop each)\n",
            "5.95 s ± 0 ns per loop (mean ± std. dev. of 1 run, 1 loop each)\n",
            "5.94 s ± 0 ns per loop (mean ± std. dev. of 1 run, 1 loop each)\n",
            "6.16 s ± 0 ns per loop (mean ± std. dev. of 1 run, 1 loop each)"
          ]
        },
        {
          "output_type": "display_data",
          "metadata": {},
          "data": {
            "text/plain": [
              "0"
            ]
          }
        }
      ],
      "source": [
        "multi_process_list(timed_total_primes,ncores,naive_par,shuffled)"
      ],
      "id": "4766012d"
    },
    {
      "cell_type": "code",
      "execution_count": 31,
      "metadata": {
        "tags": [
          "solution"
        ]
      },
      "outputs": [
        {
          "output_type": "stream",
          "name": "stdout",
          "text": [
            "48 s ± 0 ns per loop (mean ± std. dev. of 1 run, 1 loop each)\n",
            "8.31 s ± 0 ns per loop (mean ± std. dev. of 1 run, 1 loop each)\n",
            "7.67 s ± 0 ns per loop (mean ± std. dev. of 1 run, 1 loop each)\n",
            "Gain with multi : 5.8\n",
            "Gain with shuffled : 6.3"
          ]
        }
      ],
      "source": [
        "shuffled = random.sample(range(1,N+1),N)\n",
        "orig_time = %timeit -r 1 -n 1 -o total_primes(range(1,N+1))\n",
        "multi_time = %timeit -r 1 -n 1 -o multi_process_list(total_primes,ncores,naive_par,range(1,N+1))\n",
        "shuffled_time = %timeit -r 1 -n 1 -o multi_process_list(total_primes,ncores,naive_par,shuffled)\n",
        "\n",
        "print(\"Gain with multi : {:.1f}\".format(orig_time.average/multi_time.average))\n",
        "print(\"Gain with shuffled : {:.1f}\".format(orig_time.average/shuffled_time.average))"
      ],
      "id": "90dd9732"
    },
    {
      "cell_type": "markdown",
      "metadata": {},
      "source": [
        "# Recreational interlude\n",
        "\n",
        "If you have a CPU with SMT (Hyperthreading), redo the measurements with\n",
        "`ncores` equal to the number of logic cores, and explain the results."
      ],
      "id": "d74b51b5-5301-469d-b9f6-6554b99fd62e"
    },
    {
      "cell_type": "code",
      "execution_count": 32,
      "metadata": {
        "tags": [
          "solution"
        ]
      },
      "outputs": [],
      "source": [
        "ncores = 8 # On a machine with 4 physical cores/8 logical cores\n",
        "\n",
        "shuffled = random.sample(range(1,N+1),N)\n",
        "orig_time = %timeit -r 1 -n 1 -o total_primes(range(1,N+1))\n",
        "multi_time = %timeit -r 1 -n 1 -o multi_process_list(total_primes,ncores,naive_par,range(1,N+1))\n",
        "shuffled_time = %timeit -r 1 -n 1 -o multi_process_list(total_primes,ncores,naive_par,shuffled)\n",
        "\n",
        "print(\"Gain with multi : {:.1f}\".format(orig_time.average/multi_time.average))\n",
        "print(\"Gain with shuffled : {:.1f}\".format(orig_time.average/shuffled_time.average))"
      ],
      "id": "585704c9"
    },
    {
      "cell_type": "markdown",
      "metadata": {},
      "source": [
        "This has been run on a machine with 4 physical cores and 8 logical\n",
        "cores, [Intel Xeon CPU E5-1620\n",
        "v4](https://www.intel.com/content/www/us/en/products/sku/92991/intel-xeon-processor-e51620-v4-10m-cache-3-50-ghz/specifications.html).\n",
        "\n",
        "The results show that the gain is less than with 4 physical cores. This\n",
        "is because the logical cores share the same physical core, and the\n",
        "overhead of sharing the same physical core is greater than the gain from\n",
        "parallelization.\n",
        "\n",
        "    37.4 s ± 0 ns per loop (mean ± std. dev. of 1 run, 1 loop each)\n",
        "    12.1 s ± 0 ns per loop (mean ± std. dev. of 1 run, 1 loop each)\n",
        "    12.9 s ± 0 ns per loop (mean ± std. dev. of 1 run, 1 loop each)\n",
        "    Gain with multi : 3.1\n",
        "    Gain with shuffled : 2.9"
      ],
      "id": "8a104b66-b106-4cf9-b566-64c2724b1587"
    }
  ],
  "nbformat": 4,
  "nbformat_minor": 5,
  "metadata": {
    "kernelspec": {
      "name": "python3",
      "display_name": "Python 3 (ipykernel)",
      "language": "python",
      "path": "/nfs/home/collinf/micromamba/envs/miashs-hpc/share/jupyter/kernels/python3"
    },
    "language_info": {
      "name": "python",
      "codemirror_mode": {
        "name": "ipython",
        "version": "3"
      },
      "file_extension": ".py",
      "mimetype": "text/x-python",
      "nbconvert_exporter": "python",
      "pygments_lexer": "ipython3",
      "version": "3.12.5"
    }
  }
}