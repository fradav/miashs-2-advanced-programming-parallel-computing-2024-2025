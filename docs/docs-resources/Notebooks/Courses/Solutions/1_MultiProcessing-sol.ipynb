{
  "cells": [
    {
      "cell_type": "markdown",
      "metadata": {},
      "source": [
        "# MultiProcessing, Strong Scaling\n",
        "\n",
        "François-David Collin (CNRS, IMAG, Paul-Valéry Montpellier 3\n",
        "University)  \n",
        "Ghislain Durif (CNRS, LBMC)  \n",
        "Monday, August 26, 2024\n",
        "\n",
        "## ⚠️⚠️⚠️⚠️ Attention ⚠️⚠️⚠️⚠️\n",
        "\n",
        "Under *Windows*, with python the multiprocessing module\n",
        "`multiprocessing` works in a normal script but **not in notebooks**.\n",
        "\n",
        "If you absolutely must use Windows,\n",
        "use[WSL](https://docs.microsoft.com/fr-fr/windows/wsl/)\n",
        "\n",
        "# Strong Scaling\n",
        "\n",
        "## Prerequisites\n",
        "\n",
        "For this TP, set the number of **physical** cores available (8 on the\n",
        "cluster nodes), not the number of logical cores."
      ],
      "id": "92265f35-64ae-46b1-82e8-701ab4bbeb9c"
    },
    {
      "cell_type": "code",
      "execution_count": 2,
      "metadata": {},
      "outputs": [],
      "source": [
        "ncores = 4 # 8 on the cluster nodes"
      ],
      "id": "e50225d8"
    },
    {
      "cell_type": "code",
      "execution_count": 3,
      "metadata": {},
      "outputs": [],
      "source": [
        "import math"
      ],
      "id": "285e45f6"
    },
    {
      "cell_type": "markdown",
      "metadata": {},
      "source": [
        "# Introduction\n",
        "\n",
        "## Basic functions\n",
        "\n",
        "Make a function `is_prime` that tests whether an integer $n$ strictly\n",
        "greater than 2 is prime or not.\n",
        "\n",
        "Hint: First check that it is not even, then list all odd numbers from 3\n",
        "to $\\sqrt{n}$ (upper rounding) and test whether they are factors."
      ],
      "id": "9f7086c6-9ca5-4e9a-b6d8-14b9faccb8c4"
    },
    {
      "cell_type": "code",
      "execution_count": 4,
      "metadata": {
        "tags": [
          "solution"
        ]
      },
      "outputs": [],
      "source": [
        "def is_prime(n):\n",
        "    if n % 2 == 0:\n",
        "        return False\n",
        "    for i in range(3, int(math.sqrt(n)) + 1, 2):\n",
        "        if n % i == 0:\n",
        "            return False\n",
        "    return True"
      ],
      "id": "f85e0554"
    },
    {
      "cell_type": "markdown",
      "metadata": {},
      "source": [
        "Make a function `total_primes` that counts the number of primes in a\n",
        "list."
      ],
      "id": "75e5c0de-866e-4785-bea0-07dcb4c592c0"
    },
    {
      "cell_type": "code",
      "execution_count": 5,
      "metadata": {
        "tags": [
          "solution"
        ]
      },
      "outputs": [],
      "source": [
        "def total_primes(l):\n",
        "    n = 0\n",
        "    for i in l:\n",
        "        if (i > 0) & (i <= 2):\n",
        "            n=n+1\n",
        "        elif is_prime(i):\n",
        "            n=n+1                \n",
        "    return n"
      ],
      "id": "9d52212b"
    },
    {
      "cell_type": "markdown",
      "metadata": {},
      "source": [
        "Calculate the number of primes from 1 to $N=100 000$ with this function"
      ],
      "id": "8512daea-ce93-474d-a16f-cc45ab68dbe2"
    },
    {
      "cell_type": "code",
      "execution_count": 6,
      "metadata": {},
      "outputs": [],
      "source": [
        "N=100000"
      ],
      "id": "64bf490f"
    },
    {
      "cell_type": "code",
      "execution_count": 7,
      "metadata": {},
      "outputs": [
        {
          "output_type": "display_data",
          "metadata": {},
          "data": {
            "text/plain": [
              "9593"
            ]
          }
        }
      ],
      "source": [
        "total_primes(range(1,N+1))"
      ],
      "id": "2e1099ff"
    },
    {
      "cell_type": "markdown",
      "metadata": {},
      "source": [
        "## Time measurement\n",
        "\n",
        "Use `%timeit` to measure the average time taken to count the number of\n",
        "primes up to $N=100000$. (note: by default, `timeit` repeats the\n",
        "calculation $7times{}10$ to obtain a reliable average. Please refer to\n",
        "the\n",
        "[magic](https://ipython.readthedocs.io/en/stable/interactive/magics.html)\n",
        "and [timeit](https://docs.python.org/3.9/library/timeit.html) docs).\n",
        "\n",
        "Store measurements using the -o option in timeit"
      ],
      "id": "21d90321-82ca-4703-aa23-ff16a53971cb"
    },
    {
      "cell_type": "code",
      "execution_count": 8,
      "metadata": {},
      "outputs": [
        {
          "output_type": "stream",
          "name": "stdout",
          "text": [
            "72 ms ± 32.8 μs per loop (mean ± std. dev. of 7 runs, 10 loops each)"
          ]
        }
      ],
      "source": [
        "orig_time = %timeit -o total_primes(range(1,N+1))"
      ],
      "id": "44f74e73"
    },
    {
      "cell_type": "markdown",
      "metadata": {},
      "source": [
        "# First steps\n",
        "\n",
        "Our first attempt at multiprocessing will involve partitioning the count\n",
        "into 2. We’ll run two processes in parallel on $\\{1,...,N/2\\}$ and\n",
        "$\\{N/2+1,...,N\\}$.\n",
        "\n",
        "Complete the following code\n",
        "([source](https://notebook.community/izapolsk/integration_tests/notebooks/MultiProcessing)).\n",
        "\n",
        "Check the result and the performance gain with `%timeit`."
      ],
      "id": "2da56317-b60f-4a17-946c-4614f7960cbd"
    },
    {
      "cell_type": "code",
      "execution_count": 9,
      "metadata": {},
      "outputs": [],
      "source": [
        "from multiprocessing.pool import Pool\n",
        "\n",
        "def split_total(N):\n",
        "    with Pool(2) as pool:\n",
        "        return sum(pool.map(total_primes, ...))"
      ],
      "id": "b4908013"
    },
    {
      "cell_type": "code",
      "execution_count": 10,
      "metadata": {
        "tags": [
          "solution"
        ]
      },
      "outputs": [],
      "source": [
        "from multiprocessing.pool import Pool\n",
        "\n",
        "def split_total(N):\n",
        "    with Pool(2) as pool:\n",
        "        return sum(pool.map(total_primes, [range(1,int(N/2)), range(int(N/2)+1,N+1)]))"
      ],
      "id": "1d624335"
    },
    {
      "cell_type": "code",
      "execution_count": 11,
      "metadata": {},
      "outputs": [
        {
          "output_type": "display_data",
          "metadata": {},
          "data": {
            "text/plain": [
              "9593"
            ]
          }
        }
      ],
      "source": [
        "split_total(N)"
      ],
      "id": "636353ae"
    },
    {
      "cell_type": "code",
      "execution_count": 12,
      "metadata": {},
      "outputs": [
        {
          "output_type": "stream",
          "name": "stdout",
          "text": [
            "51.6 ms ± 72.9 μs per loop (mean ± std. dev. of 7 runs, 10 loops each)"
          ]
        }
      ],
      "source": [
        "split_time = %timeit -o split_total(N)"
      ],
      "id": "10684d4b"
    },
    {
      "cell_type": "code",
      "execution_count": 13,
      "metadata": {},
      "outputs": [
        {
          "output_type": "stream",
          "name": "stdout",
          "text": [
            "Gain with split : 1.4"
          ]
        }
      ],
      "source": [
        "print(\"Gain with split : {:.1f}\".format(orig_time.average/split_time.average))"
      ],
      "id": "766cb995"
    },
    {
      "cell_type": "markdown",
      "metadata": {},
      "source": [
        "# Generalization\n",
        "\n",
        "Generalize the function with partitioning into *n* tasks instead of just\n",
        "2. We’ll use a generalized `multi_process_list` function, which takes as\n",
        "arguments : -\n",
        "f`the main computation function, which takes an integer list as argument - n`\n",
        "the number of partitions (here, one partition = task) -\n",
        "par_f`a function which takes as argument a list and a number of partitions to be performed, and returns the list of partitions in this list - l`\n",
        "the list to be partitioned"
      ],
      "id": "e0bbd297-b246-42bc-81ea-23f2f3d19f02"
    },
    {
      "cell_type": "code",
      "execution_count": 14,
      "metadata": {},
      "outputs": [],
      "source": [
        "def multi_process_list(f,n,par_f,l):\n",
        "    with Pool(ncores) as pool:\n",
        "        return sum(pool.map(...)"
      ],
      "id": "665c2dda"
    },
    {
      "cell_type": "markdown",
      "metadata": {},
      "source": [
        "First, we write the `naive_par` partitioning function."
      ],
      "id": "2a2d569a-4e08-4c93-a04e-e723e7ba3656"
    },
    {
      "cell_type": "code",
      "execution_count": 15,
      "metadata": {},
      "outputs": [],
      "source": [
        "def naive_par(lst,n):\n",
        "    return ..."
      ],
      "id": "93374ee7"
    },
    {
      "cell_type": "markdown",
      "metadata": {},
      "source": [
        "We’ll use the `chunks` function, which partitions a list into chunks of\n",
        "fixed size (except for the last one).\n",
        "\n",
        "We’ll test the gain obtained with 8 tasks/partitions."
      ],
      "id": "7a67b9a6-c800-401c-a792-97a5640ad41f"
    },
    {
      "cell_type": "code",
      "execution_count": 16,
      "metadata": {},
      "outputs": [],
      "source": [
        "def chunks(lst, m):\n",
        "    \"\"\"Yield successive m-sized chunks from lst.\"\"\"\n",
        "    for i in range(0, len(lst), m):\n",
        "        yield lst[i:i + m]"
      ],
      "id": "1864bad5"
    },
    {
      "cell_type": "markdown",
      "metadata": {},
      "source": [
        "Vérifier le fonctionnement de `naive_par`"
      ],
      "id": "7befb667-6693-4c34-b309-c386ecbb3071"
    },
    {
      "cell_type": "code",
      "execution_count": 17,
      "metadata": {
        "tags": [
          "solution"
        ]
      },
      "outputs": [],
      "source": [
        "def naive_par(lst,n):\n",
        "    return chunks(lst,int(len(lst)/n))"
      ],
      "id": "fd8237de"
    },
    {
      "cell_type": "code",
      "execution_count": 18,
      "metadata": {
        "tags": [
          "solution"
        ]
      },
      "outputs": [
        {
          "output_type": "display_data",
          "metadata": {},
          "data": {
            "text/plain": [
              "[range(1, 25001),\n",
              " range(25001, 50001),\n",
              " range(50001, 75001),\n",
              " range(75001, 100001)]"
            ]
          }
        }
      ],
      "source": [
        "list(naive_par(range(1,100001),4))"
      ],
      "id": "b147f8fd"
    },
    {
      "cell_type": "code",
      "execution_count": 19,
      "metadata": {
        "tags": [
          "solution"
        ]
      },
      "outputs": [],
      "source": [
        "def multi_process_list(f,n,par_f,l):\n",
        "    with Pool(n) as pool:\n",
        "        return sum(pool.map(f,par_f(l,n)))"
      ],
      "id": "98468667"
    },
    {
      "cell_type": "code",
      "execution_count": 20,
      "metadata": {
        "tags": [
          "solution"
        ]
      },
      "outputs": [
        {
          "output_type": "display_data",
          "metadata": {},
          "data": {
            "text/plain": [
              "9593"
            ]
          }
        }
      ],
      "source": [
        "multi_process_list(total_primes,ncores,naive_par,range(1,N+1))"
      ],
      "id": "76127463"
    },
    {
      "cell_type": "code",
      "execution_count": 21,
      "metadata": {},
      "outputs": [
        {
          "output_type": "stream",
          "name": "stdout",
          "text": [
            "39.5 ms ± 56.4 μs per loop (mean ± std. dev. of 7 runs, 10 loops each)"
          ]
        }
      ],
      "source": [
        "multi_time = %timeit -o multi_process_list(total_primes,ncores,naive_par,range(1,N+1))"
      ],
      "id": "a969ad53"
    },
    {
      "cell_type": "code",
      "execution_count": 22,
      "metadata": {},
      "outputs": [
        {
          "output_type": "stream",
          "name": "stdout",
          "text": [
            "Gain avec multi : 1.8"
          ]
        }
      ],
      "source": [
        "print(\"Gain avec multi : {:.1f}\".format(orig_time.average/multi_time.average))"
      ],
      "id": "6edd40ca"
    },
    {
      "cell_type": "markdown",
      "metadata": {},
      "source": [
        "Repeat all calculations and payoff comparisons with $N=5000000$. To\n",
        "avoid long calculation times, we’ll restrict ourselves to a single\n",
        "iteration (option `-r 1 -n 1` in `%timeit`)."
      ],
      "id": "a9fec5ad-1920-4db7-8c8f-ca7955a55efb"
    },
    {
      "cell_type": "code",
      "execution_count": 23,
      "metadata": {},
      "outputs": [],
      "source": [
        "N = 5000000"
      ],
      "id": "05ca03a9"
    },
    {
      "cell_type": "code",
      "execution_count": 24,
      "metadata": {},
      "outputs": [
        {
          "output_type": "stream",
          "name": "stdout",
          "text": [
            "18.8 s ± 0 ns per loop (mean ± std. dev. of 1 run, 1 loop each)\n",
            "11.3 s ± 0 ns per loop (mean ± std. dev. of 1 run, 1 loop each)\n",
            "6.05 s ± 0 ns per loop (mean ± std. dev. of 1 run, 1 loop each)\n",
            "Gain with split : 1.7\n",
            "Gain with multi : 3.1"
          ]
        }
      ],
      "source": [
        "orig_time = %timeit -r 1 -n 1 -o total_primes(range(1,N+1))\n",
        "split_time = %timeit -r 1 -n 1 -o split_total(N)\n",
        "multi_time = %timeit -r 1 -n 1 -o multi_process_list(total_primes,ncores,naive_par,range(1,N+1))\n",
        "\n",
        "print(\"Gain with split : {:.1f}\".format(orig_time.average/split_time.average))\n",
        "print(\"Gain with multi : {:.1f}\".format(orig_time.average/multi_time.average))"
      ],
      "id": "272c162b"
    },
    {
      "cell_type": "markdown",
      "metadata": {},
      "source": [
        "# Optional refinement\n",
        "\n",
        "How much time is spent on each task? Use the following function to get\n",
        "an idea. What do you observe?"
      ],
      "id": "f6418e5f-b72e-43d1-abd7-98a3aa73417e"
    },
    {
      "cell_type": "code",
      "execution_count": 25,
      "metadata": {},
      "outputs": [],
      "source": [
        "def timed_total_primes(l):\n",
        "    %timeit -r 1 -n 1 total_primes(l)\n",
        "    return 0"
      ],
      "id": "3cf1b8cf"
    },
    {
      "cell_type": "code",
      "execution_count": 26,
      "metadata": {
        "tags": [
          "solution"
        ]
      },
      "outputs": [
        {
          "output_type": "stream",
          "name": "stdout",
          "text": [
            "2.47 s ± 0 ns per loop (mean ± std. dev. of 1 run, 1 loop each)\n",
            "4.2 s ± 0 ns per loop (mean ± std. dev. of 1 run, 1 loop each)\n",
            "5.22 s ± 0 ns per loop (mean ± std. dev. of 1 run, 1 loop each)\n",
            "6.03 s ± 0 ns per loop (mean ± std. dev. of 1 run, 1 loop each)"
          ]
        },
        {
          "output_type": "display_data",
          "metadata": {},
          "data": {
            "text/plain": [
              "0"
            ]
          }
        }
      ],
      "source": [
        "multi_process_list(timed_total_primes,ncores,naive_par,range(1,N+1))"
      ],
      "id": "3277d04c"
    },
    {
      "cell_type": "markdown",
      "metadata": {},
      "source": [
        "How can we solve this problem?\n",
        "\n",
        "Find a simple solution that requires only one line of code. Check the\n",
        "execution times of individual tasks.\n",
        "\n",
        "Compare again with $N = 10000000$ (which will take about 1 minute\n",
        "sequentially)."
      ],
      "id": "6679d07b-51b5-4c9b-a3fe-202106fe4926"
    },
    {
      "cell_type": "code",
      "execution_count": 27,
      "metadata": {
        "tags": [
          "solution"
        ]
      },
      "outputs": [],
      "source": [
        "import random\n",
        "\n",
        "N = 10000000\n",
        "\n",
        "shuffled = random.sample(range(1,N+1),N)"
      ],
      "id": "1c769558"
    },
    {
      "cell_type": "code",
      "execution_count": 28,
      "metadata": {
        "tags": [
          "solution"
        ]
      },
      "outputs": [
        {
          "output_type": "display_data",
          "metadata": {},
          "data": {
            "text/plain": [
              "664580"
            ]
          }
        }
      ],
      "source": [
        "multi_process_list(total_primes,ncores,naive_par,shuffled)"
      ],
      "id": "b610d4a0"
    },
    {
      "cell_type": "code",
      "execution_count": 29,
      "metadata": {
        "tags": [
          "solution"
        ]
      },
      "outputs": [
        {
          "output_type": "stream",
          "name": "stdout",
          "text": [
            "13.5 s ± 0 ns per loop (mean ± std. dev. of 1 run, 1 loop each)"
          ]
        }
      ],
      "source": [
        "temps_shuffled = %timeit -r 1 -n 1 -o multi_process_list(total_primes,ncores,naive_par,shuffled)"
      ],
      "id": "b92bf6b8"
    },
    {
      "cell_type": "code",
      "execution_count": 30,
      "metadata": {
        "tags": [
          "solution"
        ]
      },
      "outputs": [
        {
          "output_type": "stream",
          "name": "stdout",
          "text": [
            "12.1 s ± 0 ns per loop (mean ± std. dev. of 1 run, 1 loop each)\n",
            "12.1 s ± 0 ns per loop (mean ± std. dev. of 1 run, 1 loop each)\n",
            "12 s ± 0 ns per loop (mean ± std. dev. of 1 run, 1 loop each)\n",
            "12.1 s ± 0 ns per loop (mean ± std. dev. of 1 run, 1 loop each)"
          ]
        },
        {
          "output_type": "display_data",
          "metadata": {},
          "data": {
            "text/plain": [
              "0"
            ]
          }
        }
      ],
      "source": [
        "multi_process_list(timed_total_primes,ncores,naive_par,shuffled)"
      ],
      "id": "cb1efcc1"
    },
    {
      "cell_type": "code",
      "execution_count": 31,
      "metadata": {
        "tags": [
          "solution"
        ]
      },
      "outputs": [
        {
          "output_type": "stream",
          "name": "stdout",
          "text": [
            "50 s ± 0 ns per loop (mean ± std. dev. of 1 run, 1 loop each)\n",
            "16.2 s ± 0 ns per loop (mean ± std. dev. of 1 run, 1 loop each)\n",
            "13.5 s ± 0 ns per loop (mean ± std. dev. of 1 run, 1 loop each)\n",
            "Gain with multi : 3.1\n",
            "Gain with shuffled : 3.7"
          ]
        }
      ],
      "source": [
        "shuffled = random.sample(range(1,N+1),N)\n",
        "orig_time = %timeit -r 1 -n 1 -o total_primes(range(1,N+1))\n",
        "multi_time = %timeit -r 1 -n 1 -o multi_process_list(total_primes,ncores,naive_par,range(1,N+1))\n",
        "shuffled_time = %timeit -r 1 -n 1 -o multi_process_list(total_primes,ncores,naive_par,shuffled)\n",
        "\n",
        "print(\"Gain with multi : {:.1f}\".format(orig_time.average/multi_time.average))\n",
        "print(\"Gain with shuffled : {:.1f}\".format(orig_time.average/shuffled_time.average))"
      ],
      "id": "d7b3ffc0"
    },
    {
      "cell_type": "markdown",
      "metadata": {},
      "source": [
        "# Recreational interlude\n",
        "\n",
        "If you have a CPU with SMT (Hyperthreading), redo the measurements with\n",
        "`ncores` equal to the number of logic cores, and explain the results."
      ],
      "id": "268be5b9-5ea1-4888-b1ca-72ba3f50c14f"
    },
    {
      "cell_type": "code",
      "execution_count": 32,
      "metadata": {
        "tags": [
          "solution"
        ]
      },
      "outputs": [
        {
          "output_type": "stream",
          "name": "stdout",
          "text": [
            "50.1 s ± 0 ns per loop (mean ± std. dev. of 1 run, 1 loop each)\n",
            "8.38 s ± 0 ns per loop (mean ± std. dev. of 1 run, 1 loop each)\n",
            "7.71 s ± 0 ns per loop (mean ± std. dev. of 1 run, 1 loop each)\n",
            "Gain with multi : 6.0\n",
            "Gain with shuffled : 6.5"
          ]
        }
      ],
      "source": [
        "ncores = 8 # On a machine with 4 physical cores/8 logical cores\n",
        "\n",
        "shuffled = random.sample(range(1,N+1),N)\n",
        "orig_time = %timeit -r 1 -n 1 -o total_primes(range(1,N+1))\n",
        "multi_time = %timeit -r 1 -n 1 -o multi_process_list(total_primes,ncores,naive_par,range(1,N+1))\n",
        "shuffled_time = %timeit -r 1 -n 1 -o multi_process_list(total_primes,ncores,naive_par,shuffled)\n",
        "\n",
        "print(\"Gain with multi : {:.1f}\".format(orig_time.average/multi_time.average))\n",
        "print(\"Gain with shuffled : {:.1f}\".format(orig_time.average/shuffled_time.average))"
      ],
      "id": "5e2a8297"
    }
  ],
  "nbformat": 4,
  "nbformat_minor": 5,
  "metadata": {
    "kernelspec": {
      "name": "python3",
      "display_name": "Python 3 (ipykernel)",
      "language": "python",
      "path": "/nfs/home/collinf/micromamba/envs/miashs-hpc/share/jupyter/kernels/python3"
    },
    "language_info": {
      "name": "python",
      "codemirror_mode": {
        "name": "ipython",
        "version": "3"
      },
      "file_extension": ".py",
      "mimetype": "text/x-python",
      "nbconvert_exporter": "python",
      "pygments_lexer": "ipython3",
      "version": "3.12.5"
    }
  }
}