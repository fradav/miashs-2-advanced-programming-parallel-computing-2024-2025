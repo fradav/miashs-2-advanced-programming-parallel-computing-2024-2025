{
  "cells": [
    {
      "cell_type": "markdown",
      "metadata": {},
      "source": [
        "# IPC and Locking\n",
        "\n",
        "François-David Collin (CNRS, IMAG, Paul-Valéry Montpellier 3\n",
        "University)  \n",
        "Ghislain Durif (CNRS, LBMC)  \n",
        "Monday, August 26, 2024\n",
        "\n",
        "# Streaming (pipelining) data\n",
        "\n",
        "Sticking to our favorite hobby, which is finding prime numbers, this\n",
        "time, we’ll use a different strategy.\n",
        "\n",
        "Instead of partitioning the data from scratch, we will continuously\n",
        "*feed* workers from our multiprocessing pool with small size chunk of\n",
        "numbers and the workers send us back the the primes they found on those\n",
        "chunks.\n",
        "\n",
        "We need two queues : one for the chunks of numbers that’s the *INPUT*\n",
        "\n",
        "Another one for the results sent that’s the *OUTPUT*"
      ],
      "id": "0a40c946-2290-42a8-a047-3fda69918040"
    },
    {
      "cell_type": "raw",
      "metadata": {
        "raw_mimetype": "text/html"
      },
      "source": [
        "<pre style=\"font-size:0.4em\">\n",
        "                                                              ┌──────────────┐\n",
        "                                                              │              │\n",
        "                                                              │              │\n",
        "                           ┌─────────────────────────────────►│   Worker 1   ├───────────────────────────────────┐\n",
        "                           │                                  │              │                                   │\n",
        "                           │                                  │              │                                   │\n",
        "                           │                                  └──────────────┘                                   │\n",
        "                           │                                                                                     │\n",
        "                           │                                  ┌──────────────┐                                   │\n",
        "                           │                                  │              │                                   │\n",
        "                           │                                  │              │                                   │\n",
        "                           │                    ┌────────────►│   Worker 2   ├───────────────────────────────────┼────────────────────┐\n",
        "                           │                    │             │              │                                   │                    │\n",
        "                           │                    │             │              │                                   │                    │\n",
        "              ┌──────┐  ┌──┴───┐  ┌──────┐  ┌───┴──┐          └──────────────┘                      ┌──────┐  ┌──▼───┐  ┌──────┐  ┌───▼──┐\n",
        "...           │Chunk4│  │Chunk3│  │Chunk2│  │Chunk1│                                 ...            │Res. 4│  │Res. 3│  │Res. 2│  │Res. 1│\n",
        "              └───┬──┘  └──────┘  └───┬──┘  └──────┘          ┌──────────────┐                      └───▲──┘  └──────┘  └───▲──┘  └──────┘\n",
        "                  │                   │                       │              │                          │                   │\n",
        "                  │                   │                       │              │                          │                   │\n",
        "                  │                   └──────────────────────►│   Worker 3   ├──────────────────────────┼───────────────────┘\n",
        "                  │                                           │              │                          │\n",
        "                  │                                           │              │                          │\n",
        "                  │                                           └──────────────┘                          │\n",
        "                  │                                                                                     │\n",
        "                  │                                           ┌──────────────┐                          │\n",
        "                  │                                           │              │                          │\n",
        "                  │                                           │              │                          │\n",
        "                  └──────────────────────────────────────────►│   Worker 4   ├──────────────────────────┘\n",
        "                                                              │              │\n",
        "                                                              │              │\n",
        "       ──────────────────────────────────────────►            └──────────────┘               ──────────────────────────────────────────►\n",
        "\n",
        "                      INPUT                                                                               OUTPUT\n",
        "</pre>"
      ],
      "id": "bf3bca09-6d2a-4fa4-8c15-e40c337cd00f"
    },
    {
      "cell_type": "markdown",
      "metadata": {},
      "source": [
        "Let’s revive our old `check_prime` function back from the dead…"
      ],
      "id": "549fc9bd-6366-48c2-b7e1-3ded5f6800b9"
    },
    {
      "cell_type": "code",
      "execution_count": 1,
      "metadata": {},
      "outputs": [],
      "source": [
        "import math\n",
        "\n",
        "def check_prime(n):\n",
        "    if n % 2 == 0:\n",
        "        return False\n",
        "    for i in range(3, int(math.sqrt(n)) + 1, 2):\n",
        "        if n % i == 0:\n",
        "            return False\n",
        "    return True"
      ],
      "id": "d268927c"
    },
    {
      "cell_type": "markdown",
      "metadata": {},
      "source": [
        "Let’s get back the chunk generator, too."
      ],
      "id": "03db9769-c01a-4d05-bc9f-05e58761d778"
    },
    {
      "cell_type": "code",
      "execution_count": 2,
      "metadata": {},
      "outputs": [],
      "source": [
        "def chunks(lst, n):\n",
        "    \"\"\"Yield successive n-sized chunks from lst.\"\"\"\n",
        "    for i in range(0, len(lst), n):\n",
        "        yield lst[i:i + n]"
      ],
      "id": "2a92b229"
    },
    {
      "cell_type": "markdown",
      "metadata": {},
      "source": [
        "Now we want to use a *producer/consumer* model, where each process got :\n",
        "\n",
        "-   an *input* queue for receiving chunks of numbers\n",
        "-   an *output* queue for sending back a list of all primes found in the\n",
        "    *input* queue.\n",
        "\n",
        "Both *input* and *output* elements are *lists* (or even python iterables\n",
        "for the input). We’ll use `None` as a terminating element in the queue.\n",
        "\n",
        "## Queue Worker Function\n",
        "\n",
        "Create a *worker* function, which takes as the *input* and *output*\n",
        "queues as argument.\n",
        "\n",
        "For each element in the *input* queue, which is a list of numbers, get\n",
        "the primes (as a list). Put the list of found primes to the *output*\n",
        "queue.\n",
        "\n",
        "``` python\n",
        "def find_prime_worker(input, output):\n",
        "    for chunk in iter(input.get,None):\n",
        "        primes_found = ...\n",
        "        output.put(primes_found)\n",
        "```\n",
        "\n",
        "## Test the worker function\n",
        "\n",
        "1.  Manually allocate the *input* and *output* queues (we use managed\n",
        "    queues)\n",
        "2.  Put some chunks of numbers in the *input* queue (don’t forget to\n",
        "    terminate the queue with `None`)\n",
        "3.  Launch the worker function on the queues and terminate the output\n",
        "    queue with `None`.\n",
        "4.  Collect the results in a unified list.\n",
        "\n",
        "## Some Tools\n",
        "\n",
        "### Iterate on a queue\n",
        "\n",
        "To make a queue terminated by `None` iterable use the\n",
        "[`iter`](https://docs.python.org/3/library/functions.html#iter) function\n",
        ":\n",
        "\n",
        "``` python\n",
        "iter(queue.get,None)\n",
        "```\n",
        "\n",
        "### Collect a list of list\n",
        "\n",
        "To collect a list of list use the\n",
        "[`chain`](https://docs.python.org/3/library/itertools.html#itertools.chain)\n",
        "function from `itertools` :\n",
        "\n",
        "``` python\n",
        "chain(*list_of_list)\n",
        "```\n",
        "\n",
        "### Reminder\n",
        "\n",
        "Iterables are lazy in python, to actually make a list you have to force\n",
        "a `list()` of them.\n",
        "\n",
        "``` python\n",
        "list(iterables)\n",
        "```\n",
        "\n",
        "### Worker function"
      ],
      "id": "ec8f0431-c710-4637-8c58-a90619eb8f2a"
    },
    {
      "cell_type": "code",
      "execution_count": 3,
      "metadata": {
        "tags": [
          "solution"
        ]
      },
      "outputs": [],
      "source": [
        "import time\n",
        "\n",
        "def find_prime_worker(input, output):\n",
        "    t0 = time.time()\n",
        "    for chunk in iter(input.get,None):\n",
        "        primes_found = list(filter(check_prime,chunk))\n",
        "        output.put(primes_found)\n",
        "    # print the time taken by the worker in seconds and two decimal places\n",
        "    print(f\"Worker done in {time.time()-t0:.2f}s\")\n",
        "    return"
      ],
      "id": "4acffea8"
    },
    {
      "cell_type": "markdown",
      "metadata": {},
      "source": [
        "### 1. Allocations"
      ],
      "id": "d0c4775d-579b-461c-8b2c-3a403899117c"
    },
    {
      "cell_type": "code",
      "execution_count": 4,
      "metadata": {
        "tags": [
          "solution"
        ]
      },
      "outputs": [],
      "source": [
        "from multiprocessing import Manager\n",
        "\n",
        "manager = Manager()\n",
        "input = manager.Queue()\n",
        "output = manager.Queue()"
      ],
      "id": "56fed6c8"
    },
    {
      "cell_type": "markdown",
      "metadata": {},
      "source": [
        "### 2. Some chunk in the input"
      ],
      "id": "744f29d1-ba7f-4a1a-8a74-1113eed8eedb"
    },
    {
      "cell_type": "code",
      "execution_count": 5,
      "metadata": {
        "tags": [
          "solution"
        ]
      },
      "outputs": [],
      "source": [
        "input.put(range(2,100))\n",
        "input.put(range(1000,2000))\n",
        "input.put(None)"
      ],
      "id": "0f3c996b"
    },
    {
      "cell_type": "markdown",
      "metadata": {},
      "source": [
        "### 3. Launch the worker and terminate the output"
      ],
      "id": "e429eed3-2fb4-4d4a-8054-abb772f37232"
    },
    {
      "cell_type": "code",
      "execution_count": 6,
      "metadata": {
        "tags": [
          "solution"
        ]
      },
      "outputs": [
        {
          "output_type": "stream",
          "name": "stdout",
          "text": [
            "Worker done in 0.00s"
          ]
        }
      ],
      "source": [
        "find_prime_worker(input,output)\n",
        "output.put(None)"
      ],
      "id": "265ccd65"
    },
    {
      "cell_type": "markdown",
      "metadata": {},
      "source": [
        "### 4. Collect the results"
      ],
      "id": "a8120dbc-6f91-4f25-b4b5-8aa0df6b7eae"
    },
    {
      "cell_type": "code",
      "execution_count": 7,
      "metadata": {
        "tags": [
          "solution"
        ]
      },
      "outputs": [
        {
          "output_type": "display_data",
          "metadata": {},
          "data": {
            "text/plain": [
              "[3,\n",
              " 5,\n",
              " 7,\n",
              " 11,\n",
              " 13,\n",
              " 17,\n",
              " 19,\n",
              " 23,\n",
              " 29,\n",
              " 31,\n",
              " 37,\n",
              " 41,\n",
              " 43,\n",
              " 47,\n",
              " 53,\n",
              " 59,\n",
              " 61,\n",
              " 67,\n",
              " 71,\n",
              " 73,\n",
              " 79,\n",
              " 83,\n",
              " 89,\n",
              " 97,\n",
              " 1009,\n",
              " 1013,\n",
              " 1019,\n",
              " 1021,\n",
              " 1031,\n",
              " 1033,\n",
              " 1039,\n",
              " 1049,\n",
              " 1051,\n",
              " 1061,\n",
              " 1063,\n",
              " 1069,\n",
              " 1087,\n",
              " 1091,\n",
              " 1093,\n",
              " 1097,\n",
              " 1103,\n",
              " 1109,\n",
              " 1117,\n",
              " 1123,\n",
              " 1129,\n",
              " 1151,\n",
              " 1153,\n",
              " 1163,\n",
              " 1171,\n",
              " 1181,\n",
              " 1187,\n",
              " 1193,\n",
              " 1201,\n",
              " 1213,\n",
              " 1217,\n",
              " 1223,\n",
              " 1229,\n",
              " 1231,\n",
              " 1237,\n",
              " 1249,\n",
              " 1259,\n",
              " 1277,\n",
              " 1279,\n",
              " 1283,\n",
              " 1289,\n",
              " 1291,\n",
              " 1297,\n",
              " 1301,\n",
              " 1303,\n",
              " 1307,\n",
              " 1319,\n",
              " 1321,\n",
              " 1327,\n",
              " 1361,\n",
              " 1367,\n",
              " 1373,\n",
              " 1381,\n",
              " 1399,\n",
              " 1409,\n",
              " 1423,\n",
              " 1427,\n",
              " 1429,\n",
              " 1433,\n",
              " 1439,\n",
              " 1447,\n",
              " 1451,\n",
              " 1453,\n",
              " 1459,\n",
              " 1471,\n",
              " 1481,\n",
              " 1483,\n",
              " 1487,\n",
              " 1489,\n",
              " 1493,\n",
              " 1499,\n",
              " 1511,\n",
              " 1523,\n",
              " 1531,\n",
              " 1543,\n",
              " 1549,\n",
              " 1553,\n",
              " 1559,\n",
              " 1567,\n",
              " 1571,\n",
              " 1579,\n",
              " 1583,\n",
              " 1597,\n",
              " 1601,\n",
              " 1607,\n",
              " 1609,\n",
              " 1613,\n",
              " 1619,\n",
              " 1621,\n",
              " 1627,\n",
              " 1637,\n",
              " 1657,\n",
              " 1663,\n",
              " 1667,\n",
              " 1669,\n",
              " 1693,\n",
              " 1697,\n",
              " 1699,\n",
              " 1709,\n",
              " 1721,\n",
              " 1723,\n",
              " 1733,\n",
              " 1741,\n",
              " 1747,\n",
              " 1753,\n",
              " 1759,\n",
              " 1777,\n",
              " 1783,\n",
              " 1787,\n",
              " 1789,\n",
              " 1801,\n",
              " 1811,\n",
              " 1823,\n",
              " 1831,\n",
              " 1847,\n",
              " 1861,\n",
              " 1867,\n",
              " 1871,\n",
              " 1873,\n",
              " 1877,\n",
              " 1879,\n",
              " 1889,\n",
              " 1901,\n",
              " 1907,\n",
              " 1913,\n",
              " 1931,\n",
              " 1933,\n",
              " 1949,\n",
              " 1951,\n",
              " 1973,\n",
              " 1979,\n",
              " 1987,\n",
              " 1993,\n",
              " 1997,\n",
              " 1999]"
            ]
          }
        }
      ],
      "source": [
        "from itertools import chain\n",
        "\n",
        "list(chain(*list(iter(output.get,None))))"
      ],
      "id": "739f5001"
    },
    {
      "cell_type": "markdown",
      "metadata": {},
      "source": [
        "# Putting the workers to… work.\n",
        "\n",
        "make a function which allocates the queues, and use a `Pool(ncores)` of\n",
        "worker.\n",
        "\n",
        "``` python\n",
        "def calculate_primes(ncores,N,chunksize):\n",
        "    ...\n",
        "```\n",
        "\n",
        "-   `ncores` is the number of workers (and will be aligned with the\n",
        "    number of cores you got, 8 for example)\n",
        "-   `N` is the upper limit of the primes we want to find\n",
        "-   `chunksize` is the size of the chunks we’ll send to process to\n",
        "    workers.\n",
        "\n",
        "## The main process\n",
        "\n",
        "1.  First we’ll use a\n",
        "    [`starmap_async`](https://docs.python.org/3/library/multiprocessing.html#multiprocessing.pool.Pool.starmap_async)\n",
        "    for our main dispatcher function (don’t use the `chunksize` optional\n",
        "    argument of the function)\n",
        "2.  Feed the input queue with all chunks from the\n",
        "    `chunks(range(1,N),chunksize)`\n",
        "3.  Terminate the *input* queue (`ncores * None`, one for each worker)\n",
        "4.  Wait for the workers to finish\n",
        "5.  Collect and return the results\n",
        "\n",
        "Test and benchmark it on a `int(N/64)` chunk size\n",
        "\n",
        "``` python\n",
        "N = 5000000\n",
        "```\n",
        "\n",
        "## Solution for main process function"
      ],
      "id": "d882f12e-ee8b-4e26-9a63-5fba1e9fc566"
    },
    {
      "cell_type": "code",
      "execution_count": 8,
      "metadata": {
        "tags": [
          "solution"
        ]
      },
      "outputs": [],
      "source": [
        "from multiprocessing import Pool,Manager\n",
        "from itertools import chain\n",
        "\n",
        "def calculate_primes(ncores,N):\n",
        "    with Manager() as manager:\n",
        "        input = manager.Queue()\n",
        "        output = manager.Queue()\n",
        "\n",
        "        with Pool(ncores) as p:\n",
        "            it = p.starmap_async(find_prime_worker,[(input,output)]*ncores)\n",
        "            for r in chunks(range(1,N),int(N/ncores)):\n",
        "                input.put(r)\n",
        "            for i in range(ncores): input.put(None)\n",
        "            it.wait()\n",
        "            output.put(None)\n",
        "\n",
        "        res = list(chain(*list(iter(output.get,None))))\n",
        "    return res"
      ],
      "id": "49d07abf"
    },
    {
      "cell_type": "markdown",
      "metadata": {},
      "source": [
        "### Test of the main function"
      ],
      "id": "e81bf4d3-c11f-4430-ac7e-95d83f6e48fd"
    },
    {
      "cell_type": "code",
      "execution_count": 9,
      "metadata": {},
      "outputs": [],
      "source": [
        "N = 10000000"
      ],
      "id": "757b0912"
    },
    {
      "cell_type": "code",
      "execution_count": 10,
      "metadata": {
        "tags": [
          "solution"
        ]
      },
      "outputs": [
        {
          "output_type": "stream",
          "name": "stdout",
          "text": [
            "Worker done in 2.47s\n",
            "Worker done in 4.22s\n",
            "Worker done in 5.25s\n",
            "Worker done in 6.05s\n",
            "Worker done in 6.72s\n",
            "Worker done in 7.32s\n",
            "Worker done in 7.86s\n",
            "Worker done in 8.38s\n",
            "8.55 s ± 0 ns per loop (mean ± std. dev. of 1 run, 1 loop each)"
          ]
        }
      ],
      "source": [
        "%timeit -r 1 -n 1 calculate_primes(8,N)"
      ],
      "id": "69e11952"
    },
    {
      "cell_type": "markdown",
      "metadata": {},
      "source": [
        "## Autosizing chunks ! (optional)\n",
        "\n",
        "We know that greater the number is, longer it is to check if it is a\n",
        "prime.\n",
        "\n",
        "A slight optimization to our multi-processing/queued algorithm is to\n",
        "make the chunks smaller and smaller with greater numbers chunks.\n",
        "\n",
        "1.  Try to modify the `chunks` function to take this into account, test\n",
        "    the function.\n",
        "2.  Modify the `calculate_primes_chunks` to use this function\n",
        "3.  Test and benchmark it.\n",
        "\n",
        "### autosizing chunks example function\n",
        "\n",
        "<span class=\"proof-title\">*Solution*. </span>If the time to check if a\n",
        "number is prime at most proportional to the square root of the number,\n",
        "we can make the hypothesis that the mean real time for the check is a\n",
        "“lower” power law than the square root, something like $O(N^{p)$ where\n",
        "$p < \\frac{1}{2}$. So the time of checking all numbers to `N` is\n",
        "proportional to the integral function of this power root which is (up to\n",
        "a constant) $N^{1+p}$. We can infer a method to balance the chunks size\n",
        "with the number of workers."
      ],
      "id": "8d4808e2-43d0-4701-9cff-f71755b795ec"
    },
    {
      "cell_type": "code",
      "execution_count": 11,
      "metadata": {
        "tags": [
          "solution"
        ]
      },
      "outputs": [],
      "source": [
        "def chunks_rsquared(lst, n):\n",
        "    \"\"\"Yield successive n-sized chunks with n recursively root-squared.\"\"\"\n",
        "    i = 0\n",
        "    rsq = 1 + 0.3 # empirical value for the power law\n",
        "    while (i < len(lst)):\n",
        "        yield lst[i:i + n]\n",
        "        im = i\n",
        "        i = i + n\n",
        "        ip = (2 * (i ** rsq) - (im ** rsq)) ** (1/rsq)\n",
        "        n = max(1,int((ip-i)))"
      ],
      "id": "34c6faf9"
    },
    {
      "cell_type": "code",
      "execution_count": 12,
      "metadata": {},
      "outputs": [],
      "source": [
        "#! tags: [solution]\n",
        "def find_start_chunk(lst,n):\n",
        "    for i in range(2,n+1):\n",
        "        res = list(chunks_rsquared(lst,int(len(lst)/i)))\n",
        "        if len(res) >= n:\n",
        "            return res"
      ],
      "id": "d84724c7"
    },
    {
      "cell_type": "markdown",
      "metadata": {},
      "source": [
        "### Test it"
      ],
      "id": "691eb336-7ede-4938-9dfd-3b552cb4c96f"
    },
    {
      "cell_type": "code",
      "execution_count": 13,
      "metadata": {
        "tags": [
          "solution"
        ]
      },
      "outputs": [
        {
          "output_type": "display_data",
          "metadata": {},
          "data": {
            "text/plain": [
              "[range(1, 51), range(51, 86), range(86, 100)]"
            ]
          }
        }
      ],
      "source": [
        "list(chunks_rsquared(range(1,100),50))"
      ],
      "id": "270a09f9"
    },
    {
      "cell_type": "code",
      "execution_count": 14,
      "metadata": {
        "tags": [
          "solution"
        ]
      },
      "outputs": [
        {
          "output_type": "display_data",
          "metadata": {},
          "data": {
            "text/plain": [
              "[range(1, 20),\n",
              " range(20, 33),\n",
              " range(33, 44),\n",
              " range(44, 54),\n",
              " range(54, 63),\n",
              " range(63, 71),\n",
              " range(71, 78),\n",
              " range(78, 84),\n",
              " range(84, 89),\n",
              " range(89, 93),\n",
              " range(93, 96),\n",
              " range(96, 98),\n",
              " range(98, 99),\n",
              " range(99, 100)]"
            ]
          }
        }
      ],
      "source": [
        "find_start_chunk(range(1,100),10)"
      ],
      "id": "20e07a7f"
    },
    {
      "cell_type": "markdown",
      "metadata": {},
      "source": [
        "### Modify the main worker process function"
      ],
      "id": "a717d86d-d1ff-4e2e-ad3f-65aaf1cf37d3"
    },
    {
      "cell_type": "code",
      "execution_count": 15,
      "metadata": {
        "tags": [
          "solution"
        ]
      },
      "outputs": [],
      "source": [
        "def calculate_primes_chunks_rsquared(ncores,N):\n",
        "    with Manager() as manager:\n",
        "        input = manager.Queue()\n",
        "        output = manager.Queue()\n",
        "\n",
        "        with Pool(ncores) as p:\n",
        "            it = p.starmap_async(find_prime_worker,[(input,output)]*ncores)\n",
        "            for r in find_start_chunk(range(1,N),ncores):\n",
        "                input.put(r)\n",
        "            for i in range(ncores): input.put(None)\n",
        "            it.wait()\n",
        "            output.put(None)\n",
        "\n",
        "        res = list(chain(*list(iter(output.get,None))))\n",
        "    return res"
      ],
      "id": "98f93d03"
    },
    {
      "cell_type": "markdown",
      "metadata": {},
      "source": [
        "### Test and benchmark it\n",
        "\n",
        "#\\| tags: \\[solution\\] %timeit -r 1 -n 1\n",
        "calculate_primes_chunks_rsquared(8,N)"
      ],
      "id": "906b564b-1a4b-484d-b278-60840fa8948b"
    }
  ],
  "nbformat": 4,
  "nbformat_minor": 5,
  "metadata": {
    "kernelspec": {
      "name": "python3",
      "display_name": "Python 3 (ipykernel)",
      "language": "python",
      "path": "/storage/simple/users/collinf/micromamba/envs/miashs-hpc/share/jupyter/kernels/python3"
    },
    "language_info": {
      "name": "python",
      "codemirror_mode": {
        "name": "ipython",
        "version": "3"
      },
      "file_extension": ".py",
      "mimetype": "text/x-python",
      "nbconvert_exporter": "python",
      "pygments_lexer": "ipython3",
      "version": "3.12.5"
    }
  }
}