{
  "cells": [
    {
      "cell_type": "markdown",
      "metadata": {},
      "source": [
        "# Locking with `multiprocessing.Value`\n",
        "\n",
        "François-David Collin (CNRS, IMAG, Paul-Valéry Montpellier 3\n",
        "University)  \n",
        "Ghislain Durif (CNRS, LBMC)  \n",
        "Monday, August 26, 2024\n",
        "\n",
        "Take look at [Python Documentation on\n",
        "`multiprocessing.Value`](https://docs.python.org/3/library/multiprocessing.html#multiprocessing.Value)\n",
        "\n",
        "Write a simple worker fonction which takes a `multiprocessing.Value` and\n",
        "a `max_count` argument, and increment the value by one `max_count`\n",
        "times:\n",
        "\n",
        "``` python\n",
        "import multiprocessing\n",
        "\n",
        "def work(value, max_count):\n",
        "    ...\n",
        "```"
      ],
      "id": "10e7891f-3054-41e8-8f82-151bf8874781"
    },
    {
      "cell_type": "code",
      "execution_count": 2,
      "metadata": {
        "tags": [
          "solution"
        ]
      },
      "outputs": [],
      "source": [
        "import multiprocessing\n",
        "\n",
        "def work(value, max_count):\n",
        "    for n in range(max_count):\n",
        "        value.value += 1"
      ],
      "id": "650011a5"
    },
    {
      "cell_type": "markdown",
      "metadata": {},
      "source": [
        "1.  Write a main function instantiating an integer\n",
        "    `multiprocessing.Value` initialized to zero and run `ncores` workers\n",
        "    incrementing each `N` times the value one by one.\n",
        "2.  Display the expected final value and the value calculated.\n",
        "3.  Run it on `(8,100000)` (or even bigger). Replace `8` by the actual\n",
        "    number of physical cores on the cpu you’re running on.\n",
        "\n",
        "``` python\n",
        "def run_workers(ncores,N):\n",
        "    total_expected_count = ncores * N\n",
        "    ...\n",
        "```"
      ],
      "id": "5d83b6a6-1d90-4ccf-8a5c-1d5e178a79fc"
    },
    {
      "cell_type": "code",
      "execution_count": 3,
      "metadata": {
        "tags": [
          "solution"
        ]
      },
      "outputs": [],
      "source": [
        "def run_workers(ncores,N):\n",
        "    total_expected_count = ncores * N\n",
        "    processes = []\n",
        "    value = multiprocessing.Value('i', 0)\n",
        "    for process_nbr in range(ncores):\n",
        "        p = multiprocessing.Process(target=work, args=(value, N))\n",
        "        p.start()\n",
        "        processes.append(p)\n",
        "\n",
        "    # wait for the processes to finish\n",
        "    for p in processes:\n",
        "        p.join()\n",
        "\n",
        "    # print the final value\n",
        "    print(\"Expecting to see a count of {}\".format(total_expected_count))\n",
        "    print(\"We have counted to {}\".format(value.value))"
      ],
      "id": "69b7f6b1"
    },
    {
      "cell_type": "markdown",
      "metadata": {},
      "source": [
        "> **Note**\n",
        ">\n",
        "> We may use a simplified version with `multiprocessing.Pool` and `map`\n",
        "> to avoid the manual process management. However, to do so, we have to\n",
        "> use the manager version of `multiprocessing.Value` which is (way)\n",
        "> slower."
      ],
      "id": "ee73ec16-ff2f-4740-8c7b-b94a661fca37"
    },
    {
      "cell_type": "code",
      "execution_count": 4,
      "metadata": {
        "tags": [
          "solution"
        ]
      },
      "outputs": [
        {
          "output_type": "stream",
          "name": "stdout",
          "text": [
            "Expecting to see a count of 800000\n",
            "We have counted to 171789"
          ]
        }
      ],
      "source": [
        "run_workers(8,100000)"
      ],
      "id": "395a28b9"
    },
    {
      "cell_type": "markdown",
      "metadata": {},
      "source": [
        "## Explanation\n",
        "\n",
        "1.  Disassemble the worker function and try to look where locks occurs,\n",
        "    according the reference documentation on `multiprocessing.Value`.\n",
        "    The actual loading (resp. storing) of the value are done by\n",
        "    `LOAD_ATTR` (resp. `STORE_ATTR`).  \n",
        "    2. Explain the result\n",
        "\n",
        "``` python\n",
        "import dis\n",
        "\n",
        "dis.dis(work)\n",
        "```"
      ],
      "id": "57cfeb3d-5ce6-4100-867a-35b03fd9ce6c"
    },
    {
      "cell_type": "code",
      "execution_count": 5,
      "metadata": {
        "tags": [
          "solution"
        ]
      },
      "outputs": [
        {
          "output_type": "stream",
          "name": "stdout",
          "text": [
            "  3           0 RESUME                   0\n",
            "\n",
            "  4           2 LOAD_GLOBAL              1 (NULL + range)\n",
            "             12 LOAD_FAST                1 (max_count)\n",
            "             14 CALL                     1\n",
            "             22 GET_ITER\n",
            "        >>   24 FOR_ITER                23 (to 74)\n",
            "             28 STORE_FAST               2 (n)\n",
            "\n",
            "  5          30 LOAD_FAST                0 (value)\n",
            "             32 COPY                     1\n",
            "             34 LOAD_ATTR                2 (value)\n",
            "             54 LOAD_CONST               1 (1)\n",
            "             56 BINARY_OP               13 (+=)\n",
            "             60 SWAP                     2\n",
            "             62 STORE_ATTR               1 (value)\n",
            "             72 JUMP_BACKWARD           25 (to 24)\n",
            "\n",
            "  4     >>   74 END_FOR\n",
            "             76 RETURN_CONST             0 (None)"
          ]
        }
      ],
      "source": [
        "import dis\n",
        "\n",
        "dis.dis(work)"
      ],
      "id": "7ad85d23"
    },
    {
      "cell_type": "markdown",
      "metadata": {},
      "source": [
        "``` plain\n",
        "  5          12 LOAD_FAST                0 (value)\n",
        "             14 DUP_TOP\n",
        "                                                        #<--- Value lock acquired             \n",
        "             16 LOAD_ATTR                1 (value)\n",
        "                                                        #<--- Value lock released\n",
        "             18 LOAD_CONST               1 (1)\n",
        "             20 INPLACE_ADD\n",
        "             22 ROT_TWO\n",
        "                                                        #<--- Value lock acquired\n",
        "             24 STORE_ATTR               1 (value)\n",
        "                                                        #<--- Value lock released\n",
        "             26 JUMP_ABSOLUTE            8\n",
        "        >>   28 LOAD_CONST               0 (None)\n",
        "             30 RETURN_VALUE\n",
        "```\n",
        "\n",
        "At instruction 18 (`18 LOAD_CONST`), nothing prevents another process to\n",
        "load the (old) `value` attribute and be on instruction `18` too. Both\n",
        "processes will proceed incrementing their private copy and writing it\n",
        "back.\n",
        "\n",
        "$\\Rightarrow$ The result: the actual value got incremented only once,\n",
        "not twice.\n",
        "\n",
        "## Counter measure\n",
        "\n",
        "Now, propose a solution. Use the reference documentation to modify the\n",
        "`work` function, and the main function. Test it."
      ],
      "id": "a28599f1-86f0-4813-b96e-22d80c716062"
    },
    {
      "cell_type": "code",
      "execution_count": 6,
      "metadata": {
        "tags": [
          "solution"
        ]
      },
      "outputs": [],
      "source": [
        "def work_lock(value, max_count):\n",
        "    for n in range(max_count):\n",
        "        with value.get_lock():\n",
        "            value.value += 1"
      ],
      "id": "fe37f9f9"
    },
    {
      "cell_type": "code",
      "execution_count": 7,
      "metadata": {
        "tags": [
          "solution"
        ]
      },
      "outputs": [],
      "source": [
        "def run_workers_locked(ncores,N):\n",
        "    total_expected_count = ncores * N\n",
        "    processes = []\n",
        "    value = multiprocessing.Value('i', 0)\n",
        "    for process_nbr in range(ncores):\n",
        "        p = multiprocessing.Process(target=work_lock, args=(value, N))\n",
        "        p.start()\n",
        "        processes.append(p)\n",
        "\n",
        "    # wait for the processes to finish\n",
        "    for p in processes:\n",
        "        p.join()\n",
        "\n",
        "    # print the final value\n",
        "    print(\"Expecting to see a count of {}\".format(total_expected_count))\n",
        "    print(\"We have counted to {}\".format(value.value))"
      ],
      "id": "d1042399"
    },
    {
      "cell_type": "code",
      "execution_count": 8,
      "metadata": {
        "tags": [
          "solution"
        ]
      },
      "outputs": [
        {
          "output_type": "stream",
          "name": "stdout",
          "text": [
            "Expecting to see a count of 800000\n",
            "We have counted to 800000"
          ]
        }
      ],
      "source": [
        "run_workers_locked(8,100000)"
      ],
      "id": "c7901a24"
    },
    {
      "cell_type": "markdown",
      "metadata": {},
      "source": [
        "# Optimization\n",
        "\n",
        "With the manual locking done now, is the native locking of\n",
        "`multiprocessing.Value` still required ? Explain\n",
        "\n",
        "<span class=\"proof-title\">*Solution*. </span>As we already lock\n",
        "the increment operation with both load and store of the value, the fine\n",
        "grained locks of both operation is uneccessary.\n",
        "\n",
        "We now want to use `multiprocessing.RawValue` which is devoid of any\n",
        "lock mechanism, and a manual managed lock from\n",
        "`multiprocessing.manager`.\n",
        "\n",
        "Take a look at [Python Documentation on\n",
        "`multiprocessing.RawValue`](https://docs.python.org/3/library/multiprocessing.html#multiprocessing.sharedctypes.RawValue)\n",
        "\n",
        "1.  Write `work_rawlock` and `run_workers_rawlocked`, with careful\n",
        "    consideration for where to instatiate the lock.\n",
        "2.  Test it\n",
        "3.  Benchmark and compare with the previous, print the speedup."
      ],
      "id": "1bc4b17b-d47b-469e-970d-fcb0894cd148"
    },
    {
      "cell_type": "code",
      "execution_count": 9,
      "metadata": {
        "tags": [
          "solution"
        ]
      },
      "outputs": [],
      "source": [
        "def work_rawlock(value, max_count,lock):\n",
        "    for n in range(max_count):\n",
        "        with lock:\n",
        "            value.value += 1"
      ],
      "id": "71f4ca24"
    },
    {
      "cell_type": "code",
      "execution_count": 10,
      "metadata": {
        "tags": [
          "solution"
        ]
      },
      "outputs": [],
      "source": [
        "def run_workers_rawlocked(ncores,N):\n",
        "    total_expected_count = ncores * N\n",
        "    processes = []\n",
        "    value = multiprocessing.RawValue('i', 0)\n",
        "    lock = multiprocessing.Lock()\n",
        "    for process_nbr in range(ncores):\n",
        "        p = multiprocessing.Process(target=work_rawlock, args=(value, N, lock))\n",
        "        p.start()\n",
        "        processes.append(p)\n",
        "\n",
        "    # wait for the processes to finish\n",
        "    for p in processes:\n",
        "        p.join()\n",
        "\n",
        "    # print the final value\n",
        "    print(\"Expecting to see a count of {}\".format(total_expected_count))\n",
        "    print(\"We have counted to {}\".format(value.value))"
      ],
      "id": "9e67d0ef"
    },
    {
      "cell_type": "code",
      "execution_count": 11,
      "metadata": {
        "tags": [
          "solution"
        ]
      },
      "outputs": [
        {
          "output_type": "stream",
          "name": "stdout",
          "text": [
            "Expecting to see a count of 800000\n",
            "We have counted to 800000"
          ]
        }
      ],
      "source": [
        "run_workers_rawlocked(8,100000)"
      ],
      "id": "82729234"
    },
    {
      "cell_type": "code",
      "execution_count": 12,
      "metadata": {
        "tags": [
          "solution"
        ]
      },
      "outputs": [
        {
          "output_type": "stream",
          "name": "stdout",
          "text": [
            "Expecting to see a count of 400000\n",
            "We have counted to 400000\n",
            "559 ms ± 0 ns per loop (mean ± std. dev. of 1 run, 1 loop each)\n",
            "Expecting to see a count of 400000\n",
            "We have counted to 400000\n",
            "431 ms ± 0 ns per loop (mean ± std. dev. of 1 run, 1 loop each)\n",
            "Gain of multiprocessing.RawValue version : 130%"
          ]
        }
      ],
      "source": [
        "locked_time = %timeit -o -r 1 -n 1 run_workers_locked(4,100000)\n",
        "rawlocked_time = %timeit -o -r 1 -n 1 run_workers_rawlocked(4,100000)\n",
        "\n",
        "print(\"Gain of multiprocessing.RawValue version : {:.0%}\".format(locked_time.average/rawlocked_time.average) )"
      ],
      "id": "02f2ba91"
    }
  ],
  "nbformat": 4,
  "nbformat_minor": 5,
  "metadata": {
    "kernelspec": {
      "name": "python3",
      "display_name": "Python 3 (ipykernel)",
      "language": "python",
      "path": "/storage/simple/users/collinf/micromamba/envs/miashs-hpc/share/jupyter/kernels/python3"
    },
    "language_info": {
      "name": "python",
      "codemirror_mode": {
        "name": "ipython",
        "version": "3"
      },
      "file_extension": ".py",
      "mimetype": "text/x-python",
      "nbconvert_exporter": "python",
      "pygments_lexer": "ipython3",
      "version": "3.12.5"
    }
  }
}