{
  "cells": [
    {
      "cell_type": "markdown",
      "metadata": {},
      "source": [
        "# Numba Introduction\n",
        "\n",
        "François-David Collin (CNRS, IMAG, Paul-Valéry Montpellier 3\n",
        "University)  \n",
        "Ghislain Durif (CNRS, LBMC)  \n",
        "Monday, August 26, 2024\n",
        "\n",
        "# Numba Basics\n",
        "\n",
        "Numba is a just-in-time compiler of Python functions. It translates a\n",
        "Python function when it is called into a machine code equivalent that\n",
        "runs anywhere from 2x (simple NumPy operations) to 100x (complex Python\n",
        "loops) faster. In this notebook, we show some basic examples of using\n",
        "Numba."
      ],
      "id": "ea725c11-1071-4fb6-b143-e3523f0943fb"
    },
    {
      "cell_type": "code",
      "execution_count": 1,
      "metadata": {
        "slideshow": {
          "slide_type": "-"
        }
      },
      "outputs": [],
      "source": [
        "import numpy as np\n",
        "import numba\n",
        "from numba import jit"
      ],
      "id": "2ce70018"
    },
    {
      "cell_type": "markdown",
      "metadata": {},
      "source": [
        "Let’s check which version of Numba we have:"
      ],
      "id": "fedd6d39-c370-41a6-9e94-c6e632e11b78"
    },
    {
      "cell_type": "code",
      "execution_count": 2,
      "metadata": {
        "slideshow": {
          "slide_type": "-"
        }
      },
      "outputs": [
        {
          "output_type": "stream",
          "name": "stdout",
          "text": [
            "0.60.0"
          ]
        }
      ],
      "source": [
        "print(numba.__version__)"
      ],
      "id": "ab8a25ca"
    },
    {
      "cell_type": "markdown",
      "metadata": {},
      "source": [
        "Numba uses Python *decorators* to transform Python functions into\n",
        "functions that compile themselves. The most common Numba decorator is\n",
        "`@jit`, which creates a normal function for execution on the CPU.\n",
        "\n",
        "Numba works best on numerical functions that make use of NumPy arrays.\n",
        "Here’s an example:"
      ],
      "id": "76407465-e701-4897-b3f7-c73fd0590d50"
    },
    {
      "cell_type": "code",
      "execution_count": 3,
      "metadata": {
        "cell_style": "center",
        "slideshow": {
          "slide_type": "fragment"
        }
      },
      "outputs": [],
      "source": [
        "@jit(nopython=True)\n",
        "def go_fast(a): # Function is compiled to machine code when called the first time\n",
        "    trace = 0.0\n",
        "    # assuming square input matrix\n",
        "    for i in range(a.shape[0]):   # Numba likes loops\n",
        "        trace += np.tanh(a[i, i]) # Numba likes NumPy functions\n",
        "    return a + trace              # Numba likes NumPy broadcasting"
      ],
      "id": "409aca06"
    },
    {
      "cell_type": "markdown",
      "metadata": {},
      "source": [
        "The `nopython=True` option requires that the function be fully compiled\n",
        "(so that the Python interpreter calls are completely removed), otherwise\n",
        "an exception is raised. These exceptions usually indicate places in the\n",
        "function that need to be modified in order to achieve better-than-Python\n",
        "performance. We strongly recommend always using `nopython=True`.\n",
        "\n",
        "The function has not yet been compiled. To do that, we need to call the\n",
        "function:"
      ],
      "id": "7da6148b-3d48-4b30-af7f-88387ddd6446"
    },
    {
      "cell_type": "code",
      "execution_count": 4,
      "metadata": {
        "slideshow": {
          "slide_type": "-"
        }
      },
      "outputs": [
        {
          "output_type": "display_data",
          "metadata": {},
          "data": {
            "text/plain": [
              "array([[  9.,  10.,  11.,  12.,  13.,  14.,  15.,  16.,  17.,  18.],\n",
              "       [ 19.,  20.,  21.,  22.,  23.,  24.,  25.,  26.,  27.,  28.],\n",
              "       [ 29.,  30.,  31.,  32.,  33.,  34.,  35.,  36.,  37.,  38.],\n",
              "       [ 39.,  40.,  41.,  42.,  43.,  44.,  45.,  46.,  47.,  48.],\n",
              "       [ 49.,  50.,  51.,  52.,  53.,  54.,  55.,  56.,  57.,  58.],\n",
              "       [ 59.,  60.,  61.,  62.,  63.,  64.,  65.,  66.,  67.,  68.],\n",
              "       [ 69.,  70.,  71.,  72.,  73.,  74.,  75.,  76.,  77.,  78.],\n",
              "       [ 79.,  80.,  81.,  82.,  83.,  84.,  85.,  86.,  87.,  88.],\n",
              "       [ 89.,  90.,  91.,  92.,  93.,  94.,  95.,  96.,  97.,  98.],\n",
              "       [ 99., 100., 101., 102., 103., 104., 105., 106., 107., 108.]])"
            ]
          }
        }
      ],
      "source": [
        "x = np.arange(100).reshape(10, 10)\n",
        "go_fast(x)"
      ],
      "id": "efa30890"
    },
    {
      "cell_type": "markdown",
      "metadata": {},
      "source": [
        "This first time the function was called, a new version of the function\n",
        "was compiled and executed. If we call it again, the previously generated\n",
        "function executions without another compilation step."
      ],
      "id": "bd97ab5a-1280-4a6b-868a-f813eaf02ec6"
    },
    {
      "cell_type": "code",
      "execution_count": 5,
      "metadata": {
        "slideshow": {
          "slide_type": "-"
        }
      },
      "outputs": [
        {
          "output_type": "display_data",
          "metadata": {},
          "data": {
            "text/plain": [
              "array([[  9.,  11.,  13.,  15.,  17.,  19.,  21.,  23.,  25.,  27.],\n",
              "       [ 29.,  31.,  33.,  35.,  37.,  39.,  41.,  43.,  45.,  47.],\n",
              "       [ 49.,  51.,  53.,  55.,  57.,  59.,  61.,  63.,  65.,  67.],\n",
              "       [ 69.,  71.,  73.,  75.,  77.,  79.,  81.,  83.,  85.,  87.],\n",
              "       [ 89.,  91.,  93.,  95.,  97.,  99., 101., 103., 105., 107.],\n",
              "       [109., 111., 113., 115., 117., 119., 121., 123., 125., 127.],\n",
              "       [129., 131., 133., 135., 137., 139., 141., 143., 145., 147.],\n",
              "       [149., 151., 153., 155., 157., 159., 161., 163., 165., 167.],\n",
              "       [169., 171., 173., 175., 177., 179., 181., 183., 185., 187.],\n",
              "       [189., 191., 193., 195., 197., 199., 201., 203., 205., 207.]])"
            ]
          }
        }
      ],
      "source": [
        "go_fast(2*x)"
      ],
      "id": "eafb4e1e"
    },
    {
      "cell_type": "markdown",
      "metadata": {},
      "source": [
        "To benchmark Numba-compiled functions, it is important to time them\n",
        "without including the compilation step, since the compilation of a given\n",
        "function will only happen once for each set of input types, but the\n",
        "function will be called many times.\n",
        "\n",
        "In a notebook, the `%timeit` magic function is the best to use because\n",
        "it runs the function many times in a loop to get a more accurate\n",
        "estimate of the execution time of short functions."
      ],
      "id": "8ec751e5-953f-45c4-a262-c6b9b6efb262"
    },
    {
      "cell_type": "code",
      "execution_count": 6,
      "metadata": {
        "slideshow": {
          "slide_type": "-"
        }
      },
      "outputs": [
        {
          "output_type": "stream",
          "name": "stdout",
          "text": [
            "2.26 μs ± 538 ns per loop (mean ± std. dev. of 7 runs, 1,000,000 loops each)"
          ]
        }
      ],
      "source": [
        "%timeit go_fast(x)"
      ],
      "id": "52a1f542"
    },
    {
      "cell_type": "markdown",
      "metadata": {},
      "source": [
        "Let’s compare to the uncompiled function. Numba-compiled function have a\n",
        "special `.py_func` attribute which is the original uncompiled Python\n",
        "function. We should first verify we get the same results:"
      ],
      "id": "30d78962-1a0b-4fbf-a9fb-e1401cf42444"
    },
    {
      "cell_type": "code",
      "execution_count": 7,
      "metadata": {
        "slideshow": {
          "slide_type": "-"
        }
      },
      "outputs": [
        {
          "output_type": "stream",
          "name": "stdout",
          "text": [
            "None"
          ]
        }
      ],
      "source": [
        "print(np.testing.assert_array_equal(go_fast(x), go_fast.py_func(x)))"
      ],
      "id": "458c1b7a"
    },
    {
      "cell_type": "markdown",
      "metadata": {},
      "source": [
        "And test the speed of the Python version:"
      ],
      "id": "da65dbe8-2e0e-4f1a-819c-e44ac8feb2de"
    },
    {
      "cell_type": "code",
      "execution_count": 8,
      "metadata": {
        "slideshow": {
          "slide_type": "-"
        }
      },
      "outputs": [
        {
          "output_type": "stream",
          "name": "stdout",
          "text": [
            "22.1 μs ± 1.24 μs per loop (mean ± std. dev. of 7 runs, 10,000 loops each)"
          ]
        }
      ],
      "source": [
        "%timeit go_fast.py_func(x)"
      ],
      "id": "467f9435"
    },
    {
      "cell_type": "markdown",
      "metadata": {},
      "source": [
        "The original Python function is more than 20x slower than the\n",
        "Numba-compiled version. However, the Numba function used explicit loops,\n",
        "which are very fast in Numba and not very fast in Python. Our example\n",
        "function is so simple, we can create an alternate version of `go_fast`\n",
        "using only NumPy array expressions:"
      ],
      "id": "4d9c92c8-bfd9-482d-8007-dbd877324be4"
    },
    {
      "cell_type": "code",
      "execution_count": 9,
      "metadata": {
        "slideshow": {
          "slide_type": "fragment"
        }
      },
      "outputs": [],
      "source": [
        "def go_numpy(a):\n",
        "    return a + np.tanh(np.diagonal(a)).sum()"
      ],
      "id": "c55ea513"
    },
    {
      "cell_type": "code",
      "execution_count": 10,
      "metadata": {
        "slideshow": {
          "slide_type": "fragment"
        }
      },
      "outputs": [],
      "source": [
        "np.testing.assert_array_equal(go_numpy(x), go_fast(x))"
      ],
      "id": "87e83c01"
    },
    {
      "cell_type": "code",
      "execution_count": 11,
      "metadata": {
        "slideshow": {
          "slide_type": "fragment"
        }
      },
      "outputs": [
        {
          "output_type": "stream",
          "name": "stdout",
          "text": [
            "10.1 μs ± 1.72 μs per loop (mean ± std. dev. of 7 runs, 100,000 loops each)"
          ]
        }
      ],
      "source": [
        "%timeit go_numpy(x)"
      ],
      "id": "a3d157ed"
    },
    {
      "cell_type": "markdown",
      "metadata": {},
      "source": [
        "The NumPy version is more than 2x faster than Python, but still 10x\n",
        "slower than Numba.\n",
        "\n",
        "### Supported Python Features\n",
        "\n",
        "Numba works best when used with NumPy arrays, but Numba also supports\n",
        "other data types out of the box:\n",
        "\n",
        "-   `int`, `float`\n",
        "-   `tuple`, `namedtuple`\n",
        "-   `list` (with some restrictions)\n",
        "-   … and others. See the [Reference\n",
        "    Manual](https://numba.pydata.org/numba-doc/latest/reference/pysupported.html)\n",
        "    for more details.\n",
        "\n",
        "In particular, tuples are useful for returning multiple values from\n",
        "functions:"
      ],
      "id": "30d5d1ee-8a55-4fc1-9a67-53fab8df34fd"
    },
    {
      "cell_type": "code",
      "execution_count": 12,
      "metadata": {
        "slideshow": {
          "slide_type": "subslide"
        }
      },
      "outputs": [],
      "source": [
        "import random\n",
        "\n",
        "@jit(nopython=True)\n",
        "def spherical_to_cartesian(r, theta, phi):\n",
        "    '''Convert spherical coordinates (physics convention) to cartesian coordinates'''\n",
        "    sin_theta = np.sin(theta)\n",
        "    x = r * sin_theta * np.cos(phi)\n",
        "    y = r * sin_theta * np.sin(phi)\n",
        "    z = r * np.cos(theta)\n",
        "    \n",
        "    return x, y, z # return a tuple"
      ],
      "id": "26a573ed"
    },
    {
      "cell_type": "code",
      "execution_count": 13,
      "metadata": {
        "slideshow": {
          "slide_type": "subslide"
        }
      },
      "outputs": [],
      "source": [
        "@jit(nopython=True)\n",
        "def random_directions(n, r):\n",
        "    '''Return ``n`` 3-vectors in random directions with radius ``r``'''\n",
        "    out = np.empty(shape=(n,3), dtype=np.float64)\n",
        "    \n",
        "    for i in range(n):\n",
        "        # Pick directions randomly in solid angle\n",
        "        phi = random.uniform(0, 2*np.pi)\n",
        "        theta = np.arccos(random.uniform(-1, 1))\n",
        "        # unpack a tuple\n",
        "        x, y, z = spherical_to_cartesian(r, theta, phi)\n",
        "        out[i] = x, y, z\n",
        "    \n",
        "    return out"
      ],
      "id": "22c05ca8"
    },
    {
      "cell_type": "code",
      "execution_count": 14,
      "metadata": {
        "slideshow": {
          "slide_type": "subslide"
        }
      },
      "outputs": [
        {
          "output_type": "display_data",
          "metadata": {},
          "data": {
            "text/plain": [
              "array([[-0.06666416, -0.23892063, -0.96874807],\n",
              "       [-0.84367724,  0.52990029, -0.08610692],\n",
              "       [-0.47399329,  0.09093459, -0.87582034],\n",
              "       [-0.96665011, -0.21917357,  0.13247832],\n",
              "       [-0.14230023, -0.57031074, -0.80900946],\n",
              "       [-0.547692  , -0.28200918, -0.78772095],\n",
              "       [ 0.12554926, -0.9505018 , -0.28422474],\n",
              "       [ 0.13485053,  0.30885794,  0.94149992],\n",
              "       [ 0.85344225,  0.04434261, -0.51929765],\n",
              "       [-0.37335566, -0.82537532,  0.42351049]])"
            ]
          }
        }
      ],
      "source": [
        "random_directions(10, 1.0)"
      ],
      "id": "a85f7d9a"
    },
    {
      "cell_type": "markdown",
      "metadata": {},
      "source": [
        "When Numba is translating Python to machine code, it uses the\n",
        "[LLVM](https://llvm.org/) library to do most of the optimization and\n",
        "final code generation. This automatically enables a wide range of\n",
        "optimizations that you don’t even have to think about. If we were to\n",
        "inspect the output of the compiler for the previous random directions\n",
        "example, we would find that:\n",
        "\n",
        "-   The function body for `spherical_to_cartesian()` was inlined\n",
        "    directly into the body of the for loop in `random_directions`,\n",
        "    eliminating the overhead of making a function call.\n",
        "-   The separate calls to `sin()` and `cos()` were combined into a\n",
        "    single, faster call to an internal `sincos()` function.\n",
        "\n",
        "These kinds of cross-function optimizations are one of the reasons that\n",
        "Numba can sometimes outperform compiled NumPy code."
      ],
      "id": "4b98f4f4-36f3-44c0-affa-afd108a2e27c"
    }
  ],
  "nbformat": 4,
  "nbformat_minor": 5,
  "metadata": {
    "kernelspec": {
      "name": "python3",
      "display_name": "Python 3 (ipykernel)",
      "language": "python",
      "path": "C:.micromamba-hpc"
    },
    "language_info": {
      "name": "python",
      "codemirror_mode": {
        "name": "ipython",
        "version": "3"
      },
      "file_extension": ".py",
      "mimetype": "text/x-python",
      "nbconvert_exporter": "python",
      "pygments_lexer": "ipython3",
      "version": "3.12.4"
    }
  }
}